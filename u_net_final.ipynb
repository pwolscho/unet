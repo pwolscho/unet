{
  "nbformat": 4,
  "nbformat_minor": 0,
  "metadata": {
    "colab": {
      "name": "u-net_final.ipynb",
      "provenance": [],
      "collapsed_sections": [],
      "toc_visible": true,
      "machine_shape": "hm",
      "include_colab_link": true
    },
    "kernelspec": {
      "name": "python3",
      "display_name": "Python 3"
    },
    "accelerator": "GPU"
  },
  "cells": [
    {
      "cell_type": "markdown",
      "metadata": {
        "id": "view-in-github",
        "colab_type": "text"
      },
      "source": [
        "<a href=\"https://colab.research.google.com/github/pwolscho/unet/blob/master/u_net_final.ipynb\" target=\"_parent\"><img src=\"https://colab.research.google.com/assets/colab-badge.svg\" alt=\"Open In Colab\"/></a>"
      ]
    },
    {
      "cell_type": "markdown",
      "metadata": {
        "id": "FFQFIyC49ovP",
        "colab_type": "text"
      },
      "source": [
        "![U-Net Demonstration](https://drive.google.com/uc?id=1-kEr1EjJgpSjGCV1oFfYw_A2cnu5cNVI)"
      ]
    },
    {
      "cell_type": "markdown",
      "metadata": {
        "id": "8qEcw4b-9scd",
        "colab_type": "text"
      },
      "source": [
        "#Über dieses Notebook\n",
        "\n",
        "U-Net ist die bekannteste Architektur im Bereich der Semantischen Segmentierung (Anwendung: Segmentierung in Bildern). Im Rahmen des Kurses Seminat-Deep-Learning der Hochschule Offenburg zeigt dieses Notebook eine mögliche Implementierung von U-Net und demonstriert dessen Anwendung anhand eines Beispiel-Datensatzes."
      ]
    },
    {
      "cell_type": "markdown",
      "metadata": {
        "id": "eSPXy8dj9wWn",
        "colab_type": "text"
      },
      "source": [
        "##Informationen zum Datensatz\n",
        "Mehrere Gebiete der Erde mit großen Öl- und Gasansammlungen haben auch riesige Salzlagerstätten unter der Oberfläche, d.h. dort wo Salz ist, wird vermutlich auch das wertvolle Öl zu finden sein.\n",
        "\n",
        "Professionelle seismische Messungen zum Auffinden der Salzlagerstätten erfordert immer noch eine fachkundige menschliche Interpretation der daraus resultierenden Bilddaten. Dies führt zu sehr subjektiven, sehr variablen Ergebnissen. Das führt zu potenziell gefährlichen Situationen für Bohrer von Öl- und Gasunternehmen.\n",
        "\n",
        "Um sehr präzise seismischen Bilder zu erstellen, hofft TGS-NOPEC Geophysical Systems (das weltweit führende Unternehmen für geophysikalische Dienste), dass die Online-Community von Kaggle in der Lage sein wird, einen Algorithmus zu entwickeln, der automatisch und genau erkennt, ob und Salz unter der Erdoberfläche zu finden ist oder nicht.\n",
        "\n",
        "Dazu wurde im Jahr 2018 eine Wettbewerb von Kaggle durchgeführt.\n",
        "\n",
        "Auf den in diesem Notebook verwendete Datensatz kann nach wie vor unter https://www.kaggle.com/c/tgs-salt-identification-challenge/data zugegriffen werden.\n",
        "\n",
        "Die Daten sind eine Reihe von seismischen Bildern von zufällig ausgewählten Orten der Erde. Die Bilder sind 101 x 101 Pixel groß und jedes Pixel wird entweder als Salz oder als Sediment klassifiziert. Zusätzlich zu den seismischen Bildern wird für jedes Bild die Tiefe der aufgenommenen Position angegeben."
      ]
    },
    {
      "cell_type": "markdown",
      "metadata": {
        "id": "yIgHiwln90Ae",
        "colab_type": "text"
      },
      "source": [
        "##Gliederung des Notebooks\n",
        "\n",
        "Dieses Notebook insgesamt vier individuelle Implementierungen von U-Net. Es werden hauptsächlich das Verhalten folgender U-Net-Modelle untersucht:\n",
        "\n",
        "- U-Net-Modell Standard (std)\n",
        "- U-Net-Modell Standard und ohne Skip-Connections (std_no_skip)\n",
        "- U-Net-Modell mit Data Augmentation (h-flip)\n",
        "- U-Net-Modell mit Data Augmentation (v-flip)\n",
        "\n",
        "Die durchgeführten Schritte gliedern sich chronologisch wie folgt:\n",
        "\n",
        "- Bereitstellung des Datensatzes\n",
        "- Definition des U-Net-Modells\n",
        "- Training der U-Net-Modelle\n",
        "- Evaluierung der U-Net-Modelle"
      ]
    },
    {
      "cell_type": "markdown",
      "metadata": {
        "id": "R8IReOb-wOd-",
        "colab_type": "text"
      },
      "source": [
        "#U-Net in der Theorie"
      ]
    },
    {
      "cell_type": "markdown",
      "metadata": {
        "id": "uxGgJfDq-Asl",
        "colab_type": "text"
      },
      "source": [
        "#Bereitstellung des Datensatzes"
      ]
    },
    {
      "cell_type": "markdown",
      "metadata": {
        "id": "yui9V0QF-JrF",
        "colab_type": "text"
      },
      "source": [
        "##Zugriff auf die Kaggle-API"
      ]
    },
    {
      "cell_type": "markdown",
      "metadata": {
        "id": "ohmdEiApCCi8",
        "colab_type": "text"
      },
      "source": [
        "Um den oben beschriebenen Datensatz direkt von Kaggle in die Colab-Umgebung zu laden, muss:\n",
        "\n",
        "- zunächst ein Account bei Kaggle (https://www.kaggle.com) erstellt,\n",
        "- ein persönlicher Kaggle-API-Token erzeugt (Your profile -> My Account -> Create New API Token) und in die lokale Arbeitsumgebung heruntergeladen und\n",
        "- in dann die Colab-Umgebung geladen werden.\n",
        "\n",
        "(die Kaggle-API (https://www.kaggle.com/docs/api)"
      ]
    },
    {
      "cell_type": "code",
      "metadata": {
        "id": "2jQBSN3A-T6p",
        "colab_type": "code",
        "colab": {}
      },
      "source": [
        "# import package to be able to upload files from local drive\n",
        "from google.colab import files"
      ],
      "execution_count": 0,
      "outputs": []
    },
    {
      "cell_type": "markdown",
      "metadata": {
        "id": "SpWq8XUZeBVD",
        "colab_type": "text"
      },
      "source": [
        "Den zuvor erstellen und in der lokalen Arbeitsumgebung abgelegten API-Token (hier: kaggle.json) muss nun in die Colab-Umgebung geladen werden."
      ]
    },
    {
      "cell_type": "code",
      "metadata": {
        "id": "oyQunpercmY9",
        "colab_type": "code",
        "outputId": "b5fdcb70-add2-45f0-e315-cdace68c7488",
        "colab": {
          "resources": {
            "http://localhost:8080/nbextensions/google.colab/files.js": {
              "data": "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",
              "ok": true,
              "headers": [
                [
                  "content-type",
                  "application/javascript"
                ]
              ],
              "status": 200,
              "status_text": ""
            }
          },
          "base_uri": "https://localhost:8080/",
          "height": 92
        }
      },
      "source": [
        "files.upload()"
      ],
      "execution_count": 2,
      "outputs": [
        {
          "output_type": "display_data",
          "data": {
            "text/html": [
              "\n",
              "     <input type=\"file\" id=\"files-79b52168-eea3-4b57-81f4-045a6e7dcf78\" name=\"files[]\" multiple disabled />\n",
              "     <output id=\"result-79b52168-eea3-4b57-81f4-045a6e7dcf78\">\n",
              "      Upload widget is only available when the cell has been executed in the\n",
              "      current browser session. Please rerun this cell to enable.\n",
              "      </output>\n",
              "      <script src=\"/nbextensions/google.colab/files.js\"></script> "
            ],
            "text/plain": [
              "<IPython.core.display.HTML object>"
            ]
          },
          "metadata": {
            "tags": []
          }
        },
        {
          "output_type": "stream",
          "text": [
            "Saving kaggle.json to kaggle.json\n"
          ],
          "name": "stdout"
        },
        {
          "output_type": "execute_result",
          "data": {
            "text/plain": [
              "{'kaggle.json': b'{\"username\":\"philipwolschon\",\"key\":\"e19037507a071277d7b93a1bc007d070\"}'}"
            ]
          },
          "metadata": {
            "tags": []
          },
          "execution_count": 2
        }
      ]
    },
    {
      "cell_type": "markdown",
      "metadata": {
        "id": "lCkXzRi8eazl",
        "colab_type": "text"
      },
      "source": [
        "Die kaggle.json sollte nun im Verzeichnis \"content\" liegen."
      ]
    },
    {
      "cell_type": "code",
      "metadata": {
        "id": "Kn-m7eGc_6L8",
        "colab_type": "code",
        "colab": {}
      },
      "source": [
        "import os"
      ],
      "execution_count": 0,
      "outputs": []
    },
    {
      "cell_type": "code",
      "metadata": {
        "id": "mQ_rA1dbdgv9",
        "colab_type": "code",
        "outputId": "a4c7c707-bdb0-4e3e-c585-b77221a4a205",
        "colab": {
          "base_uri": "https://localhost:8080/",
          "height": 34
        }
      },
      "source": [
        "# check whether token is there or not\n",
        "os.path.isfile(\"/content/kaggle.json\")"
      ],
      "execution_count": 4,
      "outputs": [
        {
          "output_type": "execute_result",
          "data": {
            "text/plain": [
              "True"
            ]
          },
          "metadata": {
            "tags": []
          },
          "execution_count": 4
        }
      ]
    },
    {
      "cell_type": "markdown",
      "metadata": {
        "id": "PapXAXKx-jKk",
        "colab_type": "text"
      },
      "source": [
        "Außerdem wird erwartet, dass der API-Token in \"~/.kaggle/\" (\"/root/.kaggle/\") zu finden ist. Daher wird das Verzeichnis \"kaggle\" erstellt und der API-Token dort hin verschoben."
      ]
    },
    {
      "cell_type": "code",
      "metadata": {
        "id": "6EYGLvVj_tPD",
        "colab_type": "code",
        "outputId": "c51e2ac7-9e6b-4e7c-fefb-bbaeea9942af",
        "colab": {
          "base_uri": "https://localhost:8080/",
          "height": 212
        }
      },
      "source": [
        "!pip install kaggle"
      ],
      "execution_count": 5,
      "outputs": [
        {
          "output_type": "stream",
          "text": [
            "Requirement already satisfied: kaggle in /usr/local/lib/python3.6/dist-packages (1.5.6)\n",
            "Requirement already satisfied: tqdm in /usr/local/lib/python3.6/dist-packages (from kaggle) (4.28.1)\n",
            "Requirement already satisfied: urllib3<1.25,>=1.21.1 in /usr/local/lib/python3.6/dist-packages (from kaggle) (1.24.3)\n",
            "Requirement already satisfied: six>=1.10 in /usr/local/lib/python3.6/dist-packages (from kaggle) (1.12.0)\n",
            "Requirement already satisfied: python-slugify in /usr/local/lib/python3.6/dist-packages (from kaggle) (4.0.0)\n",
            "Requirement already satisfied: certifi in /usr/local/lib/python3.6/dist-packages (from kaggle) (2019.11.28)\n",
            "Requirement already satisfied: python-dateutil in /usr/local/lib/python3.6/dist-packages (from kaggle) (2.6.1)\n",
            "Requirement already satisfied: requests in /usr/local/lib/python3.6/dist-packages (from kaggle) (2.21.0)\n",
            "Requirement already satisfied: text-unidecode>=1.3 in /usr/local/lib/python3.6/dist-packages (from python-slugify->kaggle) (1.3)\n",
            "Requirement already satisfied: chardet<3.1.0,>=3.0.2 in /usr/local/lib/python3.6/dist-packages (from requests->kaggle) (3.0.4)\n",
            "Requirement already satisfied: idna<2.9,>=2.5 in /usr/local/lib/python3.6/dist-packages (from requests->kaggle) (2.8)\n"
          ],
          "name": "stdout"
        }
      ]
    },
    {
      "cell_type": "code",
      "metadata": {
        "id": "OR6M04-H-koH",
        "colab_type": "code",
        "colab": {}
      },
      "source": [
        "# make kaggle directory\n",
        "!mkdir -p ~/.kaggle\n",
        "\n",
        "# move the api token\n",
        "!mv kaggle.json ~/.kaggle/"
      ],
      "execution_count": 0,
      "outputs": []
    },
    {
      "cell_type": "markdown",
      "metadata": {
        "id": "ZBiyAPljADXh",
        "colab_type": "text"
      },
      "source": [
        "Um Warnungen beim Starten von Kaggle-Tools zu vermeiden werden dem Besitzer der Datei Lese- und Schreibrechte gewährt."
      ]
    },
    {
      "cell_type": "code",
      "metadata": {
        "id": "Q_c6MOay-tN8",
        "colab_type": "code",
        "colab": {}
      },
      "source": [
        "!chmod 600 ~/.kaggle/kaggle.json"
      ],
      "execution_count": 0,
      "outputs": []
    },
    {
      "cell_type": "markdown",
      "metadata": {
        "id": "SCaQ55aB-w3d",
        "colab_type": "text"
      },
      "source": [
        "##Download und Entpacken des Datensatzes"
      ]
    },
    {
      "cell_type": "markdown",
      "metadata": {
        "id": "OMunXvfr-0-N",
        "colab_type": "text"
      },
      "source": [
        "Mit Hilfe der Kaggle-API kann nun das Datenset heruntergeladen werden."
      ]
    },
    {
      "cell_type": "code",
      "metadata": {
        "id": "SZgaWYXf-2-2",
        "colab_type": "code",
        "outputId": "4359edea-2843-4725-e75c-f96e9b8b4389",
        "colab": {
          "base_uri": "https://localhost:8080/",
          "height": 407
        }
      },
      "source": [
        "!kaggle competitions download -c tgs-salt-identification-challenge -p /content/salt_data"
      ],
      "execution_count": 8,
      "outputs": [
        {
          "output_type": "stream",
          "text": [
            "Warning: Looks like you're using an outdated API Version, please consider updating (server 1.5.6 / client 1.5.4)\n",
            "Downloading sample_submission.csv to /content/salt_data\n",
            "  0% 0.00/264k [00:00<?, ?B/s]\n",
            "100% 264k/264k [00:00<00:00, 83.9MB/s]\n",
            "Downloading depths.csv to /content/salt_data\n",
            "  0% 0.00/322k [00:00<?, ?B/s]\n",
            "100% 322k/322k [00:00<00:00, 105MB/s]\n",
            "Downloading flamingo.zip to /content/salt_data\n",
            " 80% 33.0M/41.4M [00:00<00:00, 20.0MB/s]\n",
            "100% 41.4M/41.4M [00:00<00:00, 53.1MB/s]\n",
            "Downloading test.zip to /content/salt_data\n",
            " 94% 153M/163M [00:02<00:00, 53.5MB/s]\n",
            "100% 163M/163M [00:02<00:00, 59.6MB/s]\n",
            "Downloading competition_data.zip to /content/salt_data\n",
            " 95% 206M/217M [00:03<00:00, 52.9MB/s]\n",
            "100% 217M/217M [00:03<00:00, 61.8MB/s]\n",
            "Downloading train.csv to /content/salt_data\n",
            "  0% 0.00/922k [00:00<?, ?B/s]\n",
            "100% 922k/922k [00:00<00:00, 60.7MB/s]\n",
            "Downloading train.zip to /content/salt_data\n",
            " 87% 33.0M/37.9M [00:01<00:00, 11.5MB/s]\n",
            "100% 37.9M/37.9M [00:01<00:00, 37.3MB/s]\n"
          ],
          "name": "stdout"
        }
      ]
    },
    {
      "cell_type": "markdown",
      "metadata": {
        "id": "vW-Nmajj-7pg",
        "colab_type": "text"
      },
      "source": [
        "Die Trainigsdaten sind komprimiert und müssen zunächst entpackt werden.\n",
        "Zu den Testdaten sind keine Masken vorhanden, weswegen diese hier nicht weiter verwendet werden (eigentlicher Zweck: Testdaten -> Vorhersage -> Auswertung von Dritten aufgrund des oben beschriebenen Wettbewerbs)."
      ]
    },
    {
      "cell_type": "code",
      "metadata": {
        "id": "dyb4fuijAKiV",
        "colab_type": "code",
        "colab": {}
      },
      "source": [
        "from zipfile import ZipFile"
      ],
      "execution_count": 0,
      "outputs": []
    },
    {
      "cell_type": "code",
      "metadata": {
        "id": "9Qy8k1Hb-9PI",
        "colab_type": "code",
        "colab": {}
      },
      "source": [
        "# just unzip train data\n",
        "with ZipFile('/content/salt_data/train.zip', 'r') as zipObj:\n",
        "   zipObj.extractall('/content/salt_data/train')"
      ],
      "execution_count": 0,
      "outputs": []
    },
    {
      "cell_type": "code",
      "metadata": {
        "id": "miNQ9oFEFnQ-",
        "colab_type": "code",
        "colab": {}
      },
      "source": [
        "# save the root path of the training data to use it later in training section\n",
        "root_train_path = '/content/salt_data/train'"
      ],
      "execution_count": 0,
      "outputs": []
    },
    {
      "cell_type": "markdown",
      "metadata": {
        "id": "72tJibr_DW2X",
        "colab_type": "text"
      },
      "source": [
        "##Plot Funktionen"
      ]
    },
    {
      "cell_type": "code",
      "metadata": {
        "id": "r8OlNujwofem",
        "colab_type": "code",
        "colab": {}
      },
      "source": [
        "# package to plot data\n",
        "import matplotlib.pyplot as plt\n",
        "# package to do matrix math\n",
        "import numpy as np\n",
        "# package to read/write image data\n",
        "import imageio"
      ],
      "execution_count": 0,
      "outputs": []
    },
    {
      "cell_type": "code",
      "metadata": {
        "id": "8eDz9dalpWlb",
        "colab_type": "code",
        "colab": {}
      },
      "source": [
        "# plot_random_samples arguments\n",
        "# root_path           root path containing train and mask folder\n",
        "# number_of_samples   number of randomly picked image and mask to plot\n",
        "\n",
        "def plot_random_samples(root_path, number_of_samples):\n",
        "    # get list of names of all input images from image path\n",
        "    name_list = os.listdir(root_train_path + '/images')\n",
        "\n",
        "    # iterate through number_of_samples and plot the samples\n",
        "    for i in range(0, number_of_samples):\n",
        "        # choose random index\n",
        "        index = np.random.randint(0, name_list.__len__())\n",
        "\n",
        "        # loads images and masks into PIL format\n",
        "        image = np.array(imageio.imread(root_path + '/images/' + name_list[index]), dtype=np.uint8)\n",
        "        mask = np.array(imageio.imread(root_path + '/masks/' + name_list[index]), dtype=np.uint8)\n",
        "\n",
        "        fig, ax = plt.subplots(1, 2, figsize=(10, 5))\n",
        "        fig.suptitle(\"\\n\".join([\"Sample name: % s\" %(name_list[index])]))\n",
        "\n",
        "        # input\n",
        "        ax[0].imshow(image, cmap='gray')\n",
        "        ax[0].set_title('image')\n",
        "\n",
        "        # ground truth\n",
        "        ax[1].imshow(mask, cmap='gray')\n",
        "        ax[1].set_title('mask')\n"
      ],
      "execution_count": 0,
      "outputs": []
    },
    {
      "cell_type": "code",
      "metadata": {
        "id": "-My2EQaSwdwt",
        "colab_type": "code",
        "colab": {}
      },
      "source": [
        "# plot_random_samples arguments\n",
        "# root_path           root path containing train and mask folder\n",
        "# sample_name         name of the sample file (e.g. \"1234.png\")\n",
        "\n",
        "def plot_sample(root_path, sample_name):\n",
        "    # loads images and masks into PIL format\n",
        "    image = np.array(imageio.imread(root_path + '/images/' + sample_name), dtype=np.uint8)\n",
        "    mask = np.array(imageio.imread(root_path + '/masks/' + sample_name), dtype=np.uint8)\n",
        "\n",
        "    fig, ax = plt.subplots(1, 2, figsize=(10, 5))\n",
        "    fig.suptitle(\"\\n\".join([\"Sample name: % s\" %(sample_name)]))\n",
        "\n",
        "    # input\n",
        "    ax[0].imshow(image, cmap='gray')\n",
        "    ax[0].set_title('image')\n",
        "\n",
        "    # ground truth\n",
        "    ax[1].imshow(mask, cmap='gray')\n",
        "    ax[1].set_title('mask')"
      ],
      "execution_count": 0,
      "outputs": []
    },
    {
      "cell_type": "markdown",
      "metadata": {
        "id": "DzoTNZqFDrZG",
        "colab_type": "text"
      },
      "source": [
        "##Erster Blick auf die Bilder und Masken"
      ]
    },
    {
      "cell_type": "markdown",
      "metadata": {
        "id": "CVFsl2pEXNxU",
        "colab_type": "text"
      },
      "source": [
        "Im eben definierten Root-Verzeichnis befinden sich nun zwei Ordner, die die Bilddaten für die seismischen Aufnahmen (images) und deren Masken (masks) enthalten. Insgesamt stehen jeweils 4000 Bilder zur Verfügung, die in Trainings- Validierungs- und Testbilder aufgeteilt werden können.\n",
        "\n",
        "Weiterhin besitzen die Bilder und Masken eine Seitenlänge von 101 Pixel."
      ]
    },
    {
      "cell_type": "code",
      "metadata": {
        "id": "tBxxSRaI254d",
        "colab_type": "code",
        "colab": {}
      },
      "source": [
        "# package to get shape of image\n",
        "import cv2"
      ],
      "execution_count": 0,
      "outputs": []
    },
    {
      "cell_type": "code",
      "metadata": {
        "id": "A08dFfglZkQf",
        "colab_type": "code",
        "colab": {
          "base_uri": "https://localhost:8080/",
          "height": 52
        },
        "outputId": "2d5fa9a3-fc66-4c65-b601-56af9ac1930b"
      },
      "source": [
        "print(\"Number of images: \" + str(len(os.listdir(root_train_path + \"/images\"))))\n",
        "print(\"Number of masks: \" + str(len(os.listdir(root_train_path + \"/masks\"))))"
      ],
      "execution_count": 15,
      "outputs": [
        {
          "output_type": "stream",
          "text": [
            "Number of images: 4000\n",
            "Number of masks: 4000\n"
          ],
          "name": "stdout"
        }
      ]
    },
    {
      "cell_type": "code",
      "metadata": {
        "id": "yp5y3W0GcZY6",
        "colab_type": "code",
        "colab": {}
      },
      "source": [
        "# open sample image and mask \n",
        "sample_image = img = cv2.imread(root_train_path + \"/images/000e218f21.png\")\n",
        "sample_mask = img = cv2.imread(root_train_path + \"/masks/000e218f21.png\")"
      ],
      "execution_count": 0,
      "outputs": []
    },
    {
      "cell_type": "code",
      "metadata": {
        "id": "gopZ0yclcosF",
        "colab_type": "code",
        "colab": {
          "base_uri": "https://localhost:8080/",
          "height": 52
        },
        "outputId": "a2bb0899-b5d1-470a-9aa8-98cbedbe9131"
      },
      "source": [
        "print(\"Size of sample_image: \" + str(sample_image.shape))\n",
        "print(\"Size of sample_mask: \" + str(sample_mask.shape))"
      ],
      "execution_count": 22,
      "outputs": [
        {
          "output_type": "stream",
          "text": [
            "Size of sample_image: (101, 101, 3)\n",
            "Size of sample_mask: (101, 101, 3)\n"
          ],
          "name": "stdout"
        }
      ]
    },
    {
      "cell_type": "markdown",
      "metadata": {
        "id": "Ny4YXoycdvZz",
        "colab_type": "text"
      },
      "source": [
        "Die randomisierte Ausgabe der Bilder und Masken zeigt, dass seismische Aufnahmen mit viel, wenig und ohne Salz existieren.\n"
      ]
    },
    {
      "cell_type": "code",
      "metadata": {
        "id": "R4ttHIuerNnE",
        "colab_type": "code",
        "colab": {
          "base_uri": "https://localhost:8080/",
          "height": 1000
        },
        "outputId": "df3f7a5f-47a4-4566-a7c9-3dc7da66276d"
      },
      "source": [
        "# plot randomly picked samples\n",
        "plot_random_samples(root_train_path, number_of_samples = 5)"
      ],
      "execution_count": 26,
      "outputs": [
        {
          "output_type": "display_data",
          "data": {
            "image/png": "[encoded data removed]",
            "text/plain": [
              "<Figure size 720x360 with 2 Axes>"
            ]
          },
          "metadata": {
            "tags": []
          }
        },
        {
          "output_type": "display_data",
          "data": {
            "image/png": "[encoded data removed]",
            "text/plain": [
              "<Figure size 720x360 with 2 Axes>"
            ]
          },
          "metadata": {
            "tags": []
          }
        },
        {
          "output_type": "display_data",
          "data": {
            "image/png": "[encoded data removed]",
            "text/plain": [
              "<Figure size 720x360 with 2 Axes>"
            ]
          },
          "metadata": {
            "tags": []
          }
        },
        {
          "output_type": "display_data",
          "data": {
            "image/png": "[encoded data removed]",
            "text/plain": [
              "<Figure size 720x360 with 2 Axes>"
            ]
          },
          "metadata": {
            "tags": []
          }
        },
        {
          "output_type": "display_data",
          "data": {
            "image/png": "[encoded data removed]",
            "text/plain": [
              "<Figure size 720x360 with 2 Axes>"
            ]
          },
          "metadata": {
            "tags": []
          }
        }
      ]
    },
    {
      "cell_type": "markdown",
      "metadata": {
        "id": "otoJENHByIh1",
        "colab_type": "text"
      },
      "source": [
        "Eine Nachfrage bei einem Domänespezialisten ergab, dass außerdem fehlerhaft gelabelte Aufnahmen existieren.\n",
        "\n",
        "Um bessere Ergebnisse erzielen zu können, können diese Aufnahmen ignoriert werden. In diesem Notebook wurde jedoch auf das Aussortieren verzichtet.\n",
        "\n",
        "Die nachfolgend Plots zeigen beispielhaft zwei fehlerhaft gelabelte Aufnahmen."
      ]
    },
    {
      "cell_type": "code",
      "metadata": {
        "id": "8CPnm0IFyIrS",
        "colab_type": "code",
        "colab": {
          "base_uri": "https://localhost:8080/",
          "height": 676
        },
        "outputId": "e654ad7f-dfc8-4498-bf26-b3c76afc6cf0"
      },
      "source": [
        "# plot incorrect labeled samples\n",
        "plot_sample(root_train_path, \"0b45bde756.png\")\n",
        "plot_sample(root_train_path, \"1eaf42beee.png\")"
      ],
      "execution_count": 27,
      "outputs": [
        {
          "output_type": "display_data",
          "data": {
            "image/png": "[encoded data removed]",
            "text/plain": [
              "<Figure size 720x360 with 2 Axes>"
            ]
          },
          "metadata": {
            "tags": []
          }
        },
        {
          "output_type": "display_data",
          "data": {
            "image/png": "[encoded data removed]",
            "text/plain": [
              "<Figure size 720x360 with 2 Axes>"
            ]
          },
          "metadata": {
            "tags": []
          }
        }
      ]
    },
    {
      "cell_type": "code",
      "metadata": {
        "id": "LsLiZAzo7bGF",
        "colab_type": "code",
        "colab": {}
      },
      "source": [
        ""
      ],
      "execution_count": 0,
      "outputs": []
    },
    {
      "cell_type": "markdown",
      "metadata": {
        "id": "IVT8U09PCMCt",
        "colab_type": "text"
      },
      "source": [
        "##Skalierung der Trainigsbilder und Masken"
      ]
    },
    {
      "cell_type": "code",
      "metadata": {
        "id": "LR15Zje-E35Q",
        "colab_type": "code",
        "colab": {
          "base_uri": "https://localhost:8080/",
          "height": 81
        },
        "outputId": "2b634638-9de6-42fc-a5ef-840234d65db1"
      },
      "source": [
        "# package to transform images\n",
        "from keras.preprocessing.image import img_to_array, load_img, array_to_img\n",
        "# package to resize transformed images\n",
        "from skimage.transform import resize\n",
        "# package to show progress bar\n",
        "from tqdm import tqdm\n"
      ],
      "execution_count": 28,
      "outputs": [
        {
          "output_type": "stream",
          "text": [
            "Using TensorFlow backend.\n"
          ],
          "name": "stderr"
        },
        {
          "output_type": "display_data",
          "data": {
            "text/html": [
              "<p style=\"color: red;\">\n",
              "The default version of TensorFlow in Colab will soon switch to TensorFlow 2.x.<br>\n",
              "We recommend you <a href=\"https://www.tensorflow.org/guide/migrate\" target=\"_blank\">upgrade</a> now \n",
              "or ensure your notebook will continue to use TensorFlow 1.x via the <code>%tensorflow_version 1.x</code> magic:\n",
              "<a href=\"https://colab.research.google.com/notebooks/tensorflow_version.ipynb\" target=\"_blank\">more info</a>.</p>\n"
            ],
            "text/plain": [
              "<IPython.core.display.HTML object>"
            ]
          },
          "metadata": {
            "tags": []
          }
        }
      ]
    },
    {
      "cell_type": "markdown",
      "metadata": {
        "id": "2pNXvk4Jxfmd",
        "colab_type": "text"
      },
      "source": [
        "Eine Skalierung ist nötig, da U-Net lediglich mit Bilder umgehen kann, deren Seitenlängen (in Pixel) ohne Rest durch zwei teilbar sind (Grund: U-Net halbiert üblicherweise die Seitenlängen durch MaxPooling).\n",
        "\n",
        "Die Methode \"get_scaled_images_and_masks\" soll alle Trainigsdaten (Bilder und Masken) aus einem Verzeichnis laden und diese auf das von U-Net gewünschte Format skalieren."
      ]
    },
    {
      "cell_type": "code",
      "metadata": {
        "id": "198EKJwjCS6r",
        "colab_type": "code",
        "colab": {}
      },
      "source": [
        "# get_scaled_images_and_masks arguments\n",
        "# root_train_path     root path of the training data\n",
        "# new_img_width       new image width\n",
        "# new_img_height      new image height\n",
        "\n",
        "def get_scaled_images_and_masks(root_train_path, new_img_width, new_img_height):\n",
        "    print('Getting and resizing images ...')\n",
        "\n",
        "    # size of the generated output image (rows, columns, dimension)\n",
        "    output_shape = (new_img_width, new_img_height, 1) \n",
        "\n",
        "    # get list of names of all input images from image path\n",
        "    ids = os.listdir(root_train_path + '/images')\n",
        "\n",
        "    # get new arrays of given shape and type, filled with zeros\n",
        "    X = np.zeros((len(ids), new_img_height, new_img_width, 1), dtype=np.float32)\n",
        "    y = np.zeros((len(ids), new_img_height, new_img_width, 1), dtype=np.float32)\n",
        "    \n",
        "    # iterate through all images and masks and do resize operations\n",
        "    for n, id_ in tqdm(enumerate(ids), total=len(ids)):\n",
        "\n",
        "        # loads images and masks into PIL format\n",
        "        imgs = load_img(root_train_path + '/images/' + id_, color_mode = \"grayscale\")\n",
        "        masks = load_img(root_train_path + '/masks/' + id_, color_mode = \"grayscale\")\n",
        "\n",
        "        # converts PIL images and masks instance to Numpy arrays\n",
        "        imgs_np = img_to_array(imgs)\n",
        "        masks_np = img_to_array(masks)\n",
        "\n",
        "        # resize images and masks to the output shape an keep the original\n",
        "        # range of values\n",
        "        imgs_np_rz = resize(imgs_np, output_shape, mode='constant', preserve_range=True)        \n",
        "        masks_np_rz = resize(masks_np, output_shape, mode='constant', preserve_range=True)\n",
        "\n",
        "        # divide rgb value by 255 to get floating point value\n",
        "        X[n, ..., 0] = imgs_np_rz.squeeze() / 255\n",
        "        y[n] = masks_np_rz / 255\n",
        "\n",
        "    print('Done!')    \n",
        "    \n",
        "    return X, y"
      ],
      "execution_count": 0,
      "outputs": []
    },
    {
      "cell_type": "markdown",
      "metadata": {
        "id": "UJ40whst0SuS",
        "colab_type": "text"
      },
      "source": [
        "Für die Bildgröße wird 128x128x1 gewählt, da dies dem Format entspricht, mit dem U-Net umgehen kann."
      ]
    },
    {
      "cell_type": "code",
      "metadata": {
        "id": "VqKsfEPLokwt",
        "colab_type": "code",
        "colab": {}
      },
      "source": [
        "img_width = 128\n",
        "img_height = 128\n",
        "dimension = 1"
      ],
      "execution_count": 0,
      "outputs": []
    },
    {
      "cell_type": "markdown",
      "metadata": {
        "id": "sxAqJhxZn-0A",
        "colab_type": "text"
      },
      "source": [
        "Die Bilder und Masken werden skaliert und in X = Bilder und y = Masken gespeichert. X und y werden später in Trainigs-, Validierungs- und Testdaten geteilt."
      ]
    },
    {
      "cell_type": "code",
      "metadata": {
        "id": "nk0qfFKqls3C",
        "colab_type": "code",
        "outputId": "749cb0a2-e93a-402d-ef73-416f3f20269e",
        "colab": {
          "base_uri": "https://localhost:8080/",
          "height": 70
        }
      },
      "source": [
        "# get all images and corresponding masks\n",
        "X, y = get_scaled_images_and_masks(root_train_path, img_width, img_height)"
      ],
      "execution_count": 31,
      "outputs": [
        {
          "output_type": "stream",
          "text": [
            "Getting and resizing images ...\n"
          ],
          "name": "stdout"
        },
        {
          "output_type": "stream",
          "text": [
            "100%|██████████| 4000/4000 [00:13<00:00, 305.58it/s]"
          ],
          "name": "stderr"
        },
        {
          "output_type": "stream",
          "text": [
            "Done!\n"
          ],
          "name": "stdout"
        },
        {
          "output_type": "stream",
          "text": [
            "\n"
          ],
          "name": "stderr"
        }
      ]
    },
    {
      "cell_type": "markdown",
      "metadata": {
        "id": "Ej9KG9XiI0Qe",
        "colab_type": "text"
      },
      "source": [
        "#Definition des U-Net-Netzwerks"
      ]
    },
    {
      "cell_type": "markdown",
      "metadata": {
        "id": "cjyi6QfGMHcA",
        "colab_type": "text"
      },
      "source": [
        "##Evaluierungsmetrik"
      ]
    },
    {
      "cell_type": "markdown",
      "metadata": {
        "id": "ftJQkO2W3BzG",
        "colab_type": "text"
      },
      "source": [
        "Als Evaluierungsmetrik wird Intersection over Union (IoU) gewählt. Die Tensorflow-Bibliothek stellt diese inkl. Loss-Funktion zur Verfügung."
      ]
    },
    {
      "cell_type": "code",
      "metadata": {
        "id": "Isl8RQ7qNzLF",
        "colab_type": "code",
        "colab": {}
      },
      "source": [
        "# package to get accesss to IoU\n",
        "import tensorflow as tf\n",
        "# package to return loss and mean Iou tensor\n",
        "from keras import backend as K"
      ],
      "execution_count": 0,
      "outputs": []
    },
    {
      "cell_type": "code",
      "metadata": {
        "id": "Y19GI5KrMG0k",
        "colab_type": "code",
        "colab": {}
      },
      "source": [
        "def mean_iou(y_true, y_pred):\n",
        "    # list of precission values \n",
        "    prec = []\n",
        "\n",
        "    # list of IoU thresholds\n",
        "    thresholds = np.arange(0.5, 1.0, 0.025)\n",
        "\n",
        "    # calculate mean IoU and loss for prediction\n",
        "    for threshold in thresholds:\n",
        "        y_pred_ = tf.cast(y_pred > threshold, tf.int32)\n",
        "        score, up_opt = tf.metrics.mean_iou(y_true, y_pred_, 2)\n",
        "        K.get_session().run(tf.local_variables_initializer())\n",
        "\n",
        "        with tf.control_dependencies([up_opt]):\n",
        "            score = tf.identity(score)\n",
        "\n",
        "        prec.append(score)\n",
        "\n",
        "    # return loss and mean IoU\n",
        "    return K.mean(K.stack(prec), axis=0)"
      ],
      "execution_count": 0,
      "outputs": []
    },
    {
      "cell_type": "markdown",
      "metadata": {
        "id": "O8lwsjrhP6La",
        "colab_type": "text"
      },
      "source": [
        "##Architektur"
      ]
    },
    {
      "cell_type": "markdown",
      "metadata": {
        "id": "Y8O_aMJewbRa",
        "colab_type": "text"
      },
      "source": [
        "Nachfolgend wird die Architektur von U-Net (siehe Kapitel \"U-Net in der Theorie\") mit Hilfe von Keras modelliert."
      ]
    },
    {
      "cell_type": "code",
      "metadata": {
        "id": "7ghdbldwQ7_R",
        "colab_type": "code",
        "colab": {}
      },
      "source": [
        "from keras.models import Model, load_model\n",
        "from keras.layers import Input, BatchNormalization, Activation, Dense, Dropout\n",
        "from keras.layers.core import Lambda, RepeatVector, Reshape\n",
        "from keras.layers.convolutional import Conv2D, Conv2DTranspose\n",
        "from keras.layers.pooling import MaxPooling2D, GlobalMaxPool2D\n",
        "from keras.layers.merge import concatenate, add\n",
        "from keras.callbacks import EarlyStopping, ModelCheckpoint, ReduceLROnPlateau\n",
        "from keras.optimizers import Adam"
      ],
      "execution_count": 0,
      "outputs": []
    },
    {
      "cell_type": "markdown",
      "metadata": {
        "id": "CHz9hwlSwtrw",
        "colab_type": "text"
      },
      "source": [
        "Die Funktion \"conv2d_block\" fasst zwei Convolution-Schichten zusammen, da diese in jeder Ebene wiederverwendet werden kann."
      ]
    },
    {
      "cell_type": "code",
      "metadata": {
        "id": "gkfQjbs4aLrX",
        "colab_type": "code",
        "colab": {}
      },
      "source": [
        "# conv2d_block arguments\n",
        "# input_img       input image that will be processes by the convolution layer\n",
        "# n_filters       number of filter that will be used\n",
        "# kernel_size     size of the kernel\n",
        "# batchnorm       whether or not batchnormalization will be used\n",
        "\n",
        "def conv2d_block(input_img, n_filters, kernel_size=3, batchnorm=True):\n",
        "    # first layer\n",
        "    x = Conv2D(filters=n_filters, \n",
        "               kernel_size=(kernel_size, kernel_size), \n",
        "               kernel_initializer=\"he_normal\",\n",
        "               padding=\"same\")(input_img)\n",
        "    if batchnorm:\n",
        "        x = BatchNormalization()(x)\n",
        "    x = Activation(\"relu\")(x)\n",
        "\n",
        "    # second layer\n",
        "    x = Conv2D(filters=n_filters, \n",
        "               kernel_size=(kernel_size, kernel_size), \n",
        "               kernel_initializer=\"he_normal\",\n",
        "               padding=\"same\")(x)\n",
        "    if batchnorm:\n",
        "        x = BatchNormalization()(x)\n",
        "    x = Activation(\"relu\")(x)\n",
        "\n",
        "    return x"
      ],
      "execution_count": 0,
      "outputs": []
    },
    {
      "cell_type": "markdown",
      "metadata": {
        "id": "d4Y3wBqMzmib",
        "colab_type": "text"
      },
      "source": [
        "Die Funktion \"get_unet\" gibt ein U-Net Modell gemäß den Übergabeparametern zurück."
      ]
    },
    {
      "cell_type": "code",
      "metadata": {
        "id": "6ei16dfcI1mz",
        "colab_type": "code",
        "colab": {}
      },
      "source": [
        "# get_unet arguments\n",
        "# input_img               input image that will be processes by the convolution \n",
        "#                         layer\n",
        "# n_filters               number of filter that will be used\n",
        "# dropout                 factor od dropout\n",
        "# batchnorm               whether or not batchnormalization will be used\n",
        "# use_skip_connections    whether or not skip connections will be turned on\n",
        "\n",
        "def get_unet(input_img, n_filters = 16, dropout= 0.5, batchnorm = True, use_skip_connections = True):\n",
        "\n",
        "    # contracting path\n",
        "\n",
        "    # 128 -> 64\n",
        "    c1 = conv2d_block(input_img, n_filters=n_filters*1, kernel_size=3, batchnorm=batchnorm)\n",
        "    p1 = MaxPooling2D((2, 2)) (c1)\n",
        "    p1 = Dropout(dropout*0.5)(p1)\n",
        "\n",
        "    # 64 -> 32\n",
        "    c2 = conv2d_block(p1, n_filters=n_filters*2, kernel_size=3, batchnorm=batchnorm)\n",
        "    p2 = MaxPooling2D((2, 2)) (c2)\n",
        "    p2 = Dropout(dropout)(p2)\n",
        "\n",
        "    # 32 -> 16\n",
        "    c3 = conv2d_block(p2, n_filters=n_filters*4, kernel_size=3, batchnorm=batchnorm)\n",
        "    p3 = MaxPooling2D((2, 2)) (c3)\n",
        "    p3 = Dropout(dropout)(p3)\n",
        "\n",
        "    # 16 -> 8\n",
        "    c4 = conv2d_block(p3, n_filters=n_filters*8, kernel_size=3, batchnorm=batchnorm)\n",
        "    p4 = MaxPooling2D(pool_size=(2, 2)) (c4)\n",
        "    p4 = Dropout(dropout)(p4)\n",
        "    \n",
        "    # middle\n",
        "    c5 = conv2d_block(p4, n_filters=n_filters*16, kernel_size=3, batchnorm=batchnorm)\n",
        "    \n",
        "    # expansive path\n",
        "\n",
        "    # 8 -> 16\n",
        "    u6 = Conv2DTranspose(n_filters*8, (3, 3), strides=(2, 2), padding='same') (c5)\n",
        "    if use_skip_connections == True:\n",
        "        u6 = concatenate([u6, c4])\n",
        "    u6 = Dropout(dropout)(u6)\n",
        "    c6 = conv2d_block(u6, n_filters=n_filters*8, kernel_size=3, batchnorm=batchnorm)\n",
        "\n",
        "    # 16 -> 32\n",
        "    u7 = Conv2DTranspose(n_filters*4, (3, 3), strides=(2, 2), padding='same') (c6)\n",
        "    if use_skip_connections == True:\n",
        "      u7 = concatenate([u7, c3])\n",
        "    u7 = Dropout(dropout)(u7)\n",
        "    c7 = conv2d_block(u7, n_filters=n_filters*4, kernel_size=3, batchnorm=batchnorm)\n",
        "\n",
        "    # 32 -> 64\n",
        "    u8 = Conv2DTranspose(n_filters*2, (3, 3), strides=(2, 2), padding='same') (c7)\n",
        "    if use_skip_connections == True:\n",
        "      u8 = concatenate([u8, c2])\n",
        "    u8 = Dropout(dropout)(u8)\n",
        "    c8 = conv2d_block(u8, n_filters=n_filters*2, kernel_size=3, batchnorm=batchnorm)\n",
        "\n",
        "    # 64 -> 128\n",
        "    u9 = Conv2DTranspose(n_filters*1, (3, 3), strides=(2, 2), padding='same') (c8)\n",
        "    if use_skip_connections == True:\n",
        "      u9 = concatenate([u9, c1], axis=3)\n",
        "    u9 = Dropout(dropout)(u9)\n",
        "    c9 = conv2d_block(u9, n_filters=n_filters*1, kernel_size=3, batchnorm=batchnorm)\n",
        "    \n",
        "    outputs = Conv2D(1, (1, 1), activation='sigmoid') (c9)\n",
        "\n",
        "    model = Model(inputs=[input_img], outputs=[outputs])\n",
        "    return model"
      ],
      "execution_count": 0,
      "outputs": []
    },
    {
      "cell_type": "markdown",
      "metadata": {
        "id": "zaLg4SyCzxXt",
        "colab_type": "text"
      },
      "source": [
        "Es werden vier U-Net Modelle definiert und anschließend kompiliert. Es gilt:\n",
        "\n",
        "- model_std = Modell, das sehr nahe an die Standard-Implementierung heranreicht (Ausnahme: Batchnormalization)\n",
        "- model_std_no_skip = wie model_std aber ohne Skip-Connections\n",
        "- model_h_flip = wie model_std aber mit Data Augmentation (Bilder und Masken horizontal gespiegelt)\n",
        "- model_v_flip = wie model_std aber mit Data Augmentation (Bilder und Masken vertikal gespiegelt)"
      ]
    },
    {
      "cell_type": "code",
      "metadata": {
        "id": "39PLKoXyQuGi",
        "colab_type": "code",
        "outputId": "1d5081a9-0e0f-4c20-d566-da0bdedef3ad",
        "colab": {
          "base_uri": "https://localhost:8080/",
          "height": 1000
        }
      },
      "source": [
        "# define input image layer\n",
        "input_img = Input((img_width, img_height, dimension), name='img')\n",
        "\n",
        "# get u-net-model\n",
        "model_std = get_unet(\n",
        "    input_img, \n",
        "    n_filters = 16, \n",
        "    dropout = 0.05, \n",
        "    batchnorm = True, \n",
        "    use_skip_connections = True)\n",
        "\n",
        "model_std_no_skip = get_unet(\n",
        "    input_img, \n",
        "    n_filters = 16, \n",
        "    dropout = 0.05, \n",
        "    batchnorm = True, \n",
        "    use_skip_connections = False)\n",
        "\n",
        "model_h_flip = get_unet(\n",
        "    input_img, \n",
        "    n_filters = 16, \n",
        "    dropout = 0.05, \n",
        "    batchnorm = True, \n",
        "    use_skip_connections = True)\n",
        "\n",
        "model_v_flip = get_unet(\n",
        "    input_img, \n",
        "    n_filters = 16, \n",
        "    dropout = 0.05, \n",
        "    batchnorm = True, \n",
        "    use_skip_connections = True)\n",
        "\n",
        "# compile u-net-model\n",
        "model_std.compile(\n",
        "    optimizer=Adam(), \n",
        "    loss=\"binary_crossentropy\", \n",
        "    metrics=[mean_iou])\n",
        "\n",
        "model_std_no_skip.compile(\n",
        "    optimizer=Adam(), \n",
        "    loss=\"binary_crossentropy\", \n",
        "    metrics=[mean_iou])\n",
        "\n",
        "model_h_flip.compile(\n",
        "    optimizer=Adam(), \n",
        "    loss=\"binary_crossentropy\", \n",
        "    metrics=[mean_iou])\n",
        "\n",
        "model_v_flip.compile(\n",
        "    optimizer=Adam(), \n",
        "    loss=\"binary_crossentropy\", \n",
        "    metrics=[mean_iou])\n",
        "\n",
        "# print out standard model to check if it looks alright\n",
        "model_std.summary()"
      ],
      "execution_count": 37,
      "outputs": [
        {
          "output_type": "stream",
          "text": [
            "WARNING:tensorflow:From /usr/local/lib/python3.6/dist-packages/keras/backend/tensorflow_backend.py:541: The name tf.placeholder is deprecated. Please use tf.compat.v1.placeholder instead.\n",
            "\n",
            "WARNING:tensorflow:From /usr/local/lib/python3.6/dist-packages/keras/backend/tensorflow_backend.py:66: The name tf.get_default_graph is deprecated. Please use tf.compat.v1.get_default_graph instead.\n",
            "\n",
            "WARNING:tensorflow:From /usr/local/lib/python3.6/dist-packages/keras/backend/tensorflow_backend.py:4479: The name tf.truncated_normal is deprecated. Please use tf.random.truncated_normal instead.\n",
            "\n",
            "WARNING:tensorflow:From /usr/local/lib/python3.6/dist-packages/keras/backend/tensorflow_backend.py:190: The name tf.get_default_session is deprecated. Please use tf.compat.v1.get_default_session instead.\n",
            "\n",
            "WARNING:tensorflow:From /usr/local/lib/python3.6/dist-packages/keras/backend/tensorflow_backend.py:197: The name tf.ConfigProto is deprecated. Please use tf.compat.v1.ConfigProto instead.\n",
            "\n",
            "WARNING:tensorflow:From /usr/local/lib/python3.6/dist-packages/keras/backend/tensorflow_backend.py:203: The name tf.Session is deprecated. Please use tf.compat.v1.Session instead.\n",
            "\n",
            "WARNING:tensorflow:From /usr/local/lib/python3.6/dist-packages/keras/backend/tensorflow_backend.py:207: The name tf.global_variables is deprecated. Please use tf.compat.v1.global_variables instead.\n",
            "\n",
            "WARNING:tensorflow:From /usr/local/lib/python3.6/dist-packages/keras/backend/tensorflow_backend.py:216: The name tf.is_variable_initialized is deprecated. Please use tf.compat.v1.is_variable_initialized instead.\n",
            "\n",
            "WARNING:tensorflow:From /usr/local/lib/python3.6/dist-packages/keras/backend/tensorflow_backend.py:223: The name tf.variables_initializer is deprecated. Please use tf.compat.v1.variables_initializer instead.\n",
            "\n",
            "WARNING:tensorflow:From /usr/local/lib/python3.6/dist-packages/keras/backend/tensorflow_backend.py:2041: The name tf.nn.fused_batch_norm is deprecated. Please use tf.compat.v1.nn.fused_batch_norm instead.\n",
            "\n",
            "WARNING:tensorflow:From /usr/local/lib/python3.6/dist-packages/keras/backend/tensorflow_backend.py:148: The name tf.placeholder_with_default is deprecated. Please use tf.compat.v1.placeholder_with_default instead.\n",
            "\n",
            "WARNING:tensorflow:From /usr/local/lib/python3.6/dist-packages/keras/backend/tensorflow_backend.py:4267: The name tf.nn.max_pool is deprecated. Please use tf.nn.max_pool2d instead.\n",
            "\n",
            "WARNING:tensorflow:From /usr/local/lib/python3.6/dist-packages/keras/backend/tensorflow_backend.py:3733: calling dropout (from tensorflow.python.ops.nn_ops) with keep_prob is deprecated and will be removed in a future version.\n",
            "Instructions for updating:\n",
            "Please use `rate` instead of `keep_prob`. Rate should be set to `rate = 1 - keep_prob`.\n",
            "WARNING:tensorflow:From /usr/local/lib/python3.6/dist-packages/keras/backend/tensorflow_backend.py:4432: The name tf.random_uniform is deprecated. Please use tf.random.uniform instead.\n",
            "\n",
            "WARNING:tensorflow:From /usr/local/lib/python3.6/dist-packages/keras/optimizers.py:793: The name tf.train.Optimizer is deprecated. Please use tf.compat.v1.train.Optimizer instead.\n",
            "\n",
            "WARNING:tensorflow:From /usr/local/lib/python3.6/dist-packages/keras/backend/tensorflow_backend.py:3657: The name tf.log is deprecated. Please use tf.math.log instead.\n",
            "\n",
            "WARNING:tensorflow:From /usr/local/lib/python3.6/dist-packages/tensorflow_core/python/ops/nn_impl.py:183: where (from tensorflow.python.ops.array_ops) is deprecated and will be removed in a future version.\n",
            "Instructions for updating:\n",
            "Use tf.where in 2.0, which has the same broadcast rule as np.where\n",
            "WARNING:tensorflow:From /usr/local/lib/python3.6/dist-packages/tensorflow_core/python/ops/metrics_impl.py:1178: div (from tensorflow.python.ops.math_ops) is deprecated and will be removed in a future version.\n",
            "Instructions for updating:\n",
            "Deprecated in favor of operator or tf.math.divide.\n",
            "Model: \"model_1\"\n",
            "__________________________________________________________________________________________________\n",
            "Layer (type)                    Output Shape         Param #     Connected to                     \n",
            "==================================================================================================\n",
            "img (InputLayer)                (None, 128, 128, 1)  0                                            \n",
            "__________________________________________________________________________________________________\n",
            "conv2d_1 (Conv2D)               (None, 128, 128, 16) 160         img[0][0]                        \n",
            "__________________________________________________________________________________________________\n",
            "batch_normalization_1 (BatchNor (None, 128, 128, 16) 64          conv2d_1[0][0]                   \n",
            "__________________________________________________________________________________________________\n",
            "activation_1 (Activation)       (None, 128, 128, 16) 0           batch_normalization_1[0][0]      \n",
            "__________________________________________________________________________________________________\n",
            "conv2d_2 (Conv2D)               (None, 128, 128, 16) 2320        activation_1[0][0]               \n",
            "__________________________________________________________________________________________________\n",
            "batch_normalization_2 (BatchNor (None, 128, 128, 16) 64          conv2d_2[0][0]                   \n",
            "__________________________________________________________________________________________________\n",
            "activation_2 (Activation)       (None, 128, 128, 16) 0           batch_normalization_2[0][0]      \n",
            "__________________________________________________________________________________________________\n",
            "max_pooling2d_1 (MaxPooling2D)  (None, 64, 64, 16)   0           activation_2[0][0]               \n",
            "__________________________________________________________________________________________________\n",
            "dropout_1 (Dropout)             (None, 64, 64, 16)   0           max_pooling2d_1[0][0]            \n",
            "__________________________________________________________________________________________________\n",
            "conv2d_3 (Conv2D)               (None, 64, 64, 32)   4640        dropout_1[0][0]                  \n",
            "__________________________________________________________________________________________________\n",
            "batch_normalization_3 (BatchNor (None, 64, 64, 32)   128         conv2d_3[0][0]                   \n",
            "__________________________________________________________________________________________________\n",
            "activation_3 (Activation)       (None, 64, 64, 32)   0           batch_normalization_3[0][0]      \n",
            "__________________________________________________________________________________________________\n",
            "conv2d_4 (Conv2D)               (None, 64, 64, 32)   9248        activation_3[0][0]               \n",
            "__________________________________________________________________________________________________\n",
            "batch_normalization_4 (BatchNor (None, 64, 64, 32)   128         conv2d_4[0][0]                   \n",
            "__________________________________________________________________________________________________\n",
            "activation_4 (Activation)       (None, 64, 64, 32)   0           batch_normalization_4[0][0]      \n",
            "__________________________________________________________________________________________________\n",
            "max_pooling2d_2 (MaxPooling2D)  (None, 32, 32, 32)   0           activation_4[0][0]               \n",
            "__________________________________________________________________________________________________\n",
            "dropout_2 (Dropout)             (None, 32, 32, 32)   0           max_pooling2d_2[0][0]            \n",
            "__________________________________________________________________________________________________\n",
            "conv2d_5 (Conv2D)               (None, 32, 32, 64)   18496       dropout_2[0][0]                  \n",
            "__________________________________________________________________________________________________\n",
            "batch_normalization_5 (BatchNor (None, 32, 32, 64)   256         conv2d_5[0][0]                   \n",
            "__________________________________________________________________________________________________\n",
            "activation_5 (Activation)       (None, 32, 32, 64)   0           batch_normalization_5[0][0]      \n",
            "__________________________________________________________________________________________________\n",
            "conv2d_6 (Conv2D)               (None, 32, 32, 64)   36928       activation_5[0][0]               \n",
            "__________________________________________________________________________________________________\n",
            "batch_normalization_6 (BatchNor (None, 32, 32, 64)   256         conv2d_6[0][0]                   \n",
            "__________________________________________________________________________________________________\n",
            "activation_6 (Activation)       (None, 32, 32, 64)   0           batch_normalization_6[0][0]      \n",
            "__________________________________________________________________________________________________\n",
            "max_pooling2d_3 (MaxPooling2D)  (None, 16, 16, 64)   0           activation_6[0][0]               \n",
            "__________________________________________________________________________________________________\n",
            "dropout_3 (Dropout)             (None, 16, 16, 64)   0           max_pooling2d_3[0][0]            \n",
            "__________________________________________________________________________________________________\n",
            "conv2d_7 (Conv2D)               (None, 16, 16, 128)  73856       dropout_3[0][0]                  \n",
            "__________________________________________________________________________________________________\n",
            "batch_normalization_7 (BatchNor (None, 16, 16, 128)  512         conv2d_7[0][0]                   \n",
            "__________________________________________________________________________________________________\n",
            "activation_7 (Activation)       (None, 16, 16, 128)  0           batch_normalization_7[0][0]      \n",
            "__________________________________________________________________________________________________\n",
            "conv2d_8 (Conv2D)               (None, 16, 16, 128)  147584      activation_7[0][0]               \n",
            "__________________________________________________________________________________________________\n",
            "batch_normalization_8 (BatchNor (None, 16, 16, 128)  512         conv2d_8[0][0]                   \n",
            "__________________________________________________________________________________________________\n",
            "activation_8 (Activation)       (None, 16, 16, 128)  0           batch_normalization_8[0][0]      \n",
            "__________________________________________________________________________________________________\n",
            "max_pooling2d_4 (MaxPooling2D)  (None, 8, 8, 128)    0           activation_8[0][0]               \n",
            "__________________________________________________________________________________________________\n",
            "dropout_4 (Dropout)             (None, 8, 8, 128)    0           max_pooling2d_4[0][0]            \n",
            "__________________________________________________________________________________________________\n",
            "conv2d_9 (Conv2D)               (None, 8, 8, 256)    295168      dropout_4[0][0]                  \n",
            "__________________________________________________________________________________________________\n",
            "batch_normalization_9 (BatchNor (None, 8, 8, 256)    1024        conv2d_9[0][0]                   \n",
            "__________________________________________________________________________________________________\n",
            "activation_9 (Activation)       (None, 8, 8, 256)    0           batch_normalization_9[0][0]      \n",
            "__________________________________________________________________________________________________\n",
            "conv2d_10 (Conv2D)              (None, 8, 8, 256)    590080      activation_9[0][0]               \n",
            "__________________________________________________________________________________________________\n",
            "batch_normalization_10 (BatchNo (None, 8, 8, 256)    1024        conv2d_10[0][0]                  \n",
            "__________________________________________________________________________________________________\n",
            "activation_10 (Activation)      (None, 8, 8, 256)    0           batch_normalization_10[0][0]     \n",
            "__________________________________________________________________________________________________\n",
            "conv2d_transpose_1 (Conv2DTrans (None, 16, 16, 128)  295040      activation_10[0][0]              \n",
            "__________________________________________________________________________________________________\n",
            "concatenate_1 (Concatenate)     (None, 16, 16, 256)  0           conv2d_transpose_1[0][0]         \n",
            "                                                                 activation_8[0][0]               \n",
            "__________________________________________________________________________________________________\n",
            "dropout_5 (Dropout)             (None, 16, 16, 256)  0           concatenate_1[0][0]              \n",
            "__________________________________________________________________________________________________\n",
            "conv2d_11 (Conv2D)              (None, 16, 16, 128)  295040      dropout_5[0][0]                  \n",
            "__________________________________________________________________________________________________\n",
            "batch_normalization_11 (BatchNo (None, 16, 16, 128)  512         conv2d_11[0][0]                  \n",
            "__________________________________________________________________________________________________\n",
            "activation_11 (Activation)      (None, 16, 16, 128)  0           batch_normalization_11[0][0]     \n",
            "__________________________________________________________________________________________________\n",
            "conv2d_12 (Conv2D)              (None, 16, 16, 128)  147584      activation_11[0][0]              \n",
            "__________________________________________________________________________________________________\n",
            "batch_normalization_12 (BatchNo (None, 16, 16, 128)  512         conv2d_12[0][0]                  \n",
            "__________________________________________________________________________________________________\n",
            "activation_12 (Activation)      (None, 16, 16, 128)  0           batch_normalization_12[0][0]     \n",
            "__________________________________________________________________________________________________\n",
            "conv2d_transpose_2 (Conv2DTrans (None, 32, 32, 64)   73792       activation_12[0][0]              \n",
            "__________________________________________________________________________________________________\n",
            "concatenate_2 (Concatenate)     (None, 32, 32, 128)  0           conv2d_transpose_2[0][0]         \n",
            "                                                                 activation_6[0][0]               \n",
            "__________________________________________________________________________________________________\n",
            "dropout_6 (Dropout)             (None, 32, 32, 128)  0           concatenate_2[0][0]              \n",
            "__________________________________________________________________________________________________\n",
            "conv2d_13 (Conv2D)              (None, 32, 32, 64)   73792       dropout_6[0][0]                  \n",
            "__________________________________________________________________________________________________\n",
            "batch_normalization_13 (BatchNo (None, 32, 32, 64)   256         conv2d_13[0][0]                  \n",
            "__________________________________________________________________________________________________\n",
            "activation_13 (Activation)      (None, 32, 32, 64)   0           batch_normalization_13[0][0]     \n",
            "__________________________________________________________________________________________________\n",
            "conv2d_14 (Conv2D)              (None, 32, 32, 64)   36928       activation_13[0][0]              \n",
            "__________________________________________________________________________________________________\n",
            "batch_normalization_14 (BatchNo (None, 32, 32, 64)   256         conv2d_14[0][0]                  \n",
            "__________________________________________________________________________________________________\n",
            "activation_14 (Activation)      (None, 32, 32, 64)   0           batch_normalization_14[0][0]     \n",
            "__________________________________________________________________________________________________\n",
            "conv2d_transpose_3 (Conv2DTrans (None, 64, 64, 32)   18464       activation_14[0][0]              \n",
            "__________________________________________________________________________________________________\n",
            "concatenate_3 (Concatenate)     (None, 64, 64, 64)   0           conv2d_transpose_3[0][0]         \n",
            "                                                                 activation_4[0][0]               \n",
            "__________________________________________________________________________________________________\n",
            "dropout_7 (Dropout)             (None, 64, 64, 64)   0           concatenate_3[0][0]              \n",
            "__________________________________________________________________________________________________\n",
            "conv2d_15 (Conv2D)              (None, 64, 64, 32)   18464       dropout_7[0][0]                  \n",
            "__________________________________________________________________________________________________\n",
            "batch_normalization_15 (BatchNo (None, 64, 64, 32)   128         conv2d_15[0][0]                  \n",
            "__________________________________________________________________________________________________\n",
            "activation_15 (Activation)      (None, 64, 64, 32)   0           batch_normalization_15[0][0]     \n",
            "__________________________________________________________________________________________________\n",
            "conv2d_16 (Conv2D)              (None, 64, 64, 32)   9248        activation_15[0][0]              \n",
            "__________________________________________________________________________________________________\n",
            "batch_normalization_16 (BatchNo (None, 64, 64, 32)   128         conv2d_16[0][0]                  \n",
            "__________________________________________________________________________________________________\n",
            "activation_16 (Activation)      (None, 64, 64, 32)   0           batch_normalization_16[0][0]     \n",
            "__________________________________________________________________________________________________\n",
            "conv2d_transpose_4 (Conv2DTrans (None, 128, 128, 16) 4624        activation_16[0][0]              \n",
            "__________________________________________________________________________________________________\n",
            "concatenate_4 (Concatenate)     (None, 128, 128, 32) 0           conv2d_transpose_4[0][0]         \n",
            "                                                                 activation_2[0][0]               \n",
            "__________________________________________________________________________________________________\n",
            "dropout_8 (Dropout)             (None, 128, 128, 32) 0           concatenate_4[0][0]              \n",
            "__________________________________________________________________________________________________\n",
            "conv2d_17 (Conv2D)              (None, 128, 128, 16) 4624        dropout_8[0][0]                  \n",
            "__________________________________________________________________________________________________\n",
            "batch_normalization_17 (BatchNo (None, 128, 128, 16) 64          conv2d_17[0][0]                  \n",
            "__________________________________________________________________________________________________\n",
            "activation_17 (Activation)      (None, 128, 128, 16) 0           batch_normalization_17[0][0]     \n",
            "__________________________________________________________________________________________________\n",
            "conv2d_18 (Conv2D)              (None, 128, 128, 16) 2320        activation_17[0][0]              \n",
            "__________________________________________________________________________________________________\n",
            "batch_normalization_18 (BatchNo (None, 128, 128, 16) 64          conv2d_18[0][0]                  \n",
            "__________________________________________________________________________________________________\n",
            "activation_18 (Activation)      (None, 128, 128, 16) 0           batch_normalization_18[0][0]     \n",
            "__________________________________________________________________________________________________\n",
            "conv2d_19 (Conv2D)              (None, 128, 128, 1)  17          activation_18[0][0]              \n",
            "==================================================================================================\n",
            "Total params: 2,164,305\n",
            "Trainable params: 2,161,361\n",
            "Non-trainable params: 2,944\n",
            "__________________________________________________________________________________________________\n"
          ],
          "name": "stdout"
        }
      ]
    },
    {
      "cell_type": "markdown",
      "metadata": {
        "id": "awjeZBoIe3e_",
        "colab_type": "text"
      },
      "source": [
        "#Training der U-Net-Modelle"
      ]
    },
    {
      "cell_type": "markdown",
      "metadata": {
        "id": "Ig1BXtsK6YIo",
        "colab_type": "text"
      },
      "source": [
        "Die vier Modelle werden nun trainiert. Um u.a. Overfitting zu vermeiden werden s.g. Callbacks definiert, die das Training vorzeitig beenden.\n",
        "\n",
        "Das Vorgehen ist bei allen vier Modellen nahezu das selbe:\n",
        "- Callbacks definieren\n",
        "- Generator für Data Augmentation definieren (nicht für std und std_no_skip)\n",
        "- Modell trainieren"
      ]
    },
    {
      "cell_type": "markdown",
      "metadata": {
        "id": "bZ2r0ygJ5EgV",
        "colab_type": "text"
      },
      "source": [
        "## Plot-Funktionen"
      ]
    },
    {
      "cell_type": "code",
      "metadata": {
        "id": "1e7Jnq-65III",
        "colab_type": "code",
        "colab": {}
      },
      "source": [
        "# plot_learning_curve arguments\n",
        "# fit_results     prediction \n",
        "\n",
        "def plot_learning_curve(fit_results):\n",
        "    plt.figure(figsize=(8, 8))\n",
        "    plt.title(\"Learning curve\")\n",
        "    plt.plot(fit_results.history[\"loss\"], label=\"loss\")\n",
        "    plt.plot(fit_results.history[\"val_loss\"], label=\"val_loss\")\n",
        "    plt.plot( np.argmin(fit_results.history[\"val_loss\"]), np.min(fit_results.history[\"val_loss\"]), marker=\"x\", color=\"r\", label=\"best model\")\n",
        "    plt.xlabel(\"Epochs\")\n",
        "    plt.ylabel(\"log_loss\")\n",
        "    plt.legend();"
      ],
      "execution_count": 0,
      "outputs": []
    },
    {
      "cell_type": "markdown",
      "metadata": {
        "id": "hARhSaRKT1QW",
        "colab_type": "text"
      },
      "source": [
        "##Data Augmentation"
      ]
    },
    {
      "cell_type": "markdown",
      "metadata": {
        "id": "ygwTQKlk6DYb",
        "colab_type": "text"
      },
      "source": [
        "Mit Hilfe von Data Augmentation kann eine bessere Vorhersage (mean_IoU) erreicht werden. "
      ]
    },
    {
      "cell_type": "code",
      "metadata": {
        "id": "4GLuQK7hYceD",
        "colab_type": "code",
        "colab": {}
      },
      "source": [
        "# package to do data augmentation\n",
        "from keras.preprocessing.image import ImageDataGenerator, array_to_img, img_to_array, load_img "
      ],
      "execution_count": 0,
      "outputs": []
    },
    {
      "cell_type": "code",
      "metadata": {
        "id": "WVT9agp-eHPg",
        "colab_type": "code",
        "colab": {}
      },
      "source": [
        "# plot_learning_curve arguments\n",
        "# X                     original image\n",
        "# y                     original mask\n",
        "# do_horizontal_flip    whether or not do horizontal flip\n",
        "# do_vertical_flip      whether or not do vertical flip\n",
        "# seed                  seed to be able to reproduce data augmentation\n",
        "# batch_size            batch size\n",
        "\n",
        "def get_image_mask_generator(X, y, \n",
        "                             do_horizontal_flip = False, \n",
        "                             do_vertical_flip = False, \n",
        "                             seed = 1234, \n",
        "                             batch_size = 32):\n",
        "    \n",
        "    # define dictionary with data augmentation settings\n",
        "    data_gen_args = {\n",
        "        \"horizontal_flip\" : do_horizontal_flip, \n",
        "        \"vertical_flip\" : do_vertical_flip}\n",
        "\n",
        "    # generate batches of tensor image data with real-time data augmentation\n",
        "    image_datagen = ImageDataGenerator(**data_gen_args)\n",
        "    mask_datagen = ImageDataGenerator(**data_gen_args)\n",
        "\n",
        "    # takes image & mask arrays, generate batches of augmented data\n",
        "    image_generator = image_datagen.flow(X, seed=seed, batch_size = batch_size, shuffle = True)\n",
        "    mask_generator = mask_datagen.flow(y, seed=seed, batch_size = batch_size, shuffle = True)\n",
        "\n",
        "    # zip the two generators to get a generator that provides augmented images and masks at the same time\n",
        "    image_mask_generator = zip(image_generator, mask_generator)\n",
        "\n",
        "    return image_mask_generator"
      ],
      "execution_count": 0,
      "outputs": []
    },
    {
      "cell_type": "markdown",
      "metadata": {
        "id": "mKA7BIlOfxUf",
        "colab_type": "text"
      },
      "source": [
        "##Train-, Test-, Valid-Split"
      ]
    },
    {
      "cell_type": "code",
      "metadata": {
        "id": "R6WfHTxL993f",
        "colab_type": "code",
        "colab": {}
      },
      "source": [
        "# package for data preprocessing \n",
        "import pandas as pd"
      ],
      "execution_count": 0,
      "outputs": []
    },
    {
      "cell_type": "code",
      "metadata": {
        "id": "hB8wEtYxIHqC",
        "colab_type": "code",
        "colab": {}
      },
      "source": [
        "df_train = pd.DataFrame({})\n",
        "names_list = os.listdir(root_train_path + '/masks')"
      ],
      "execution_count": 0,
      "outputs": []
    },
    {
      "cell_type": "code",
      "metadata": {
        "id": "Er-6vTdnIOnk",
        "colab_type": "code",
        "colab": {
          "base_uri": "https://localhost:8080/",
          "height": 887
        },
        "outputId": "ed92126c-ea99-4d5a-b8a7-b7e468e0ae3d"
      },
      "source": [
        "df_train[\"mask_array\"] = [np.array(load_img(path=(root_train_path + \"/masks/\" + file_path), color_mode=\"grayscale\")) / 255 for file_path in tqdm(names_list)]"
      ],
      "execution_count": 77,
      "outputs": [
        {
          "output_type": "stream",
          "text": [
            "\n",
            "\n",
            "\n",
            "\n",
            "  0%|          | 0/4000 [00:00<?, ?it/s]\u001b[A\u001b[A\u001b[A\u001b[A\n",
            "\n",
            "\n",
            "\n",
            " 10%|▉         | 393/4000 [00:00<00:00, 3927.77it/s]\u001b[A\u001b[A\u001b[A\u001b[A\n",
            "\n",
            "\n",
            "\n",
            " 20%|██        | 807/4000 [00:00<00:00, 3988.94it/s]\u001b[A\u001b[A\u001b[A\u001b[A\n",
            "\n",
            "\n",
            "\n",
            " 30%|███       | 1207/4000 [00:00<00:00, 3989.32it/s]\u001b[A\u001b[A\u001b[A\u001b[A\n",
            "\n",
            "\n",
            "\n",
            " 40%|███▉      | 1596/4000 [00:00<00:00, 3956.11it/s]\u001b[A\u001b[A\u001b[A\u001b[A\n",
            "\n",
            "\n",
            "\n",
            " 50%|████▉     | 1997/4000 [00:00<00:00, 3970.76it/s]\u001b[A\u001b[A\u001b[A\u001b[A\n",
            "\n",
            "\n",
            "\n",
            " 60%|█████▉    | 2396/4000 [00:00<00:00, 3975.72it/s]\u001b[A\u001b[A\u001b[A\u001b[A\n",
            "\n",
            "\n",
            "\n",
            " 69%|██████▊   | 2748/4000 [00:00<00:00, 3695.64it/s]\u001b[A\u001b[A\u001b[A\u001b[A\n",
            "\n",
            "\n",
            "\n",
            " 77%|███████▋  | 3090/4000 [00:00<00:00, 3559.38it/s]\u001b[A\u001b[A\u001b[A\u001b[A\n",
            "\n",
            "\n",
            "\n",
            " 87%|████████▋ | 3471/4000 [00:00<00:00, 3630.01it/s]\u001b[A\u001b[A\u001b[A\u001b[A\n",
            "\n",
            "\n",
            "\n",
            " 97%|█████████▋| 3863/4000 [00:01<00:00, 3711.71it/s]\u001b[A\u001b[A\u001b[A\u001b[A\n",
            "\n",
            "\n",
            "\n",
            "100%|██████████| 4000/4000 [00:01<00:00, 3789.58it/s]\u001b[A\u001b[A\u001b[A\u001b[A"
          ],
          "name": "stderr"
        }
      ]
    },
    {
      "cell_type": "code",
      "metadata": {
        "id": "Gtjlc1r2I7am",
        "colab_type": "code",
        "colab": {}
      },
      "source": [
        "df_train[\"coverage\"] = df_train.mask_array.map(np.sum) / (img_width * img_height)"
      ],
      "execution_count": 0,
      "outputs": []
    },
    {
      "cell_type": "code",
      "metadata": {
        "id": "i15ByOf4JN5Y",
        "colab_type": "code",
        "colab": {}
      },
      "source": [
        "import seaborn as sns"
      ],
      "execution_count": 0,
      "outputs": []
    },
    {
      "cell_type": "code",
      "metadata": {
        "id": "7y-1b5ELJQy-",
        "colab_type": "code",
        "colab": {
          "base_uri": "https://localhost:8080/",
          "height": 296
        },
        "outputId": "d2b5d767-7059-4a9f-f43e-3f43b4a4fbe4"
      },
      "source": [
        "sns.distplot(df_train.coverage, kde=False)"
      ],
      "execution_count": 80,
      "outputs": [
        {
          "output_type": "execute_result",
          "data": {
            "text/plain": [
              "<matplotlib.axes._subplots.AxesSubplot at 0x7f8c52879780>"
            ]
          },
          "metadata": {
            "tags": []
          },
          "execution_count": 80
        },
        {
          "output_type": "display_data",
          "data": {
            "image/png": "[encoded data removed]",
            "text/plain": [
              "<Figure size 432x288 with 1 Axes>"
            ]
          },
          "metadata": {
            "tags": []
          }
        }
      ]
    },
    {
      "cell_type": "code",
      "metadata": {
        "id": "bqXjRITaJVD_",
        "colab_type": "code",
        "colab": {}
      },
      "source": [
        "def cov_to_class(val):    \n",
        "    for i in range(0, 11):\n",
        "        if val * 10 <= i :\n",
        "            return i\n",
        "\n",
        "df_train[\"coverage_class\"] = df_train.coverage.map(cov_to_class)"
      ],
      "execution_count": 0,
      "outputs": []
    },
    {
      "cell_type": "markdown",
      "metadata": {
        "id": "al3mXh5v491j",
        "colab_type": "text"
      },
      "source": [
        "Es stehen insgesamt 4000 gelabelte Aufnahmen zur Verfügung.\n",
        "Die Daten werden wie folgt zerlegt:\n",
        "- Trainingsdaten (70%) \n",
        "- Validierungsdaten (20%)\n",
        "- Testdaten (10%)"
      ]
    },
    {
      "cell_type": "code",
      "metadata": {
        "id": "oS-4c8dTHfmt",
        "colab_type": "code",
        "colab": {}
      },
      "source": [
        "# package to split data\n",
        "from sklearn.model_selection import train_test_split"
      ],
      "execution_count": 0,
      "outputs": []
    },
    {
      "cell_type": "code",
      "metadata": {
        "id": "QhL4utSeHZSL",
        "colab_type": "code",
        "colab": {}
      },
      "source": [
        "# seed for train/valid and test split\n",
        "random_state_seed_tv_t = 1234\n",
        "# seed for train, valid and test split\n",
        "random_state_seed_t_v_t = 2345\n",
        "\n",
        "# Split X and y into random train_valid and test\n",
        "X_train_valid, X_test, y_train_valid, y_test = train_test_split(\n",
        "    X, \n",
        "    y, \n",
        "    test_size = 0.10,\n",
        "    stratify = df_train.coverage_class,\n",
        "    random_state = random_state_seed_tv_t)"
      ],
      "execution_count": 0,
      "outputs": []
    },
    {
      "cell_type": "code",
      "metadata": {
        "id": "M5ocq0ExM5Wl",
        "colab_type": "code",
        "colab": {
          "base_uri": "https://localhost:8080/",
          "height": 87
        },
        "outputId": "5ba1f57d-66df-4103-c67c-da733294ba75"
      },
      "source": [
        "# X_train_valid soll selben typ haben\n",
        "print(type(df_train.mask_array))\n",
        "print(type(df_train.mask_array[2]))\n",
        "print(df_train.mask_array.shape)\n",
        "print(df_train.mask_array[2].shape)\n",
        "print(df_train.mask_array[2].shape)"
      ],
      "execution_count": 132,
      "outputs": [
        {
          "output_type": "stream",
          "text": [
            "<class 'pandas.core.series.Series'>\n",
            "<class 'numpy.ndarray'>\n",
            "(4000,)\n",
            "(101, 101)\n"
          ],
          "name": "stdout"
        }
      ]
    },
    {
      "cell_type": "code",
      "metadata": {
        "id": "0xVpdYuAUZpH",
        "colab_type": "code",
        "colab": {
          "base_uri": "https://localhost:8080/",
          "height": 141
        },
        "outputId": "21345eb0-d742-4bab-d307-101222a2b5d3"
      },
      "source": [
        "df_train.mask_array[2]"
      ],
      "execution_count": 133,
      "outputs": [
        {
          "output_type": "execute_result",
          "data": {
            "text/plain": [
              "array([[0., 0., 0., ..., 1., 1., 1.],\n",
              "       [0., 0., 0., ..., 1., 1., 1.],\n",
              "       [0., 0., 0., ..., 1., 1., 1.],\n",
              "       ...,\n",
              "       [0., 0., 0., ..., 1., 1., 1.],\n",
              "       [0., 0., 0., ..., 1., 1., 1.],\n",
              "       [0., 0., 0., ..., 1., 1., 1.]])"
            ]
          },
          "metadata": {
            "tags": []
          },
          "execution_count": 133
        }
      ]
    },
    {
      "cell_type": "code",
      "metadata": {
        "id": "XZbQEmfBXTMQ",
        "colab_type": "code",
        "colab": {}
      },
      "source": [
        "[np.array(load_img(y_train_valid[1], color_mode=\"grayscale\")) for file_path in tqdm(names_list)]"
      ],
      "execution_count": 0,
      "outputs": []
    },
    {
      "cell_type": "code",
      "metadata": {
        "id": "O36Qsux4XnpJ",
        "colab_type": "code",
        "colab": {}
      },
      "source": [
        "np.array(load_img(path=(root_train_path + \"/masks/\" + file_path), color_mode=\"grayscale\"))"
      ],
      "execution_count": 0,
      "outputs": []
    },
    {
      "cell_type": "code",
      "metadata": {
        "id": "07GR8FlHVoMX",
        "colab_type": "code",
        "colab": {
          "base_uri": "https://localhost:8080/",
          "height": 176
        },
        "outputId": "d27bf0a7-b690-44a2-c63f-8fcd4c5ab241"
      },
      "source": [
        "#reshape test\n",
        "print(y_train_valid[1].shape)\n",
        "print(np.reshape(y_train_valid[1], (128, 128)).shape)\n",
        "print(np.reshape(y_train_valid[4], (128, 128)))"
      ],
      "execution_count": 153,
      "outputs": [
        {
          "output_type": "stream",
          "text": [
            "(128, 128, 1)\n",
            "(128, 128)\n",
            "[[0.80018616 0.89453125 0.89453125 ... 0.         0.         0.        ]\n",
            " [0.89453125 1.         1.         ... 0.         0.         0.        ]\n",
            " [0.89453125 1.         1.         ... 0.         0.         0.        ]\n",
            " ...\n",
            " [0.89453125 1.         1.         ... 0.         0.         0.        ]\n",
            " [0.89453125 1.         1.         ... 0.         0.         0.        ]\n",
            " [0.80018616 0.89453125 0.89453125 ... 0.         0.         0.        ]]\n"
          ],
          "name": "stdout"
        }
      ]
    },
    {
      "cell_type": "code",
      "metadata": {
        "id": "7H8DxEOnOBTp",
        "colab_type": "code",
        "colab": {}
      },
      "source": [
        "df_train2 = pd.DataFrame({})"
      ],
      "execution_count": 0,
      "outputs": []
    },
    {
      "cell_type": "code",
      "metadata": {
        "id": "x_uykWWkTvG4",
        "colab_type": "code",
        "colab": {
          "base_uri": "https://localhost:8080/",
          "height": 283
        },
        "outputId": "dc7e3b82-84ca-4e4a-90e3-f83d38ea6403"
      },
      "source": [
        "df_train2[\"mask_array\"] = [np.reshape(sample, (img_width, img_height)) for sample in tqdm(y_train_valid)]"
      ],
      "execution_count": 167,
      "outputs": [
        {
          "output_type": "stream",
          "text": [
            "\n",
            "\n",
            "\n",
            "\n",
            "\n",
            "\n",
            "\n",
            "  0%|          | 0/3600 [00:00<?, ?it/s]\u001b[A\u001b[A\u001b[A\u001b[A\u001b[A\u001b[A\u001b[A\n",
            "\n",
            "\n",
            "\n",
            "\n",
            "\n",
            "\n",
            "100%|██████████| 3600/3600 [00:00<00:00, 462210.55it/s]\u001b[A\u001b[A\u001b[A\u001b[A\u001b[A\u001b[A\u001b[A"
          ],
          "name": "stderr"
        }
      ]
    },
    {
      "cell_type": "code",
      "metadata": {
        "id": "a5LOQx6eTfiG",
        "colab_type": "code",
        "colab": {
          "base_uri": "https://localhost:8080/",
          "height": 34
        },
        "outputId": "6bd66dd5-de30-4743-c8b1-8805feba77d6"
      },
      "source": [
        "print(df_train2.mask_array.shape)"
      ],
      "execution_count": 168,
      "outputs": [
        {
          "output_type": "stream",
          "text": [
            "<class 'tuple'>\n"
          ],
          "name": "stdout"
        }
      ]
    },
    {
      "cell_type": "code",
      "metadata": {
        "id": "6ixGJaezM1M2",
        "colab_type": "code",
        "colab": {}
      },
      "source": [
        "# Split X_train_valid and y_train_valid into random train and valid\n",
        "X_train, X_valid, y_train, y_valid = train_test_split(\n",
        "    X_train_valid, \n",
        "    y_train_valid, \n",
        "    test_size = 0.2222222223,\n",
        "    \n",
        "    random_state = random_state_seed_t_v_t)"
      ],
      "execution_count": 0,
      "outputs": []
    },
    {
      "cell_type": "code",
      "metadata": {
        "id": "64T34rDvZitk",
        "colab_type": "code",
        "colab": {}
      },
      "source": [
        "df_train2[\"coverage\"] = df_train2.mask_array.map(np.sum) / (img_width * img_height)"
      ],
      "execution_count": 0,
      "outputs": []
    },
    {
      "cell_type": "code",
      "metadata": {
        "id": "X3cYYiElZnFZ",
        "colab_type": "code",
        "colab": {
          "base_uri": "https://localhost:8080/",
          "height": 230
        },
        "outputId": "f38405ba-8208-4ea3-a98b-1d9bd2f19e00"
      },
      "source": [
        "df_train2.coverage"
      ],
      "execution_count": 170,
      "outputs": [
        {
          "output_type": "execute_result",
          "data": {
            "text/plain": [
              "0       0.097316\n",
              "1       0.000000\n",
              "2       0.149287\n",
              "3       0.000000\n",
              "4       0.900088\n",
              "          ...   \n",
              "3595    0.034361\n",
              "3596    0.042100\n",
              "3597    0.013472\n",
              "3598    0.111062\n",
              "3599    0.057916\n",
              "Name: coverage, Length: 3600, dtype: float64"
            ]
          },
          "metadata": {
            "tags": []
          },
          "execution_count": 170
        }
      ]
    },
    {
      "cell_type": "code",
      "metadata": {
        "id": "oFAS9ycFZ94w",
        "colab_type": "code",
        "colab": {}
      },
      "source": [
        "df_train2[\"coverage_class\"] = df_train2.coverage.map(cov_to_class)"
      ],
      "execution_count": 0,
      "outputs": []
    },
    {
      "cell_type": "code",
      "metadata": {
        "id": "OzGjls_waBYr",
        "colab_type": "code",
        "colab": {
          "base_uri": "https://localhost:8080/",
          "height": 230
        },
        "outputId": "73d159b9-5b8c-4b53-b145-c3a4091bb286"
      },
      "source": [
        "df_train2[\"coverage_class\"]"
      ],
      "execution_count": 172,
      "outputs": [
        {
          "output_type": "execute_result",
          "data": {
            "text/plain": [
              "0        1\n",
              "1        0\n",
              "2        2\n",
              "3        0\n",
              "4       10\n",
              "        ..\n",
              "3595     1\n",
              "3596     1\n",
              "3597     1\n",
              "3598     2\n",
              "3599     1\n",
              "Name: coverage_class, Length: 3600, dtype: int64"
            ]
          },
          "metadata": {
            "tags": []
          },
          "execution_count": 172
        }
      ]
    },
    {
      "cell_type": "markdown",
      "metadata": {
        "id": "u4ZWp1gGfD53",
        "colab_type": "text"
      },
      "source": [
        "##U-Net-Modell ohne Data Augmentation (std)"
      ]
    },
    {
      "cell_type": "code",
      "metadata": {
        "id": "RFhZewC2V8DU",
        "colab_type": "code",
        "colab": {}
      },
      "source": [
        "# packages to define callbacks\n",
        "from keras.callbacks import EarlyStopping, ModelCheckpoint, ReduceLROnPlateau"
      ],
      "execution_count": 0,
      "outputs": []
    },
    {
      "cell_type": "code",
      "metadata": {
        "id": "SYy5wEXtSng-",
        "colab_type": "code",
        "colab": {}
      },
      "source": [
        "# EarlyStopping arguments\n",
        "# patience            number of epochs that produced the monitored quantity with\n",
        "#                     no improvement after which training will be stopped\n",
        "# verbose             0 = silent, 1 = progress bar, 2 = one line per epoch\n",
        "\n",
        "# ReduceLROnPlateau arguments\n",
        "# factor              factor by which the learning rate will be reduced\n",
        "#                     new_lr = lr * factor\n",
        "# patience            number of epochs that produced the monitored quantity with\n",
        "#                     no improvement after which training will be stopped\n",
        "# min_lr              lower bound on the learning rate\n",
        "# verbose             0 = silent, 1 = progress bar, 2 = one line per epoch\n",
        "\n",
        "# ModelCheckpoint arguments\n",
        "# filepath            path to save the model file\n",
        "# verbose             0 = silent, 1 = progress bar, 2 = one line per epoch\n",
        "# save_best_only      if save_best_only=True, the latest best model according \n",
        "#                     to the quantity monitored will not be overwritten\n",
        "# save_weights_only   if True, then only the model's weights will be saved\n",
        "\n",
        "filepath_std = 'model_std.h5'\n",
        "\n",
        "callbacks_std = [\n",
        "    EarlyStopping(\n",
        "        patience = 10, \n",
        "        verbose = 1),\n",
        "    ReduceLROnPlateau(\n",
        "        factor = 0.1, \n",
        "        patience = 3, \n",
        "        min_lr = 0.000001, \n",
        "        verbose = 1),\n",
        "    ModelCheckpoint(\n",
        "        filepath_std, \n",
        "        verbose=1, \n",
        "        save_best_only=True, \n",
        "        save_weights_only=True)\n",
        "]"
      ],
      "execution_count": 0,
      "outputs": []
    },
    {
      "cell_type": "code",
      "metadata": {
        "id": "avhrgGCxTQfu",
        "colab_type": "code",
        "outputId": "f7932669-9ebb-4e20-a01c-50cef56c89e1",
        "colab": {
          "base_uri": "https://localhost:8080/",
          "height": 1000
        }
      },
      "source": [
        "# fit arguments\n",
        "# x                 input data\n",
        "# y                 target data\n",
        "# batch_size        number of samples that will be propagated through the network\n",
        "#                   (take the first batch_size samples from the training set and\n",
        "#                   train the network, next, take the second batch_size_samples)\n",
        "# epochs            number of epochs to train the model(an epoch is an iteration\n",
        "#                   over the entire x and y data provided)\n",
        "# callbacks         list of Callback instances to applay during training and\n",
        "#                   validation\n",
        "# validation_data   data on which to evaluate the loss and any model metrics at \n",
        "#                   the end of each epoch\n",
        "\n",
        "# set parameter to fit model\n",
        "batch_size_std = 32\n",
        "epochs_std = 100\n",
        "\n",
        "# fit the model\n",
        "results_std = model_std.fit(\n",
        "    X_train, \n",
        "    y_train,\n",
        "    validation_split = \n",
        "    batch_size=batch_size_std, \n",
        "    epochs=epochs_std, \n",
        "    callbacks=callbacks_std,\n",
        "    validation_data=(X_valid, y_valid))"
      ],
      "execution_count": 270,
      "outputs": [
        {
          "output_type": "stream",
          "text": [
            "Train on 2800 samples, validate on 800 samples\n",
            "Epoch 1/100\n",
            "2800/2800 [==============================] - 26s 9ms/step - loss: 0.4253 - mean_iou: 0.4843 - val_loss: 2.2734 - val_mean_iou: 0.5533\n",
            "\n",
            "Epoch 00001: val_loss improved from inf to 2.27338, saving model to model_std.h5\n",
            "Epoch 2/100\n",
            "2800/2800 [==============================] - 10s 4ms/step - loss: 0.3080 - mean_iou: 0.5639 - val_loss: 0.7055 - val_mean_iou: 0.5925\n",
            "\n",
            "Epoch 00002: val_loss improved from 2.27338 to 0.70551, saving model to model_std.h5\n",
            "Epoch 3/100\n",
            "2800/2800 [==============================] - 10s 4ms/step - loss: 0.2747 - mean_iou: 0.6109 - val_loss: 0.8662 - val_mean_iou: 0.6245\n",
            "\n",
            "Epoch 00003: val_loss did not improve from 0.70551\n",
            "Epoch 4/100\n",
            "2800/2800 [==============================] - 10s 4ms/step - loss: 0.2637 - mean_iou: 0.6364 - val_loss: 0.3197 - val_mean_iou: 0.6468\n",
            "\n",
            "Epoch 00004: val_loss improved from 0.70551 to 0.31966, saving model to model_std.h5\n",
            "Epoch 5/100\n",
            "2800/2800 [==============================] - 10s 4ms/step - loss: 0.2450 - mean_iou: 0.6554 - val_loss: 0.3468 - val_mean_iou: 0.6625\n",
            "\n",
            "Epoch 00005: val_loss did not improve from 0.31966\n",
            "Epoch 6/100\n",
            "2800/2800 [==============================] - 10s 4ms/step - loss: 0.2245 - mean_iou: 0.6691 - val_loss: 0.2560 - val_mean_iou: 0.6755\n",
            "\n",
            "Epoch 00006: val_loss improved from 0.31966 to 0.25596, saving model to model_std.h5\n",
            "Epoch 7/100\n",
            "2800/2800 [==============================] - 10s 4ms/step - loss: 0.2143 - mean_iou: 0.6810 - val_loss: 0.2159 - val_mean_iou: 0.6862\n",
            "\n",
            "Epoch 00007: val_loss improved from 0.25596 to 0.21594, saving model to model_std.h5\n",
            "Epoch 8/100\n",
            "2800/2800 [==============================] - 10s 4ms/step - loss: 0.2175 - mean_iou: 0.6905 - val_loss: 0.2240 - val_mean_iou: 0.6943\n",
            "\n",
            "Epoch 00008: val_loss did not improve from 0.21594\n",
            "Epoch 9/100\n",
            "2800/2800 [==============================] - 10s 4ms/step - loss: 0.2063 - mean_iou: 0.6982 - val_loss: 0.2407 - val_mean_iou: 0.7017\n",
            "\n",
            "Epoch 00009: val_loss did not improve from 0.21594\n",
            "Epoch 10/100\n",
            "2800/2800 [==============================] - 10s 4ms/step - loss: 0.1951 - mean_iou: 0.7053 - val_loss: 0.2238 - val_mean_iou: 0.7089\n",
            "\n",
            "Epoch 00010: ReduceLROnPlateau reducing learning rate to 0.00010000000474974513.\n",
            "\n",
            "Epoch 00010: val_loss did not improve from 0.21594\n",
            "Epoch 11/100\n",
            "2656/2800 [===========================>..] - ETA: 0s - loss: 0.1659 - mean_iou: 0.7128"
          ],
          "name": "stdout"
        },
        {
          "output_type": "error",
          "ename": "KeyboardInterrupt",
          "evalue": "ignored",
          "traceback": [
            "\u001b[0;31m---------------------------------------------------------------------------\u001b[0m",
            "\u001b[0;31mKeyboardInterrupt\u001b[0m                         Traceback (most recent call last)",
            "\u001b[0;32m<ipython-input-270-d85fe78e45c3>\u001b[0m in \u001b[0;36m<module>\u001b[0;34m()\u001b[0m\n\u001b[1;32m      9\u001b[0m     \u001b[0mepochs\u001b[0m\u001b[0;34m=\u001b[0m\u001b[0mepochs_std\u001b[0m\u001b[0;34m,\u001b[0m\u001b[0;34m\u001b[0m\u001b[0;34m\u001b[0m\u001b[0m\n\u001b[1;32m     10\u001b[0m     \u001b[0mcallbacks\u001b[0m\u001b[0;34m=\u001b[0m\u001b[0mcallbacks_std\u001b[0m\u001b[0;34m,\u001b[0m\u001b[0;34m\u001b[0m\u001b[0;34m\u001b[0m\u001b[0m\n\u001b[0;32m---> 11\u001b[0;31m     validation_data=(X_valid, y_valid))\n\u001b[0m",
            "\u001b[0;32m/usr/local/lib/python3.6/dist-packages/keras/engine/training.py\u001b[0m in \u001b[0;36mfit\u001b[0;34m(self, x, y, batch_size, epochs, verbose, callbacks, validation_split, validation_data, shuffle, class_weight, sample_weight, initial_epoch, steps_per_epoch, validation_steps, validation_freq, max_queue_size, workers, use_multiprocessing, **kwargs)\u001b[0m\n\u001b[1;32m   1176\u001b[0m                                         \u001b[0msteps_per_epoch\u001b[0m\u001b[0;34m=\u001b[0m\u001b[0msteps_per_epoch\u001b[0m\u001b[0;34m,\u001b[0m\u001b[0;34m\u001b[0m\u001b[0;34m\u001b[0m\u001b[0m\n\u001b[1;32m   1177\u001b[0m                                         \u001b[0mvalidation_steps\u001b[0m\u001b[0;34m=\u001b[0m\u001b[0mvalidation_steps\u001b[0m\u001b[0;34m,\u001b[0m\u001b[0;34m\u001b[0m\u001b[0;34m\u001b[0m\u001b[0m\n\u001b[0;32m-> 1178\u001b[0;31m                                         validation_freq=validation_freq)\n\u001b[0m\u001b[1;32m   1179\u001b[0m \u001b[0;34m\u001b[0m\u001b[0m\n\u001b[1;32m   1180\u001b[0m     def evaluate(self,\n",
            "\u001b[0;32m/usr/local/lib/python3.6/dist-packages/keras/engine/training_arrays.py\u001b[0m in \u001b[0;36mfit_loop\u001b[0;34m(model, fit_function, fit_inputs, out_labels, batch_size, epochs, verbose, callbacks, val_function, val_inputs, shuffle, callback_metrics, initial_epoch, steps_per_epoch, validation_steps, validation_freq)\u001b[0m\n\u001b[1;32m    202\u001b[0m                     \u001b[0mins_batch\u001b[0m\u001b[0;34m[\u001b[0m\u001b[0mi\u001b[0m\u001b[0;34m]\u001b[0m \u001b[0;34m=\u001b[0m \u001b[0mins_batch\u001b[0m\u001b[0;34m[\u001b[0m\u001b[0mi\u001b[0m\u001b[0;34m]\u001b[0m\u001b[0;34m.\u001b[0m\u001b[0mtoarray\u001b[0m\u001b[0;34m(\u001b[0m\u001b[0;34m)\u001b[0m\u001b[0;34m\u001b[0m\u001b[0;34m\u001b[0m\u001b[0m\n\u001b[1;32m    203\u001b[0m \u001b[0;34m\u001b[0m\u001b[0m\n\u001b[0;32m--> 204\u001b[0;31m                 \u001b[0mouts\u001b[0m \u001b[0;34m=\u001b[0m \u001b[0mfit_function\u001b[0m\u001b[0;34m(\u001b[0m\u001b[0mins_batch\u001b[0m\u001b[0;34m)\u001b[0m\u001b[0;34m\u001b[0m\u001b[0;34m\u001b[0m\u001b[0m\n\u001b[0m\u001b[1;32m    205\u001b[0m                 \u001b[0mouts\u001b[0m \u001b[0;34m=\u001b[0m \u001b[0mto_list\u001b[0m\u001b[0;34m(\u001b[0m\u001b[0mouts\u001b[0m\u001b[0;34m)\u001b[0m\u001b[0;34m\u001b[0m\u001b[0;34m\u001b[0m\u001b[0m\n\u001b[1;32m    206\u001b[0m                 \u001b[0;32mfor\u001b[0m \u001b[0ml\u001b[0m\u001b[0;34m,\u001b[0m \u001b[0mo\u001b[0m \u001b[0;32min\u001b[0m \u001b[0mzip\u001b[0m\u001b[0;34m(\u001b[0m\u001b[0mout_labels\u001b[0m\u001b[0;34m,\u001b[0m \u001b[0mouts\u001b[0m\u001b[0;34m)\u001b[0m\u001b[0;34m:\u001b[0m\u001b[0;34m\u001b[0m\u001b[0;34m\u001b[0m\u001b[0m\n",
            "\u001b[0;32m/usr/local/lib/python3.6/dist-packages/keras/backend/tensorflow_backend.py\u001b[0m in \u001b[0;36m__call__\u001b[0;34m(self, inputs)\u001b[0m\n\u001b[1;32m   2977\u001b[0m                     \u001b[0;32mreturn\u001b[0m \u001b[0mself\u001b[0m\u001b[0;34m.\u001b[0m\u001b[0m_legacy_call\u001b[0m\u001b[0;34m(\u001b[0m\u001b[0minputs\u001b[0m\u001b[0;34m)\u001b[0m\u001b[0;34m\u001b[0m\u001b[0;34m\u001b[0m\u001b[0m\n\u001b[1;32m   2978\u001b[0m \u001b[0;34m\u001b[0m\u001b[0m\n\u001b[0;32m-> 2979\u001b[0;31m             \u001b[0;32mreturn\u001b[0m \u001b[0mself\u001b[0m\u001b[0;34m.\u001b[0m\u001b[0m_call\u001b[0m\u001b[0;34m(\u001b[0m\u001b[0minputs\u001b[0m\u001b[0;34m)\u001b[0m\u001b[0;34m\u001b[0m\u001b[0;34m\u001b[0m\u001b[0m\n\u001b[0m\u001b[1;32m   2980\u001b[0m         \u001b[0;32melse\u001b[0m\u001b[0;34m:\u001b[0m\u001b[0;34m\u001b[0m\u001b[0;34m\u001b[0m\u001b[0m\n\u001b[1;32m   2981\u001b[0m             \u001b[0;32mif\u001b[0m \u001b[0mpy_any\u001b[0m\u001b[0;34m(\u001b[0m\u001b[0mis_tensor\u001b[0m\u001b[0;34m(\u001b[0m\u001b[0mx\u001b[0m\u001b[0;34m)\u001b[0m \u001b[0;32mfor\u001b[0m \u001b[0mx\u001b[0m \u001b[0;32min\u001b[0m \u001b[0minputs\u001b[0m\u001b[0;34m)\u001b[0m\u001b[0;34m:\u001b[0m\u001b[0;34m\u001b[0m\u001b[0;34m\u001b[0m\u001b[0m\n",
            "\u001b[0;32m/usr/local/lib/python3.6/dist-packages/keras/backend/tensorflow_backend.py\u001b[0m in \u001b[0;36m_call\u001b[0;34m(self, inputs)\u001b[0m\n\u001b[1;32m   2935\u001b[0m             \u001b[0mfetched\u001b[0m \u001b[0;34m=\u001b[0m \u001b[0mself\u001b[0m\u001b[0;34m.\u001b[0m\u001b[0m_callable_fn\u001b[0m\u001b[0;34m(\u001b[0m\u001b[0;34m*\u001b[0m\u001b[0marray_vals\u001b[0m\u001b[0;34m,\u001b[0m \u001b[0mrun_metadata\u001b[0m\u001b[0;34m=\u001b[0m\u001b[0mself\u001b[0m\u001b[0;34m.\u001b[0m\u001b[0mrun_metadata\u001b[0m\u001b[0;34m)\u001b[0m\u001b[0;34m\u001b[0m\u001b[0;34m\u001b[0m\u001b[0m\n\u001b[1;32m   2936\u001b[0m         \u001b[0;32melse\u001b[0m\u001b[0;34m:\u001b[0m\u001b[0;34m\u001b[0m\u001b[0;34m\u001b[0m\u001b[0m\n\u001b[0;32m-> 2937\u001b[0;31m             \u001b[0mfetched\u001b[0m \u001b[0;34m=\u001b[0m \u001b[0mself\u001b[0m\u001b[0;34m.\u001b[0m\u001b[0m_callable_fn\u001b[0m\u001b[0;34m(\u001b[0m\u001b[0;34m*\u001b[0m\u001b[0marray_vals\u001b[0m\u001b[0;34m)\u001b[0m\u001b[0;34m\u001b[0m\u001b[0;34m\u001b[0m\u001b[0m\n\u001b[0m\u001b[1;32m   2938\u001b[0m         \u001b[0;32mreturn\u001b[0m \u001b[0mfetched\u001b[0m\u001b[0;34m[\u001b[0m\u001b[0;34m:\u001b[0m\u001b[0mlen\u001b[0m\u001b[0;34m(\u001b[0m\u001b[0mself\u001b[0m\u001b[0;34m.\u001b[0m\u001b[0moutputs\u001b[0m\u001b[0;34m)\u001b[0m\u001b[0;34m]\u001b[0m\u001b[0;34m\u001b[0m\u001b[0;34m\u001b[0m\u001b[0m\n\u001b[1;32m   2939\u001b[0m \u001b[0;34m\u001b[0m\u001b[0m\n",
            "\u001b[0;32m/usr/local/lib/python3.6/dist-packages/tensorflow_core/python/client/session.py\u001b[0m in \u001b[0;36m__call__\u001b[0;34m(self, *args, **kwargs)\u001b[0m\n\u001b[1;32m   1470\u001b[0m         ret = tf_session.TF_SessionRunCallable(self._session._session,\n\u001b[1;32m   1471\u001b[0m                                                \u001b[0mself\u001b[0m\u001b[0;34m.\u001b[0m\u001b[0m_handle\u001b[0m\u001b[0;34m,\u001b[0m \u001b[0margs\u001b[0m\u001b[0;34m,\u001b[0m\u001b[0;34m\u001b[0m\u001b[0;34m\u001b[0m\u001b[0m\n\u001b[0;32m-> 1472\u001b[0;31m                                                run_metadata_ptr)\n\u001b[0m\u001b[1;32m   1473\u001b[0m         \u001b[0;32mif\u001b[0m \u001b[0mrun_metadata\u001b[0m\u001b[0;34m:\u001b[0m\u001b[0;34m\u001b[0m\u001b[0;34m\u001b[0m\u001b[0m\n\u001b[1;32m   1474\u001b[0m           \u001b[0mproto_data\u001b[0m \u001b[0;34m=\u001b[0m \u001b[0mtf_session\u001b[0m\u001b[0;34m.\u001b[0m\u001b[0mTF_GetBuffer\u001b[0m\u001b[0;34m(\u001b[0m\u001b[0mrun_metadata_ptr\u001b[0m\u001b[0;34m)\u001b[0m\u001b[0;34m\u001b[0m\u001b[0;34m\u001b[0m\u001b[0m\n",
            "\u001b[0;31mKeyboardInterrupt\u001b[0m: "
          ]
        }
      ]
    },
    {
      "cell_type": "code",
      "metadata": {
        "id": "BZ4bHMTKbtbn",
        "colab_type": "code",
        "colab": {}
      },
      "source": [
        "plot_learning_curve(results_std)"
      ],
      "execution_count": 0,
      "outputs": []
    },
    {
      "cell_type": "markdown",
      "metadata": {
        "id": "5MP50uu8bUo9",
        "colab_type": "text"
      },
      "source": [
        "##U-Net-Modell ohne Data Augmentation und ohne Skip-Connections (std_no_skip)"
      ]
    },
    {
      "cell_type": "code",
      "metadata": {
        "id": "yhLCKEkYbhYR",
        "colab_type": "code",
        "colab": {}
      },
      "source": [
        "# EarlyStopping arguments\n",
        "# patience            number of epochs that produced the monitored quantity with\n",
        "#                     no improvement after which training will be stopped\n",
        "# verbose             0 = silent, 1 = progress bar, 2 = one line per epoch\n",
        "\n",
        "# ReduceLROnPlateau arguments\n",
        "# factor              factor by which the learning rate will be reduced\n",
        "#                     new_lr = lr * factor\n",
        "# patience            number of epochs that produced the monitored quantity with\n",
        "#                     no improvement after which training will be stopped\n",
        "# min_lr              lower bound on the learning rate\n",
        "# verbose             0 = silent, 1 = progress bar, 2 = one line per epoch\n",
        "\n",
        "# ModelCheckpoint arguments\n",
        "# filepath            path to save the model file\n",
        "# verbose             0 = silent, 1 = progress bar, 2 = one line per epoch\n",
        "# save_best_only      if save_best_only=True, the latest best model according \n",
        "#                     to the quantity monitored will not be overwritten\n",
        "# save_weights_only   if True, then only the model's weights will be saved\n",
        "\n",
        "# parameter to fit model\n",
        "filepath_std_no_skip = 'model_std_no_skip.h5'\n",
        "\n",
        "callbacks_std_no_skip = [\n",
        "    EarlyStopping(\n",
        "        patience = 10, \n",
        "        verbose = 1),\n",
        "    ReduceLROnPlateau(\n",
        "        factor = 0.1, \n",
        "        patience = 3, \n",
        "        min_lr = 0.000001, \n",
        "        verbose = 1),\n",
        "    ModelCheckpoint(\n",
        "        filepath_std_no_skip, \n",
        "        verbose = 1, \n",
        "        save_best_only = True, \n",
        "        save_weights_only = True)\n",
        "]"
      ],
      "execution_count": 0,
      "outputs": []
    },
    {
      "cell_type": "code",
      "metadata": {
        "id": "-_4-yS1Abo-j",
        "colab_type": "code",
        "colab": {}
      },
      "source": [
        "# fit arguments\n",
        "# x                 input data\n",
        "# y                 target data\n",
        "# batch_size        number of samples that will be propagated through the network\n",
        "#                   (take the first batch_size samples from the training set and\n",
        "#                   train the network, next, take the second batch_size_samples)\n",
        "# epochs            number of epochs to train the model(an epoch is an iteration\n",
        "#                   over the entire x and y data provided)\n",
        "# callbacks         list of Callback instances to applay during training and\n",
        "#                   validation\n",
        "# validation_data   data on which to evaluate the loss and any model metrics at \n",
        "#                   the end of each epoch\n",
        "\n",
        "# set parameter to fit model\n",
        "batch_size_std_no_skip = batch_size_std\n",
        "epochs_std_no_skip = epochs_std\n",
        "\n",
        "# fit the model\n",
        "results_std_no_skip = model_std_no_skip.fit(\n",
        "    X_train, \n",
        "    y_train, \n",
        "    batch_size=batch_size_std_no_skip, \n",
        "    epochs=epochs_std_no_skip, \n",
        "    callbacks=callbacks_std_no_skip,\n",
        "    validation_data=(X_valid, y_valid))"
      ],
      "execution_count": 0,
      "outputs": []
    },
    {
      "cell_type": "code",
      "metadata": {
        "id": "qC5IYIkAb9Z6",
        "colab_type": "code",
        "colab": {}
      },
      "source": [
        "plot_learning_curve(results_std_no_skip)"
      ],
      "execution_count": 0,
      "outputs": []
    },
    {
      "cell_type": "markdown",
      "metadata": {
        "id": "VtMZ_yB6fPGR",
        "colab_type": "text"
      },
      "source": [
        "##U-Net-Modell mit Data Augmentation (h-Flip)"
      ]
    },
    {
      "cell_type": "code",
      "metadata": {
        "id": "_zrjvys5g0vW",
        "colab_type": "code",
        "colab": {}
      },
      "source": [
        "# EarlyStopping arguments\n",
        "# patience            number of epochs that produced the monitored quantity with\n",
        "#                     no improvement after which training will be stopped\n",
        "# verbose             0 = silent, 1 = progress bar, 2 = one line per epoch\n",
        "\n",
        "# ReduceLROnPlateau arguments\n",
        "# factor              factor by which the learning rate will be reduced\n",
        "#                     new_lr = lr * factor\n",
        "# patience            number of epochs that produced the monitored quantity with\n",
        "#                     no improvement after which training will be stopped\n",
        "# min_lr              lower bound on the learning rate\n",
        "# verbose             0 = silent, 1 = progress bar, 2 = one line per epoch\n",
        "\n",
        "# ModelCheckpoint arguments\n",
        "# filepath            path to save the model file\n",
        "# verbose             0 = silent, 1 = progress bar, 2 = one line per epoch\n",
        "# save_best_only      if save_best_only=True, the latest best model according \n",
        "#                     to the quantity monitored will not be overwritten\n",
        "# save_weights_only   if True, then only the model's weights will be saved\n",
        "\n",
        "# set parameter to fit model\n",
        "filepath_h_flip = 'model_h_flip.h5'\n",
        "\n",
        "# fit the model\n",
        "callbacks_h_flip = [\n",
        "    EarlyStopping(\n",
        "        patience = 10, \n",
        "        verbose = 1),\n",
        "    ReduceLROnPlateau(\n",
        "        factor = 0.1, \n",
        "        patience = 3, \n",
        "        min_lr = 0.000001, \n",
        "        verbose = 1),\n",
        "    ModelCheckpoint(\n",
        "        filepath_h_flip, \n",
        "        verbose = 1, \n",
        "        save_best_only = True, \n",
        "        save_weights_only = True)\n",
        "]"
      ],
      "execution_count": 0,
      "outputs": []
    },
    {
      "cell_type": "code",
      "metadata": {
        "id": "lrwbWYoTinP0",
        "colab_type": "code",
        "colab": {}
      },
      "source": [
        "# set seed to be able to reproduce results\n",
        "seed_h_flip = 1234\n",
        "batch_size_h_flip = batch_size_std\n",
        "\n",
        "train_generator_h_flip = get_image_mask_generator(\n",
        "    X_train, \n",
        "    y_train, \n",
        "    do_horizontal_flip = True, \n",
        "    do_vertical_flip = False, \n",
        "    seed = seed_h_flip, \n",
        "    batch_size = batch_size_h_flip)"
      ],
      "execution_count": 0,
      "outputs": []
    },
    {
      "cell_type": "code",
      "metadata": {
        "id": "BDwnGIP4gDLW",
        "colab_type": "code",
        "colab": {}
      },
      "source": [
        "# fit_generator arguments\n",
        "# generator         train generator\n",
        "# steps_per_epoch   total number of steps (batches of samples) to yield from\n",
        "#                   generator before declaring one epoch finished and starting \n",
        "#                   the next epoch\n",
        "# epochs            number of epochs to train the model(an epoch is an iteration\n",
        "#                   over the entire x and y data provided)\n",
        "# callbacks         list of Callback instances to applay during training and\n",
        "#                   validation\n",
        "# validation_data   data on which to evaluate the loss and any model metrics at \n",
        "#                   the end of each epoch\n",
        "\n",
        "# set parameter to fit model\n",
        "steps_per_epoch_h_flip = (len(X_train) // batch_size_h_flip)\n",
        "epochs_h_flip = epochs_std\n",
        "\n",
        "# fit the model\n",
        "results_h_flip = model_h_flip.fit_generator(\n",
        "    train_generator_h_flip, \n",
        "    steps_per_epoch = steps_per_epoch_h_flip, \n",
        "    epochs = epochs_h_flip,\n",
        "    callbacks = callbacks_h_flip,\n",
        "    validation_data = (X_valid, y_valid))"
      ],
      "execution_count": 0,
      "outputs": []
    },
    {
      "cell_type": "code",
      "metadata": {
        "id": "hvhRvCQMjprY",
        "colab_type": "code",
        "colab": {}
      },
      "source": [
        "plot_learning_curve(results_h_flip)"
      ],
      "execution_count": 0,
      "outputs": []
    },
    {
      "cell_type": "markdown",
      "metadata": {
        "id": "lfsLe4tgqZeV",
        "colab_type": "text"
      },
      "source": [
        "##U-Net-Modell mit Data Augmentation (v-Flip)"
      ]
    },
    {
      "cell_type": "code",
      "metadata": {
        "id": "WGY9APlOwsET",
        "colab_type": "code",
        "colab": {}
      },
      "source": [
        "# EarlyStopping arguments\n",
        "# patience            number of epochs that produced the monitored quantity with\n",
        "#                     no improvement after which training will be stopped\n",
        "# verbose             0 = silent, 1 = progress bar, 2 = one line per epoch\n",
        "\n",
        "# ReduceLROnPlateau arguments\n",
        "# factor              factor by which the learning rate will be reduced\n",
        "#                     new_lr = lr * factor\n",
        "# patience            number of epochs that produced the monitored quantity with\n",
        "#                     no improvement after which training will be stopped\n",
        "# min_lr              lower bound on the learning rate\n",
        "# verbose             0 = silent, 1 = progress bar, 2 = one line per epoch\n",
        "\n",
        "# ModelCheckpoint arguments\n",
        "# filepath            path to save the model file\n",
        "# verbose             0 = silent, 1 = progress bar, 2 = one line per epoch\n",
        "# save_best_only      if save_best_only=True, the latest best model according \n",
        "#                     to the quantity monitored will not be overwritten\n",
        "# save_weights_only   if True, then only the model's weights will be saved\n",
        "\n",
        "filepath_v_flip = 'model_v_flip.h5'\n",
        "\n",
        "callbacks_v_flip = [\n",
        "    EarlyStopping(\n",
        "        patience = 10, \n",
        "        verbose = 1),\n",
        "    ReduceLROnPlateau(\n",
        "        factor = 0.1, \n",
        "        patience = 3, \n",
        "        min_lr = 0.000001, \n",
        "        verbose = 1),\n",
        "    ModelCheckpoint(\n",
        "        filepath_v_flip, \n",
        "        verbose = 1, \n",
        "        save_best_only = True, \n",
        "        save_weights_only = True)\n",
        "]"
      ],
      "execution_count": 0,
      "outputs": []
    },
    {
      "cell_type": "code",
      "metadata": {
        "id": "-U-EYggNw7cV",
        "colab_type": "code",
        "colab": {}
      },
      "source": [
        "# set parameter to fit model\n",
        "seed_v_flip = seed_h_flip\n",
        "batch_size_v_flip = batch_size_h_flip\n",
        "\n",
        "# fit the model\n",
        "train_generator_v_flip = get_image_mask_generator(\n",
        "    X_train, \n",
        "    y_train, \n",
        "    do_horizontal_flip = False, \n",
        "    do_vertical_flip = True, \n",
        "    seed = seed_v_flip, \n",
        "    batch_size = batch_size_v_flip)"
      ],
      "execution_count": 0,
      "outputs": []
    },
    {
      "cell_type": "code",
      "metadata": {
        "id": "C1ApFvwE24cL",
        "colab_type": "code",
        "colab": {}
      },
      "source": [
        "# fit_generator arguments\n",
        "# generator         train generator\n",
        "# steps_per_epoch   total number of steps (batches of samples) to yield from\n",
        "#                   generator before declaring one epoch finished and starting \n",
        "#                   the next epoch\n",
        "# epochs            number of epochs to train the model(an epoch is an iteration\n",
        "#                   over the entire x and y data provided)\n",
        "# callbacks         list of Callback instances to applay during training and\n",
        "#                   validation\n",
        "# validation_data   data on which to evaluate the loss and any model metrics at \n",
        "#                   the end of each epoch\n",
        "\n",
        "# set parameter to fit model\n",
        "steps_per_epoch_v_flip = (len(X_train) // batch_size_v_flip)\n",
        "epochs_v_flip = epochs_std\n",
        "\n",
        "# fit the model\n",
        "results_v_flip = model_v_flip.fit_generator(\n",
        "    train_generator_v_flip, \n",
        "    steps_per_epoch = steps_per_epoch_v_flip, \n",
        "    epochs = epochs_v_flip,\n",
        "    callbacks = callbacks_v_flip,\n",
        "    validation_data = (X_valid, y_valid))"
      ],
      "execution_count": 0,
      "outputs": []
    },
    {
      "cell_type": "code",
      "metadata": {
        "id": "QscYC1wB6IvE",
        "colab_type": "code",
        "colab": {}
      },
      "source": [
        "plot_learning_curve(results_v_flip)"
      ],
      "execution_count": 0,
      "outputs": []
    },
    {
      "cell_type": "markdown",
      "metadata": {
        "id": "yxo9jANEfS6q",
        "colab_type": "text"
      },
      "source": [
        "#Evaluation der U-Net-Modelle"
      ]
    },
    {
      "cell_type": "markdown",
      "metadata": {
        "id": "NBhRaLe8-nTW",
        "colab_type": "text"
      },
      "source": [
        "Die vier Modelle werden nun evaluiert.\n",
        "\n",
        "Das Vorgehen ist bei allen vier Modellen nahezu das selbe:\n",
        "- Evaluation (Trainings-, Validierungs- und Testdaten)\n",
        "- Optimierung des Thresholds für die binäre Vorhersage\n",
        "- Ausgabe einer zufälliger Vorhersage (Trainings-, Validierungs- und Testdaten)"
      ]
    },
    {
      "cell_type": "markdown",
      "metadata": {
        "id": "En5VBXBj34eS",
        "colab_type": "text"
      },
      "source": [
        "##Plot-Funktionen"
      ]
    },
    {
      "cell_type": "code",
      "metadata": {
        "id": "dmwaEUxbJRQw",
        "colab_type": "code",
        "colab": {}
      },
      "source": [
        "# package to generate random numbers\n",
        "import random"
      ],
      "execution_count": 0,
      "outputs": []
    },
    {
      "cell_type": "code",
      "metadata": {
        "id": "xTmJDEgRWklf",
        "colab_type": "code",
        "colab": {}
      },
      "source": [
        "# plot_prediction arguments\n",
        "# X               original image\n",
        "# y               original mask\n",
        "# preds           prediction\n",
        "# binary_preds    binary prediction\n",
        "# ix              number of image to plot\n",
        "\n",
        "def plot_prediction(X, y, preds, binary_preds, ix = None):\n",
        "    if ix is None:\n",
        "        ix = random.randint(0, len(X))\n",
        "\n",
        "    has_mask = y[ix].max() > 0\n",
        "\n",
        "    fig, ax = plt.subplots(1, 4, figsize=(20, 10))\n",
        "    fig.suptitle(\"\\n\".join([\"Sample no.: % 2d\" %(ix)]), y=0.75)\n",
        "\n",
        "    # input\n",
        "    ax[0].imshow(X[ix, ..., 0], cmap = 'gray')\n",
        "    ax[0].set_title('Input')\n",
        "\n",
        "    # ground truth\n",
        "    ax[1].imshow(y[ix].squeeze())\n",
        "    ax[1].set_title('Ground truth')\n",
        "\n",
        "    # predicted\n",
        "    ax[2].imshow(preds[ix].squeeze(), vmin=0, vmax=1)\n",
        "    if has_mask:\n",
        "        ax[2].contour(y[ix].squeeze(), colors='red', levels=[0.5])\n",
        "    ax[2].set_title('Predicted')\n",
        "    \n",
        "    # predicted binary\n",
        "    ax[3].imshow(binary_preds[ix].squeeze(), vmin=0, vmax=1)\n",
        "    if has_mask:\n",
        "        ax[3].contour(y[ix].squeeze(), colors='red', levels=[0.5])\n",
        "    ax[3].set_title('Predicted binary');"
      ],
      "execution_count": 0,
      "outputs": []
    },
    {
      "cell_type": "code",
      "metadata": {
        "id": "KGOh4dlcBTC4",
        "colab_type": "code",
        "colab": {}
      },
      "source": [
        "# plot_sample arguments\n",
        "# X               original image\n",
        "# y               original mask\n",
        "# preds           prediction\n",
        "# binary_preds    binary prediction\n",
        "# ix              number of image to plot\n",
        "\n",
        "def plot_thresholds(thresholds, threshold_best, ious, iou_best):\n",
        "    plt.plot(thresholds, ious)\n",
        "    plt.plot(threshold_best, iou_best, \"xr\", label=\"Best threshold\")\n",
        "    plt.xlabel(\"Threshold\")\n",
        "    plt.ylabel(\"IoU\")\n",
        "    plt.title(\"Threshold vs IoU ({}, {})\".format(threshold_best, iou_best))\n",
        "    plt.legend()"
      ],
      "execution_count": 0,
      "outputs": []
    },
    {
      "cell_type": "markdown",
      "metadata": {
        "id": "F5SLykviaPYq",
        "colab_type": "text"
      },
      "source": [
        "##Threshold-Optimierung"
      ]
    },
    {
      "cell_type": "code",
      "metadata": {
        "id": "BY_yxx155XuR",
        "colab_type": "code",
        "colab": {}
      },
      "source": [
        "from tqdm import tqdm_notebook"
      ],
      "execution_count": 0,
      "outputs": []
    },
    {
      "cell_type": "code",
      "metadata": {
        "id": "ERVA5KNF5ezR",
        "colab_type": "code",
        "colab": {}
      },
      "source": [
        "# src: https://www.kaggle.com/aglotero/another-iou-metric\n",
        "def iou_metric(y_true_in, y_pred_in, print_table=False):\n",
        "    labels = y_true_in\n",
        "    y_pred = y_pred_in\n",
        "    \n",
        "    true_objects = 2\n",
        "    pred_objects = 2\n",
        "\n",
        "    intersection = np.histogram2d(\n",
        "        labels.flatten(), \n",
        "        y_pred.flatten(), \n",
        "        bins = (true_objects, pred_objects))[0]\n",
        "\n",
        "    # compute areas (needed for finding the union between all objects)\n",
        "    area_true = np.histogram(labels, bins = true_objects)[0]\n",
        "    area_pred = np.histogram(y_pred, bins = pred_objects)[0]\n",
        "    area_true = np.expand_dims(area_true, -1)\n",
        "    area_pred = np.expand_dims(area_pred, 0)\n",
        "\n",
        "    # compute union\n",
        "    union = area_true + area_pred - intersection\n",
        "\n",
        "    # exclude background from the analysis\n",
        "    intersection = intersection[1:,1:]\n",
        "    union = union[1:,1:]\n",
        "    union[union == 0] = 1e-9\n",
        "\n",
        "    # compute the intersection over union\n",
        "    iou = intersection / union\n",
        "\n",
        "    # precision helper function\n",
        "    def precision_at(threshold, iou):\n",
        "        matches = iou > threshold\n",
        "        true_positives = np.sum(matches, axis=1) == 1   # Correct objects\n",
        "        false_positives = np.sum(matches, axis=0) == 0  # Missed objects\n",
        "        false_negatives = np.sum(matches, axis=1) == 0  # Extra objects\n",
        "        tp, fp, fn = np.sum(true_positives), np.sum(false_positives), np.sum(false_negatives)\n",
        "        return tp, fp, fn\n",
        "\n",
        "    # loop over IoU thresholds\n",
        "    prec = []\n",
        "    if print_table:\n",
        "        print(\"Thresh\\tTP\\tFP\\tFN\\tPrec.\")\n",
        "    for t in np.arange(0.5, 1.0, 0.05):\n",
        "        tp, fp, fn = precision_at(t, iou)\n",
        "        if (tp + fp + fn) > 0:\n",
        "            p = tp / (tp + fp + fn)\n",
        "        else:\n",
        "            p = 0\n",
        "        if print_table:\n",
        "            print(\"{:1.3f}\\t{}\\t{}\\t{}\\t{:1.3f}\".format(t, tp, fp, fn, p))\n",
        "        prec.append(p)\n",
        "    \n",
        "    if print_table:\n",
        "        print(\"AP\\t-\\t-\\t-\\t{:1.3f}\".format(np.mean(prec)))\n",
        "    return np.mean(prec)\n",
        "\n",
        "def iou_metric_batch(y_true_in, y_pred_in):\n",
        "    batch_size = y_true_in.shape[0]\n",
        "    metric = []\n",
        "    for batch in range(batch_size):\n",
        "        value = iou_metric(y_true_in[batch], y_pred_in[batch])\n",
        "        metric.append(value)\n",
        "    return np.mean(metric)"
      ],
      "execution_count": 0,
      "outputs": []
    },
    {
      "cell_type": "markdown",
      "metadata": {
        "id": "NngqRYDjV6bV",
        "colab_type": "text"
      },
      "source": [
        "##U-Net-Modell ohne Data Augmentation (std)"
      ]
    },
    {
      "cell_type": "markdown",
      "metadata": {
        "id": "cWnx6DI7-61u",
        "colab_type": "text"
      },
      "source": [
        "###Evaluation"
      ]
    },
    {
      "cell_type": "code",
      "metadata": {
        "id": "GfYL8krnWHll",
        "colab_type": "code",
        "colab": {}
      },
      "source": [
        "# load best model\n",
        "model_std.load_weights(filepath_std)"
      ],
      "execution_count": 0,
      "outputs": []
    },
    {
      "cell_type": "code",
      "metadata": {
        "id": "g6W9IzniJIR8",
        "colab_type": "code",
        "colab": {}
      },
      "source": [
        "# evaluate on train set\n",
        "model_std_eva_train = model_std.evaluate(X_train, y_train, verbose=1)"
      ],
      "execution_count": 0,
      "outputs": []
    },
    {
      "cell_type": "code",
      "metadata": {
        "id": "osfzvMWXWMZY",
        "colab_type": "code",
        "colab": {}
      },
      "source": [
        "# evaluate on validation set\n",
        "model_std_eva_valid = model_std.evaluate(X_valid, y_valid, verbose=1)"
      ],
      "execution_count": 0,
      "outputs": []
    },
    {
      "cell_type": "code",
      "metadata": {
        "id": "b3nTRM0UJOBP",
        "colab_type": "code",
        "colab": {}
      },
      "source": [
        "# evaluate on test set\n",
        "model_std_eva_test = model_std.evaluate(X_test, y_test, verbose=1)"
      ],
      "execution_count": 0,
      "outputs": []
    },
    {
      "cell_type": "code",
      "metadata": {
        "id": "mXHa81T7Wcmw",
        "colab_type": "code",
        "colab": {}
      },
      "source": [
        "# predict on train, val and test\n",
        "preds_train_std = model_std.predict(X_train, verbose=1)\n",
        "preds_val_std = model_std.predict(X_valid, verbose=1)\n",
        "preds_test_std = model_std.predict(X_test, verbose=1)"
      ],
      "execution_count": 0,
      "outputs": []
    },
    {
      "cell_type": "markdown",
      "metadata": {
        "id": "S-evIxqo--r9",
        "colab_type": "text"
      },
      "source": [
        "###Threshold-Optimierung"
      ]
    },
    {
      "cell_type": "code",
      "metadata": {
        "id": "_pDMYserCU27",
        "colab_type": "code",
        "colab": {}
      },
      "source": [
        "# set thresholds to test with predictions\n",
        "thresholds_std = np.linspace(0, 1 ,50)\n",
        "\n",
        "# calculate IoUs for each threshold\n",
        "ious_std = np.array(\n",
        "    [iou_metric_batch(y_valid, np.int32(preds_val_std > threshold)) \n",
        "    for threshold in tqdm_notebook(thresholds_std)])"
      ],
      "execution_count": 0,
      "outputs": []
    },
    {
      "cell_type": "code",
      "metadata": {
        "id": "nE0ZB0p6_5d3",
        "colab_type": "code",
        "colab": {}
      },
      "source": [
        "# get index ob best threshold\n",
        "threshold_best_index_std = np.argmax(ious_std[9:-10]) + 9\n",
        "\n",
        "# get best IoU from all calculated IoUs\n",
        "iou_best_std = ious_std[threshold_best_index_std]\n",
        "\n",
        "# get best value of threshold\n",
        "threshold_best_std = thresholds_std[threshold_best_index_std]"
      ],
      "execution_count": 0,
      "outputs": []
    },
    {
      "cell_type": "code",
      "metadata": {
        "id": "CBSO9q7oByT1",
        "colab_type": "code",
        "colab": {}
      },
      "source": [
        "plot_thresholds(thresholds_std, \n",
        "                threshold_best_std, \n",
        "                ious_std, iou_best_std)"
      ],
      "execution_count": 0,
      "outputs": []
    },
    {
      "cell_type": "code",
      "metadata": {
        "id": "fFuFc8zv_92X",
        "colab_type": "code",
        "colab": {}
      },
      "source": [
        "# get binary prediction with optimized thresholds\n",
        "preds_train_t_std = (preds_train_std > threshold_best_std).astype(np.uint8)\n",
        "preds_val_t_std = (preds_val_std > threshold_best_std).astype(np.uint8)\n",
        "preds_test_t_std = (preds_test_std > threshold_best_std).astype(np.uint8)"
      ],
      "execution_count": 0,
      "outputs": []
    },
    {
      "cell_type": "markdown",
      "metadata": {
        "id": "AWsVHnW5_GWj",
        "colab_type": "text"
      },
      "source": [
        "###Beispielhafte Ausgabe der Vorhersagen"
      ]
    },
    {
      "cell_type": "code",
      "metadata": {
        "id": "pIpbnk36Wna_",
        "colab_type": "code",
        "colab": {}
      },
      "source": [
        "# check if training data looks all right\n",
        "plot_prediction(X_train, y_train, preds_train_std, preds_train_t_std)"
      ],
      "execution_count": 0,
      "outputs": []
    },
    {
      "cell_type": "code",
      "metadata": {
        "id": "yY7FrACtWvYL",
        "colab_type": "code",
        "colab": {}
      },
      "source": [
        "# check if valid data looks all right\n",
        "plot_prediction(X_valid, y_valid, preds_val_std, preds_val_t_std)"
      ],
      "execution_count": 0,
      "outputs": []
    },
    {
      "cell_type": "code",
      "metadata": {
        "id": "jIw7QA7PnMrK",
        "colab_type": "code",
        "colab": {}
      },
      "source": [
        "# check if valid data looks all right\n",
        "plot_prediction(X_test, y_test, preds_test_std, preds_test_t_std)"
      ],
      "execution_count": 0,
      "outputs": []
    },
    {
      "cell_type": "markdown",
      "metadata": {
        "id": "uqYgF-BGdBXM",
        "colab_type": "text"
      },
      "source": [
        "##U-Net-Modell ohne Data Augmentation und ohne Skip-Connections (std_no_skip)"
      ]
    },
    {
      "cell_type": "markdown",
      "metadata": {
        "id": "7ATBboXt_lQw",
        "colab_type": "text"
      },
      "source": [
        "###Evaluation"
      ]
    },
    {
      "cell_type": "code",
      "metadata": {
        "id": "4ancWb_4dPXx",
        "colab_type": "code",
        "colab": {}
      },
      "source": [
        "# Load best model\n",
        "model_std_no_skip.load_weights(filepath_std_no_skip)"
      ],
      "execution_count": 0,
      "outputs": []
    },
    {
      "cell_type": "code",
      "metadata": {
        "id": "z2laMiKSdVA5",
        "colab_type": "code",
        "colab": {}
      },
      "source": [
        "# Evaluate on train set\n",
        "model_std_no_skip_eva_train = model_std_no_skip.evaluate(X_train, y_train, verbose=1)"
      ],
      "execution_count": 0,
      "outputs": []
    },
    {
      "cell_type": "code",
      "metadata": {
        "id": "MJOpzmimdWqV",
        "colab_type": "code",
        "colab": {}
      },
      "source": [
        "# Evaluate on validation set\n",
        "model_std_no_skip_eva_valid = model_std_no_skip.evaluate(X_valid, y_valid, verbose=1)"
      ],
      "execution_count": 0,
      "outputs": []
    },
    {
      "cell_type": "code",
      "metadata": {
        "id": "fAif4_7PdY-7",
        "colab_type": "code",
        "colab": {}
      },
      "source": [
        "# Evaluate on validation set\n",
        "model_std_no_skip_eva_test = model_std_no_skip.evaluate(X_test, y_test, verbose=1)"
      ],
      "execution_count": 0,
      "outputs": []
    },
    {
      "cell_type": "code",
      "metadata": {
        "id": "6boIfwCnda1C",
        "colab_type": "code",
        "colab": {}
      },
      "source": [
        "# Predict on train, val and test\n",
        "preds_train_std_no_skip = model_std_no_skip.predict(X_train, verbose=1)\n",
        "preds_val_std_no_skip = model_std_no_skip.predict(X_valid, verbose=1)\n",
        "preds_test_std_no_skip = model_std_no_skip.predict(X_test, verbose=1)"
      ],
      "execution_count": 0,
      "outputs": []
    },
    {
      "cell_type": "markdown",
      "metadata": {
        "id": "Mpvzd03D_oHM",
        "colab_type": "text"
      },
      "source": [
        "###Threshold-Optimierung"
      ]
    },
    {
      "cell_type": "code",
      "metadata": {
        "id": "UTZbuQDqddB1",
        "colab_type": "code",
        "colab": {}
      },
      "source": [
        "thresholds_std_no_skip = np.linspace(0, 1 ,50)\n",
        "\n",
        "ious_std_no_skip = np.array([iou_metric_batch(y_valid, np.int32(preds_val_std_no_skip > threshold)) for threshold in tqdm_notebook(thresholds_std_no_skip)])"
      ],
      "execution_count": 0,
      "outputs": []
    },
    {
      "cell_type": "code",
      "metadata": {
        "id": "8z9A3XG7dfyh",
        "colab_type": "code",
        "colab": {}
      },
      "source": [
        "threshold_best_index_std_no_skip = np.argmax(ious_std_no_skip[9:-10]) + 9\n",
        "iou_best_std_no_skip = ious_std_no_skip[threshold_best_index_std_no_skip]\n",
        "threshold_best_std_no_skip = thresholds_std_no_skip[threshold_best_index_std_no_skip]"
      ],
      "execution_count": 0,
      "outputs": []
    },
    {
      "cell_type": "code",
      "metadata": {
        "id": "RwTAPkv1djso",
        "colab_type": "code",
        "colab": {}
      },
      "source": [
        "plot_thresholds(thresholds_std_no_skip, threshold_best_std_no_skip, ious_std_no_skip, iou_best_std_no_skip)"
      ],
      "execution_count": 0,
      "outputs": []
    },
    {
      "cell_type": "code",
      "metadata": {
        "id": "wCr6aKHGdmJB",
        "colab_type": "code",
        "colab": {}
      },
      "source": [
        "# Threshold predictions\n",
        "preds_train_t_std_no_skip = (preds_train_std_no_skip > threshold_best_std_no_skip).astype(np.uint8)\n",
        "preds_val_t_std_no_skip = (preds_val_std_no_skip > threshold_best_std_no_skip).astype(np.uint8)\n",
        "preds_test_t_std_no_skip = (preds_test_std_no_skip > threshold_best_std_no_skip).astype(np.uint8)"
      ],
      "execution_count": 0,
      "outputs": []
    },
    {
      "cell_type": "markdown",
      "metadata": {
        "id": "fH3mwiVE_qPs",
        "colab_type": "text"
      },
      "source": [
        "###Beispielhafte Ausgabe der Vorhersagen"
      ]
    },
    {
      "cell_type": "code",
      "metadata": {
        "id": "DaEdH9h2dpOO",
        "colab_type": "code",
        "colab": {}
      },
      "source": [
        "# Check if training data looks all right\n",
        "plot_prediction(X_train, y_train, preds_train_std_no_skip, preds_train_t_std_no_skip)"
      ],
      "execution_count": 0,
      "outputs": []
    },
    {
      "cell_type": "code",
      "metadata": {
        "id": "qRIW4QdQdrgj",
        "colab_type": "code",
        "colab": {}
      },
      "source": [
        "# Check if valid data looks all right\n",
        "plot_prediction(X_valid, y_valid, preds_val_std_no_skip, preds_val_t_std_no_skip)"
      ],
      "execution_count": 0,
      "outputs": []
    },
    {
      "cell_type": "code",
      "metadata": {
        "id": "dFCQiZ6kdwZk",
        "colab_type": "code",
        "colab": {}
      },
      "source": [
        "# Check if valid data looks all right\n",
        "plot_prediction(X_test, y_test, preds_test_std_no_skip, preds_test_t_std_no_skip)"
      ],
      "execution_count": 0,
      "outputs": []
    },
    {
      "cell_type": "markdown",
      "metadata": {
        "id": "V8wZ0HeYWCl9",
        "colab_type": "text"
      },
      "source": [
        "##U-Net-Modell mit Data Augmentation (h-Flip)"
      ]
    },
    {
      "cell_type": "markdown",
      "metadata": {
        "id": "6_HH-eiD_y_o",
        "colab_type": "text"
      },
      "source": [
        "###Evaluation"
      ]
    },
    {
      "cell_type": "code",
      "metadata": {
        "id": "lkJZhdLkXDvX",
        "colab_type": "code",
        "colab": {}
      },
      "source": [
        "# Load best model\n",
        "model_h_flip.load_weights(filepath_h_flip)"
      ],
      "execution_count": 0,
      "outputs": []
    },
    {
      "cell_type": "code",
      "metadata": {
        "id": "eP_fT0xqV6Ov",
        "colab_type": "code",
        "colab": {}
      },
      "source": [
        "# Evaluate on validation set\n",
        "model_h_flip_eva_train = model_h_flip.evaluate(X_train, y_train, verbose=1)"
      ],
      "execution_count": 0,
      "outputs": []
    },
    {
      "cell_type": "code",
      "metadata": {
        "id": "xsHcdnsnHdWo",
        "colab_type": "code",
        "colab": {}
      },
      "source": [
        "# Evaluate on validation set\n",
        "model_h_flip_eva_valid = model_h_flip.evaluate(X_valid, y_valid, verbose=1)"
      ],
      "execution_count": 0,
      "outputs": []
    },
    {
      "cell_type": "code",
      "metadata": {
        "id": "76OhMZ0QHSUp",
        "colab_type": "code",
        "colab": {}
      },
      "source": [
        "# Evaluate on test set\n",
        "model_h_flip_eva_test = model_h_flip.evaluate(X_test, y_test, verbose=1)"
      ],
      "execution_count": 0,
      "outputs": []
    },
    {
      "cell_type": "code",
      "metadata": {
        "id": "Pun41BtJmE-8",
        "colab_type": "code",
        "colab": {}
      },
      "source": [
        "# Predict on train, val and test\n",
        "preds_train_h_flip = model_h_flip.predict(X_train, verbose=1)\n",
        "preds_val_h_flip = model_h_flip.predict(X_valid, verbose=1)\n",
        "preds_test_h_flip = model_h_flip.predict(X_test, verbose=1)"
      ],
      "execution_count": 0,
      "outputs": []
    },
    {
      "cell_type": "markdown",
      "metadata": {
        "id": "gu5PD6k9_wZ7",
        "colab_type": "text"
      },
      "source": [
        "###Threshold-Optimierung"
      ]
    },
    {
      "cell_type": "code",
      "metadata": {
        "id": "oOthvs83Cpzs",
        "colab_type": "code",
        "colab": {}
      },
      "source": [
        "thresholds_h_flip = np.linspace(0, 1 ,50)"
      ],
      "execution_count": 0,
      "outputs": []
    },
    {
      "cell_type": "code",
      "metadata": {
        "id": "q9jNDiObCvBq",
        "colab_type": "code",
        "colab": {}
      },
      "source": [
        "ious_h_flip = np.array([iou_metric_batch(y_valid, np.int32(preds_val_h_flip > threshold)) for threshold in tqdm_notebook(thresholds_h_flip)])\n",
        "threshold_best_index_h_flip = np.argmax(ious_h_flip[9:-10]) + 9\n",
        "iou_best_h_flip = ious_h_flip[threshold_best_index_h_flip]\n",
        "threshold_best_h_flip = thresholds_h_flip[threshold_best_index_h_flip]"
      ],
      "execution_count": 0,
      "outputs": []
    },
    {
      "cell_type": "code",
      "metadata": {
        "id": "WOcsjufoDg39",
        "colab_type": "code",
        "colab": {}
      },
      "source": [
        "plot_thresholds(thresholds_h_flip, threshold_best_h_flip, ious_h_flip, iou_best_h_flip)"
      ],
      "execution_count": 0,
      "outputs": []
    },
    {
      "cell_type": "code",
      "metadata": {
        "id": "4OuZZ40ACrh1",
        "colab_type": "code",
        "colab": {}
      },
      "source": [
        "# Threshold predictions\n",
        "preds_train_h_flip_t = (preds_train_h_flip > threshold_best_h_flip).astype(np.uint8)\n",
        "preds_val_h_flip_t = (preds_val_h_flip > threshold_best_h_flip).astype(np.uint8)\n",
        "preds_test_h_flip_t = (preds_test_h_flip > threshold_best_h_flip).astype(np.uint8)"
      ],
      "execution_count": 0,
      "outputs": []
    },
    {
      "cell_type": "markdown",
      "metadata": {
        "id": "Trv_l6HG_rhg",
        "colab_type": "text"
      },
      "source": [
        "###Beispielhafte Ausgabe der Vorhersagen"
      ]
    },
    {
      "cell_type": "code",
      "metadata": {
        "id": "nlskj3JLXnYq",
        "colab_type": "code",
        "colab": {}
      },
      "source": [
        "# Check if training data looks all right\n",
        "plot_prediction(X_train, y_train, preds_train_h_flip, preds_train_h_flip_t, ix = 683)"
      ],
      "execution_count": 0,
      "outputs": []
    },
    {
      "cell_type": "code",
      "metadata": {
        "id": "B3aZiGnHvSDH",
        "colab_type": "code",
        "colab": {}
      },
      "source": [
        "# Check if valid data looks all right\n",
        "plot_prediction(X_valid, y_valid, preds_val_h_flip, preds_val_h_flip_t, ix = 81)"
      ],
      "execution_count": 0,
      "outputs": []
    },
    {
      "cell_type": "code",
      "metadata": {
        "id": "GIA_KaOim-Zr",
        "colab_type": "code",
        "colab": {}
      },
      "source": [
        "# Check if test data looks all right\n",
        "plot_prediction(X_test, y_test, preds_test_h_flip, preds_test_h_flip_t, ix = 46)"
      ],
      "execution_count": 0,
      "outputs": []
    },
    {
      "cell_type": "markdown",
      "metadata": {
        "id": "iidiaxeeqhec",
        "colab_type": "text"
      },
      "source": [
        "##U-Net-Modell mit Data Augmentation (v-Flip)"
      ]
    },
    {
      "cell_type": "markdown",
      "metadata": {
        "id": "oFu9aMmW_z3_",
        "colab_type": "text"
      },
      "source": [
        "###Evaluation"
      ]
    },
    {
      "cell_type": "code",
      "metadata": {
        "id": "1QJrrZjC3UNZ",
        "colab_type": "code",
        "colab": {}
      },
      "source": [
        "# Load best model\n",
        "model_v_flip.load_weights(filepath_v_flip)"
      ],
      "execution_count": 0,
      "outputs": []
    },
    {
      "cell_type": "code",
      "metadata": {
        "id": "OhrGLUSZ3dNZ",
        "colab_type": "code",
        "colab": {}
      },
      "source": [
        "# Evaluate on validation set\n",
        "model_v_flip_eva_train = model_v_flip.evaluate(X_train, y_train, verbose=1)"
      ],
      "execution_count": 0,
      "outputs": []
    },
    {
      "cell_type": "code",
      "metadata": {
        "id": "QPo45uJ23gKy",
        "colab_type": "code",
        "colab": {}
      },
      "source": [
        "# Evaluate on validation set\n",
        "model_v_flip_eva_valid = model_v_flip.evaluate(X_valid, y_valid, verbose=1)"
      ],
      "execution_count": 0,
      "outputs": []
    },
    {
      "cell_type": "code",
      "metadata": {
        "id": "f3fjzXtP3hyj",
        "colab_type": "code",
        "colab": {}
      },
      "source": [
        "# Evaluate on test set\n",
        "model_v_flip_eva_test = model_v_flip.evaluate(X_test, y_test, verbose=1)"
      ],
      "execution_count": 0,
      "outputs": []
    },
    {
      "cell_type": "code",
      "metadata": {
        "id": "IHDR0tzu3jQ3",
        "colab_type": "code",
        "colab": {}
      },
      "source": [
        "# Predict on train, val and test\n",
        "preds_train_v_flip = model_v_flip.predict(X_train, verbose=1)\n",
        "preds_val_v_flip = model_v_flip.predict(X_valid, verbose=1)\n",
        "preds_test_v_flip = model_v_flip.predict(X_test, verbose=1)"
      ],
      "execution_count": 0,
      "outputs": []
    },
    {
      "cell_type": "markdown",
      "metadata": {
        "id": "ZUaCBXRU_vgB",
        "colab_type": "text"
      },
      "source": [
        "###Threshold-Optimierung"
      ]
    },
    {
      "cell_type": "code",
      "metadata": {
        "id": "xOQ6dIBJ3kmp",
        "colab_type": "code",
        "colab": {}
      },
      "source": [
        "thresholds_v_flip = np.linspace(0, 1 ,50)"
      ],
      "execution_count": 0,
      "outputs": []
    },
    {
      "cell_type": "code",
      "metadata": {
        "id": "VMbRQjSh3mPx",
        "colab_type": "code",
        "colab": {}
      },
      "source": [
        "ious_v_flip = np.array([iou_metric_batch(y_valid, np.int32(preds_val_v_flip > threshold)) for threshold in tqdm_notebook(thresholds_v_flip)])\n",
        "threshold_best_index_v_flip = np.argmax(ious_v_flip[9:-10]) + 9\n",
        "iou_best_v_flip = ious_v_flip[threshold_best_index_v_flip]\n",
        "threshold_best_v_flip = thresholds_v_flip[threshold_best_index_v_flip]"
      ],
      "execution_count": 0,
      "outputs": []
    },
    {
      "cell_type": "code",
      "metadata": {
        "id": "pueOYGAw3n6i",
        "colab_type": "code",
        "colab": {}
      },
      "source": [
        "# Threshold predictions\n",
        "preds_train_v_flip_t = (preds_train_v_flip > threshold_best_v_flip).astype(np.uint8)\n",
        "preds_val_v_flip_t = (preds_val_v_flip > threshold_best_v_flip).astype(np.uint8)\n",
        "preds_test_v_flip_t = (preds_test_v_flip > threshold_best_v_flip).astype(np.uint8)"
      ],
      "execution_count": 0,
      "outputs": []
    },
    {
      "cell_type": "markdown",
      "metadata": {
        "id": "QDpZO9iR_ssW",
        "colab_type": "text"
      },
      "source": [
        "###Beispielhafte Ausgabe der Vorhersagen"
      ]
    },
    {
      "cell_type": "code",
      "metadata": {
        "id": "sEtHP8H33p6X",
        "colab_type": "code",
        "colab": {}
      },
      "source": [
        "# Check if training data looks all right\n",
        "plot_prediction(X_train, y_train, preds_train_v_flip, preds_train_v_flip_t, ix = 683)"
      ],
      "execution_count": 0,
      "outputs": []
    },
    {
      "cell_type": "code",
      "metadata": {
        "id": "2dz4JdkH3rWG",
        "colab_type": "code",
        "colab": {}
      },
      "source": [
        "# Check if valid data looks all right\n",
        "plot_prediction(X_valid, y_valid, preds_val_v_flip, preds_val_v_flip_t, ix = 81)"
      ],
      "execution_count": 0,
      "outputs": []
    },
    {
      "cell_type": "code",
      "metadata": {
        "id": "tg3kTR283srO",
        "colab_type": "code",
        "colab": {}
      },
      "source": [
        "# Check if test data looks all right\n",
        "plot_prediction(X_test, y_test, preds_test_v_flip, preds_test_v_flip_t, ix = 46)"
      ],
      "execution_count": 0,
      "outputs": []
    },
    {
      "cell_type": "markdown",
      "metadata": {
        "id": "-yJHukv-4JkT",
        "colab_type": "text"
      },
      "source": [
        "##Vergleich der U-Net-Modelle"
      ]
    },
    {
      "cell_type": "markdown",
      "metadata": {
        "id": "bt4iELq9CnEo",
        "colab_type": "text"
      },
      "source": [
        "### Trainingsdaten"
      ]
    },
    {
      "cell_type": "code",
      "metadata": {
        "id": "6ae9rYqRLYAA",
        "colab_type": "code",
        "colab": {}
      },
      "source": [
        "pip install beautifultable"
      ],
      "execution_count": 0,
      "outputs": []
    },
    {
      "cell_type": "code",
      "metadata": {
        "id": "3LmMmzlBK_Vm",
        "colab_type": "code",
        "colab": {}
      },
      "source": [
        "from beautifultable import BeautifulTable"
      ],
      "execution_count": 0,
      "outputs": []
    },
    {
      "cell_type": "code",
      "metadata": {
        "id": "Z8o9lmPc4RzI",
        "colab_type": "code",
        "colab": {}
      },
      "source": [
        "table_train = BeautifulTable()\n",
        "table_train.column_headers = [\"U-Net-Model\", model_std.metrics_names[0], model_std.metrics_names[1]]\n",
        "table_train.append_row([\"std\", model_std_eva_train[0], model_std_eva_train[1]])\n",
        "table_train.append_row([\"std_no_skip\", model_std_no_skip_eva_train[0], model_std_no_skip_eva_train[1]])\n",
        "table_train.append_row([\"h-flip\", model_h_flip_eva_train[0], model_h_flip_eva_train[1]])\n",
        "table_train.append_row([\"v-flip\", model_v_flip_eva_train[0], model_v_flip_eva_train[1]])\n",
        "print(table_train)"
      ],
      "execution_count": 0,
      "outputs": []
    },
    {
      "cell_type": "markdown",
      "metadata": {
        "id": "czH5tlijCwiA",
        "colab_type": "text"
      },
      "source": [
        "###Validierungsdaten"
      ]
    },
    {
      "cell_type": "code",
      "metadata": {
        "id": "UnzgVYRc4Z6t",
        "colab_type": "code",
        "colab": {}
      },
      "source": [
        "table_valid = BeautifulTable()\n",
        "table_valid.column_headers = [\"U-Net-Model\", model_std.metrics_names[0], model_std.metrics_names[1]]\n",
        "table_valid.append_row([\"std\", model_std_eva_valid[0], model_std_eva_valid[1]])\n",
        "table_valid.append_row([\"std_no_skip\", model_std_no_skip_eva_valid[0], model_std_no_skip_eva_valid[1]])\n",
        "table_valid.append_row([\"h-flip\", model_h_flip_eva_valid[0], model_h_flip_eva_valid[1]])\n",
        "table_valid.append_row([\"v-flip\", model_v_flip_eva_valid[0], model_v_flip_eva_valid[1]])\n",
        "print(table_valid)"
      ],
      "execution_count": 0,
      "outputs": []
    },
    {
      "cell_type": "markdown",
      "metadata": {
        "id": "Y4WWWeyMC0TB",
        "colab_type": "text"
      },
      "source": [
        "###Testdaten"
      ]
    },
    {
      "cell_type": "code",
      "metadata": {
        "id": "5vUPlcg0La2Q",
        "colab_type": "code",
        "colab": {}
      },
      "source": [
        "table_test = BeautifulTable()\n",
        "table_test.column_headers = [\"U-Net-Model\", model_std.metrics_names[0], model_std.metrics_names[1]]\n",
        "table_test.append_row([\"std\", model_std_eva_test[0], model_std_eva_test[1]])\n",
        "table_test.append_row([\"std_no_skip\", model_std_no_skip_eva_test[0], model_std_no_skip_eva_test[1]])\n",
        "table_test.append_row([\"h-flip\", model_h_flip_eva_test[0], model_h_flip_eva_test[1]])\n",
        "table_test.append_row([\"v-flip\", model_v_flip_eva_test[0], model_v_flip_eva_test[1]])\n",
        "print(table_test)"
      ],
      "execution_count": 0,
      "outputs": []
    }
  ]
}