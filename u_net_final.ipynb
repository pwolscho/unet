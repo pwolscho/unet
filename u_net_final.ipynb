{
  "nbformat": 4,
  "nbformat_minor": 0,
  "metadata": {
    "colab": {
      "name": "u-net_final.ipynb",
      "provenance": [],
      "collapsed_sections": [],
      "toc_visible": true,
      "machine_shape": "hm",
      "include_colab_link": true
    },
    "kernelspec": {
      "name": "python3",
      "display_name": "Python 3"
    },
    "accelerator": "GPU",
    "widgets": {
      "application/vnd.jupyter.widget-state+json": {
        "25099c8ab7fd43d0b7a0b16f6b37fceb": {
          "model_module": "@jupyter-widgets/controls",
          "model_name": "HBoxModel",
          "state": {
            "_view_name": "HBoxView",
            "_dom_classes": [],
            "_model_name": "HBoxModel",
            "_view_module": "@jupyter-widgets/controls",
            "_model_module_version": "1.5.0",
            "_view_count": null,
            "_view_module_version": "1.5.0",
            "box_style": "",
            "layout": "IPY_MODEL_bfe64ca274fa4bd0b4f1b95789facaa6",
            "_model_module": "@jupyter-widgets/controls",
            "children": [
              "IPY_MODEL_9a0dbedab0d34580a3f4e6a8b5080f00",
              "IPY_MODEL_1d5cad96535d4474bc67cac873de7d4c"
            ]
          }
        },
        "bfe64ca274fa4bd0b4f1b95789facaa6": {
          "model_module": "@jupyter-widgets/base",
          "model_name": "LayoutModel",
          "state": {
            "_view_name": "LayoutView",
            "grid_template_rows": null,
            "right": null,
            "justify_content": null,
            "_view_module": "@jupyter-widgets/base",
            "overflow": null,
            "_model_module_version": "1.2.0",
            "_view_count": null,
            "flex_flow": null,
            "width": null,
            "min_width": null,
            "border": null,
            "align_items": null,
            "bottom": null,
            "_model_module": "@jupyter-widgets/base",
            "top": null,
            "grid_column": null,
            "overflow_y": null,
            "overflow_x": null,
            "grid_auto_flow": null,
            "grid_area": null,
            "grid_template_columns": null,
            "flex": null,
            "_model_name": "LayoutModel",
            "justify_items": null,
            "grid_row": null,
            "max_height": null,
            "align_content": null,
            "visibility": null,
            "align_self": null,
            "height": null,
            "min_height": null,
            "padding": null,
            "grid_auto_rows": null,
            "grid_gap": null,
            "max_width": null,
            "order": null,
            "_view_module_version": "1.2.0",
            "grid_template_areas": null,
            "object_position": null,
            "object_fit": null,
            "grid_auto_columns": null,
            "margin": null,
            "display": null,
            "left": null
          }
        },
        "9a0dbedab0d34580a3f4e6a8b5080f00": {
          "model_module": "@jupyter-widgets/controls",
          "model_name": "IntProgressModel",
          "state": {
            "_view_name": "ProgressView",
            "style": "IPY_MODEL_9fdcd5a7c6a94400a55457ffd6d53ebe",
            "_dom_classes": [],
            "description": "",
            "_model_name": "IntProgressModel",
            "bar_style": "success",
            "max": 50,
            "_view_module": "@jupyter-widgets/controls",
            "_model_module_version": "1.5.0",
            "value": 50,
            "_view_count": null,
            "_view_module_version": "1.5.0",
            "orientation": "horizontal",
            "min": 0,
            "description_tooltip": null,
            "_model_module": "@jupyter-widgets/controls",
            "layout": "IPY_MODEL_659b88b8e9d9428bb95c63dba1d7cde2"
          }
        },
        "1d5cad96535d4474bc67cac873de7d4c": {
          "model_module": "@jupyter-widgets/controls",
          "model_name": "HTMLModel",
          "state": {
            "_view_name": "HTMLView",
            "style": "IPY_MODEL_232f2893eb9b49558dcd596ebc555c77",
            "_dom_classes": [],
            "description": "",
            "_model_name": "HTMLModel",
            "placeholder": "​",
            "_view_module": "@jupyter-widgets/controls",
            "_model_module_version": "1.5.0",
            "value": "100% 50/50 [01:24&lt;00:00,  1.68s/it]",
            "_view_count": null,
            "_view_module_version": "1.5.0",
            "description_tooltip": null,
            "_model_module": "@jupyter-widgets/controls",
            "layout": "IPY_MODEL_0d261ddf565e48e585d0bea9bbb23c5a"
          }
        },
        "9fdcd5a7c6a94400a55457ffd6d53ebe": {
          "model_module": "@jupyter-widgets/controls",
          "model_name": "ProgressStyleModel",
          "state": {
            "_view_name": "StyleView",
            "_model_name": "ProgressStyleModel",
            "description_width": "",
            "_view_module": "@jupyter-widgets/base",
            "_model_module_version": "1.5.0",
            "_view_count": null,
            "_view_module_version": "1.2.0",
            "bar_color": null,
            "_model_module": "@jupyter-widgets/controls"
          }
        },
        "659b88b8e9d9428bb95c63dba1d7cde2": {
          "model_module": "@jupyter-widgets/base",
          "model_name": "LayoutModel",
          "state": {
            "_view_name": "LayoutView",
            "grid_template_rows": null,
            "right": null,
            "justify_content": null,
            "_view_module": "@jupyter-widgets/base",
            "overflow": null,
            "_model_module_version": "1.2.0",
            "_view_count": null,
            "flex_flow": null,
            "width": null,
            "min_width": null,
            "border": null,
            "align_items": null,
            "bottom": null,
            "_model_module": "@jupyter-widgets/base",
            "top": null,
            "grid_column": null,
            "overflow_y": null,
            "overflow_x": null,
            "grid_auto_flow": null,
            "grid_area": null,
            "grid_template_columns": null,
            "flex": null,
            "_model_name": "LayoutModel",
            "justify_items": null,
            "grid_row": null,
            "max_height": null,
            "align_content": null,
            "visibility": null,
            "align_self": null,
            "height": null,
            "min_height": null,
            "padding": null,
            "grid_auto_rows": null,
            "grid_gap": null,
            "max_width": null,
            "order": null,
            "_view_module_version": "1.2.0",
            "grid_template_areas": null,
            "object_position": null,
            "object_fit": null,
            "grid_auto_columns": null,
            "margin": null,
            "display": null,
            "left": null
          }
        },
        "232f2893eb9b49558dcd596ebc555c77": {
          "model_module": "@jupyter-widgets/controls",
          "model_name": "DescriptionStyleModel",
          "state": {
            "_view_name": "StyleView",
            "_model_name": "DescriptionStyleModel",
            "description_width": "",
            "_view_module": "@jupyter-widgets/base",
            "_model_module_version": "1.5.0",
            "_view_count": null,
            "_view_module_version": "1.2.0",
            "_model_module": "@jupyter-widgets/controls"
          }
        },
        "0d261ddf565e48e585d0bea9bbb23c5a": {
          "model_module": "@jupyter-widgets/base",
          "model_name": "LayoutModel",
          "state": {
            "_view_name": "LayoutView",
            "grid_template_rows": null,
            "right": null,
            "justify_content": null,
            "_view_module": "@jupyter-widgets/base",
            "overflow": null,
            "_model_module_version": "1.2.0",
            "_view_count": null,
            "flex_flow": null,
            "width": null,
            "min_width": null,
            "border": null,
            "align_items": null,
            "bottom": null,
            "_model_module": "@jupyter-widgets/base",
            "top": null,
            "grid_column": null,
            "overflow_y": null,
            "overflow_x": null,
            "grid_auto_flow": null,
            "grid_area": null,
            "grid_template_columns": null,
            "flex": null,
            "_model_name": "LayoutModel",
            "justify_items": null,
            "grid_row": null,
            "max_height": null,
            "align_content": null,
            "visibility": null,
            "align_self": null,
            "height": null,
            "min_height": null,
            "padding": null,
            "grid_auto_rows": null,
            "grid_gap": null,
            "max_width": null,
            "order": null,
            "_view_module_version": "1.2.0",
            "grid_template_areas": null,
            "object_position": null,
            "object_fit": null,
            "grid_auto_columns": null,
            "margin": null,
            "display": null,
            "left": null
          }
        },
        "ea149df321104ac8ad33d3a365025e45": {
          "model_module": "@jupyter-widgets/controls",
          "model_name": "HBoxModel",
          "state": {
            "_view_name": "HBoxView",
            "_dom_classes": [],
            "_model_name": "HBoxModel",
            "_view_module": "@jupyter-widgets/controls",
            "_model_module_version": "1.5.0",
            "_view_count": null,
            "_view_module_version": "1.5.0",
            "box_style": "",
            "layout": "IPY_MODEL_800e26ff340d4b108675f7e073e97a70",
            "_model_module": "@jupyter-widgets/controls",
            "children": [
              "IPY_MODEL_fc74d36ab2db44e7b315ed4c40c841b6",
              "IPY_MODEL_cf12a1d7c223464799ae1817b2bb6aa0"
            ]
          }
        },
        "800e26ff340d4b108675f7e073e97a70": {
          "model_module": "@jupyter-widgets/base",
          "model_name": "LayoutModel",
          "state": {
            "_view_name": "LayoutView",
            "grid_template_rows": null,
            "right": null,
            "justify_content": null,
            "_view_module": "@jupyter-widgets/base",
            "overflow": null,
            "_model_module_version": "1.2.0",
            "_view_count": null,
            "flex_flow": null,
            "width": null,
            "min_width": null,
            "border": null,
            "align_items": null,
            "bottom": null,
            "_model_module": "@jupyter-widgets/base",
            "top": null,
            "grid_column": null,
            "overflow_y": null,
            "overflow_x": null,
            "grid_auto_flow": null,
            "grid_area": null,
            "grid_template_columns": null,
            "flex": null,
            "_model_name": "LayoutModel",
            "justify_items": null,
            "grid_row": null,
            "max_height": null,
            "align_content": null,
            "visibility": null,
            "align_self": null,
            "height": null,
            "min_height": null,
            "padding": null,
            "grid_auto_rows": null,
            "grid_gap": null,
            "max_width": null,
            "order": null,
            "_view_module_version": "1.2.0",
            "grid_template_areas": null,
            "object_position": null,
            "object_fit": null,
            "grid_auto_columns": null,
            "margin": null,
            "display": null,
            "left": null
          }
        },
        "fc74d36ab2db44e7b315ed4c40c841b6": {
          "model_module": "@jupyter-widgets/controls",
          "model_name": "IntProgressModel",
          "state": {
            "_view_name": "ProgressView",
            "style": "IPY_MODEL_4b90104668ab438b9107ac93afd146cd",
            "_dom_classes": [],
            "description": "",
            "_model_name": "IntProgressModel",
            "bar_style": "success",
            "max": 50,
            "_view_module": "@jupyter-widgets/controls",
            "_model_module_version": "1.5.0",
            "value": 50,
            "_view_count": null,
            "_view_module_version": "1.5.0",
            "orientation": "horizontal",
            "min": 0,
            "description_tooltip": null,
            "_model_module": "@jupyter-widgets/controls",
            "layout": "IPY_MODEL_a8c9375233584c8e958f29d54411a988"
          }
        },
        "cf12a1d7c223464799ae1817b2bb6aa0": {
          "model_module": "@jupyter-widgets/controls",
          "model_name": "HTMLModel",
          "state": {
            "_view_name": "HTMLView",
            "style": "IPY_MODEL_d148e9b1f6c94b60b039ce687070c142",
            "_dom_classes": [],
            "description": "",
            "_model_name": "HTMLModel",
            "placeholder": "​",
            "_view_module": "@jupyter-widgets/controls",
            "_model_module_version": "1.5.0",
            "value": "100% 50/50 [01:24&lt;00:00,  1.68s/it]",
            "_view_count": null,
            "_view_module_version": "1.5.0",
            "description_tooltip": null,
            "_model_module": "@jupyter-widgets/controls",
            "layout": "IPY_MODEL_f09b62cab26045979673ac50eb1456e5"
          }
        },
        "4b90104668ab438b9107ac93afd146cd": {
          "model_module": "@jupyter-widgets/controls",
          "model_name": "ProgressStyleModel",
          "state": {
            "_view_name": "StyleView",
            "_model_name": "ProgressStyleModel",
            "description_width": "",
            "_view_module": "@jupyter-widgets/base",
            "_model_module_version": "1.5.0",
            "_view_count": null,
            "_view_module_version": "1.2.0",
            "bar_color": null,
            "_model_module": "@jupyter-widgets/controls"
          }
        },
        "a8c9375233584c8e958f29d54411a988": {
          "model_module": "@jupyter-widgets/base",
          "model_name": "LayoutModel",
          "state": {
            "_view_name": "LayoutView",
            "grid_template_rows": null,
            "right": null,
            "justify_content": null,
            "_view_module": "@jupyter-widgets/base",
            "overflow": null,
            "_model_module_version": "1.2.0",
            "_view_count": null,
            "flex_flow": null,
            "width": null,
            "min_width": null,
            "border": null,
            "align_items": null,
            "bottom": null,
            "_model_module": "@jupyter-widgets/base",
            "top": null,
            "grid_column": null,
            "overflow_y": null,
            "overflow_x": null,
            "grid_auto_flow": null,
            "grid_area": null,
            "grid_template_columns": null,
            "flex": null,
            "_model_name": "LayoutModel",
            "justify_items": null,
            "grid_row": null,
            "max_height": null,
            "align_content": null,
            "visibility": null,
            "align_self": null,
            "height": null,
            "min_height": null,
            "padding": null,
            "grid_auto_rows": null,
            "grid_gap": null,
            "max_width": null,
            "order": null,
            "_view_module_version": "1.2.0",
            "grid_template_areas": null,
            "object_position": null,
            "object_fit": null,
            "grid_auto_columns": null,
            "margin": null,
            "display": null,
            "left": null
          }
        },
        "d148e9b1f6c94b60b039ce687070c142": {
          "model_module": "@jupyter-widgets/controls",
          "model_name": "DescriptionStyleModel",
          "state": {
            "_view_name": "StyleView",
            "_model_name": "DescriptionStyleModel",
            "description_width": "",
            "_view_module": "@jupyter-widgets/base",
            "_model_module_version": "1.5.0",
            "_view_count": null,
            "_view_module_version": "1.2.0",
            "_model_module": "@jupyter-widgets/controls"
          }
        },
        "f09b62cab26045979673ac50eb1456e5": {
          "model_module": "@jupyter-widgets/base",
          "model_name": "LayoutModel",
          "state": {
            "_view_name": "LayoutView",
            "grid_template_rows": null,
            "right": null,
            "justify_content": null,
            "_view_module": "@jupyter-widgets/base",
            "overflow": null,
            "_model_module_version": "1.2.0",
            "_view_count": null,
            "flex_flow": null,
            "width": null,
            "min_width": null,
            "border": null,
            "align_items": null,
            "bottom": null,
            "_model_module": "@jupyter-widgets/base",
            "top": null,
            "grid_column": null,
            "overflow_y": null,
            "overflow_x": null,
            "grid_auto_flow": null,
            "grid_area": null,
            "grid_template_columns": null,
            "flex": null,
            "_model_name": "LayoutModel",
            "justify_items": null,
            "grid_row": null,
            "max_height": null,
            "align_content": null,
            "visibility": null,
            "align_self": null,
            "height": null,
            "min_height": null,
            "padding": null,
            "grid_auto_rows": null,
            "grid_gap": null,
            "max_width": null,
            "order": null,
            "_view_module_version": "1.2.0",
            "grid_template_areas": null,
            "object_position": null,
            "object_fit": null,
            "grid_auto_columns": null,
            "margin": null,
            "display": null,
            "left": null
          }
        },
        "815ad24510ee4d699221da889ab713e6": {
          "model_module": "@jupyter-widgets/controls",
          "model_name": "HBoxModel",
          "state": {
            "_view_name": "HBoxView",
            "_dom_classes": [],
            "_model_name": "HBoxModel",
            "_view_module": "@jupyter-widgets/controls",
            "_model_module_version": "1.5.0",
            "_view_count": null,
            "_view_module_version": "1.5.0",
            "box_style": "",
            "layout": "IPY_MODEL_f1814e6de4bb4841be1223e10a40ea7c",
            "_model_module": "@jupyter-widgets/controls",
            "children": [
              "IPY_MODEL_a528574692c04d608b733bc83efc47ae",
              "IPY_MODEL_577f115331c84276af046362329ac0c9"
            ]
          }
        },
        "f1814e6de4bb4841be1223e10a40ea7c": {
          "model_module": "@jupyter-widgets/base",
          "model_name": "LayoutModel",
          "state": {
            "_view_name": "LayoutView",
            "grid_template_rows": null,
            "right": null,
            "justify_content": null,
            "_view_module": "@jupyter-widgets/base",
            "overflow": null,
            "_model_module_version": "1.2.0",
            "_view_count": null,
            "flex_flow": null,
            "width": null,
            "min_width": null,
            "border": null,
            "align_items": null,
            "bottom": null,
            "_model_module": "@jupyter-widgets/base",
            "top": null,
            "grid_column": null,
            "overflow_y": null,
            "overflow_x": null,
            "grid_auto_flow": null,
            "grid_area": null,
            "grid_template_columns": null,
            "flex": null,
            "_model_name": "LayoutModel",
            "justify_items": null,
            "grid_row": null,
            "max_height": null,
            "align_content": null,
            "visibility": null,
            "align_self": null,
            "height": null,
            "min_height": null,
            "padding": null,
            "grid_auto_rows": null,
            "grid_gap": null,
            "max_width": null,
            "order": null,
            "_view_module_version": "1.2.0",
            "grid_template_areas": null,
            "object_position": null,
            "object_fit": null,
            "grid_auto_columns": null,
            "margin": null,
            "display": null,
            "left": null
          }
        },
        "a528574692c04d608b733bc83efc47ae": {
          "model_module": "@jupyter-widgets/controls",
          "model_name": "IntProgressModel",
          "state": {
            "_view_name": "ProgressView",
            "style": "IPY_MODEL_df7eefd405d54e9ba63173e617cb96c8",
            "_dom_classes": [],
            "description": "",
            "_model_name": "IntProgressModel",
            "bar_style": "success",
            "max": 50,
            "_view_module": "@jupyter-widgets/controls",
            "_model_module_version": "1.5.0",
            "value": 50,
            "_view_count": null,
            "_view_module_version": "1.5.0",
            "orientation": "horizontal",
            "min": 0,
            "description_tooltip": null,
            "_model_module": "@jupyter-widgets/controls",
            "layout": "IPY_MODEL_6b165fc348c34fedad66647df5c88b1a"
          }
        },
        "577f115331c84276af046362329ac0c9": {
          "model_module": "@jupyter-widgets/controls",
          "model_name": "HTMLModel",
          "state": {
            "_view_name": "HTMLView",
            "style": "IPY_MODEL_0873568082624f3281a943a156bdbf88",
            "_dom_classes": [],
            "description": "",
            "_model_name": "HTMLModel",
            "placeholder": "​",
            "_view_module": "@jupyter-widgets/controls",
            "_model_module_version": "1.5.0",
            "value": "100% 50/50 [01:25&lt;00:00,  1.69s/it]",
            "_view_count": null,
            "_view_module_version": "1.5.0",
            "description_tooltip": null,
            "_model_module": "@jupyter-widgets/controls",
            "layout": "IPY_MODEL_b2b8719970954f64b89e771975f99e46"
          }
        },
        "df7eefd405d54e9ba63173e617cb96c8": {
          "model_module": "@jupyter-widgets/controls",
          "model_name": "ProgressStyleModel",
          "state": {
            "_view_name": "StyleView",
            "_model_name": "ProgressStyleModel",
            "description_width": "",
            "_view_module": "@jupyter-widgets/base",
            "_model_module_version": "1.5.0",
            "_view_count": null,
            "_view_module_version": "1.2.0",
            "bar_color": null,
            "_model_module": "@jupyter-widgets/controls"
          }
        },
        "6b165fc348c34fedad66647df5c88b1a": {
          "model_module": "@jupyter-widgets/base",
          "model_name": "LayoutModel",
          "state": {
            "_view_name": "LayoutView",
            "grid_template_rows": null,
            "right": null,
            "justify_content": null,
            "_view_module": "@jupyter-widgets/base",
            "overflow": null,
            "_model_module_version": "1.2.0",
            "_view_count": null,
            "flex_flow": null,
            "width": null,
            "min_width": null,
            "border": null,
            "align_items": null,
            "bottom": null,
            "_model_module": "@jupyter-widgets/base",
            "top": null,
            "grid_column": null,
            "overflow_y": null,
            "overflow_x": null,
            "grid_auto_flow": null,
            "grid_area": null,
            "grid_template_columns": null,
            "flex": null,
            "_model_name": "LayoutModel",
            "justify_items": null,
            "grid_row": null,
            "max_height": null,
            "align_content": null,
            "visibility": null,
            "align_self": null,
            "height": null,
            "min_height": null,
            "padding": null,
            "grid_auto_rows": null,
            "grid_gap": null,
            "max_width": null,
            "order": null,
            "_view_module_version": "1.2.0",
            "grid_template_areas": null,
            "object_position": null,
            "object_fit": null,
            "grid_auto_columns": null,
            "margin": null,
            "display": null,
            "left": null
          }
        },
        "0873568082624f3281a943a156bdbf88": {
          "model_module": "@jupyter-widgets/controls",
          "model_name": "DescriptionStyleModel",
          "state": {
            "_view_name": "StyleView",
            "_model_name": "DescriptionStyleModel",
            "description_width": "",
            "_view_module": "@jupyter-widgets/base",
            "_model_module_version": "1.5.0",
            "_view_count": null,
            "_view_module_version": "1.2.0",
            "_model_module": "@jupyter-widgets/controls"
          }
        },
        "b2b8719970954f64b89e771975f99e46": {
          "model_module": "@jupyter-widgets/base",
          "model_name": "LayoutModel",
          "state": {
            "_view_name": "LayoutView",
            "grid_template_rows": null,
            "right": null,
            "justify_content": null,
            "_view_module": "@jupyter-widgets/base",
            "overflow": null,
            "_model_module_version": "1.2.0",
            "_view_count": null,
            "flex_flow": null,
            "width": null,
            "min_width": null,
            "border": null,
            "align_items": null,
            "bottom": null,
            "_model_module": "@jupyter-widgets/base",
            "top": null,
            "grid_column": null,
            "overflow_y": null,
            "overflow_x": null,
            "grid_auto_flow": null,
            "grid_area": null,
            "grid_template_columns": null,
            "flex": null,
            "_model_name": "LayoutModel",
            "justify_items": null,
            "grid_row": null,
            "max_height": null,
            "align_content": null,
            "visibility": null,
            "align_self": null,
            "height": null,
            "min_height": null,
            "padding": null,
            "grid_auto_rows": null,
            "grid_gap": null,
            "max_width": null,
            "order": null,
            "_view_module_version": "1.2.0",
            "grid_template_areas": null,
            "object_position": null,
            "object_fit": null,
            "grid_auto_columns": null,
            "margin": null,
            "display": null,
            "left": null
          }
        }
      }
    }
  },
  "cells": [
    {
      "cell_type": "markdown",
      "metadata": {
        "id": "view-in-github",
        "colab_type": "text"
      },
      "source": [
        "<a href=\"https://colab.research.google.com/github/pwolscho/unet/blob/master/u_net_final.ipynb\" target=\"_parent\"><img src=\"https://colab.research.google.com/assets/colab-badge.svg\" alt=\"Open In Colab\"/></a>"
      ]
    },
    {
      "cell_type": "markdown",
      "metadata": {
        "id": "FFQFIyC49ovP",
        "colab_type": "text"
      },
      "source": [
        "![U-Net Demonstration](https://drive.google.com/uc?id=1-kEr1EjJgpSjGCV1oFfYw_A2cnu5cNVI)"
      ]
    },
    {
      "cell_type": "markdown",
      "metadata": {
        "id": "8qEcw4b-9scd",
        "colab_type": "text"
      },
      "source": [
        "#Über dieses Notebook\n",
        "\n",
        "U-Net ist die bekannteste Architektur im Bereich der Semantischen Segmentierung (Anwendung: Segmentierung in Bildern). Im Rahmen des Kurses Seminat-Deep-Learning der Hochschule Offenburg zeigt dieses Notebook eine mögliche Implementierung von U-Net und demonstriert dessen Anwendung anhand eines Beispiel-Datensatzes."
      ]
    },
    {
      "cell_type": "markdown",
      "metadata": {
        "id": "eSPXy8dj9wWn",
        "colab_type": "text"
      },
      "source": [
        "Informationen zum Datensatz\n",
        "Mehrere Gebiete der Erde mit großen Öl- und Gasansammlungen haben auch riesige Salzlagerstätten unter der Oberfläche, d.h. dort wo Salz ist, wird vermutlich auch das wertvolle Öl zu finden sein.\n",
        "\n",
        "Professionelle seismische Messungen zum Auffinden der Salzlagerstätten erfordert immer noch eine fachkundige menschliche Interpretation der daraus resultierenden Bilddaten. Dies führt zu sehr subjektiven, sehr variablen Ergebnissen. Das führt zu potenziell gefährlichen Situationen für Bohrer von Öl- und Gasunternehmen.\n",
        "\n",
        "Um sehr präzise seismischen Bilder zu erstellen, hofft TGS-NOPEC Geophysical Systems (das weltweit führende Unternehmen für geophysikalische Dienste), dass die Online-Community von Kaggle in der Lage sein wird, einen Algorithmus zu entwickeln, der automatisch und genau erkennt, ob und Salz unter der Erdoberfläche zu finden ist oder nicht.\n",
        "\n",
        "Dazu wurde im Jahr 2018 eine Wettbewerb von Kaggle durchgeführt.\n",
        "\n",
        "Auf den diesem Notebook verwendete Datensatz kann nach wie vor unter https://www.kaggle.com/c/tgs-salt-identification-challenge/data zugegriffen werden.\n",
        "\n",
        "Die Daten sind eine Reihe von seismischen Bildern von zufällig ausgewählten Orten der Erde. Die Bilder sind 101 x 101 Pixel groß und jedes Pixel wird entweder als Salz oder als Sediment klassifiziert. Zusätzlich zu den seismischen Bildern wird für jedes Bild die Tiefe der aufgenommenen Position angegeben."
      ]
    },
    {
      "cell_type": "markdown",
      "metadata": {
        "id": "yIgHiwln90Ae",
        "colab_type": "text"
      },
      "source": [
        "##Gliederung des Notebooks\n",
        "\n",
        "Die durchgeführten Schritte gliedern sich chronologisch wie folgt:\n",
        "\n",
        "- Bereitstellung des Datensatzes\n",
        "  - Zugriff auf die Kaggle-API\n",
        "  - Download und Entpacken des Datensatzes\n",
        "  - Skalierung der Trainigsbilder und Masken\n",
        "- Definition des U-Net-Modells\n",
        "- Training des U-Net-Modells\n",
        "- Evaluierung des U-Net-Modells"
      ]
    },
    {
      "cell_type": "markdown",
      "metadata": {
        "id": "uxGgJfDq-Asl",
        "colab_type": "text"
      },
      "source": [
        "#Bereitstellung des Datensatzes"
      ]
    },
    {
      "cell_type": "markdown",
      "metadata": {
        "id": "yui9V0QF-JrF",
        "colab_type": "text"
      },
      "source": [
        "##Zugriff auf die Kaggle-API"
      ]
    },
    {
      "cell_type": "markdown",
      "metadata": {
        "id": "ohmdEiApCCi8",
        "colab_type": "text"
      },
      "source": [
        "Um auf den Datensatz von Kaggle zugreifen zu können, wird die Kaggle-API (https://www.kaggle.com/docs/api) und einen persönlichen API-Token benötigt. Der API-Token kann im persönlichen Account von Kaggle generiert werden. Um den manuellen Upload (files.upload()) zu umgehen wird der Inhalt des Tokens hartkodiert."
      ]
    },
    {
      "cell_type": "code",
      "metadata": {
        "id": "2jQBSN3A-T6p",
        "colab_type": "code",
        "colab": {}
      },
      "source": [
        "kaggle_json = '{\"username\":\"philipwolschon\",\"key\":\"715ad801ca6728d6730b7c276db32c6f\"}'"
      ],
      "execution_count": 0,
      "outputs": []
    },
    {
      "cell_type": "markdown",
      "metadata": {
        "id": "DrydH76eUWen",
        "colab_type": "text"
      },
      "source": [
        "Zunächst wird die leere Datei kaggle.json angelegt und mit dem Inhalt des kaggle_json-Objekts (API-Token) befüllt."
      ]
    },
    {
      "cell_type": "code",
      "metadata": {
        "id": "S7Mjv3wWUdtn",
        "colab_type": "code",
        "colab": {}
      },
      "source": [
        "import json"
      ],
      "execution_count": 0,
      "outputs": []
    },
    {
      "cell_type": "code",
      "metadata": {
        "id": "F9M9Kn5j-ef7",
        "colab_type": "code",
        "colab": {}
      },
      "source": [
        "with open('kaggle.json', 'w') as file:\n",
        "  json.dump(kaggle_json, file, ensure_ascii=False)\n",
        "\n",
        "with open('kaggle.json', 'w') as file:\n",
        "  file.write(kaggle_json)"
      ],
      "execution_count": 0,
      "outputs": []
    },
    {
      "cell_type": "markdown",
      "metadata": {
        "id": "PapXAXKx-jKk",
        "colab_type": "text"
      },
      "source": [
        "Außerdem erwartet die Kaggle-API, dass der API-Token in ~/.kaggle/ (/root/.kaggle/) zu finden ist. Daher wird das Verzeichnis \"kaggle\" erstellt und der API-Token dort hin verschoben."
      ]
    },
    {
      "cell_type": "code",
      "metadata": {
        "id": "6EYGLvVj_tPD",
        "colab_type": "code",
        "outputId": "b0ea661f-97a0-48c5-8920-03a6d3670960",
        "colab": {
          "base_uri": "https://localhost:8080/",
          "height": 204
        }
      },
      "source": [
        "!pip install kaggle #Zugriff auf den Datensatz von Kaggle"
      ],
      "execution_count": 4,
      "outputs": [
        {
          "output_type": "stream",
          "text": [
            "Requirement already satisfied: kaggle in /usr/local/lib/python3.6/dist-packages (1.5.6)\n",
            "Requirement already satisfied: python-slugify in /usr/local/lib/python3.6/dist-packages (from kaggle) (4.0.0)\n",
            "Requirement already satisfied: tqdm in /usr/local/lib/python3.6/dist-packages (from kaggle) (4.28.1)\n",
            "Requirement already satisfied: requests in /usr/local/lib/python3.6/dist-packages (from kaggle) (2.21.0)\n",
            "Requirement already satisfied: urllib3<1.25,>=1.21.1 in /usr/local/lib/python3.6/dist-packages (from kaggle) (1.24.3)\n",
            "Requirement already satisfied: six>=1.10 in /usr/local/lib/python3.6/dist-packages (from kaggle) (1.12.0)\n",
            "Requirement already satisfied: python-dateutil in /usr/local/lib/python3.6/dist-packages (from kaggle) (2.6.1)\n",
            "Requirement already satisfied: certifi in /usr/local/lib/python3.6/dist-packages (from kaggle) (2019.11.28)\n",
            "Requirement already satisfied: text-unidecode>=1.3 in /usr/local/lib/python3.6/dist-packages (from python-slugify->kaggle) (1.3)\n",
            "Requirement already satisfied: chardet<3.1.0,>=3.0.2 in /usr/local/lib/python3.6/dist-packages (from requests->kaggle) (3.0.4)\n",
            "Requirement already satisfied: idna<2.9,>=2.5 in /usr/local/lib/python3.6/dist-packages (from requests->kaggle) (2.8)\n"
          ],
          "name": "stdout"
        }
      ]
    },
    {
      "cell_type": "code",
      "metadata": {
        "id": "OR6M04-H-koH",
        "colab_type": "code",
        "colab": {}
      },
      "source": [
        "!mkdir -p ~/.kaggle #Den Ordner anlegen\n",
        "!mv kaggle.json ~/.kaggle/ #Den API-Token verschieben"
      ],
      "execution_count": 0,
      "outputs": []
    },
    {
      "cell_type": "markdown",
      "metadata": {
        "id": "eZfCvqSA-m3d",
        "colab_type": "text"
      },
      "source": [
        "Liefert folgende Funktion True zurück wurde die erforderliche Datei im korrekten Verzeichnis der VM erstellt (eine manuelle Prüfung ist nicht möglich, da der Zugriff auf das root-Verzeichnis der VM eingeschränkt ist)."
      ]
    },
    {
      "cell_type": "code",
      "metadata": {
        "id": "Kn-m7eGc_6L8",
        "colab_type": "code",
        "colab": {}
      },
      "source": [
        "import os"
      ],
      "execution_count": 0,
      "outputs": []
    },
    {
      "cell_type": "code",
      "metadata": {
        "id": "cKmGnsOs-o35",
        "colab_type": "code",
        "outputId": "01518772-a8ed-4a71-ad49-46627b36b7e8",
        "colab": {
          "base_uri": "https://localhost:8080/",
          "height": 34
        }
      },
      "source": [
        "os.path.isfile(\"/root/.kaggle/kaggle.json\")"
      ],
      "execution_count": 7,
      "outputs": [
        {
          "output_type": "execute_result",
          "data": {
            "text/plain": [
              "True"
            ]
          },
          "metadata": {
            "tags": []
          },
          "execution_count": 7
        }
      ]
    },
    {
      "cell_type": "markdown",
      "metadata": {
        "id": "ZBiyAPljADXh",
        "colab_type": "text"
      },
      "source": [
        "Um Warnungen beim Starten von Kaggle-Tools zu vermeiden werdem dem Besitzer der Datei Lese- und Schreibrechte gewährt."
      ]
    },
    {
      "cell_type": "code",
      "metadata": {
        "id": "Q_c6MOay-tN8",
        "colab_type": "code",
        "colab": {}
      },
      "source": [
        "!chmod 600 ~/.kaggle/kaggle.json"
      ],
      "execution_count": 0,
      "outputs": []
    },
    {
      "cell_type": "markdown",
      "metadata": {
        "id": "SCaQ55aB-w3d",
        "colab_type": "text"
      },
      "source": [
        "##Download und Entpacken des Datensatzes"
      ]
    },
    {
      "cell_type": "markdown",
      "metadata": {
        "id": "OMunXvfr-0-N",
        "colab_type": "text"
      },
      "source": [
        "Mit Hilfe der Kaggle-API kann nun das Datenset heruntergeladen werden."
      ]
    },
    {
      "cell_type": "code",
      "metadata": {
        "id": "SZgaWYXf-2-2",
        "colab_type": "code",
        "outputId": "3eb91250-03b3-4e50-aaa3-e3a4626d30a5",
        "colab": {
          "base_uri": "https://localhost:8080/",
          "height": 153
        }
      },
      "source": [
        "!kaggle competitions download -c tgs-salt-identification-challenge -p /content/salt_data"
      ],
      "execution_count": 9,
      "outputs": [
        {
          "output_type": "stream",
          "text": [
            "Warning: Looks like you're using an outdated API Version, please consider updating (server 1.5.6 / client 1.5.4)\n",
            "train.csv: Skipping, found more recently modified local copy (use --force to force download)\n",
            "train.zip: Skipping, found more recently modified local copy (use --force to force download)\n",
            "competition_data.zip: Skipping, found more recently modified local copy (use --force to force download)\n",
            "depths.csv: Skipping, found more recently modified local copy (use --force to force download)\n",
            "flamingo.zip: Skipping, found more recently modified local copy (use --force to force download)\n",
            "sample_submission.csv: Skipping, found more recently modified local copy (use --force to force download)\n",
            "test.zip: Skipping, found more recently modified local copy (use --force to force download)\n"
          ],
          "name": "stdout"
        }
      ]
    },
    {
      "cell_type": "markdown",
      "metadata": {
        "id": "vW-Nmajj-7pg",
        "colab_type": "text"
      },
      "source": [
        "Die Trainigsdaten sind komprimiert und müssen zunächst entpackt werden. Zu den Testdaten sind keine Masken vorhanden, weswegen diese nicht weiter verwendet werden."
      ]
    },
    {
      "cell_type": "code",
      "metadata": {
        "id": "dyb4fuijAKiV",
        "colab_type": "code",
        "colab": {}
      },
      "source": [
        "from zipfile import ZipFile"
      ],
      "execution_count": 0,
      "outputs": []
    },
    {
      "cell_type": "code",
      "metadata": {
        "id": "9Qy8k1Hb-9PI",
        "colab_type": "code",
        "colab": {}
      },
      "source": [
        "with ZipFile('/content/salt_data/train.zip', 'r') as zipObj:\n",
        "   zipObj.extractall('/content/salt_data/train')"
      ],
      "execution_count": 0,
      "outputs": []
    },
    {
      "cell_type": "code",
      "metadata": {
        "id": "miNQ9oFEFnQ-",
        "colab_type": "code",
        "colab": {}
      },
      "source": [
        "root_train_path = '/content/salt_data/train'"
      ],
      "execution_count": 0,
      "outputs": []
    },
    {
      "cell_type": "markdown",
      "metadata": {
        "id": "IVT8U09PCMCt",
        "colab_type": "text"
      },
      "source": [
        "##Skalierung der Trainigsbilder und Masken"
      ]
    },
    {
      "cell_type": "code",
      "metadata": {
        "id": "LR15Zje-E35Q",
        "colab_type": "code",
        "colab": {
          "base_uri": "https://localhost:8080/",
          "height": 80
        },
        "outputId": "2bb2f83d-41df-4ecb-be4f-7d81ccdf3dbd"
      },
      "source": [
        "import numpy as np\n",
        "from skimage.transform import resize\n",
        "from tqdm import tqdm\n",
        "from keras.preprocessing.image import img_to_array, load_img, array_to_img"
      ],
      "execution_count": 13,
      "outputs": [
        {
          "output_type": "stream",
          "text": [
            "Using TensorFlow backend.\n"
          ],
          "name": "stderr"
        },
        {
          "output_type": "display_data",
          "data": {
            "text/html": [
              "<p style=\"color: red;\">\n",
              "The default version of TensorFlow in Colab will soon switch to TensorFlow 2.x.<br>\n",
              "We recommend you <a href=\"https://www.tensorflow.org/guide/migrate\" target=\"_blank\">upgrade</a> now \n",
              "or ensure your notebook will continue to use TensorFlow 1.x via the <code>%tensorflow_version 1.x</code> magic:\n",
              "<a href=\"https://colab.research.google.com/notebooks/tensorflow_version.ipynb\" target=\"_blank\">more info</a>.</p>\n"
            ],
            "text/plain": [
              "<IPython.core.display.HTML object>"
            ]
          },
          "metadata": {
            "tags": []
          }
        }
      ]
    },
    {
      "cell_type": "code",
      "metadata": {
        "id": "198EKJwjCS6r",
        "colab_type": "code",
        "colab": {}
      },
      "source": [
        "def get_scaled_images_and_masks(root_train_path, new_img_width, new_img_height):\n",
        "    print('Getting and resizing images ...')\n",
        "\n",
        "    # size of the generated output image (rows, columns, dimension)\n",
        "    output_shape = (new_img_width, new_img_height, 1) \n",
        "\n",
        "    # get list of names of all input images from image path\n",
        "    ids = os.listdir(root_train_path + '/images')\n",
        "\n",
        "    # get new arrays of given shape and type, filled with zeros\n",
        "    X = np.zeros((len(ids), new_img_height, new_img_width, 1), dtype=np.float32)\n",
        "    y = np.zeros((len(ids), new_img_height, new_img_width, 1), dtype=np.float32)\n",
        "    \n",
        "    # iterate through all images and masks and do resize operations\n",
        "    for n, id_ in tqdm(enumerate(ids), total=len(ids)):\n",
        "\n",
        "        # loads images and masks into PIL format\n",
        "        imgs = load_img(root_train_path + '/images/' + id_, color_mode = \"grayscale\")\n",
        "        masks = load_img(root_train_path + '/masks/' + id_, color_mode = \"grayscale\")\n",
        "\n",
        "        # converts PIL images and masks instance to Numpy arrays\n",
        "        imgs_np = img_to_array(imgs)\n",
        "        masks_np = img_to_array(masks)\n",
        "\n",
        "        # resize images and masks to the output shape an keep the original\n",
        "        # range of values\n",
        "        imgs_np_rz = resize(imgs_np, output_shape, mode='constant', preserve_range=True)        \n",
        "        masks_np_rz = resize(masks_np, output_shape, mode='constant', preserve_range=True)\n",
        "\n",
        "        # divide rgb value by 255 to get floating point value\n",
        "        X[n, ..., 0] = imgs_np_rz.squeeze() / 255\n",
        "        y[n] = masks_np_rz / 255\n",
        "\n",
        "    print('Done!')    \n",
        "    \n",
        "    return X, y"
      ],
      "execution_count": 0,
      "outputs": []
    },
    {
      "cell_type": "code",
      "metadata": {
        "id": "VqKsfEPLokwt",
        "colab_type": "code",
        "colab": {}
      },
      "source": [
        "img_width = 128\n",
        "img_height = 128\n",
        "dimension = 1"
      ],
      "execution_count": 0,
      "outputs": []
    },
    {
      "cell_type": "code",
      "metadata": {
        "id": "nk0qfFKqls3C",
        "colab_type": "code",
        "outputId": "b51e8909-01f2-4060-d178-02fc933c917f",
        "colab": {
          "base_uri": "https://localhost:8080/",
          "height": 68
        }
      },
      "source": [
        "X, y = get_scaled_images_and_masks(root_train_path, img_width, img_height)"
      ],
      "execution_count": 16,
      "outputs": [
        {
          "output_type": "stream",
          "text": [
            "Getting and resizing images ...\n"
          ],
          "name": "stdout"
        },
        {
          "output_type": "stream",
          "text": [
            "100%|██████████| 4000/4000 [00:17<00:00, 227.93it/s]"
          ],
          "name": "stderr"
        },
        {
          "output_type": "stream",
          "text": [
            "Done!\n"
          ],
          "name": "stdout"
        },
        {
          "output_type": "stream",
          "text": [
            "\n"
          ],
          "name": "stderr"
        }
      ]
    },
    {
      "cell_type": "markdown",
      "metadata": {
        "id": "Ej9KG9XiI0Qe",
        "colab_type": "text"
      },
      "source": [
        "#Definition des U-Net-Netzwerks"
      ]
    },
    {
      "cell_type": "markdown",
      "metadata": {
        "id": "cjyi6QfGMHcA",
        "colab_type": "text"
      },
      "source": [
        "##Evaluierungsmetrik"
      ]
    },
    {
      "cell_type": "code",
      "metadata": {
        "id": "Isl8RQ7qNzLF",
        "colab_type": "code",
        "colab": {}
      },
      "source": [
        "import tensorflow as tf\n",
        "from keras import backend as K"
      ],
      "execution_count": 0,
      "outputs": []
    },
    {
      "cell_type": "code",
      "metadata": {
        "id": "Y19GI5KrMG0k",
        "colab_type": "code",
        "colab": {}
      },
      "source": [
        "def mean_iou(y_true, y_pred):\n",
        "    # list of precission values \n",
        "    prec = []\n",
        "\n",
        "    thresholds = np.arange(0.5, 1.0, 0.025)\n",
        "\n",
        "    for threshold in thresholds:\n",
        "        y_pred_ = tf.cast(y_pred > threshold, tf.int32)\n",
        "        #y_pred_ = tf.to_int32(y_pred > threshold)\n",
        "        score, up_opt = tf.metrics.mean_iou(y_true, y_pred_, 2)\n",
        "        K.get_session().run(tf.local_variables_initializer())\n",
        "\n",
        "        with tf.control_dependencies([up_opt]):\n",
        "            score = tf.identity(score)\n",
        "\n",
        "        prec.append(score)\n",
        "\n",
        "    return K.mean(K.stack(prec), axis=0)"
      ],
      "execution_count": 0,
      "outputs": []
    },
    {
      "cell_type": "markdown",
      "metadata": {
        "id": "O8lwsjrhP6La",
        "colab_type": "text"
      },
      "source": [
        "##Architektur"
      ]
    },
    {
      "cell_type": "code",
      "metadata": {
        "id": "7ghdbldwQ7_R",
        "colab_type": "code",
        "colab": {}
      },
      "source": [
        "from keras.models import Model, load_model\n",
        "from keras.layers import Input, BatchNormalization, Activation, Dense, Dropout\n",
        "from keras.layers.core import Lambda, RepeatVector, Reshape\n",
        "from keras.layers.convolutional import Conv2D, Conv2DTranspose\n",
        "from keras.layers.pooling import MaxPooling2D, GlobalMaxPool2D\n",
        "from keras.layers.merge import concatenate, add\n",
        "from keras.callbacks import EarlyStopping, ModelCheckpoint, ReduceLROnPlateau\n",
        "from keras.optimizers import Adam\n",
        "from keras.optimizers import Adam"
      ],
      "execution_count": 0,
      "outputs": []
    },
    {
      "cell_type": "code",
      "metadata": {
        "id": "gkfQjbs4aLrX",
        "colab_type": "code",
        "colab": {}
      },
      "source": [
        "def conv2d_block(input_img, n_filters, kernel_size=3, batchnorm=True):\n",
        "    # first layer\n",
        "    x = Conv2D(filters=n_filters, \n",
        "               kernel_size=(kernel_size, kernel_size), \n",
        "               kernel_initializer=\"he_normal\",\n",
        "               padding=\"same\")(input_img)\n",
        "    if batchnorm:\n",
        "        x = BatchNormalization()(x)\n",
        "    x = Activation(\"relu\")(x)\n",
        "\n",
        "    # second layer\n",
        "    x = Conv2D(filters=n_filters, \n",
        "               kernel_size=(kernel_size, kernel_size), \n",
        "               kernel_initializer=\"he_normal\",\n",
        "               padding=\"same\")(x)\n",
        "    if batchnorm:\n",
        "        x = BatchNormalization()(x)\n",
        "    x = Activation(\"relu\")(x)\n",
        "\n",
        "    return x"
      ],
      "execution_count": 0,
      "outputs": []
    },
    {
      "cell_type": "code",
      "metadata": {
        "id": "6ei16dfcI1mz",
        "colab_type": "code",
        "colab": {}
      },
      "source": [
        "def get_unet(input_img, n_filters=16, dropout=0.5, batchnorm=True):\n",
        "\n",
        "    # contracting path\n",
        "\n",
        "    # 128 -> 64\n",
        "    c1 = conv2d_block(input_img, n_filters=n_filters*1, kernel_size=3, batchnorm=batchnorm)\n",
        "    p1 = MaxPooling2D((2, 2)) (c1)\n",
        "    p1 = Dropout(dropout*0.5)(p1)\n",
        "\n",
        "    # 64 -> 32\n",
        "    c2 = conv2d_block(p1, n_filters=n_filters*2, kernel_size=3, batchnorm=batchnorm)\n",
        "    p2 = MaxPooling2D((2, 2)) (c2)\n",
        "    p2 = Dropout(dropout)(p2)\n",
        "\n",
        "    # 32 -> 16\n",
        "    c3 = conv2d_block(p2, n_filters=n_filters*4, kernel_size=3, batchnorm=batchnorm)\n",
        "    p3 = MaxPooling2D((2, 2)) (c3)\n",
        "    p3 = Dropout(dropout)(p3)\n",
        "\n",
        "    # 16 -> 8\n",
        "    c4 = conv2d_block(p3, n_filters=n_filters*8, kernel_size=3, batchnorm=batchnorm)\n",
        "    p4 = MaxPooling2D(pool_size=(2, 2)) (c4)\n",
        "    p4 = Dropout(dropout)(p4)\n",
        "    \n",
        "    # middle\n",
        "    c5 = conv2d_block(p4, n_filters=n_filters*16, kernel_size=3, batchnorm=batchnorm)\n",
        "    \n",
        "    # expansive path\n",
        "\n",
        "    # 8 -> 16\n",
        "    u6 = Conv2DTranspose(n_filters*8, (3, 3), strides=(2, 2), padding='same') (c5)\n",
        "    u6 = concatenate([u6, c4])\n",
        "    u6 = Dropout(dropout)(u6)\n",
        "    c6 = conv2d_block(u6, n_filters=n_filters*8, kernel_size=3, batchnorm=batchnorm)\n",
        "\n",
        "    # 16 -> 32\n",
        "    u7 = Conv2DTranspose(n_filters*4, (3, 3), strides=(2, 2), padding='same') (c6)\n",
        "    u7 = concatenate([u7, c3])\n",
        "    u7 = Dropout(dropout)(u7)\n",
        "    c7 = conv2d_block(u7, n_filters=n_filters*4, kernel_size=3, batchnorm=batchnorm)\n",
        "\n",
        "    # 32 -> 64\n",
        "    u8 = Conv2DTranspose(n_filters*2, (3, 3), strides=(2, 2), padding='same') (c7)\n",
        "    u8 = concatenate([u8, c2])\n",
        "    u8 = Dropout(dropout)(u8)\n",
        "    c8 = conv2d_block(u8, n_filters=n_filters*2, kernel_size=3, batchnorm=batchnorm)\n",
        "\n",
        "    # 64 -> 128\n",
        "    u9 = Conv2DTranspose(n_filters*1, (3, 3), strides=(2, 2), padding='same') (c8)\n",
        "    u9 = concatenate([u9, c1], axis=3)\n",
        "    u9 = Dropout(dropout)(u9)\n",
        "    c9 = conv2d_block(u9, n_filters=n_filters*1, kernel_size=3, batchnorm=batchnorm)\n",
        "    \n",
        "    outputs = Conv2D(1, (1, 1), activation='sigmoid') (c9)\n",
        "\n",
        "    model = Model(inputs=[input_img], outputs=[outputs])\n",
        "    return model"
      ],
      "execution_count": 0,
      "outputs": []
    },
    {
      "cell_type": "code",
      "metadata": {
        "id": "39PLKoXyQuGi",
        "colab_type": "code",
        "outputId": "3d871f5d-cfd7-48dd-aeed-dff81eefd441",
        "colab": {
          "base_uri": "https://localhost:8080/",
          "height": 1000
        }
      },
      "source": [
        "input_img = Input((128, 128, 1), name='img')\n",
        "\n",
        "model_std = get_unet(input_img, n_filters=16, dropout=0.05, batchnorm=True)\n",
        "model_h_flip = get_unet(input_img, n_filters=16, dropout=0.05, batchnorm=True)\n",
        "model_v_flip = get_unet(input_img, n_filters=16, dropout=0.05, batchnorm=True)\n",
        "\n",
        "model_std.compile(optimizer=Adam(), loss=\"binary_crossentropy\", metrics=[mean_iou])\n",
        "model_h_flip.compile(optimizer=Adam(), loss=\"binary_crossentropy\", metrics=[mean_iou])\n",
        "model_v_flip.compile(optimizer=Adam(), loss=\"binary_crossentropy\", metrics=[mean_iou])\n",
        "\n",
        "model_std.summary()"
      ],
      "execution_count": 22,
      "outputs": [
        {
          "output_type": "stream",
          "text": [
            "WARNING:tensorflow:From /usr/local/lib/python3.6/dist-packages/keras/backend/tensorflow_backend.py:541: The name tf.placeholder is deprecated. Please use tf.compat.v1.placeholder instead.\n",
            "\n",
            "WARNING:tensorflow:From /usr/local/lib/python3.6/dist-packages/keras/backend/tensorflow_backend.py:66: The name tf.get_default_graph is deprecated. Please use tf.compat.v1.get_default_graph instead.\n",
            "\n",
            "WARNING:tensorflow:From /usr/local/lib/python3.6/dist-packages/keras/backend/tensorflow_backend.py:4479: The name tf.truncated_normal is deprecated. Please use tf.random.truncated_normal instead.\n",
            "\n",
            "WARNING:tensorflow:From /usr/local/lib/python3.6/dist-packages/keras/backend/tensorflow_backend.py:190: The name tf.get_default_session is deprecated. Please use tf.compat.v1.get_default_session instead.\n",
            "\n",
            "WARNING:tensorflow:From /usr/local/lib/python3.6/dist-packages/keras/backend/tensorflow_backend.py:197: The name tf.ConfigProto is deprecated. Please use tf.compat.v1.ConfigProto instead.\n",
            "\n",
            "WARNING:tensorflow:From /usr/local/lib/python3.6/dist-packages/keras/backend/tensorflow_backend.py:203: The name tf.Session is deprecated. Please use tf.compat.v1.Session instead.\n",
            "\n",
            "WARNING:tensorflow:From /usr/local/lib/python3.6/dist-packages/keras/backend/tensorflow_backend.py:207: The name tf.global_variables is deprecated. Please use tf.compat.v1.global_variables instead.\n",
            "\n",
            "WARNING:tensorflow:From /usr/local/lib/python3.6/dist-packages/keras/backend/tensorflow_backend.py:216: The name tf.is_variable_initialized is deprecated. Please use tf.compat.v1.is_variable_initialized instead.\n",
            "\n",
            "WARNING:tensorflow:From /usr/local/lib/python3.6/dist-packages/keras/backend/tensorflow_backend.py:223: The name tf.variables_initializer is deprecated. Please use tf.compat.v1.variables_initializer instead.\n",
            "\n",
            "WARNING:tensorflow:From /usr/local/lib/python3.6/dist-packages/keras/backend/tensorflow_backend.py:2041: The name tf.nn.fused_batch_norm is deprecated. Please use tf.compat.v1.nn.fused_batch_norm instead.\n",
            "\n",
            "WARNING:tensorflow:From /usr/local/lib/python3.6/dist-packages/keras/backend/tensorflow_backend.py:148: The name tf.placeholder_with_default is deprecated. Please use tf.compat.v1.placeholder_with_default instead.\n",
            "\n",
            "WARNING:tensorflow:From /usr/local/lib/python3.6/dist-packages/keras/backend/tensorflow_backend.py:4267: The name tf.nn.max_pool is deprecated. Please use tf.nn.max_pool2d instead.\n",
            "\n",
            "WARNING:tensorflow:From /usr/local/lib/python3.6/dist-packages/keras/backend/tensorflow_backend.py:3733: calling dropout (from tensorflow.python.ops.nn_ops) with keep_prob is deprecated and will be removed in a future version.\n",
            "Instructions for updating:\n",
            "Please use `rate` instead of `keep_prob`. Rate should be set to `rate = 1 - keep_prob`.\n",
            "WARNING:tensorflow:From /usr/local/lib/python3.6/dist-packages/keras/backend/tensorflow_backend.py:4432: The name tf.random_uniform is deprecated. Please use tf.random.uniform instead.\n",
            "\n",
            "WARNING:tensorflow:From /usr/local/lib/python3.6/dist-packages/keras/optimizers.py:793: The name tf.train.Optimizer is deprecated. Please use tf.compat.v1.train.Optimizer instead.\n",
            "\n",
            "WARNING:tensorflow:From /usr/local/lib/python3.6/dist-packages/keras/backend/tensorflow_backend.py:3657: The name tf.log is deprecated. Please use tf.math.log instead.\n",
            "\n",
            "WARNING:tensorflow:From /usr/local/lib/python3.6/dist-packages/tensorflow_core/python/ops/nn_impl.py:183: where (from tensorflow.python.ops.array_ops) is deprecated and will be removed in a future version.\n",
            "Instructions for updating:\n",
            "Use tf.where in 2.0, which has the same broadcast rule as np.where\n",
            "WARNING:tensorflow:From /usr/local/lib/python3.6/dist-packages/tensorflow_core/python/ops/metrics_impl.py:1178: div (from tensorflow.python.ops.math_ops) is deprecated and will be removed in a future version.\n",
            "Instructions for updating:\n",
            "Deprecated in favor of operator or tf.math.divide.\n",
            "Model: \"model_1\"\n",
            "__________________________________________________________________________________________________\n",
            "Layer (type)                    Output Shape         Param #     Connected to                     \n",
            "==================================================================================================\n",
            "img (InputLayer)                (None, 128, 128, 1)  0                                            \n",
            "__________________________________________________________________________________________________\n",
            "conv2d_1 (Conv2D)               (None, 128, 128, 16) 160         img[0][0]                        \n",
            "__________________________________________________________________________________________________\n",
            "batch_normalization_1 (BatchNor (None, 128, 128, 16) 64          conv2d_1[0][0]                   \n",
            "__________________________________________________________________________________________________\n",
            "activation_1 (Activation)       (None, 128, 128, 16) 0           batch_normalization_1[0][0]      \n",
            "__________________________________________________________________________________________________\n",
            "conv2d_2 (Conv2D)               (None, 128, 128, 16) 2320        activation_1[0][0]               \n",
            "__________________________________________________________________________________________________\n",
            "batch_normalization_2 (BatchNor (None, 128, 128, 16) 64          conv2d_2[0][0]                   \n",
            "__________________________________________________________________________________________________\n",
            "activation_2 (Activation)       (None, 128, 128, 16) 0           batch_normalization_2[0][0]      \n",
            "__________________________________________________________________________________________________\n",
            "max_pooling2d_1 (MaxPooling2D)  (None, 64, 64, 16)   0           activation_2[0][0]               \n",
            "__________________________________________________________________________________________________\n",
            "dropout_1 (Dropout)             (None, 64, 64, 16)   0           max_pooling2d_1[0][0]            \n",
            "__________________________________________________________________________________________________\n",
            "conv2d_3 (Conv2D)               (None, 64, 64, 32)   4640        dropout_1[0][0]                  \n",
            "__________________________________________________________________________________________________\n",
            "batch_normalization_3 (BatchNor (None, 64, 64, 32)   128         conv2d_3[0][0]                   \n",
            "__________________________________________________________________________________________________\n",
            "activation_3 (Activation)       (None, 64, 64, 32)   0           batch_normalization_3[0][0]      \n",
            "__________________________________________________________________________________________________\n",
            "conv2d_4 (Conv2D)               (None, 64, 64, 32)   9248        activation_3[0][0]               \n",
            "__________________________________________________________________________________________________\n",
            "batch_normalization_4 (BatchNor (None, 64, 64, 32)   128         conv2d_4[0][0]                   \n",
            "__________________________________________________________________________________________________\n",
            "activation_4 (Activation)       (None, 64, 64, 32)   0           batch_normalization_4[0][0]      \n",
            "__________________________________________________________________________________________________\n",
            "max_pooling2d_2 (MaxPooling2D)  (None, 32, 32, 32)   0           activation_4[0][0]               \n",
            "__________________________________________________________________________________________________\n",
            "dropout_2 (Dropout)             (None, 32, 32, 32)   0           max_pooling2d_2[0][0]            \n",
            "__________________________________________________________________________________________________\n",
            "conv2d_5 (Conv2D)               (None, 32, 32, 64)   18496       dropout_2[0][0]                  \n",
            "__________________________________________________________________________________________________\n",
            "batch_normalization_5 (BatchNor (None, 32, 32, 64)   256         conv2d_5[0][0]                   \n",
            "__________________________________________________________________________________________________\n",
            "activation_5 (Activation)       (None, 32, 32, 64)   0           batch_normalization_5[0][0]      \n",
            "__________________________________________________________________________________________________\n",
            "conv2d_6 (Conv2D)               (None, 32, 32, 64)   36928       activation_5[0][0]               \n",
            "__________________________________________________________________________________________________\n",
            "batch_normalization_6 (BatchNor (None, 32, 32, 64)   256         conv2d_6[0][0]                   \n",
            "__________________________________________________________________________________________________\n",
            "activation_6 (Activation)       (None, 32, 32, 64)   0           batch_normalization_6[0][0]      \n",
            "__________________________________________________________________________________________________\n",
            "max_pooling2d_3 (MaxPooling2D)  (None, 16, 16, 64)   0           activation_6[0][0]               \n",
            "__________________________________________________________________________________________________\n",
            "dropout_3 (Dropout)             (None, 16, 16, 64)   0           max_pooling2d_3[0][0]            \n",
            "__________________________________________________________________________________________________\n",
            "conv2d_7 (Conv2D)               (None, 16, 16, 128)  73856       dropout_3[0][0]                  \n",
            "__________________________________________________________________________________________________\n",
            "batch_normalization_7 (BatchNor (None, 16, 16, 128)  512         conv2d_7[0][0]                   \n",
            "__________________________________________________________________________________________________\n",
            "activation_7 (Activation)       (None, 16, 16, 128)  0           batch_normalization_7[0][0]      \n",
            "__________________________________________________________________________________________________\n",
            "conv2d_8 (Conv2D)               (None, 16, 16, 128)  147584      activation_7[0][0]               \n",
            "__________________________________________________________________________________________________\n",
            "batch_normalization_8 (BatchNor (None, 16, 16, 128)  512         conv2d_8[0][0]                   \n",
            "__________________________________________________________________________________________________\n",
            "activation_8 (Activation)       (None, 16, 16, 128)  0           batch_normalization_8[0][0]      \n",
            "__________________________________________________________________________________________________\n",
            "max_pooling2d_4 (MaxPooling2D)  (None, 8, 8, 128)    0           activation_8[0][0]               \n",
            "__________________________________________________________________________________________________\n",
            "dropout_4 (Dropout)             (None, 8, 8, 128)    0           max_pooling2d_4[0][0]            \n",
            "__________________________________________________________________________________________________\n",
            "conv2d_9 (Conv2D)               (None, 8, 8, 256)    295168      dropout_4[0][0]                  \n",
            "__________________________________________________________________________________________________\n",
            "batch_normalization_9 (BatchNor (None, 8, 8, 256)    1024        conv2d_9[0][0]                   \n",
            "__________________________________________________________________________________________________\n",
            "activation_9 (Activation)       (None, 8, 8, 256)    0           batch_normalization_9[0][0]      \n",
            "__________________________________________________________________________________________________\n",
            "conv2d_10 (Conv2D)              (None, 8, 8, 256)    590080      activation_9[0][0]               \n",
            "__________________________________________________________________________________________________\n",
            "batch_normalization_10 (BatchNo (None, 8, 8, 256)    1024        conv2d_10[0][0]                  \n",
            "__________________________________________________________________________________________________\n",
            "activation_10 (Activation)      (None, 8, 8, 256)    0           batch_normalization_10[0][0]     \n",
            "__________________________________________________________________________________________________\n",
            "conv2d_transpose_1 (Conv2DTrans (None, 16, 16, 128)  295040      activation_10[0][0]              \n",
            "__________________________________________________________________________________________________\n",
            "concatenate_1 (Concatenate)     (None, 16, 16, 256)  0           conv2d_transpose_1[0][0]         \n",
            "                                                                 activation_8[0][0]               \n",
            "__________________________________________________________________________________________________\n",
            "dropout_5 (Dropout)             (None, 16, 16, 256)  0           concatenate_1[0][0]              \n",
            "__________________________________________________________________________________________________\n",
            "conv2d_11 (Conv2D)              (None, 16, 16, 128)  295040      dropout_5[0][0]                  \n",
            "__________________________________________________________________________________________________\n",
            "batch_normalization_11 (BatchNo (None, 16, 16, 128)  512         conv2d_11[0][0]                  \n",
            "__________________________________________________________________________________________________\n",
            "activation_11 (Activation)      (None, 16, 16, 128)  0           batch_normalization_11[0][0]     \n",
            "__________________________________________________________________________________________________\n",
            "conv2d_12 (Conv2D)              (None, 16, 16, 128)  147584      activation_11[0][0]              \n",
            "__________________________________________________________________________________________________\n",
            "batch_normalization_12 (BatchNo (None, 16, 16, 128)  512         conv2d_12[0][0]                  \n",
            "__________________________________________________________________________________________________\n",
            "activation_12 (Activation)      (None, 16, 16, 128)  0           batch_normalization_12[0][0]     \n",
            "__________________________________________________________________________________________________\n",
            "conv2d_transpose_2 (Conv2DTrans (None, 32, 32, 64)   73792       activation_12[0][0]              \n",
            "__________________________________________________________________________________________________\n",
            "concatenate_2 (Concatenate)     (None, 32, 32, 128)  0           conv2d_transpose_2[0][0]         \n",
            "                                                                 activation_6[0][0]               \n",
            "__________________________________________________________________________________________________\n",
            "dropout_6 (Dropout)             (None, 32, 32, 128)  0           concatenate_2[0][0]              \n",
            "__________________________________________________________________________________________________\n",
            "conv2d_13 (Conv2D)              (None, 32, 32, 64)   73792       dropout_6[0][0]                  \n",
            "__________________________________________________________________________________________________\n",
            "batch_normalization_13 (BatchNo (None, 32, 32, 64)   256         conv2d_13[0][0]                  \n",
            "__________________________________________________________________________________________________\n",
            "activation_13 (Activation)      (None, 32, 32, 64)   0           batch_normalization_13[0][0]     \n",
            "__________________________________________________________________________________________________\n",
            "conv2d_14 (Conv2D)              (None, 32, 32, 64)   36928       activation_13[0][0]              \n",
            "__________________________________________________________________________________________________\n",
            "batch_normalization_14 (BatchNo (None, 32, 32, 64)   256         conv2d_14[0][0]                  \n",
            "__________________________________________________________________________________________________\n",
            "activation_14 (Activation)      (None, 32, 32, 64)   0           batch_normalization_14[0][0]     \n",
            "__________________________________________________________________________________________________\n",
            "conv2d_transpose_3 (Conv2DTrans (None, 64, 64, 32)   18464       activation_14[0][0]              \n",
            "__________________________________________________________________________________________________\n",
            "concatenate_3 (Concatenate)     (None, 64, 64, 64)   0           conv2d_transpose_3[0][0]         \n",
            "                                                                 activation_4[0][0]               \n",
            "__________________________________________________________________________________________________\n",
            "dropout_7 (Dropout)             (None, 64, 64, 64)   0           concatenate_3[0][0]              \n",
            "__________________________________________________________________________________________________\n",
            "conv2d_15 (Conv2D)              (None, 64, 64, 32)   18464       dropout_7[0][0]                  \n",
            "__________________________________________________________________________________________________\n",
            "batch_normalization_15 (BatchNo (None, 64, 64, 32)   128         conv2d_15[0][0]                  \n",
            "__________________________________________________________________________________________________\n",
            "activation_15 (Activation)      (None, 64, 64, 32)   0           batch_normalization_15[0][0]     \n",
            "__________________________________________________________________________________________________\n",
            "conv2d_16 (Conv2D)              (None, 64, 64, 32)   9248        activation_15[0][0]              \n",
            "__________________________________________________________________________________________________\n",
            "batch_normalization_16 (BatchNo (None, 64, 64, 32)   128         conv2d_16[0][0]                  \n",
            "__________________________________________________________________________________________________\n",
            "activation_16 (Activation)      (None, 64, 64, 32)   0           batch_normalization_16[0][0]     \n",
            "__________________________________________________________________________________________________\n",
            "conv2d_transpose_4 (Conv2DTrans (None, 128, 128, 16) 4624        activation_16[0][0]              \n",
            "__________________________________________________________________________________________________\n",
            "concatenate_4 (Concatenate)     (None, 128, 128, 32) 0           conv2d_transpose_4[0][0]         \n",
            "                                                                 activation_2[0][0]               \n",
            "__________________________________________________________________________________________________\n",
            "dropout_8 (Dropout)             (None, 128, 128, 32) 0           concatenate_4[0][0]              \n",
            "__________________________________________________________________________________________________\n",
            "conv2d_17 (Conv2D)              (None, 128, 128, 16) 4624        dropout_8[0][0]                  \n",
            "__________________________________________________________________________________________________\n",
            "batch_normalization_17 (BatchNo (None, 128, 128, 16) 64          conv2d_17[0][0]                  \n",
            "__________________________________________________________________________________________________\n",
            "activation_17 (Activation)      (None, 128, 128, 16) 0           batch_normalization_17[0][0]     \n",
            "__________________________________________________________________________________________________\n",
            "conv2d_18 (Conv2D)              (None, 128, 128, 16) 2320        activation_17[0][0]              \n",
            "__________________________________________________________________________________________________\n",
            "batch_normalization_18 (BatchNo (None, 128, 128, 16) 64          conv2d_18[0][0]                  \n",
            "__________________________________________________________________________________________________\n",
            "activation_18 (Activation)      (None, 128, 128, 16) 0           batch_normalization_18[0][0]     \n",
            "__________________________________________________________________________________________________\n",
            "conv2d_19 (Conv2D)              (None, 128, 128, 1)  17          activation_18[0][0]              \n",
            "==================================================================================================\n",
            "Total params: 2,164,305\n",
            "Trainable params: 2,161,361\n",
            "Non-trainable params: 2,944\n",
            "__________________________________________________________________________________________________\n"
          ],
          "name": "stdout"
        }
      ]
    },
    {
      "cell_type": "markdown",
      "metadata": {
        "id": "awjeZBoIe3e_",
        "colab_type": "text"
      },
      "source": [
        "#Training der U-Net-Modelle"
      ]
    },
    {
      "cell_type": "markdown",
      "metadata": {
        "id": "hARhSaRKT1QW",
        "colab_type": "text"
      },
      "source": [
        "##Data Augmentation"
      ]
    },
    {
      "cell_type": "code",
      "metadata": {
        "id": "4GLuQK7hYceD",
        "colab_type": "code",
        "colab": {}
      },
      "source": [
        "# Importing necessary functions \n",
        "from keras.preprocessing.image import ImageDataGenerator, array_to_img, img_to_array, load_img "
      ],
      "execution_count": 0,
      "outputs": []
    },
    {
      "cell_type": "code",
      "metadata": {
        "id": "WVT9agp-eHPg",
        "colab_type": "code",
        "colab": {}
      },
      "source": [
        "def get_image_mask_generator(X, y, do_horizontal_flip = False, do_vertical_flip = False, seed = 1234, batch_size = 32):\n",
        "    \n",
        "    data_gen_args = {\n",
        "        \"horizontal_flip\" : do_horizontal_flip, \n",
        "        \"vertical_flip\" : do_vertical_flip}\n",
        "\n",
        "    #data_gen_args.horizontal_flip = do_horizontal_flip\n",
        "    #data_gen_args.vertical_flip = do_vertical_flip\n",
        "\n",
        "    image_datagen = ImageDataGenerator(**data_gen_args)\n",
        "    mask_datagen = ImageDataGenerator(**data_gen_args)\n",
        "\n",
        "    \n",
        "    image_generator = image_datagen.flow(X, seed=seed, batch_size = batch_size, shuffle = True)\n",
        "    mask_generator = mask_datagen.flow(y, seed=seed, batch_size = batch_size, shuffle = True)\n",
        "\n",
        "    # Zip the two generators to get a generator that provides augmented images and masks at the same time\n",
        "    image_mask_generator = zip(image_generator, mask_generator)\n",
        "\n",
        "    return image_mask_generator"
      ],
      "execution_count": 0,
      "outputs": []
    },
    {
      "cell_type": "markdown",
      "metadata": {
        "id": "mKA7BIlOfxUf",
        "colab_type": "text"
      },
      "source": [
        "##Daten in Train, Valid und Test aufteilen"
      ]
    },
    {
      "cell_type": "code",
      "metadata": {
        "id": "oS-4c8dTHfmt",
        "colab_type": "code",
        "colab": {}
      },
      "source": [
        "from sklearn.model_selection import train_test_split"
      ],
      "execution_count": 0,
      "outputs": []
    },
    {
      "cell_type": "code",
      "metadata": {
        "id": "QhL4utSeHZSL",
        "colab_type": "code",
        "colab": {}
      },
      "source": [
        "# Split X and y into random train_valid and test\n",
        "X_train_valid, X_test, y_train_valid, y_test = train_test_split(X, y, test_size=0.10, random_state=1234)\n",
        "\n",
        "# Split X_train_valid and y_train_valid into random train and valid\n",
        "X_train, X_valid, y_train, y_valid = train_test_split(X_train_valid, y_train_valid, test_size=0.222, random_state=2345)"
      ],
      "execution_count": 0,
      "outputs": []
    },
    {
      "cell_type": "markdown",
      "metadata": {
        "id": "u4ZWp1gGfD53",
        "colab_type": "text"
      },
      "source": [
        "##U-Net-Modell ohne Data Augmentation (std)"
      ]
    },
    {
      "cell_type": "code",
      "metadata": {
        "id": "RFhZewC2V8DU",
        "colab_type": "code",
        "colab": {}
      },
      "source": [
        "from keras.callbacks import EarlyStopping, ModelCheckpoint, ReduceLROnPlateau"
      ],
      "execution_count": 0,
      "outputs": []
    },
    {
      "cell_type": "code",
      "metadata": {
        "id": "SYy5wEXtSng-",
        "colab_type": "code",
        "colab": {}
      },
      "source": [
        "# EarlyStopping arguments\n",
        "# patience            number of epochs that produced the monitored quantity with\n",
        "#                     no improvement after which training will be stopped\n",
        "# verbose             0 = silent, 1 = progress bar, 2 = one line per epoch\n",
        "\n",
        "# ReduceLROnPlateau arguments\n",
        "# factor              factor by which the learning rate will be reduced\n",
        "#                     new_lr = lr * factor\n",
        "# patience            number of epochs that produced the monitored quantity with\n",
        "#                     no improvement after which training will be stopped\n",
        "# min_lr              lower bound on the learning rate\n",
        "# verbose             0 = silent, 1 = progress bar, 2 = one line per epoch\n",
        "\n",
        "# ModelCheckpoint arguments\n",
        "# filepath            path to save the model file\n",
        "# verbose             0 = silent, 1 = progress bar, 2 = one line per epoch\n",
        "# save_best_only      if save_best_only=True, the latest best model according \n",
        "#                     to the quantity monitored will not be overwritten\n",
        "# save_weights_only   if True, then only the model's weights will be saved\n",
        "\n",
        "filepath_std = 'model_std.h5'\n",
        "\n",
        "callbacks_std = [\n",
        "    EarlyStopping(\n",
        "        patience=10, \n",
        "        verbose=1),\n",
        "    ReduceLROnPlateau(\n",
        "        factor=0.1, \n",
        "        patience=3, \n",
        "        min_lr=0.000001, \n",
        "        verbose=1),\n",
        "    ModelCheckpoint(\n",
        "        filepath_std, \n",
        "        verbose=1, \n",
        "        save_best_only=True, \n",
        "        save_weights_only=True)\n",
        "]"
      ],
      "execution_count": 0,
      "outputs": []
    },
    {
      "cell_type": "code",
      "metadata": {
        "id": "avhrgGCxTQfu",
        "colab_type": "code",
        "outputId": "10ff34a7-e8be-4b40-eb13-881bd7c71b76",
        "colab": {
          "base_uri": "https://localhost:8080/",
          "height": 1000
        }
      },
      "source": [
        "# fit arguments\n",
        "# x                 input data\n",
        "# y                 target data\n",
        "# batch_size        number of samples that will be propagated through the network\n",
        "#                   (take the first batch_size samples from the training set and\n",
        "#                   train the network, next, take the second batch_size_samples)\n",
        "# epochs            number of epochs to train the model(an epoch is an iteration\n",
        "#                   over the entire x and y data provided)\n",
        "# callbacks         list of Callback instances to applay during training and\n",
        "#                   validation\n",
        "# validation_data   data on which to evaluate the loss and any model metrics at \n",
        "#                   the end of each epoch\n",
        "\n",
        "batch_size_std = 32\n",
        "epochs_std = 100\n",
        "\n",
        "results_std = model_std.fit(\n",
        "    X_train, \n",
        "    y_train, \n",
        "    batch_size=batch_size_std, \n",
        "    epochs=epochs_std, \n",
        "    callbacks=callbacks_std,\n",
        "    validation_data=(X_valid, y_valid))"
      ],
      "execution_count": 29,
      "outputs": [
        {
          "output_type": "stream",
          "text": [
            "WARNING:tensorflow:From /usr/local/lib/python3.6/dist-packages/keras/backend/tensorflow_backend.py:1033: The name tf.assign_add is deprecated. Please use tf.compat.v1.assign_add instead.\n",
            "\n",
            "WARNING:tensorflow:From /usr/local/lib/python3.6/dist-packages/keras/backend/tensorflow_backend.py:1020: The name tf.assign is deprecated. Please use tf.compat.v1.assign instead.\n",
            "\n",
            "Train on 2800 samples, validate on 800 samples\n",
            "Epoch 1/100\n",
            "2800/2800 [==============================] - 20s 7ms/step - loss: 0.4082 - mean_iou: 0.5039 - val_loss: 1.2004 - val_mean_iou: 0.5679\n",
            "\n",
            "Epoch 00001: val_loss improved from inf to 1.20038, saving model to model_std.h5\n",
            "Epoch 2/100\n",
            "2800/2800 [==============================] - 10s 3ms/step - loss: 0.2949 - mean_iou: 0.5885 - val_loss: 0.4084 - val_mean_iou: 0.6127\n",
            "\n",
            "Epoch 00002: val_loss improved from 1.20038 to 0.40842, saving model to model_std.h5\n",
            "Epoch 3/100\n",
            "2800/2800 [==============================] - 10s 3ms/step - loss: 0.2553 - mean_iou: 0.6310 - val_loss: 0.4325 - val_mean_iou: 0.6432\n",
            "\n",
            "Epoch 00003: val_loss did not improve from 0.40842\n",
            "Epoch 4/100\n",
            "2800/2800 [==============================] - 10s 3ms/step - loss: 0.2545 - mean_iou: 0.6512 - val_loss: 0.6722 - val_mean_iou: 0.6566\n",
            "\n",
            "Epoch 00004: val_loss did not improve from 0.40842\n",
            "Epoch 5/100\n",
            "2800/2800 [==============================] - 10s 3ms/step - loss: 0.2285 - mean_iou: 0.6629 - val_loss: 0.3749 - val_mean_iou: 0.6689\n",
            "\n",
            "Epoch 00005: val_loss improved from 0.40842 to 0.37494, saving model to model_std.h5\n",
            "Epoch 6/100\n",
            "2800/2800 [==============================] - 10s 3ms/step - loss: 0.2178 - mean_iou: 0.6744 - val_loss: 0.4110 - val_mean_iou: 0.6798\n",
            "\n",
            "Epoch 00006: val_loss did not improve from 0.37494\n",
            "Epoch 7/100\n",
            "2800/2800 [==============================] - 10s 3ms/step - loss: 0.2067 - mean_iou: 0.6844 - val_loss: 0.1846 - val_mean_iou: 0.6887\n",
            "\n",
            "Epoch 00007: val_loss improved from 0.37494 to 0.18456, saving model to model_std.h5\n",
            "Epoch 8/100\n",
            "2800/2800 [==============================] - 10s 3ms/step - loss: 0.1984 - mean_iou: 0.6925 - val_loss: 0.2593 - val_mean_iou: 0.6964\n",
            "\n",
            "Epoch 00008: val_loss did not improve from 0.18456\n",
            "Epoch 9/100\n",
            "2800/2800 [==============================] - 10s 3ms/step - loss: 0.1919 - mean_iou: 0.7003 - val_loss: 0.2157 - val_mean_iou: 0.7038\n",
            "\n",
            "Epoch 00009: val_loss did not improve from 0.18456\n",
            "Epoch 10/100\n",
            "2800/2800 [==============================] - 10s 3ms/step - loss: 0.1807 - mean_iou: 0.7072 - val_loss: 0.1826 - val_mean_iou: 0.7106\n",
            "\n",
            "Epoch 00010: val_loss improved from 0.18456 to 0.18261, saving model to model_std.h5\n",
            "Epoch 11/100\n",
            "2800/2800 [==============================] - 10s 3ms/step - loss: 0.1892 - mean_iou: 0.7138 - val_loss: 0.2353 - val_mean_iou: 0.7163\n",
            "\n",
            "Epoch 00011: val_loss did not improve from 0.18261\n",
            "Epoch 12/100\n",
            "2800/2800 [==============================] - 10s 3ms/step - loss: 0.1829 - mean_iou: 0.7185 - val_loss: 0.1854 - val_mean_iou: 0.7210\n",
            "\n",
            "Epoch 00012: val_loss did not improve from 0.18261\n",
            "Epoch 13/100\n",
            "2800/2800 [==============================] - 10s 3ms/step - loss: 0.1685 - mean_iou: 0.7239 - val_loss: 0.2454 - val_mean_iou: 0.7263\n",
            "\n",
            "Epoch 00013: ReduceLROnPlateau reducing learning rate to 0.00010000000474974513.\n",
            "\n",
            "Epoch 00013: val_loss did not improve from 0.18261\n",
            "Epoch 14/100\n",
            "2800/2800 [==============================] - 10s 3ms/step - loss: 0.1458 - mean_iou: 0.7290 - val_loss: 0.1446 - val_mean_iou: 0.7318\n",
            "\n",
            "Epoch 00014: val_loss improved from 0.18261 to 0.14455, saving model to model_std.h5\n",
            "Epoch 15/100\n",
            "2800/2800 [==============================] - 10s 3ms/step - loss: 0.1360 - mean_iou: 0.7345 - val_loss: 0.1417 - val_mean_iou: 0.7371\n",
            "\n",
            "Epoch 00015: val_loss improved from 0.14455 to 0.14175, saving model to model_std.h5\n",
            "Epoch 16/100\n",
            "2800/2800 [==============================] - 10s 3ms/step - loss: 0.1324 - mean_iou: 0.7394 - val_loss: 0.1416 - val_mean_iou: 0.7417\n",
            "\n",
            "Epoch 00016: val_loss improved from 0.14175 to 0.14156, saving model to model_std.h5\n",
            "Epoch 17/100\n",
            "2800/2800 [==============================] - 10s 3ms/step - loss: 0.1255 - mean_iou: 0.7441 - val_loss: 0.1387 - val_mean_iou: 0.7462\n",
            "\n",
            "Epoch 00017: val_loss improved from 0.14156 to 0.13869, saving model to model_std.h5\n",
            "Epoch 18/100\n",
            "2800/2800 [==============================] - 10s 3ms/step - loss: 0.1233 - mean_iou: 0.7483 - val_loss: 0.1381 - val_mean_iou: 0.7502\n",
            "\n",
            "Epoch 00018: val_loss improved from 0.13869 to 0.13808, saving model to model_std.h5\n",
            "Epoch 19/100\n",
            "2800/2800 [==============================] - 10s 3ms/step - loss: 0.1228 - mean_iou: 0.7522 - val_loss: 0.1351 - val_mean_iou: 0.7541\n",
            "\n",
            "Epoch 00019: val_loss improved from 0.13808 to 0.13511, saving model to model_std.h5\n",
            "Epoch 20/100\n",
            "2800/2800 [==============================] - 10s 3ms/step - loss: 0.1191 - mean_iou: 0.7562 - val_loss: 0.1363 - val_mean_iou: 0.7578\n",
            "\n",
            "Epoch 00020: val_loss did not improve from 0.13511\n",
            "Epoch 21/100\n",
            "2800/2800 [==============================] - 10s 3ms/step - loss: 0.1193 - mean_iou: 0.7595 - val_loss: 0.1342 - val_mean_iou: 0.7611\n",
            "\n",
            "Epoch 00021: val_loss improved from 0.13511 to 0.13424, saving model to model_std.h5\n",
            "Epoch 22/100\n",
            "2800/2800 [==============================] - 10s 3ms/step - loss: 0.1118 - mean_iou: 0.7628 - val_loss: 0.1362 - val_mean_iou: 0.7645\n",
            "\n",
            "Epoch 00022: val_loss did not improve from 0.13424\n",
            "Epoch 23/100\n",
            "2800/2800 [==============================] - 9s 3ms/step - loss: 0.1192 - mean_iou: 0.7660 - val_loss: 0.1359 - val_mean_iou: 0.7676\n",
            "\n",
            "Epoch 00023: val_loss did not improve from 0.13424\n",
            "Epoch 24/100\n",
            "2800/2800 [==============================] - 10s 3ms/step - loss: 0.1081 - mean_iou: 0.7692 - val_loss: 0.1373 - val_mean_iou: 0.7707\n",
            "\n",
            "Epoch 00024: ReduceLROnPlateau reducing learning rate to 1.0000000474974514e-05.\n",
            "\n",
            "Epoch 00024: val_loss did not improve from 0.13424\n",
            "Epoch 25/100\n",
            "2800/2800 [==============================] - 10s 3ms/step - loss: 0.1078 - mean_iou: 0.7722 - val_loss: 0.1331 - val_mean_iou: 0.7736\n",
            "\n",
            "Epoch 00025: val_loss improved from 0.13424 to 0.13306, saving model to model_std.h5\n",
            "Epoch 26/100\n",
            "2800/2800 [==============================] - 10s 3ms/step - loss: 0.1033 - mean_iou: 0.7751 - val_loss: 0.1329 - val_mean_iou: 0.7765\n",
            "\n",
            "Epoch 00026: val_loss improved from 0.13306 to 0.13294, saving model to model_std.h5\n",
            "Epoch 27/100\n",
            "2800/2800 [==============================] - 10s 3ms/step - loss: 0.1071 - mean_iou: 0.7778 - val_loss: 0.1343 - val_mean_iou: 0.7791\n",
            "\n",
            "Epoch 00027: val_loss did not improve from 0.13294\n",
            "Epoch 28/100\n",
            "2800/2800 [==============================] - 9s 3ms/step - loss: 0.1083 - mean_iou: 0.7803 - val_loss: 0.1345 - val_mean_iou: 0.7814\n",
            "\n",
            "Epoch 00028: val_loss did not improve from 0.13294\n",
            "Epoch 29/100\n",
            "2800/2800 [==============================] - 10s 3ms/step - loss: 0.1017 - mean_iou: 0.7826 - val_loss: 0.1347 - val_mean_iou: 0.7838\n",
            "\n",
            "Epoch 00029: ReduceLROnPlateau reducing learning rate to 1.0000000656873453e-06.\n",
            "\n",
            "Epoch 00029: val_loss did not improve from 0.13294\n",
            "Epoch 30/100\n",
            "2800/2800 [==============================] - 10s 3ms/step - loss: 0.1006 - mean_iou: 0.7849 - val_loss: 0.1348 - val_mean_iou: 0.7860\n",
            "\n",
            "Epoch 00030: val_loss did not improve from 0.13294\n",
            "Epoch 31/100\n",
            "2800/2800 [==============================] - 10s 3ms/step - loss: 0.1031 - mean_iou: 0.7871 - val_loss: 0.1345 - val_mean_iou: 0.7880\n",
            "\n",
            "Epoch 00031: val_loss did not improve from 0.13294\n",
            "Epoch 32/100\n",
            "2800/2800 [==============================] - 10s 3ms/step - loss: 0.1024 - mean_iou: 0.7890 - val_loss: 0.1349 - val_mean_iou: 0.7900\n",
            "\n",
            "Epoch 00032: ReduceLROnPlateau reducing learning rate to 1e-06.\n",
            "\n",
            "Epoch 00032: val_loss did not improve from 0.13294\n",
            "Epoch 33/100\n",
            "2800/2800 [==============================] - 10s 3ms/step - loss: 0.0983 - mean_iou: 0.7909 - val_loss: 0.1350 - val_mean_iou: 0.7919\n",
            "\n",
            "Epoch 00033: val_loss did not improve from 0.13294\n",
            "Epoch 34/100\n",
            "2800/2800 [==============================] - 10s 3ms/step - loss: 0.1013 - mean_iou: 0.7928 - val_loss: 0.1348 - val_mean_iou: 0.7936\n",
            "\n",
            "Epoch 00034: val_loss did not improve from 0.13294\n",
            "Epoch 35/100\n",
            "2800/2800 [==============================] - 10s 3ms/step - loss: 0.1010 - mean_iou: 0.7945 - val_loss: 0.1347 - val_mean_iou: 0.7953\n",
            "\n",
            "Epoch 00035: val_loss did not improve from 0.13294\n",
            "Epoch 36/100\n",
            "2800/2800 [==============================] - 10s 3ms/step - loss: 0.0993 - mean_iou: 0.7961 - val_loss: 0.1348 - val_mean_iou: 0.7969\n",
            "\n",
            "Epoch 00036: val_loss did not improve from 0.13294\n",
            "Epoch 00036: early stopping\n"
          ],
          "name": "stdout"
        }
      ]
    },
    {
      "cell_type": "code",
      "metadata": {
        "id": "M5OkmEYNJDM6",
        "colab_type": "code",
        "colab": {}
      },
      "source": [
        "import matplotlib.pyplot as plt"
      ],
      "execution_count": 0,
      "outputs": []
    },
    {
      "cell_type": "code",
      "metadata": {
        "id": "BZ4bHMTKbtbn",
        "colab_type": "code",
        "outputId": "401d9a44-4991-4964-f9d1-7bf79df88fd6",
        "colab": {
          "base_uri": "https://localhost:8080/",
          "height": 513
        }
      },
      "source": [
        "plt.figure(figsize=(8, 8))\n",
        "plt.title(\"Learning curve\")\n",
        "plt.plot(results_std.history[\"loss\"], label=\"loss\")\n",
        "plt.plot(results_std.history[\"val_loss\"], label=\"val_loss\")\n",
        "plt.plot( np.argmin(results_std.history[\"val_loss\"]), np.min(results_std.history[\"val_loss\"]), marker=\"x\", color=\"r\", label=\"best model\")\n",
        "plt.xlabel(\"Epochs\")\n",
        "plt.ylabel(\"log_loss\")\n",
        "plt.legend();"
      ],
      "execution_count": 31,
      "outputs": [
        {
          "output_type": "display_data",
          "data": {
            "image/png": "[encoded data removed]",
            "text/plain": [
              "<Figure size 576x576 with 1 Axes>"
            ]
          },
          "metadata": {
            "tags": []
          }
        }
      ]
    },
    {
      "cell_type": "markdown",
      "metadata": {
        "id": "VtMZ_yB6fPGR",
        "colab_type": "text"
      },
      "source": [
        "##U-Net-Modell mit Data Augmentation (h-Flip)"
      ]
    },
    {
      "cell_type": "code",
      "metadata": {
        "id": "_zrjvys5g0vW",
        "colab_type": "code",
        "colab": {}
      },
      "source": [
        "# EarlyStopping arguments\n",
        "# patience            number of epochs that produced the monitored quantity with\n",
        "#                     no improvement after which training will be stopped\n",
        "# verbose             0 = silent, 1 = progress bar, 2 = one line per epoch\n",
        "\n",
        "# ReduceLROnPlateau arguments\n",
        "# factor              factor by which the learning rate will be reduced\n",
        "#                     new_lr = lr * factor\n",
        "# patience            number of epochs that produced the monitored quantity with\n",
        "#                     no improvement after which training will be stopped\n",
        "# min_lr              lower bound on the learning rate\n",
        "# verbose             0 = silent, 1 = progress bar, 2 = one line per epoch\n",
        "\n",
        "# ModelCheckpoint arguments\n",
        "# filepath            path to save the model file\n",
        "# verbose             0 = silent, 1 = progress bar, 2 = one line per epoch\n",
        "# save_best_only      if save_best_only=True, the latest best model according \n",
        "#                     to the quantity monitored will not be overwritten\n",
        "# save_weights_only   if True, then only the model's weights will be saved\n",
        "\n",
        "filepath_h_flip = 'model_h_flip.h5'\n",
        "\n",
        "callbacks_h_flip = [\n",
        "    EarlyStopping(\n",
        "        patience = 10, \n",
        "        verbose = 1),\n",
        "    ReduceLROnPlateau(\n",
        "        factor = 0.1, \n",
        "        patience = 3, \n",
        "        min_lr = 0.000001, \n",
        "        verbose = 1),\n",
        "    ModelCheckpoint(\n",
        "        filepath_h_flip, \n",
        "        verbose = 1, \n",
        "        save_best_only = True, \n",
        "        save_weights_only = True)\n",
        "]"
      ],
      "execution_count": 0,
      "outputs": []
    },
    {
      "cell_type": "code",
      "metadata": {
        "id": "lrwbWYoTinP0",
        "colab_type": "code",
        "colab": {}
      },
      "source": [
        "# get_image_mask_generator arguments\n",
        "# X                     \n",
        "# y\n",
        "# do_horizontal_flip    \n",
        "# do_vertical_flip      \n",
        "# seed                  \n",
        "# batch_size            \n",
        "\n",
        "seed_h_flip = 1234\n",
        "batch_size_h_flip = batch_size_std\n",
        "\n",
        "train_generator_h_flip = get_image_mask_generator(\n",
        "    X_train, \n",
        "    y_train, \n",
        "    do_horizontal_flip = True, \n",
        "    do_vertical_flip = False, \n",
        "    seed = seed_h_flip, \n",
        "    batch_size = batch_size_h_flip)"
      ],
      "execution_count": 0,
      "outputs": []
    },
    {
      "cell_type": "code",
      "metadata": {
        "id": "BDwnGIP4gDLW",
        "colab_type": "code",
        "colab": {
          "base_uri": "https://localhost:8080/",
          "height": 1000
        },
        "outputId": "2d444c78-7952-455b-f1fc-f4dcd6f90fb8"
      },
      "source": [
        "steps_per_epoch_h_flip = (len(X_train) // batch_size_h_flip)\n",
        "epochs_h_flip = epochs_std\n",
        "\n",
        "model_h_flip.reset_states()\n",
        "\n",
        "results_h_flip = model_h_flip.fit_generator(\n",
        "    train_generator_h_flip, \n",
        "    steps_per_epoch = steps_per_epoch_h_flip, \n",
        "    epochs = epochs_h_flip,\n",
        "    callbacks = callbacks_h_flip,\n",
        "    validation_data = (X_valid, y_valid))"
      ],
      "execution_count": 35,
      "outputs": [
        {
          "output_type": "stream",
          "text": [
            "Epoch 1/100\n",
            "87/87 [==============================] - 18s 212ms/step - loss: 0.4168 - mean_iou: 0.5165 - val_loss: 0.4803 - val_mean_iou: 0.5952\n",
            "\n",
            "Epoch 00001: val_loss improved from inf to 0.48030, saving model to model_h_flip.h5\n",
            "Epoch 2/100\n",
            "87/87 [==============================] - 9s 108ms/step - loss: 0.2998 - mean_iou: 0.6157 - val_loss: 0.8008 - val_mean_iou: 0.6291\n",
            "\n",
            "Epoch 00002: val_loss did not improve from 0.48030\n",
            "Epoch 3/100\n",
            "87/87 [==============================] - 9s 109ms/step - loss: 0.2780 - mean_iou: 0.6374 - val_loss: 0.3678 - val_mean_iou: 0.6488\n",
            "\n",
            "Epoch 00003: val_loss improved from 0.48030 to 0.36777, saving model to model_h_flip.h5\n",
            "Epoch 4/100\n",
            "87/87 [==============================] - 10s 109ms/step - loss: 0.2634 - mean_iou: 0.6574 - val_loss: 0.2758 - val_mean_iou: 0.6628\n",
            "\n",
            "Epoch 00004: val_loss improved from 0.36777 to 0.27583, saving model to model_h_flip.h5\n",
            "Epoch 5/100\n",
            "87/87 [==============================] - 10s 110ms/step - loss: 0.2399 - mean_iou: 0.6694 - val_loss: 0.4559 - val_mean_iou: 0.6744\n",
            "\n",
            "Epoch 00005: val_loss did not improve from 0.27583\n",
            "Epoch 6/100\n",
            "87/87 [==============================] - 10s 110ms/step - loss: 0.2346 - mean_iou: 0.6784 - val_loss: 0.2358 - val_mean_iou: 0.6833\n",
            "\n",
            "Epoch 00006: val_loss improved from 0.27583 to 0.23579, saving model to model_h_flip.h5\n",
            "Epoch 7/100\n",
            "87/87 [==============================] - 10s 110ms/step - loss: 0.2129 - mean_iou: 0.6884 - val_loss: 0.2823 - val_mean_iou: 0.6928\n",
            "\n",
            "Epoch 00007: val_loss did not improve from 0.23579\n",
            "Epoch 8/100\n",
            "87/87 [==============================] - 10s 110ms/step - loss: 0.2264 - mean_iou: 0.6957 - val_loss: 0.2593 - val_mean_iou: 0.6986\n",
            "\n",
            "Epoch 00008: val_loss did not improve from 0.23579\n",
            "Epoch 9/100\n",
            "87/87 [==============================] - 10s 110ms/step - loss: 0.1954 - mean_iou: 0.7023 - val_loss: 0.1855 - val_mean_iou: 0.7056\n",
            "\n",
            "Epoch 00009: val_loss improved from 0.23579 to 0.18547, saving model to model_h_flip.h5\n",
            "Epoch 10/100\n",
            "87/87 [==============================] - 9s 109ms/step - loss: 0.1879 - mean_iou: 0.7085 - val_loss: 0.2185 - val_mean_iou: 0.7121\n",
            "\n",
            "Epoch 00010: val_loss did not improve from 0.18547\n",
            "Epoch 11/100\n",
            "87/87 [==============================] - 9s 109ms/step - loss: 0.1929 - mean_iou: 0.7150 - val_loss: 0.1843 - val_mean_iou: 0.7174\n",
            "\n",
            "Epoch 00011: val_loss improved from 0.18547 to 0.18435, saving model to model_h_flip.h5\n",
            "Epoch 12/100\n",
            "87/87 [==============================] - 10s 110ms/step - loss: 0.2013 - mean_iou: 0.7195 - val_loss: 0.3756 - val_mean_iou: 0.7211\n",
            "\n",
            "Epoch 00012: val_loss did not improve from 0.18435\n",
            "Epoch 13/100\n",
            "87/87 [==============================] - 9s 109ms/step - loss: 0.1916 - mean_iou: 0.7230 - val_loss: 0.2049 - val_mean_iou: 0.7247\n",
            "\n",
            "Epoch 00013: val_loss did not improve from 0.18435\n",
            "Epoch 14/100\n",
            "87/87 [==============================] - 9s 109ms/step - loss: 0.1678 - mean_iou: 0.7267 - val_loss: 0.2079 - val_mean_iou: 0.7288\n",
            "\n",
            "Epoch 00014: ReduceLROnPlateau reducing learning rate to 0.00010000000474974513.\n",
            "\n",
            "Epoch 00014: val_loss did not improve from 0.18435\n",
            "Epoch 15/100\n",
            "87/87 [==============================] - 10s 109ms/step - loss: 0.1610 - mean_iou: 0.7305 - val_loss: 0.1555 - val_mean_iou: 0.7327\n",
            "\n",
            "Epoch 00015: val_loss improved from 0.18435 to 0.15548, saving model to model_h_flip.h5\n",
            "Epoch 16/100\n",
            "87/87 [==============================] - 9s 109ms/step - loss: 0.1540 - mean_iou: 0.7351 - val_loss: 0.1492 - val_mean_iou: 0.7368\n",
            "\n",
            "Epoch 00016: val_loss improved from 0.15548 to 0.14924, saving model to model_h_flip.h5\n",
            "Epoch 17/100\n",
            "87/87 [==============================] - 10s 109ms/step - loss: 0.1466 - mean_iou: 0.7386 - val_loss: 0.1482 - val_mean_iou: 0.7404\n",
            "\n",
            "Epoch 00017: val_loss improved from 0.14924 to 0.14816, saving model to model_h_flip.h5\n",
            "Epoch 18/100\n",
            "87/87 [==============================] - 9s 108ms/step - loss: 0.1504 - mean_iou: 0.7423 - val_loss: 0.1450 - val_mean_iou: 0.7439\n",
            "\n",
            "Epoch 00018: val_loss improved from 0.14816 to 0.14504, saving model to model_h_flip.h5\n",
            "Epoch 19/100\n",
            "87/87 [==============================] - 10s 109ms/step - loss: 0.1420 - mean_iou: 0.7457 - val_loss: 0.1436 - val_mean_iou: 0.7472\n",
            "\n",
            "Epoch 00019: val_loss improved from 0.14504 to 0.14359, saving model to model_h_flip.h5\n",
            "Epoch 20/100\n",
            "87/87 [==============================] - 10s 109ms/step - loss: 0.1446 - mean_iou: 0.7486 - val_loss: 0.1431 - val_mean_iou: 0.7501\n",
            "\n",
            "Epoch 00020: val_loss improved from 0.14359 to 0.14314, saving model to model_h_flip.h5\n",
            "Epoch 21/100\n",
            "87/87 [==============================] - 9s 109ms/step - loss: 0.1465 - mean_iou: 0.7515 - val_loss: 0.1439 - val_mean_iou: 0.7528\n",
            "\n",
            "Epoch 00021: val_loss did not improve from 0.14314\n",
            "Epoch 22/100\n",
            "87/87 [==============================] - 9s 109ms/step - loss: 0.1454 - mean_iou: 0.7541 - val_loss: 0.1458 - val_mean_iou: 0.7552\n",
            "\n",
            "Epoch 00022: val_loss did not improve from 0.14314\n",
            "Epoch 23/100\n",
            "87/87 [==============================] - 10s 109ms/step - loss: 0.1358 - mean_iou: 0.7565 - val_loss: 0.1427 - val_mean_iou: 0.7578\n",
            "\n",
            "Epoch 00023: val_loss improved from 0.14314 to 0.14268, saving model to model_h_flip.h5\n",
            "Epoch 24/100\n",
            "87/87 [==============================] - 10s 110ms/step - loss: 0.1419 - mean_iou: 0.7590 - val_loss: 0.1401 - val_mean_iou: 0.7600\n",
            "\n",
            "Epoch 00024: val_loss improved from 0.14268 to 0.14006, saving model to model_h_flip.h5\n",
            "Epoch 25/100\n",
            "87/87 [==============================] - 10s 109ms/step - loss: 0.1317 - mean_iou: 0.7612 - val_loss: 0.1385 - val_mean_iou: 0.7624\n",
            "\n",
            "Epoch 00025: val_loss improved from 0.14006 to 0.13854, saving model to model_h_flip.h5\n",
            "Epoch 26/100\n",
            "87/87 [==============================] - 10s 111ms/step - loss: 0.1359 - mean_iou: 0.7635 - val_loss: 0.1442 - val_mean_iou: 0.7645\n",
            "\n",
            "Epoch 00026: val_loss did not improve from 0.13854\n",
            "Epoch 27/100\n",
            "87/87 [==============================] - 10s 110ms/step - loss: 0.1276 - mean_iou: 0.7657 - val_loss: 0.1418 - val_mean_iou: 0.7667\n",
            "\n",
            "Epoch 00027: val_loss did not improve from 0.13854\n",
            "Epoch 28/100\n",
            "87/87 [==============================] - 10s 110ms/step - loss: 0.1275 - mean_iou: 0.7677 - val_loss: 0.1444 - val_mean_iou: 0.7687\n",
            "\n",
            "Epoch 00028: ReduceLROnPlateau reducing learning rate to 1.0000000474974514e-05.\n",
            "\n",
            "Epoch 00028: val_loss did not improve from 0.13854\n",
            "Epoch 29/100\n",
            "87/87 [==============================] - 10s 110ms/step - loss: 0.1332 - mean_iou: 0.7696 - val_loss: 0.1417 - val_mean_iou: 0.7705\n",
            "\n",
            "Epoch 00029: val_loss did not improve from 0.13854\n",
            "Epoch 30/100\n",
            "87/87 [==============================] - 10s 109ms/step - loss: 0.1208 - mean_iou: 0.7715 - val_loss: 0.1403 - val_mean_iou: 0.7725\n",
            "\n",
            "Epoch 00030: val_loss did not improve from 0.13854\n",
            "Epoch 31/100\n",
            "87/87 [==============================] - 10s 110ms/step - loss: 0.1195 - mean_iou: 0.7734 - val_loss: 0.1391 - val_mean_iou: 0.7744\n",
            "\n",
            "Epoch 00031: ReduceLROnPlateau reducing learning rate to 1.0000000656873453e-06.\n",
            "\n",
            "Epoch 00031: val_loss did not improve from 0.13854\n",
            "Epoch 32/100\n",
            "87/87 [==============================] - 9s 109ms/step - loss: 0.1293 - mean_iou: 0.7753 - val_loss: 0.1382 - val_mean_iou: 0.7761\n",
            "\n",
            "Epoch 00032: val_loss improved from 0.13854 to 0.13817, saving model to model_h_flip.h5\n",
            "Epoch 33/100\n",
            "87/87 [==============================] - 10s 110ms/step - loss: 0.1235 - mean_iou: 0.7769 - val_loss: 0.1385 - val_mean_iou: 0.7777\n",
            "\n",
            "Epoch 00033: val_loss did not improve from 0.13817\n",
            "Epoch 34/100\n",
            "87/87 [==============================] - 10s 109ms/step - loss: 0.1270 - mean_iou: 0.7784 - val_loss: 0.1391 - val_mean_iou: 0.7791\n",
            "\n",
            "Epoch 00034: val_loss did not improve from 0.13817\n",
            "Epoch 35/100\n",
            "87/87 [==============================] - 10s 109ms/step - loss: 0.1265 - mean_iou: 0.7799 - val_loss: 0.1391 - val_mean_iou: 0.7806\n",
            "\n",
            "Epoch 00035: ReduceLROnPlateau reducing learning rate to 1e-06.\n",
            "\n",
            "Epoch 00035: val_loss did not improve from 0.13817\n",
            "Epoch 36/100\n",
            "87/87 [==============================] - 9s 109ms/step - loss: 0.1269 - mean_iou: 0.7812 - val_loss: 0.1384 - val_mean_iou: 0.7818\n",
            "\n",
            "Epoch 00036: val_loss did not improve from 0.13817\n",
            "Epoch 37/100\n",
            "87/87 [==============================] - 9s 108ms/step - loss: 0.1236 - mean_iou: 0.7825 - val_loss: 0.1389 - val_mean_iou: 0.7831\n",
            "\n",
            "Epoch 00037: val_loss did not improve from 0.13817\n",
            "Epoch 38/100\n",
            "87/87 [==============================] - 10s 109ms/step - loss: 0.1180 - mean_iou: 0.7838 - val_loss: 0.1385 - val_mean_iou: 0.7844\n",
            "\n",
            "Epoch 00038: val_loss did not improve from 0.13817\n",
            "Epoch 39/100\n",
            "87/87 [==============================] - 9s 109ms/step - loss: 0.1296 - mean_iou: 0.7849 - val_loss: 0.1387 - val_mean_iou: 0.7855\n",
            "\n",
            "Epoch 00039: val_loss did not improve from 0.13817\n",
            "Epoch 40/100\n",
            "87/87 [==============================] - 9s 109ms/step - loss: 0.1224 - mean_iou: 0.7861 - val_loss: 0.1382 - val_mean_iou: 0.7866\n",
            "\n",
            "Epoch 00040: val_loss did not improve from 0.13817\n",
            "Epoch 41/100\n",
            "87/87 [==============================] - 9s 108ms/step - loss: 0.1226 - mean_iou: 0.7871 - val_loss: 0.1385 - val_mean_iou: 0.7877\n",
            "\n",
            "Epoch 00041: val_loss did not improve from 0.13817\n",
            "Epoch 42/100\n",
            "87/87 [==============================] - 10s 109ms/step - loss: 0.1266 - mean_iou: 0.7882 - val_loss: 0.1384 - val_mean_iou: 0.7887\n",
            "\n",
            "Epoch 00042: val_loss did not improve from 0.13817\n",
            "Epoch 00042: early stopping\n"
          ],
          "name": "stdout"
        }
      ]
    },
    {
      "cell_type": "code",
      "metadata": {
        "id": "hvhRvCQMjprY",
        "colab_type": "code",
        "colab": {
          "base_uri": "https://localhost:8080/",
          "height": 513
        },
        "outputId": "d7985613-9cc6-4c43-e1f0-6f2d8099cc4f"
      },
      "source": [
        "plt.figure(figsize=(8, 8))\n",
        "plt.title(\"Learning curve\")\n",
        "plt.plot(results_h_flip.history[\"loss\"], label=\"loss\")\n",
        "plt.plot(results_h_flip.history[\"val_loss\"], label=\"val_loss\")\n",
        "plt.plot( np.argmin(results_h_flip.history[\"val_loss\"]), np.min(results_h_flip.history[\"val_loss\"]), marker=\"x\", color=\"r\", label=\"best model\")\n",
        "plt.xlabel(\"Epochs\")\n",
        "plt.ylabel(\"log_loss\")\n",
        "plt.legend();"
      ],
      "execution_count": 37,
      "outputs": [
        {
          "output_type": "display_data",
          "data": {
            "image/png": "[encoded data removed]",
            "text/plain": [
              "<Figure size 576x576 with 1 Axes>"
            ]
          },
          "metadata": {
            "tags": []
          }
        }
      ]
    },
    {
      "cell_type": "markdown",
      "metadata": {
        "id": "lfsLe4tgqZeV",
        "colab_type": "text"
      },
      "source": [
        "##U-Net-Modell mit Data Augmentation (v-Flip)"
      ]
    },
    {
      "cell_type": "code",
      "metadata": {
        "id": "WGY9APlOwsET",
        "colab_type": "code",
        "colab": {}
      },
      "source": [
        "# EarlyStopping arguments\n",
        "# patience            number of epochs that produced the monitored quantity with\n",
        "#                     no improvement after which training will be stopped\n",
        "# verbose             0 = silent, 1 = progress bar, 2 = one line per epoch\n",
        "\n",
        "# ReduceLROnPlateau arguments\n",
        "# factor              factor by which the learning rate will be reduced\n",
        "#                     new_lr = lr * factor\n",
        "# patience            number of epochs that produced the monitored quantity with\n",
        "#                     no improvement after which training will be stopped\n",
        "# min_lr              lower bound on the learning rate\n",
        "# verbose             0 = silent, 1 = progress bar, 2 = one line per epoch\n",
        "\n",
        "# ModelCheckpoint arguments\n",
        "# filepath            path to save the model file\n",
        "# verbose             0 = silent, 1 = progress bar, 2 = one line per epoch\n",
        "# save_best_only      if save_best_only=True, the latest best model according \n",
        "#                     to the quantity monitored will not be overwritten\n",
        "# save_weights_only   if True, then only the model's weights will be saved\n",
        "\n",
        "filepath_v_flip = 'model_v_flip.h5'\n",
        "\n",
        "callbacks_v_flip = [\n",
        "    EarlyStopping(\n",
        "        patience = 10, \n",
        "        verbose = 1),\n",
        "    ReduceLROnPlateau(\n",
        "        factor = 0.1, \n",
        "        patience = 3, \n",
        "        min_lr = 0.000001, \n",
        "        verbose = 1),\n",
        "    ModelCheckpoint(\n",
        "        filepath_v_flip, \n",
        "        verbose = 1, \n",
        "        save_best_only = True, \n",
        "        save_weights_only = True)\n",
        "]"
      ],
      "execution_count": 0,
      "outputs": []
    },
    {
      "cell_type": "code",
      "metadata": {
        "id": "-U-EYggNw7cV",
        "colab_type": "code",
        "colab": {}
      },
      "source": [
        "# get_image_mask_generator arguments\n",
        "# X                     \n",
        "# y\n",
        "# do_horizontal_flip    \n",
        "# do_vertical_flip      \n",
        "# seed                  \n",
        "# batch_size            \n",
        "\n",
        "seed_v_flip = seed_h_flip\n",
        "batch_size_v_flip = batch_size_h_flip\n",
        "\n",
        "train_generator_v_flip = get_image_mask_generator(\n",
        "    X_train, \n",
        "    y_train, \n",
        "    do_horizontal_flip = False, \n",
        "    do_vertical_flip = True, \n",
        "    seed = seed_v_flip, \n",
        "    batch_size = batch_size_v_flip)"
      ],
      "execution_count": 0,
      "outputs": []
    },
    {
      "cell_type": "code",
      "metadata": {
        "id": "C1ApFvwE24cL",
        "colab_type": "code",
        "colab": {
          "base_uri": "https://localhost:8080/",
          "height": 1000
        },
        "outputId": "3569cdf1-518d-4895-c2dc-51903be48ab7"
      },
      "source": [
        "steps_per_epoch_v_flip = (len(X_train) // batch_size_v_flip)\n",
        "epochs_v_flip = epochs_std\n",
        "\n",
        "results_v_flip = model_v_flip.fit_generator(\n",
        "    train_generator_v_flip, \n",
        "    steps_per_epoch = steps_per_epoch_v_flip, \n",
        "    epochs = epochs_v_flip,\n",
        "    callbacks = callbacks_v_flip,\n",
        "    validation_data = (X_valid, y_valid))"
      ],
      "execution_count": 40,
      "outputs": [
        {
          "output_type": "stream",
          "text": [
            "Epoch 1/100\n",
            "87/87 [==============================] - 19s 219ms/step - loss: 0.5865 - mean_iou: 0.3946 - val_loss: 0.8645 - val_mean_iou: 0.4645\n",
            "\n",
            "Epoch 00001: val_loss improved from inf to 0.86455, saving model to model_v_flip.h5\n",
            "Epoch 2/100\n",
            "87/87 [==============================] - 10s 111ms/step - loss: 0.4139 - mean_iou: 0.4881 - val_loss: 0.7213 - val_mean_iou: 0.5077\n",
            "\n",
            "Epoch 00002: val_loss improved from 0.86455 to 0.72127, saving model to model_v_flip.h5\n",
            "Epoch 3/100\n",
            "87/87 [==============================] - 9s 109ms/step - loss: 0.3458 - mean_iou: 0.5304 - val_loss: 0.5835 - val_mean_iou: 0.5398\n",
            "\n",
            "Epoch 00003: val_loss improved from 0.72127 to 0.58345, saving model to model_v_flip.h5\n",
            "Epoch 4/100\n",
            "87/87 [==============================] - 10s 110ms/step - loss: 0.3306 - mean_iou: 0.5439 - val_loss: 0.3215 - val_mean_iou: 0.5564\n",
            "\n",
            "Epoch 00004: val_loss improved from 0.58345 to 0.32151, saving model to model_v_flip.h5\n",
            "Epoch 5/100\n",
            "87/87 [==============================] - 10s 110ms/step - loss: 0.2958 - mean_iou: 0.5689 - val_loss: 0.3206 - val_mean_iou: 0.5781\n",
            "\n",
            "Epoch 00005: val_loss improved from 0.32151 to 0.32064, saving model to model_v_flip.h5\n",
            "Epoch 6/100\n",
            "87/87 [==============================] - 10s 110ms/step - loss: 0.2887 - mean_iou: 0.5842 - val_loss: 0.7335 - val_mean_iou: 0.5907\n",
            "\n",
            "Epoch 00006: val_loss did not improve from 0.32064\n",
            "Epoch 7/100\n",
            "87/87 [==============================] - 10s 110ms/step - loss: 0.2553 - mean_iou: 0.5985 - val_loss: 0.3159 - val_mean_iou: 0.6066\n",
            "\n",
            "Epoch 00007: val_loss improved from 0.32064 to 0.31589, saving model to model_v_flip.h5\n",
            "Epoch 8/100\n",
            "87/87 [==============================] - 10s 111ms/step - loss: 0.2637 - mean_iou: 0.6126 - val_loss: 0.2765 - val_mean_iou: 0.6183\n",
            "\n",
            "Epoch 00008: val_loss improved from 0.31589 to 0.27655, saving model to model_v_flip.h5\n",
            "Epoch 9/100\n",
            "87/87 [==============================] - 10s 110ms/step - loss: 0.2494 - mean_iou: 0.6233 - val_loss: 0.2378 - val_mean_iou: 0.6286\n",
            "\n",
            "Epoch 00009: val_loss improved from 0.27655 to 0.23779, saving model to model_v_flip.h5\n",
            "Epoch 10/100\n",
            "87/87 [==============================] - 10s 110ms/step - loss: 0.2284 - mean_iou: 0.6342 - val_loss: 0.3002 - val_mean_iou: 0.6393\n",
            "\n",
            "Epoch 00010: val_loss did not improve from 0.23779\n",
            "Epoch 11/100\n",
            "87/87 [==============================] - 10s 110ms/step - loss: 0.2348 - mean_iou: 0.6429 - val_loss: 0.2500 - val_mean_iou: 0.6460\n",
            "\n",
            "Epoch 00011: val_loss did not improve from 0.23779\n",
            "Epoch 12/100\n",
            "87/87 [==============================] - 10s 109ms/step - loss: 0.2249 - mean_iou: 0.6492 - val_loss: 0.3051 - val_mean_iou: 0.6517\n",
            "\n",
            "Epoch 00012: ReduceLROnPlateau reducing learning rate to 0.00010000000474974513.\n",
            "\n",
            "Epoch 00012: val_loss did not improve from 0.23779\n",
            "Epoch 13/100\n",
            "87/87 [==============================] - 10s 110ms/step - loss: 0.2058 - mean_iou: 0.6541 - val_loss: 0.1843 - val_mean_iou: 0.6577\n",
            "\n",
            "Epoch 00013: val_loss improved from 0.23779 to 0.18429, saving model to model_v_flip.h5\n",
            "Epoch 14/100\n",
            "87/87 [==============================] - 10s 109ms/step - loss: 0.1820 - mean_iou: 0.6616 - val_loss: 0.1788 - val_mean_iou: 0.6652\n",
            "\n",
            "Epoch 00014: val_loss improved from 0.18429 to 0.17881, saving model to model_v_flip.h5\n",
            "Epoch 15/100\n",
            "87/87 [==============================] - 10s 110ms/step - loss: 0.1880 - mean_iou: 0.6682 - val_loss: 0.1774 - val_mean_iou: 0.6714\n",
            "\n",
            "Epoch 00015: val_loss improved from 0.17881 to 0.17736, saving model to model_v_flip.h5\n",
            "Epoch 16/100\n",
            "87/87 [==============================] - 10s 110ms/step - loss: 0.1888 - mean_iou: 0.6746 - val_loss: 0.1739 - val_mean_iou: 0.6773\n",
            "\n",
            "Epoch 00016: val_loss improved from 0.17736 to 0.17389, saving model to model_v_flip.h5\n",
            "Epoch 17/100\n",
            "87/87 [==============================] - 10s 110ms/step - loss: 0.1766 - mean_iou: 0.6801 - val_loss: 0.1748 - val_mean_iou: 0.6828\n",
            "\n",
            "Epoch 00017: val_loss did not improve from 0.17389\n",
            "Epoch 18/100\n",
            "87/87 [==============================] - 10s 110ms/step - loss: 0.1873 - mean_iou: 0.6853 - val_loss: 0.1730 - val_mean_iou: 0.6876\n",
            "\n",
            "Epoch 00018: val_loss improved from 0.17389 to 0.17299, saving model to model_v_flip.h5\n",
            "Epoch 19/100\n",
            "87/87 [==============================] - 10s 110ms/step - loss: 0.1775 - mean_iou: 0.6901 - val_loss: 0.1714 - val_mean_iou: 0.6921\n",
            "\n",
            "Epoch 00019: val_loss improved from 0.17299 to 0.17142, saving model to model_v_flip.h5\n",
            "Epoch 20/100\n",
            "87/87 [==============================] - 10s 110ms/step - loss: 0.1779 - mean_iou: 0.6941 - val_loss: 0.1706 - val_mean_iou: 0.6961\n",
            "\n",
            "Epoch 00020: val_loss improved from 0.17142 to 0.17062, saving model to model_v_flip.h5\n",
            "Epoch 21/100\n",
            "87/87 [==============================] - 10s 110ms/step - loss: 0.1748 - mean_iou: 0.6980 - val_loss: 0.1649 - val_mean_iou: 0.7000\n",
            "\n",
            "Epoch 00021: val_loss improved from 0.17062 to 0.16492, saving model to model_v_flip.h5\n",
            "Epoch 22/100\n",
            "87/87 [==============================] - 10s 110ms/step - loss: 0.1814 - mean_iou: 0.7017 - val_loss: 0.1708 - val_mean_iou: 0.7033\n",
            "\n",
            "Epoch 00022: val_loss did not improve from 0.16492\n",
            "Epoch 23/100\n",
            "87/87 [==============================] - 10s 110ms/step - loss: 0.1629 - mean_iou: 0.7052 - val_loss: 0.1682 - val_mean_iou: 0.7070\n",
            "\n",
            "Epoch 00023: val_loss did not improve from 0.16492\n",
            "Epoch 24/100\n",
            "87/87 [==============================] - 10s 110ms/step - loss: 0.1720 - mean_iou: 0.7086 - val_loss: 0.1693 - val_mean_iou: 0.7102\n",
            "\n",
            "Epoch 00024: ReduceLROnPlateau reducing learning rate to 1.0000000474974514e-05.\n",
            "\n",
            "Epoch 00024: val_loss did not improve from 0.16492\n",
            "Epoch 25/100\n",
            "87/87 [==============================] - 9s 109ms/step - loss: 0.1642 - mean_iou: 0.7117 - val_loss: 0.1650 - val_mean_iou: 0.7132\n",
            "\n",
            "Epoch 00025: val_loss did not improve from 0.16492\n",
            "Epoch 26/100\n",
            "87/87 [==============================] - 10s 110ms/step - loss: 0.1683 - mean_iou: 0.7147 - val_loss: 0.1644 - val_mean_iou: 0.7160\n",
            "\n",
            "Epoch 00026: val_loss improved from 0.16492 to 0.16443, saving model to model_v_flip.h5\n",
            "Epoch 27/100\n",
            "87/87 [==============================] - 10s 110ms/step - loss: 0.1551 - mean_iou: 0.7175 - val_loss: 0.1637 - val_mean_iou: 0.7189\n",
            "\n",
            "Epoch 00027: val_loss improved from 0.16443 to 0.16371, saving model to model_v_flip.h5\n",
            "Epoch 28/100\n",
            "87/87 [==============================] - 10s 110ms/step - loss: 0.1576 - mean_iou: 0.7203 - val_loss: 0.1636 - val_mean_iou: 0.7216\n",
            "\n",
            "Epoch 00028: val_loss improved from 0.16371 to 0.16362, saving model to model_v_flip.h5\n",
            "Epoch 29/100\n",
            "87/87 [==============================] - 10s 110ms/step - loss: 0.1684 - mean_iou: 0.7228 - val_loss: 0.1633 - val_mean_iou: 0.7239\n",
            "\n",
            "Epoch 00029: val_loss improved from 0.16362 to 0.16335, saving model to model_v_flip.h5\n",
            "Epoch 30/100\n",
            "87/87 [==============================] - 10s 109ms/step - loss: 0.1552 - mean_iou: 0.7251 - val_loss: 0.1644 - val_mean_iou: 0.7262\n",
            "\n",
            "Epoch 00030: val_loss did not improve from 0.16335\n",
            "Epoch 31/100\n",
            "87/87 [==============================] - 10s 111ms/step - loss: 0.1574 - mean_iou: 0.7273 - val_loss: 0.1633 - val_mean_iou: 0.7285\n",
            "\n",
            "Epoch 00031: val_loss improved from 0.16335 to 0.16329, saving model to model_v_flip.h5\n",
            "Epoch 32/100\n",
            "87/87 [==============================] - 10s 110ms/step - loss: 0.1668 - mean_iou: 0.7295 - val_loss: 0.1628 - val_mean_iou: 0.7305\n",
            "\n",
            "Epoch 00032: val_loss improved from 0.16329 to 0.16279, saving model to model_v_flip.h5\n",
            "Epoch 33/100\n",
            "87/87 [==============================] - 10s 110ms/step - loss: 0.1618 - mean_iou: 0.7315 - val_loss: 0.1632 - val_mean_iou: 0.7323\n",
            "\n",
            "Epoch 00033: val_loss did not improve from 0.16279\n",
            "Epoch 34/100\n",
            "87/87 [==============================] - 10s 110ms/step - loss: 0.1646 - mean_iou: 0.7332 - val_loss: 0.1635 - val_mean_iou: 0.7341\n",
            "\n",
            "Epoch 00034: val_loss did not improve from 0.16279\n",
            "Epoch 35/100\n",
            "87/87 [==============================] - 9s 109ms/step - loss: 0.1631 - mean_iou: 0.7350 - val_loss: 0.1635 - val_mean_iou: 0.7358\n",
            "\n",
            "Epoch 00035: ReduceLROnPlateau reducing learning rate to 1.0000000656873453e-06.\n",
            "\n",
            "Epoch 00035: val_loss did not improve from 0.16279\n",
            "Epoch 36/100\n",
            "87/87 [==============================] - 10s 109ms/step - loss: 0.1672 - mean_iou: 0.7365 - val_loss: 0.1630 - val_mean_iou: 0.7372\n",
            "\n",
            "Epoch 00036: val_loss did not improve from 0.16279\n",
            "Epoch 37/100\n",
            "87/87 [==============================] - 10s 110ms/step - loss: 0.1646 - mean_iou: 0.7380 - val_loss: 0.1630 - val_mean_iou: 0.7386\n",
            "\n",
            "Epoch 00037: val_loss did not improve from 0.16279\n",
            "Epoch 38/100\n",
            "87/87 [==============================] - 10s 110ms/step - loss: 0.1514 - mean_iou: 0.7394 - val_loss: 0.1631 - val_mean_iou: 0.7402\n",
            "\n",
            "Epoch 00038: ReduceLROnPlateau reducing learning rate to 1e-06.\n",
            "\n",
            "Epoch 00038: val_loss did not improve from 0.16279\n",
            "Epoch 39/100\n",
            "87/87 [==============================] - 9s 109ms/step - loss: 0.1672 - mean_iou: 0.7408 - val_loss: 0.1631 - val_mean_iou: 0.7415\n",
            "\n",
            "Epoch 00039: val_loss did not improve from 0.16279\n",
            "Epoch 40/100\n",
            "87/87 [==============================] - 10s 110ms/step - loss: 0.1635 - mean_iou: 0.7421 - val_loss: 0.1625 - val_mean_iou: 0.7427\n",
            "\n",
            "Epoch 00040: val_loss improved from 0.16279 to 0.16245, saving model to model_v_flip.h5\n",
            "Epoch 41/100\n",
            "87/87 [==============================] - 10s 110ms/step - loss: 0.1616 - mean_iou: 0.7433 - val_loss: 0.1629 - val_mean_iou: 0.7440\n",
            "\n",
            "Epoch 00041: val_loss did not improve from 0.16245\n",
            "Epoch 42/100\n",
            "87/87 [==============================] - 10s 110ms/step - loss: 0.1643 - mean_iou: 0.7445 - val_loss: 0.1629 - val_mean_iou: 0.7451\n",
            "\n",
            "Epoch 00042: val_loss did not improve from 0.16245\n",
            "Epoch 43/100\n",
            "87/87 [==============================] - 10s 109ms/step - loss: 0.1514 - mean_iou: 0.7458 - val_loss: 0.1632 - val_mean_iou: 0.7464\n",
            "\n",
            "Epoch 00043: val_loss did not improve from 0.16245\n",
            "Epoch 44/100\n",
            "87/87 [==============================] - 10s 111ms/step - loss: 0.1657 - mean_iou: 0.7469 - val_loss: 0.1626 - val_mean_iou: 0.7475\n",
            "\n",
            "Epoch 00044: val_loss did not improve from 0.16245\n",
            "Epoch 45/100\n",
            "87/87 [==============================] - 9s 109ms/step - loss: 0.1655 - mean_iou: 0.7480 - val_loss: 0.1630 - val_mean_iou: 0.7484\n",
            "\n",
            "Epoch 00045: val_loss did not improve from 0.16245\n",
            "Epoch 46/100\n",
            "87/87 [==============================] - 9s 109ms/step - loss: 0.1684 - mean_iou: 0.7489 - val_loss: 0.1628 - val_mean_iou: 0.7493\n",
            "\n",
            "Epoch 00046: val_loss did not improve from 0.16245\n",
            "Epoch 47/100\n",
            "87/87 [==============================] - 10s 110ms/step - loss: 0.1497 - mean_iou: 0.7499 - val_loss: 0.1629 - val_mean_iou: 0.7504\n",
            "\n",
            "Epoch 00047: val_loss did not improve from 0.16245\n",
            "Epoch 48/100\n",
            "87/87 [==============================] - 10s 110ms/step - loss: 0.1592 - mean_iou: 0.7509 - val_loss: 0.1630 - val_mean_iou: 0.7513\n",
            "\n",
            "Epoch 00048: val_loss did not improve from 0.16245\n",
            "Epoch 49/100\n",
            "87/87 [==============================] - 10s 110ms/step - loss: 0.1620 - mean_iou: 0.7517 - val_loss: 0.1633 - val_mean_iou: 0.7521\n",
            "\n",
            "Epoch 00049: val_loss did not improve from 0.16245\n",
            "Epoch 50/100\n",
            "87/87 [==============================] - 10s 110ms/step - loss: 0.1504 - mean_iou: 0.7526 - val_loss: 0.1634 - val_mean_iou: 0.7531\n",
            "\n",
            "Epoch 00050: val_loss did not improve from 0.16245\n",
            "Epoch 00050: early stopping\n"
          ],
          "name": "stdout"
        }
      ]
    },
    {
      "cell_type": "markdown",
      "metadata": {
        "id": "yxo9jANEfS6q",
        "colab_type": "text"
      },
      "source": [
        "#Evaluation der U-Net-Modelle"
      ]
    },
    {
      "cell_type": "markdown",
      "metadata": {
        "id": "En5VBXBj34eS",
        "colab_type": "text"
      },
      "source": [
        "##Plot-Funktionen"
      ]
    },
    {
      "cell_type": "code",
      "metadata": {
        "id": "dmwaEUxbJRQw",
        "colab_type": "code",
        "colab": {}
      },
      "source": [
        "import random"
      ],
      "execution_count": 0,
      "outputs": []
    },
    {
      "cell_type": "code",
      "metadata": {
        "id": "xTmJDEgRWklf",
        "colab_type": "code",
        "colab": {}
      },
      "source": [
        "def plot_sample(X, y, preds, binary_preds, ix=None):\n",
        "    if ix is None:\n",
        "        ix = random.randint(0, len(X))\n",
        "\n",
        "    has_mask = y[ix].max() > 0\n",
        "\n",
        "    fig, ax = plt.subplots(1, 4, figsize=(20, 10))\n",
        "    ax[0].imshow(X[ix, ..., 0], cmap = 'gray')\n",
        "    #if has_mask:\n",
        "        #ax[0].contour(y[ix].squeeze(), colors='cm.', levels=[0.5])\n",
        "    ax[0].set_title('Input')\n",
        "\n",
        "    ax[1].imshow(y[ix].squeeze())\n",
        "    ax[1].set_title('Ground truth')\n",
        "\n",
        "    ax[2].imshow(preds[ix].squeeze(), vmin=0, vmax=1)\n",
        "    if has_mask:\n",
        "        ax[2].contour(y[ix].squeeze(), colors='red', levels=[0.5])\n",
        "    ax[2].set_title('Predicted')\n",
        "    \n",
        "    ax[3].imshow(binary_preds[ix].squeeze(), vmin=0, vmax=1)\n",
        "    if has_mask:\n",
        "        ax[3].contour(y[ix].squeeze(), colors='red', levels=[0.5])\n",
        "    ax[3].set_title('Predicted binary');"
      ],
      "execution_count": 0,
      "outputs": []
    },
    {
      "cell_type": "code",
      "metadata": {
        "id": "KGOh4dlcBTC4",
        "colab_type": "code",
        "colab": {}
      },
      "source": [
        "def plot_thresholds(thresholds, threshold_best, ious, iou_best):\n",
        "    plt.plot(thresholds, ious)\n",
        "    plt.plot(threshold_best, iou_best, \"xr\", label=\"Best threshold\")\n",
        "    plt.xlabel(\"Threshold\")\n",
        "    plt.ylabel(\"IoU\")\n",
        "    plt.title(\"Threshold vs IoU ({}, {})\".format(threshold_best, iou_best))\n",
        "    plt.legend()"
      ],
      "execution_count": 0,
      "outputs": []
    },
    {
      "cell_type": "markdown",
      "metadata": {
        "id": "F5SLykviaPYq",
        "colab_type": "text"
      },
      "source": [
        "##Threshold-Optimierung"
      ]
    },
    {
      "cell_type": "code",
      "metadata": {
        "id": "BY_yxx155XuR",
        "colab_type": "code",
        "colab": {}
      },
      "source": [
        "from tqdm import tqdm_notebook"
      ],
      "execution_count": 0,
      "outputs": []
    },
    {
      "cell_type": "code",
      "metadata": {
        "id": "ERVA5KNF5ezR",
        "colab_type": "code",
        "colab": {}
      },
      "source": [
        "# src: https://www.kaggle.com/aglotero/another-iou-metric\n",
        "def iou_metric(y_true_in, y_pred_in, print_table=False):\n",
        "    labels = y_true_in\n",
        "    y_pred = y_pred_in\n",
        "    \n",
        "    true_objects = 2\n",
        "    pred_objects = 2\n",
        "\n",
        "    intersection = np.histogram2d(labels.flatten(), y_pred.flatten(), bins=(true_objects, pred_objects))[0]\n",
        "\n",
        "    # Compute areas (needed for finding the union between all objects)\n",
        "    area_true = np.histogram(labels, bins = true_objects)[0]\n",
        "    area_pred = np.histogram(y_pred, bins = pred_objects)[0]\n",
        "    area_true = np.expand_dims(area_true, -1)\n",
        "    area_pred = np.expand_dims(area_pred, 0)\n",
        "\n",
        "    # Compute union\n",
        "    union = area_true + area_pred - intersection\n",
        "\n",
        "    # Exclude background from the analysis\n",
        "    intersection = intersection[1:,1:]\n",
        "    union = union[1:,1:]\n",
        "    union[union == 0] = 1e-9\n",
        "\n",
        "    # Compute the intersection over union\n",
        "    iou = intersection / union\n",
        "\n",
        "    # Precision helper function\n",
        "    def precision_at(threshold, iou):\n",
        "        matches = iou > threshold\n",
        "        true_positives = np.sum(matches, axis=1) == 1   # Correct objects\n",
        "        false_positives = np.sum(matches, axis=0) == 0  # Missed objects\n",
        "        false_negatives = np.sum(matches, axis=1) == 0  # Extra objects\n",
        "        tp, fp, fn = np.sum(true_positives), np.sum(false_positives), np.sum(false_negatives)\n",
        "        return tp, fp, fn\n",
        "\n",
        "    # Loop over IoU thresholds\n",
        "    prec = []\n",
        "    if print_table:\n",
        "        print(\"Thresh\\tTP\\tFP\\tFN\\tPrec.\")\n",
        "    for t in np.arange(0.5, 1.0, 0.05):\n",
        "        tp, fp, fn = precision_at(t, iou)\n",
        "        if (tp + fp + fn) > 0:\n",
        "            p = tp / (tp + fp + fn)\n",
        "        else:\n",
        "            p = 0\n",
        "        if print_table:\n",
        "            print(\"{:1.3f}\\t{}\\t{}\\t{}\\t{:1.3f}\".format(t, tp, fp, fn, p))\n",
        "        prec.append(p)\n",
        "    \n",
        "    if print_table:\n",
        "        print(\"AP\\t-\\t-\\t-\\t{:1.3f}\".format(np.mean(prec)))\n",
        "    return np.mean(prec)\n",
        "\n",
        "def iou_metric_batch(y_true_in, y_pred_in):\n",
        "    batch_size = y_true_in.shape[0]\n",
        "    metric = []\n",
        "    for batch in range(batch_size):\n",
        "        value = iou_metric(y_true_in[batch], y_pred_in[batch])\n",
        "        metric.append(value)\n",
        "    return np.mean(metric)"
      ],
      "execution_count": 0,
      "outputs": []
    },
    {
      "cell_type": "markdown",
      "metadata": {
        "id": "NngqRYDjV6bV",
        "colab_type": "text"
      },
      "source": [
        "##U-Net-Modell ohne Data Augmentation (std)"
      ]
    },
    {
      "cell_type": "code",
      "metadata": {
        "id": "GfYL8krnWHll",
        "colab_type": "code",
        "colab": {}
      },
      "source": [
        "# Load best model\n",
        "model_std.load_weights(filepath_std)"
      ],
      "execution_count": 0,
      "outputs": []
    },
    {
      "cell_type": "code",
      "metadata": {
        "id": "g6W9IzniJIR8",
        "colab_type": "code",
        "colab": {
          "base_uri": "https://localhost:8080/",
          "height": 34
        },
        "outputId": "ac70a60e-1d88-4bff-fa26-4742fd483fa4"
      },
      "source": [
        "# Evaluate on train set (this must be equals to the best log_loss)\n",
        "model_std_eva_train = model_std.evaluate(X_train, y_train, verbose=1)"
      ],
      "execution_count": 47,
      "outputs": [
        {
          "output_type": "stream",
          "text": [
            "2800/2800 [==============================] - 5s 2ms/step\n"
          ],
          "name": "stdout"
        }
      ]
    },
    {
      "cell_type": "code",
      "metadata": {
        "id": "osfzvMWXWMZY",
        "colab_type": "code",
        "colab": {
          "base_uri": "https://localhost:8080/",
          "height": 34
        },
        "outputId": "802ddd9e-02d3-4953-9ba9-e07cf243f61f"
      },
      "source": [
        "# Evaluate on validation set (this must be equals to the best log_loss)\n",
        "model_std_eva_valid = model_std.evaluate(X_valid, y_valid, verbose=1)"
      ],
      "execution_count": 48,
      "outputs": [
        {
          "output_type": "stream",
          "text": [
            "800/800 [==============================] - 1s 2ms/step\n"
          ],
          "name": "stdout"
        }
      ]
    },
    {
      "cell_type": "code",
      "metadata": {
        "id": "b3nTRM0UJOBP",
        "colab_type": "code",
        "colab": {
          "base_uri": "https://localhost:8080/",
          "height": 34
        },
        "outputId": "b6c01039-3dce-43f3-d9e7-859e9ed673aa"
      },
      "source": [
        "# Evaluate on validation set (this must be equals to the best log_loss)\n",
        "model_std_eva_test = model_std.evaluate(X_test, y_test, verbose=1)"
      ],
      "execution_count": 49,
      "outputs": [
        {
          "output_type": "stream",
          "text": [
            "400/400 [==============================] - 1s 2ms/step\n"
          ],
          "name": "stdout"
        }
      ]
    },
    {
      "cell_type": "code",
      "metadata": {
        "id": "mXHa81T7Wcmw",
        "colab_type": "code",
        "colab": {
          "base_uri": "https://localhost:8080/",
          "height": 68
        },
        "outputId": "15b1d471-1c6e-4b4d-b17b-5a5b0393882f"
      },
      "source": [
        "# Predict on train, val and test\n",
        "preds_train_std = model_std.predict(X_train, verbose=1)\n",
        "preds_val_std = model_std.predict(X_valid, verbose=1)\n",
        "preds_test_std = model_std.predict(X_test, verbose=1)"
      ],
      "execution_count": 50,
      "outputs": [
        {
          "output_type": "stream",
          "text": [
            "2800/2800 [==============================] - 4s 1ms/step\n",
            "800/800 [==============================] - 1s 690us/step\n",
            "400/400 [==============================] - 0s 697us/step\n"
          ],
          "name": "stdout"
        }
      ]
    },
    {
      "cell_type": "code",
      "metadata": {
        "id": "_pDMYserCU27",
        "colab_type": "code",
        "colab": {
          "base_uri": "https://localhost:8080/",
          "height": 66,
          "referenced_widgets": [
            "25099c8ab7fd43d0b7a0b16f6b37fceb",
            "bfe64ca274fa4bd0b4f1b95789facaa6",
            "9a0dbedab0d34580a3f4e6a8b5080f00",
            "1d5cad96535d4474bc67cac873de7d4c",
            "9fdcd5a7c6a94400a55457ffd6d53ebe",
            "659b88b8e9d9428bb95c63dba1d7cde2",
            "232f2893eb9b49558dcd596ebc555c77",
            "0d261ddf565e48e585d0bea9bbb23c5a"
          ]
        },
        "outputId": "bed8dfa0-2da4-4226-bcb4-8f8a5d81a7b1"
      },
      "source": [
        "thresholds_std = np.linspace(0, 1 ,50)\n",
        "\n",
        "ious_std = np.array([iou_metric_batch(y_valid, np.int32(preds_val_std > threshold)) for threshold in tqdm_notebook(thresholds_std)])"
      ],
      "execution_count": 51,
      "outputs": [
        {
          "output_type": "display_data",
          "data": {
            "application/vnd.jupyter.widget-view+json": {
              "model_id": "25099c8ab7fd43d0b7a0b16f6b37fceb",
              "version_minor": 0,
              "version_major": 2
            },
            "text/plain": [
              "HBox(children=(IntProgress(value=0, max=50), HTML(value='')))"
            ]
          },
          "metadata": {
            "tags": []
          }
        },
        {
          "output_type": "stream",
          "text": [
            "\n"
          ],
          "name": "stdout"
        }
      ]
    },
    {
      "cell_type": "code",
      "metadata": {
        "id": "nE0ZB0p6_5d3",
        "colab_type": "code",
        "colab": {}
      },
      "source": [
        "\n",
        "threshold_best_index_std = np.argmax(ious_std[9:-10]) + 9\n",
        "iou_best_std = ious_std[threshold_best_index_std]\n",
        "threshold_best_std = thresholds_std[threshold_best_index_std]"
      ],
      "execution_count": 0,
      "outputs": []
    },
    {
      "cell_type": "code",
      "metadata": {
        "id": "CBSO9q7oByT1",
        "colab_type": "code",
        "colab": {
          "base_uri": "https://localhost:8080/",
          "height": 295
        },
        "outputId": "ef6a72ab-f980-4ab6-8b86-287fd2f56323"
      },
      "source": [
        "plot_thresholds(thresholds_std, threshold_best_std, ious_std, iou_best_std)"
      ],
      "execution_count": 53,
      "outputs": [
        {
          "output_type": "display_data",
          "data": {
            "image/png": "[encoded data removed]",
            "text/plain": [
              "<Figure size 432x288 with 1 Axes>"
            ]
          },
          "metadata": {
            "tags": []
          }
        }
      ]
    },
    {
      "cell_type": "code",
      "metadata": {
        "id": "fFuFc8zv_92X",
        "colab_type": "code",
        "colab": {}
      },
      "source": [
        "# Threshold predictions\n",
        "preds_train_t_std = (preds_train_std > threshold_best_std).astype(np.uint8)\n",
        "preds_val_t_std = (preds_val_std > threshold_best_std).astype(np.uint8)\n",
        "preds_test_t_std = (preds_test_std > threshold_best_std).astype(np.uint8)"
      ],
      "execution_count": 0,
      "outputs": []
    },
    {
      "cell_type": "code",
      "metadata": {
        "id": "pIpbnk36Wna_",
        "colab_type": "code",
        "colab": {
          "base_uri": "https://localhost:8080/",
          "height": 307
        },
        "outputId": "0739ffd6-c252-4249-d2b2-b59907d2c024"
      },
      "source": [
        "# Check if training data looks all right\n",
        "plot_sample(X_train, y_train, preds_train_std, preds_train_t_std)"
      ],
      "execution_count": 55,
      "outputs": [
        {
          "output_type": "display_data",
          "data": {
            "image/png": "[encoded data removed]",
            "text/plain": [
              "<Figure size 1440x720 with 4 Axes>"
            ]
          },
          "metadata": {
            "tags": []
          }
        }
      ]
    },
    {
      "cell_type": "code",
      "metadata": {
        "id": "yY7FrACtWvYL",
        "colab_type": "code",
        "colab": {
          "base_uri": "https://localhost:8080/",
          "height": 307
        },
        "outputId": "ab0326cb-51cc-4ff5-9a5a-dcaa1ca68666"
      },
      "source": [
        "# Check if valid data looks all right\n",
        "plot_sample(X_valid, y_valid, preds_val_std, preds_val_t_std)"
      ],
      "execution_count": 56,
      "outputs": [
        {
          "output_type": "display_data",
          "data": {
            "image/png": "[encoded data removed]",
            "text/plain": [
              "<Figure size 1440x720 with 4 Axes>"
            ]
          },
          "metadata": {
            "tags": []
          }
        }
      ]
    },
    {
      "cell_type": "code",
      "metadata": {
        "id": "jIw7QA7PnMrK",
        "colab_type": "code",
        "colab": {
          "base_uri": "https://localhost:8080/",
          "height": 307
        },
        "outputId": "e23d31b8-7664-4a67-9342-09a5405e053e"
      },
      "source": [
        "# Check if valid data looks all right\n",
        "plot_sample(X_test, y_test, preds_test_std, preds_test_t_std)"
      ],
      "execution_count": 57,
      "outputs": [
        {
          "output_type": "display_data",
          "data": {
            "image/png": "[encoded data removed]",
            "text/plain": [
              "<Figure size 1440x720 with 4 Axes>"
            ]
          },
          "metadata": {
            "tags": []
          }
        }
      ]
    },
    {
      "cell_type": "markdown",
      "metadata": {
        "id": "V8wZ0HeYWCl9",
        "colab_type": "text"
      },
      "source": [
        "##U-Net-Modell mit Data Augmentation (h-Flip)"
      ]
    },
    {
      "cell_type": "code",
      "metadata": {
        "id": "lkJZhdLkXDvX",
        "colab_type": "code",
        "colab": {}
      },
      "source": [
        "# Load best model\n",
        "model_h_flip.load_weights(filepath_h_flip)"
      ],
      "execution_count": 0,
      "outputs": []
    },
    {
      "cell_type": "code",
      "metadata": {
        "id": "eP_fT0xqV6Ov",
        "colab_type": "code",
        "colab": {
          "base_uri": "https://localhost:8080/",
          "height": 34
        },
        "outputId": "c86f434e-3fc9-4318-d68b-1def8b36f498"
      },
      "source": [
        "# Evaluate on validation set (this must be equals to the best log_loss)\n",
        "model_h_flip_eva_train = model_h_flip.evaluate(X_train, y_train, verbose=1)"
      ],
      "execution_count": 62,
      "outputs": [
        {
          "output_type": "stream",
          "text": [
            "2800/2800 [==============================] - 5s 2ms/step\n"
          ],
          "name": "stdout"
        }
      ]
    },
    {
      "cell_type": "code",
      "metadata": {
        "id": "xsHcdnsnHdWo",
        "colab_type": "code",
        "colab": {
          "base_uri": "https://localhost:8080/",
          "height": 34
        },
        "outputId": "f8dc4110-d858-4172-dac3-4bb02e3fbc9c"
      },
      "source": [
        "# Evaluate on validation set (this must be equals to the best log_loss)\n",
        "model_h_flip_eva_valid = model_h_flip.evaluate(X_valid, y_valid, verbose=1)"
      ],
      "execution_count": 63,
      "outputs": [
        {
          "output_type": "stream",
          "text": [
            "800/800 [==============================] - 1s 2ms/step\n"
          ],
          "name": "stdout"
        }
      ]
    },
    {
      "cell_type": "code",
      "metadata": {
        "id": "76OhMZ0QHSUp",
        "colab_type": "code",
        "colab": {
          "base_uri": "https://localhost:8080/",
          "height": 34
        },
        "outputId": "a90e2089-7bc7-41b6-b6ca-91493c021a22"
      },
      "source": [
        "# Evaluate on test set (this must be equals to the best log_loss)\n",
        "model_h_flip_eva_test = model_h_flip.evaluate(X_test, y_test, verbose=1)"
      ],
      "execution_count": 64,
      "outputs": [
        {
          "output_type": "stream",
          "text": [
            "400/400 [==============================] - 1s 2ms/step\n"
          ],
          "name": "stdout"
        }
      ]
    },
    {
      "cell_type": "code",
      "metadata": {
        "id": "Pun41BtJmE-8",
        "colab_type": "code",
        "colab": {
          "base_uri": "https://localhost:8080/",
          "height": 68
        },
        "outputId": "c7af2729-3845-4db7-8faa-c6c4181c40df"
      },
      "source": [
        "# Predict on train, val and test\n",
        "preds_train_h_flip = model_h_flip.predict(X_train, verbose=1)\n",
        "preds_val_h_flip = model_h_flip.predict(X_valid, verbose=1)\n",
        "preds_test_h_flip = model_h_flip.predict(X_test, verbose=1)"
      ],
      "execution_count": 65,
      "outputs": [
        {
          "output_type": "stream",
          "text": [
            "2800/2800 [==============================] - 4s 1ms/step\n",
            "800/800 [==============================] - 1s 698us/step\n",
            "400/400 [==============================] - 0s 677us/step\n"
          ],
          "name": "stdout"
        }
      ]
    },
    {
      "cell_type": "code",
      "metadata": {
        "id": "oOthvs83Cpzs",
        "colab_type": "code",
        "colab": {}
      },
      "source": [
        "thresholds_h_flip = np.linspace(0, 1 ,50)"
      ],
      "execution_count": 0,
      "outputs": []
    },
    {
      "cell_type": "code",
      "metadata": {
        "id": "q9jNDiObCvBq",
        "colab_type": "code",
        "colab": {
          "base_uri": "https://localhost:8080/",
          "height": 66,
          "referenced_widgets": [
            "ea149df321104ac8ad33d3a365025e45",
            "800e26ff340d4b108675f7e073e97a70",
            "fc74d36ab2db44e7b315ed4c40c841b6",
            "cf12a1d7c223464799ae1817b2bb6aa0",
            "4b90104668ab438b9107ac93afd146cd",
            "a8c9375233584c8e958f29d54411a988",
            "d148e9b1f6c94b60b039ce687070c142",
            "f09b62cab26045979673ac50eb1456e5"
          ]
        },
        "outputId": "3ff39fbd-48d0-4e9c-a0cf-a1c969e37a30"
      },
      "source": [
        "ious_h_flip = np.array([iou_metric_batch(y_valid, np.int32(preds_val_h_flip > threshold)) for threshold in tqdm_notebook(thresholds_h_flip)])\n",
        "threshold_best_index_h_flip = np.argmax(ious_h_flip[9:-10]) + 9\n",
        "iou_best_h_flip = ious_h_flip[threshold_best_index_h_flip]\n",
        "threshold_best_h_flip = thresholds_h_flip[threshold_best_index_h_flip]"
      ],
      "execution_count": 68,
      "outputs": [
        {
          "output_type": "display_data",
          "data": {
            "application/vnd.jupyter.widget-view+json": {
              "model_id": "ea149df321104ac8ad33d3a365025e45",
              "version_minor": 0,
              "version_major": 2
            },
            "text/plain": [
              "HBox(children=(IntProgress(value=0, max=50), HTML(value='')))"
            ]
          },
          "metadata": {
            "tags": []
          }
        },
        {
          "output_type": "stream",
          "text": [
            "\n"
          ],
          "name": "stdout"
        }
      ]
    },
    {
      "cell_type": "code",
      "metadata": {
        "id": "WOcsjufoDg39",
        "colab_type": "code",
        "colab": {
          "base_uri": "https://localhost:8080/",
          "height": 295
        },
        "outputId": "246b5fce-297c-4139-a3e7-fe8be9f2bdbe"
      },
      "source": [
        "plot_thresholds(thresholds_h_flip, threshold_best_h_flip, ious_h_flip, iou_best_h_flip)"
      ],
      "execution_count": 69,
      "outputs": [
        {
          "output_type": "display_data",
          "data": {
            "image/png": "[encoded data removed]",
            "text/plain": [
              "<Figure size 432x288 with 1 Axes>"
            ]
          },
          "metadata": {
            "tags": []
          }
        }
      ]
    },
    {
      "cell_type": "code",
      "metadata": {
        "id": "4OuZZ40ACrh1",
        "colab_type": "code",
        "colab": {}
      },
      "source": [
        "# Threshold predictions\n",
        "preds_train_h_flip_t = (preds_train_h_flip > threshold_best_h_flip).astype(np.uint8)\n",
        "preds_val_h_flip_t = (preds_val_h_flip > threshold_best_h_flip).astype(np.uint8)\n",
        "preds_test_h_flip_t = (preds_test_h_flip > threshold_best_h_flip).astype(np.uint8)"
      ],
      "execution_count": 0,
      "outputs": []
    },
    {
      "cell_type": "code",
      "metadata": {
        "id": "nlskj3JLXnYq",
        "colab_type": "code",
        "colab": {
          "base_uri": "https://localhost:8080/",
          "height": 307
        },
        "outputId": "9468f1b5-bd45-4936-c3ac-55ef1e544155"
      },
      "source": [
        "# Check if training data looks all right\n",
        "plot_sample(X_train, y_train, preds_train_h_flip, preds_train_h_flip_t)"
      ],
      "execution_count": 71,
      "outputs": [
        {
          "output_type": "display_data",
          "data": {
            "image/png": "[encoded data removed]",
            "text/plain": [
              "<Figure size 1440x720 with 4 Axes>"
            ]
          },
          "metadata": {
            "tags": []
          }
        }
      ]
    },
    {
      "cell_type": "code",
      "metadata": {
        "id": "B3aZiGnHvSDH",
        "colab_type": "code",
        "colab": {
          "base_uri": "https://localhost:8080/",
          "height": 307
        },
        "outputId": "6a76ce4f-b242-4c48-c7e6-08f05162d583"
      },
      "source": [
        "# Check if valid data looks all right\n",
        "plot_sample(X_valid, y_valid, preds_val_h_flip, preds_val_h_flip_t)"
      ],
      "execution_count": 72,
      "outputs": [
        {
          "output_type": "display_data",
          "data": {
            "image/png": "[encoded data removed]",
            "text/plain": [
              "<Figure size 1440x720 with 4 Axes>"
            ]
          },
          "metadata": {
            "tags": []
          }
        }
      ]
    },
    {
      "cell_type": "code",
      "metadata": {
        "id": "GIA_KaOim-Zr",
        "colab_type": "code",
        "colab": {
          "base_uri": "https://localhost:8080/",
          "height": 307
        },
        "outputId": "c135e08f-67c0-45e2-f615-1845333b0a7f"
      },
      "source": [
        "# Check if test data looks all right\n",
        "plot_sample(X_test, y_test, preds_test_h_flip, preds_test_h_flip_t)"
      ],
      "execution_count": 73,
      "outputs": [
        {
          "output_type": "display_data",
          "data": {
            "image/png": "[encoded data removed]",
            "text/plain": [
              "<Figure size 1440x720 with 4 Axes>"
            ]
          },
          "metadata": {
            "tags": []
          }
        }
      ]
    },
    {
      "cell_type": "markdown",
      "metadata": {
        "id": "iidiaxeeqhec",
        "colab_type": "text"
      },
      "source": [
        "##U-Net-Modell mit Data Augmentation (v-Flip)"
      ]
    },
    {
      "cell_type": "code",
      "metadata": {
        "id": "1QJrrZjC3UNZ",
        "colab_type": "code",
        "colab": {}
      },
      "source": [
        "# Load best model\n",
        "model_v_flip.load_weights(filepath_v_flip)"
      ],
      "execution_count": 0,
      "outputs": []
    },
    {
      "cell_type": "code",
      "metadata": {
        "id": "OhrGLUSZ3dNZ",
        "colab_type": "code",
        "colab": {
          "base_uri": "https://localhost:8080/",
          "height": 34
        },
        "outputId": "d6dcd38d-2c33-4477-d909-9357533199f2"
      },
      "source": [
        "# Evaluate on validation set (this must be equals to the best log_loss)\n",
        "model_v_flip_eva_train = model_v_flip.evaluate(X_train, y_train, verbose=1)"
      ],
      "execution_count": 75,
      "outputs": [
        {
          "output_type": "stream",
          "text": [
            "2800/2800 [==============================] - 5s 2ms/step\n"
          ],
          "name": "stdout"
        }
      ]
    },
    {
      "cell_type": "code",
      "metadata": {
        "id": "QPo45uJ23gKy",
        "colab_type": "code",
        "colab": {
          "base_uri": "https://localhost:8080/",
          "height": 34
        },
        "outputId": "208993a3-373d-4d04-9d69-a648ba9158ff"
      },
      "source": [
        "# Evaluate on validation set (this must be equals to the best log_loss)\n",
        "model_v_flip_eva_valid = model_v_flip.evaluate(X_valid, y_valid, verbose=1)"
      ],
      "execution_count": 76,
      "outputs": [
        {
          "output_type": "stream",
          "text": [
            "800/800 [==============================] - 1s 2ms/step\n"
          ],
          "name": "stdout"
        }
      ]
    },
    {
      "cell_type": "code",
      "metadata": {
        "id": "f3fjzXtP3hyj",
        "colab_type": "code",
        "colab": {
          "base_uri": "https://localhost:8080/",
          "height": 34
        },
        "outputId": "311bca6f-c845-462d-910a-b7d6c3a2af96"
      },
      "source": [
        "# Evaluate on test set (this must be equals to the best log_loss)\n",
        "model_v_flip_eva_test = model_v_flip.evaluate(X_test, y_test, verbose=1)"
      ],
      "execution_count": 77,
      "outputs": [
        {
          "output_type": "stream",
          "text": [
            "400/400 [==============================] - 1s 2ms/step\n"
          ],
          "name": "stdout"
        }
      ]
    },
    {
      "cell_type": "code",
      "metadata": {
        "id": "IHDR0tzu3jQ3",
        "colab_type": "code",
        "colab": {
          "base_uri": "https://localhost:8080/",
          "height": 68
        },
        "outputId": "06858a14-525e-4d84-f29a-cb5aaf5dfcf6"
      },
      "source": [
        "# Predict on train, val and test\n",
        "preds_train_v_flip = model_v_flip.predict(X_train, verbose=1)\n",
        "preds_val_v_flip = model_v_flip.predict(X_valid, verbose=1)\n",
        "preds_test_v_flip = model_v_flip.predict(X_test, verbose=1)"
      ],
      "execution_count": 78,
      "outputs": [
        {
          "output_type": "stream",
          "text": [
            "2800/2800 [==============================] - 4s 1ms/step\n",
            "800/800 [==============================] - 1s 702us/step\n",
            "400/400 [==============================] - 0s 694us/step\n"
          ],
          "name": "stdout"
        }
      ]
    },
    {
      "cell_type": "code",
      "metadata": {
        "id": "xOQ6dIBJ3kmp",
        "colab_type": "code",
        "colab": {}
      },
      "source": [
        "thresholds_v_flip = np.linspace(0, 1 ,50)"
      ],
      "execution_count": 0,
      "outputs": []
    },
    {
      "cell_type": "code",
      "metadata": {
        "id": "VMbRQjSh3mPx",
        "colab_type": "code",
        "colab": {
          "base_uri": "https://localhost:8080/",
          "height": 49,
          "referenced_widgets": [
            "815ad24510ee4d699221da889ab713e6",
            "f1814e6de4bb4841be1223e10a40ea7c",
            "a528574692c04d608b733bc83efc47ae",
            "577f115331c84276af046362329ac0c9",
            "df7eefd405d54e9ba63173e617cb96c8",
            "6b165fc348c34fedad66647df5c88b1a",
            "0873568082624f3281a943a156bdbf88",
            "b2b8719970954f64b89e771975f99e46"
          ]
        },
        "outputId": "5b0c3b53-1004-419a-ff99-0bba535901dc"
      },
      "source": [
        "ious_v_flip = np.array([iou_metric_batch(y_valid, np.int32(preds_val_v_flip > threshold)) for threshold in tqdm_notebook(thresholds_v_flip)])\n",
        "threshold_best_index_v_flip = np.argmax(ious_v_flip[9:-10]) + 9\n",
        "iou_best_v_flip = ious_v_flip[threshold_best_index_v_flip]\n",
        "threshold_best_v_flip = thresholds_v_flip[threshold_best_index_v_flip]"
      ],
      "execution_count": 81,
      "outputs": [
        {
          "output_type": "display_data",
          "data": {
            "application/vnd.jupyter.widget-view+json": {
              "model_id": "815ad24510ee4d699221da889ab713e6",
              "version_minor": 0,
              "version_major": 2
            },
            "text/plain": [
              "HBox(children=(IntProgress(value=0, max=50), HTML(value='')))"
            ]
          },
          "metadata": {
            "tags": []
          }
        }
      ]
    },
    {
      "cell_type": "code",
      "metadata": {
        "id": "pueOYGAw3n6i",
        "colab_type": "code",
        "colab": {}
      },
      "source": [
        "# Threshold predictions\n",
        "preds_train_v_flip_t = (preds_train_v_flip > threshold_best_v_flip).astype(np.uint8)\n",
        "preds_val_v_flip_t = (preds_val_v_flip > threshold_best_v_flip).astype(np.uint8)\n",
        "preds_test_v_flip_t = (preds_test_v_flip > threshold_best_v_flip).astype(np.uint8)"
      ],
      "execution_count": 0,
      "outputs": []
    },
    {
      "cell_type": "code",
      "metadata": {
        "id": "sEtHP8H33p6X",
        "colab_type": "code",
        "colab": {
          "base_uri": "https://localhost:8080/",
          "height": 307
        },
        "outputId": "fcd2f2b7-06a2-4d41-beb8-dcbcf7e84050"
      },
      "source": [
        "# Check if training data looks all right\n",
        "plot_sample(X_train, y_train, preds_train_v_flip, preds_train_v_flip_t)"
      ],
      "execution_count": 83,
      "outputs": [
        {
          "output_type": "display_data",
          "data": {
            "image/png": "[encoded data removed]",
            "text/plain": [
              "<Figure size 1440x720 with 4 Axes>"
            ]
          },
          "metadata": {
            "tags": []
          }
        }
      ]
    },
    {
      "cell_type": "code",
      "metadata": {
        "id": "2dz4JdkH3rWG",
        "colab_type": "code",
        "colab": {
          "base_uri": "https://localhost:8080/",
          "height": 307
        },
        "outputId": "93c7b2cb-030a-46ae-a01c-66f6d02c51f5"
      },
      "source": [
        "# Check if valid data looks all right\n",
        "plot_sample(X_valid, y_valid, preds_val_v_flip, preds_val_v_flip_t)"
      ],
      "execution_count": 84,
      "outputs": [
        {
          "output_type": "display_data",
          "data": {
            "image/png": "[encoded data removed]",
            "text/plain": [
              "<Figure size 1440x720 with 4 Axes>"
            ]
          },
          "metadata": {
            "tags": []
          }
        }
      ]
    },
    {
      "cell_type": "code",
      "metadata": {
        "id": "tg3kTR283srO",
        "colab_type": "code",
        "colab": {
          "base_uri": "https://localhost:8080/",
          "height": 307
        },
        "outputId": "4132ec1f-4f7f-4f2a-c2b6-b0520b0ac262"
      },
      "source": [
        "# Check if test data looks all right\n",
        "plot_sample(X_test, y_test, preds_test_v_flip, preds_test_v_flip_t)"
      ],
      "execution_count": 85,
      "outputs": [
        {
          "output_type": "display_data",
          "data": {
            "image/png": "[encoded data removed]",
            "text/plain": [
              "<Figure size 1440x720 with 4 Axes>"
            ]
          },
          "metadata": {
            "tags": []
          }
        }
      ]
    },
    {
      "cell_type": "markdown",
      "metadata": {
        "id": "-yJHukv-4JkT",
        "colab_type": "text"
      },
      "source": [
        "##Vergleich der U-Net-Modelle"
      ]
    },
    {
      "cell_type": "code",
      "metadata": {
        "id": "6ae9rYqRLYAA",
        "colab_type": "code",
        "colab": {
          "base_uri": "https://localhost:8080/",
          "height": 85
        },
        "outputId": "d6cfc80d-9ab4-408a-b649-aeb8a3ba01c6"
      },
      "source": [
        "pip install beautifultable"
      ],
      "execution_count": 86,
      "outputs": [
        {
          "output_type": "stream",
          "text": [
            "Collecting beautifultable\n",
            "  Downloading https://files.pythonhosted.org/packages/d9/56/eaf1b9f2b323e05dce573f88c72eaa0107610db709b8bee97b776903ac55/beautifultable-0.8.0-py2.py3-none-any.whl\n",
            "Installing collected packages: beautifultable\n",
            "Successfully installed beautifultable-0.8.0\n"
          ],
          "name": "stdout"
        }
      ]
    },
    {
      "cell_type": "code",
      "metadata": {
        "id": "3LmMmzlBK_Vm",
        "colab_type": "code",
        "colab": {}
      },
      "source": [
        "from beautifultable import BeautifulTable"
      ],
      "execution_count": 0,
      "outputs": []
    },
    {
      "cell_type": "code",
      "metadata": {
        "id": "Z8o9lmPc4RzI",
        "colab_type": "code",
        "colab": {
          "base_uri": "https://localhost:8080/",
          "height": 170
        },
        "outputId": "6b0e474e-c578-48f2-9dd8-eda5c99df175"
      },
      "source": [
        "table_train = BeautifulTable()\n",
        "table_train.column_headers = [\"U-Net-Model\", model_std.metrics_names[0], model_std.metrics_names[1]]\n",
        "table_train.append_row([\"std\", model_std_eva_train[0], model_std_eva_train[1]])\n",
        "table_train.append_row([\"h-flip\", model_h_flip_eva_train[0], model_h_flip_eva_train[1]])\n",
        "table_train.append_row([\"v-flip\", model_h_flip_eva_train[0], model_h_flip_eva_train[1]])\n",
        "print(table_train)"
      ],
      "execution_count": 88,
      "outputs": [
        {
          "output_type": "stream",
          "text": [
            "+-------------+-------+----------+\n",
            "| U-Net-Model | loss  | mean_iou |\n",
            "+-------------+-------+----------+\n",
            "|     std     | 0.086 |  0.798   |\n",
            "+-------------+-------+----------+\n",
            "|   h-flip    | 0.112 |  0.789   |\n",
            "+-------------+-------+----------+\n",
            "|   v-flip    | 0.112 |  0.789   |\n",
            "+-------------+-------+----------+\n"
          ],
          "name": "stdout"
        }
      ]
    },
    {
      "cell_type": "code",
      "metadata": {
        "id": "UnzgVYRc4Z6t",
        "colab_type": "code",
        "colab": {
          "base_uri": "https://localhost:8080/",
          "height": 170
        },
        "outputId": "0d396e2f-e67d-40ae-ba30-eb4b6ab2607f"
      },
      "source": [
        "table_valid = BeautifulTable()\n",
        "table_valid.column_headers = [\"U-Net-Model\", model_std.metrics_names[0], model_std.metrics_names[1]]\n",
        "table_valid.append_row([\"std\", model_std_eva_valid[0], model_std_eva_valid[1]])\n",
        "table_valid.append_row([\"h-flip\", model_h_flip_eva_valid[0], model_h_flip_eva_valid[1]])\n",
        "table_valid.append_row([\"v-flip\", model_h_flip_eva_valid[0], model_h_flip_eva_valid[1]])\n",
        "print(table_valid)"
      ],
      "execution_count": 89,
      "outputs": [
        {
          "output_type": "stream",
          "text": [
            "+-------------+-------+----------+\n",
            "| U-Net-Model | loss  | mean_iou |\n",
            "+-------------+-------+----------+\n",
            "|     std     | 0.133 |  0.799   |\n",
            "+-------------+-------+----------+\n",
            "|   h-flip    | 0.138 |   0.79   |\n",
            "+-------------+-------+----------+\n",
            "|   v-flip    | 0.138 |   0.79   |\n",
            "+-------------+-------+----------+\n"
          ],
          "name": "stdout"
        }
      ]
    },
    {
      "cell_type": "code",
      "metadata": {
        "id": "5vUPlcg0La2Q",
        "colab_type": "code",
        "outputId": "78a0cce6-1ca1-4af6-fc61-8a3411612dc5",
        "colab": {
          "base_uri": "https://localhost:8080/",
          "height": 170
        }
      },
      "source": [
        "table_test = BeautifulTable()\n",
        "table_test.column_headers = [\"U-Net-Model\", model_std.metrics_names[0], model_std.metrics_names[1]]\n",
        "table_test.append_row([\"std\", model_std_eva_test[0], model_std_eva_test[1]])\n",
        "table_test.append_row([\"h-flip\", model_h_flip_eva_test[0], model_h_flip_eva_test[1]])\n",
        "table_test.append_row([\"v-flip\", model_h_flip_eva_test[0], model_h_flip_eva_test[1]])\n",
        "print(table_test)"
      ],
      "execution_count": 90,
      "outputs": [
        {
          "output_type": "stream",
          "text": [
            "+-------------+-------+----------+\n",
            "| U-Net-Model | loss  | mean_iou |\n",
            "+-------------+-------+----------+\n",
            "|     std     | 0.156 |  0.799   |\n",
            "+-------------+-------+----------+\n",
            "|   h-flip    | 0.143 |   0.79   |\n",
            "+-------------+-------+----------+\n",
            "|   v-flip    | 0.143 |   0.79   |\n",
            "+-------------+-------+----------+\n"
          ],
          "name": "stdout"
        }
      ]
    }
  ]
}