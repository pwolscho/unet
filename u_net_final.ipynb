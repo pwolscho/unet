{
  "nbformat": 4,
  "nbformat_minor": 0,
  "metadata": {
    "colab": {
      "name": "u-net_final.ipynb",
      "provenance": [],
      "collapsed_sections": [
        "yui9V0QF-JrF"
      ],
      "toc_visible": true,
      "include_colab_link": true
    },
    "kernelspec": {
      "name": "python3",
      "display_name": "Python 3"
    },
    "accelerator": "GPU"
  },
  "cells": [
    {
      "cell_type": "markdown",
      "metadata": {
        "id": "view-in-github",
        "colab_type": "text"
      },
      "source": [
        "<a href=\"https://colab.research.google.com/github/pwolscho/unet/blob/master/u_net_final.ipynb\" target=\"_parent\"><img src=\"https://colab.research.google.com/assets/colab-badge.svg\" alt=\"Open In Colab\"/></a>"
      ]
    },
    {
      "cell_type": "markdown",
      "metadata": {
        "id": "FFQFIyC49ovP",
        "colab_type": "text"
      },
      "source": [
        "![U-Net Demonstration](https://drive.google.com/uc?id=1-kEr1EjJgpSjGCV1oFfYw_A2cnu5cNVI)"
      ]
    },
    {
      "cell_type": "markdown",
      "metadata": {
        "id": "8qEcw4b-9scd",
        "colab_type": "text"
      },
      "source": [
        "#Über dieses Notebook\n",
        "\n",
        "U-Net ist die bekannteste Architektur im Bereich der Semantischen Segmentierung (Anwendung: Segmentierung in Bildern). Im Rahmen des Kurses Seminat-Deep-Learning der Hochschule Offenburg zeigt dieses Notebook eine mögliche Implementierung von U-Net und demonstriert dessen Anwendung anhand eines Beispiel-Datensatzes."
      ]
    },
    {
      "cell_type": "markdown",
      "metadata": {
        "id": "eSPXy8dj9wWn",
        "colab_type": "text"
      },
      "source": [
        "Informationen zum Datensatz\n",
        "Mehrere Gebiete der Erde mit großen Öl- und Gasansammlungen haben auch riesige Salzlagerstätten unter der Oberfläche, d.h. dort wo Salz ist, wird vermutlich auch das wertvolle Öl zu finden sein.\n",
        "\n",
        "Professionelle seismische Messungen zum Auffinden der Salzlagerstätten erfordert immer noch eine fachkundige menschliche Interpretation der daraus resultierenden Bilddaten. Dies führt zu sehr subjektiven, sehr variablen Ergebnissen. Das führt zu potenziell gefährlichen Situationen für Bohrer von Öl- und Gasunternehmen.\n",
        "\n",
        "Um sehr präzise seismischen Bilder zu erstellen, hofft TGS-NOPEC Geophysical Systems (das weltweit führende Unternehmen für geophysikalische Dienste), dass die Online-Community von Kaggle in der Lage sein wird, einen Algorithmus zu entwickeln, der automatisch und genau erkennt, ob und Salz unter der Erdoberfläche zu finden ist oder nicht.\n",
        "\n",
        "Dazu wurde im Jahr 2018 eine Wettbewerb von Kaggle durchgeführt.\n",
        "\n",
        "Auf den diesem Notebook verwendete Datensatz kann nach wie vor unter https://www.kaggle.com/c/tgs-salt-identification-challenge/data zugegriffen werden.\n",
        "\n",
        "Die Daten sind eine Reihe von seismischen Bildern von zufällig ausgewählten Orten der Erde. Die Bilder sind 101 x 101 Pixel groß und jedes Pixel wird entweder als Salz oder als Sediment klassifiziert. Zusätzlich zu den seismischen Bildern wird für jedes Bild die Tiefe der aufgenommenen Position angegeben."
      ]
    },
    {
      "cell_type": "markdown",
      "metadata": {
        "id": "yIgHiwln90Ae",
        "colab_type": "text"
      },
      "source": [
        "##Gliederung des Notebooks\n",
        "\n",
        "Die durchgeführten Schritte gliedern sich chronologisch wie folgt:\n",
        "\n",
        "- Bereitstellung des Datensatzes\n",
        "  - Zugriff auf die Kaggle-API\n",
        "  - Download und Entpacken des Datensatzes\n",
        "  - Skalierung der Trainigsbilder und Masken\n",
        "- Definition des U-Net-Modells\n",
        "- Training des U-Net-Modells\n",
        "- Evaluierung des U-Net-Modells"
      ]
    },
    {
      "cell_type": "markdown",
      "metadata": {
        "id": "uxGgJfDq-Asl",
        "colab_type": "text"
      },
      "source": [
        "#Bereitstellung des Datensatzes"
      ]
    },
    {
      "cell_type": "markdown",
      "metadata": {
        "id": "yui9V0QF-JrF",
        "colab_type": "text"
      },
      "source": [
        "##Zugriff auf die Kaggle-API"
      ]
    },
    {
      "cell_type": "markdown",
      "metadata": {
        "id": "ohmdEiApCCi8",
        "colab_type": "text"
      },
      "source": [
        "Um auf den Datensatz von Kaggle zugreifen zu können, wird die Kaggle-API (https://www.kaggle.com/docs/api) und einen persönlichen API-Token benötigt. Der API-Token kann im persönlichen Account von Kaggle generiert werden. Um den manuellen Upload (files.upload()) zu umgehen wird der Inhalt des Tokens hartkodiert."
      ]
    },
    {
      "cell_type": "code",
      "metadata": {
        "id": "2jQBSN3A-T6p",
        "colab_type": "code",
        "colab": {}
      },
      "source": [
        "kaggle_json = '{\"username\":\"philipwolschon\",\"key\":\"715ad801ca6728d6730b7c276db32c6f\"}'"
      ],
      "execution_count": 0,
      "outputs": []
    },
    {
      "cell_type": "code",
      "metadata": {
        "id": "DfllgtWQ-WWZ",
        "colab_type": "code",
        "colab": {}
      },
      "source": [
        "Zunächst wird die leere Datei kaggle.json angelegt und mit dem Inhalt des kaggle_json-Objekts (API-Token) befüllt."
      ],
      "execution_count": 0,
      "outputs": []
    },
    {
      "cell_type": "code",
      "metadata": {
        "id": "F9M9Kn5j-ef7",
        "colab_type": "code",
        "colab": {}
      },
      "source": [
        "with open('kaggle.json', 'w') as file:\n",
        "  json.dump(kaggle_json, file, ensure_ascii=False)\n",
        "\n",
        "with open('kaggle.json', 'w') as file:\n",
        "  file.write(kaggle_json)"
      ],
      "execution_count": 0,
      "outputs": []
    },
    {
      "cell_type": "markdown",
      "metadata": {
        "id": "PapXAXKx-jKk",
        "colab_type": "text"
      },
      "source": [
        "Außerdem erwartet die Kaggle-API, dass der API-Token in ~/.kaggle/ (/root/.kaggle/) zu finden ist. Daher wird das Verzeichnis \"kaggle\" erstellt und der API-Token dort hin verschoben."
      ]
    },
    {
      "cell_type": "code",
      "metadata": {
        "id": "6EYGLvVj_tPD",
        "colab_type": "code",
        "colab": {
          "base_uri": "https://localhost:8080/",
          "height": 204
        },
        "outputId": "34321f78-0083-4906-ea62-41c76af31de6"
      },
      "source": [
        "!pip install kaggle #Zugriff auf den Datensatz von Kaggle"
      ],
      "execution_count": 6,
      "outputs": [
        {
          "output_type": "stream",
          "text": [
            "Requirement already satisfied: kaggle in /usr/local/lib/python3.6/dist-packages (1.5.6)\n",
            "Requirement already satisfied: certifi in /usr/local/lib/python3.6/dist-packages (from kaggle) (2019.11.28)\n",
            "Requirement already satisfied: python-dateutil in /usr/local/lib/python3.6/dist-packages (from kaggle) (2.6.1)\n",
            "Requirement already satisfied: six>=1.10 in /usr/local/lib/python3.6/dist-packages (from kaggle) (1.12.0)\n",
            "Requirement already satisfied: urllib3<1.25,>=1.21.1 in /usr/local/lib/python3.6/dist-packages (from kaggle) (1.24.3)\n",
            "Requirement already satisfied: python-slugify in /usr/local/lib/python3.6/dist-packages (from kaggle) (4.0.0)\n",
            "Requirement already satisfied: requests in /usr/local/lib/python3.6/dist-packages (from kaggle) (2.21.0)\n",
            "Requirement already satisfied: tqdm in /usr/local/lib/python3.6/dist-packages (from kaggle) (4.28.1)\n",
            "Requirement already satisfied: text-unidecode>=1.3 in /usr/local/lib/python3.6/dist-packages (from python-slugify->kaggle) (1.3)\n",
            "Requirement already satisfied: chardet<3.1.0,>=3.0.2 in /usr/local/lib/python3.6/dist-packages (from requests->kaggle) (3.0.4)\n",
            "Requirement already satisfied: idna<2.9,>=2.5 in /usr/local/lib/python3.6/dist-packages (from requests->kaggle) (2.8)\n"
          ],
          "name": "stdout"
        }
      ]
    },
    {
      "cell_type": "code",
      "metadata": {
        "id": "OR6M04-H-koH",
        "colab_type": "code",
        "colab": {}
      },
      "source": [
        "!mkdir -p ~/.kaggle #Den Ordner anlegen\n",
        "!mv kaggle.json ~/.kaggle/ #Den API-Token verschieben"
      ],
      "execution_count": 0,
      "outputs": []
    },
    {
      "cell_type": "markdown",
      "metadata": {
        "id": "eZfCvqSA-m3d",
        "colab_type": "text"
      },
      "source": [
        "Liefert folgende Funktion True zurück wurde die erforderliche Datei im korrekten Verzeichnis der VM erstellt (eine manuelle Prüfung ist nicht möglich, da der Zugriff auf das root-Verzeichnis der VM eingeschränkt ist)."
      ]
    },
    {
      "cell_type": "code",
      "metadata": {
        "id": "Kn-m7eGc_6L8",
        "colab_type": "code",
        "colab": {}
      },
      "source": [
        "import os"
      ],
      "execution_count": 0,
      "outputs": []
    },
    {
      "cell_type": "code",
      "metadata": {
        "id": "cKmGnsOs-o35",
        "colab_type": "code",
        "colab": {
          "base_uri": "https://localhost:8080/",
          "height": 34
        },
        "outputId": "ed350c7b-2eb9-443d-c863-9fc0fe547694"
      },
      "source": [
        "os.path.isfile(\"/root/.kaggle/kaggle.json\")"
      ],
      "execution_count": 10,
      "outputs": [
        {
          "output_type": "execute_result",
          "data": {
            "text/plain": [
              "True"
            ]
          },
          "metadata": {
            "tags": []
          },
          "execution_count": 10
        }
      ]
    },
    {
      "cell_type": "markdown",
      "metadata": {
        "id": "ZBiyAPljADXh",
        "colab_type": "text"
      },
      "source": [
        "Um Warnungen beim Starten von Kaggle-Tools zu vermeiden werdem dem Besitzer der Datei Lese- und Schreibrechte gewährt."
      ]
    },
    {
      "cell_type": "code",
      "metadata": {
        "id": "Q_c6MOay-tN8",
        "colab_type": "code",
        "colab": {}
      },
      "source": [
        "!chmod 600 ~/.kaggle/kaggle.json"
      ],
      "execution_count": 0,
      "outputs": []
    },
    {
      "cell_type": "markdown",
      "metadata": {
        "id": "SCaQ55aB-w3d",
        "colab_type": "text"
      },
      "source": [
        "##Download und Entpacken des Datensatzes"
      ]
    },
    {
      "cell_type": "markdown",
      "metadata": {
        "id": "OMunXvfr-0-N",
        "colab_type": "text"
      },
      "source": [
        "Mit Hilfe der Kaggle-API kann nun das Datenset heruntergeladen werden."
      ]
    },
    {
      "cell_type": "code",
      "metadata": {
        "id": "SZgaWYXf-2-2",
        "colab_type": "code",
        "colab": {
          "base_uri": "https://localhost:8080/",
          "height": 391
        },
        "outputId": "2a639caf-1dda-4c82-f97a-c5014c4af743"
      },
      "source": [
        "!kaggle competitions download -c tgs-salt-identification-challenge -p /content/salt_data"
      ],
      "execution_count": 13,
      "outputs": [
        {
          "output_type": "stream",
          "text": [
            "Warning: Looks like you're using an outdated API Version, please consider updating (server 1.5.6 / client 1.5.4)\n",
            "Downloading depths.csv to /content/salt_data\n",
            "  0% 0.00/322k [00:00<?, ?B/s]\n",
            "100% 322k/322k [00:00<00:00, 104MB/s]\n",
            "Downloading sample_submission.csv to /content/salt_data\n",
            "  0% 0.00/264k [00:00<?, ?B/s]\n",
            "100% 264k/264k [00:00<00:00, 83.5MB/s]\n",
            "Downloading competition_data.zip to /content/salt_data\n",
            " 91% 197M/217M [00:01<00:00, 170MB/s]\n",
            "100% 217M/217M [00:01<00:00, 185MB/s]\n",
            "Downloading train.zip to /content/salt_data\n",
            " 66% 25.0M/37.9M [00:00<00:00, 37.5MB/s]\n",
            "100% 37.9M/37.9M [00:00<00:00, 55.1MB/s]\n",
            "Downloading flamingo.zip to /content/salt_data\n",
            " 92% 38.0M/41.4M [00:00<00:00, 81.0MB/s]\n",
            "100% 41.4M/41.4M [00:00<00:00, 203MB/s] \n",
            "Downloading train.csv to /content/salt_data\n",
            "  0% 0.00/922k [00:00<?, ?B/s]\n",
            "100% 922k/922k [00:00<00:00, 127MB/s]\n",
            "Downloading test.zip to /content/salt_data\n",
            " 96% 156M/163M [00:01<00:00, 115MB/s]\n",
            "100% 163M/163M [00:01<00:00, 147MB/s]\n"
          ],
          "name": "stdout"
        }
      ]
    },
    {
      "cell_type": "markdown",
      "metadata": {
        "id": "vW-Nmajj-7pg",
        "colab_type": "text"
      },
      "source": [
        "Die Trainigs- und Testdaten sind komprimiert und müssen zunächst entpackt werden."
      ]
    },
    {
      "cell_type": "code",
      "metadata": {
        "id": "dyb4fuijAKiV",
        "colab_type": "code",
        "colab": {}
      },
      "source": [
        "from zipfile import ZipFile"
      ],
      "execution_count": 0,
      "outputs": []
    },
    {
      "cell_type": "code",
      "metadata": {
        "id": "9Qy8k1Hb-9PI",
        "colab_type": "code",
        "colab": {}
      },
      "source": [
        "#Entpacken der Testdaten\n",
        "with ZipFile('/content/salt_data/test.zip', 'r') as zipObj:\n",
        "   zipObj.extractall('/content/salt_data/test')\n",
        "   \n",
        "#Entpacken der Trainingsdaten\n",
        "with ZipFile('/content/salt_data/train.zip', 'r') as zipObj:\n",
        "   zipObj.extractall('/content/salt_data/train')"
      ],
      "execution_count": 0,
      "outputs": []
    },
    {
      "cell_type": "code",
      "metadata": {
        "id": "miNQ9oFEFnQ-",
        "colab_type": "code",
        "colab": {}
      },
      "source": [
        "train_path = '/content/salt_data/train'"
      ],
      "execution_count": 0,
      "outputs": []
    },
    {
      "cell_type": "markdown",
      "metadata": {
        "id": "IVT8U09PCMCt",
        "colab_type": "text"
      },
      "source": [
        "##Skalierung der Trainigsbilder und Masken"
      ]
    },
    {
      "cell_type": "code",
      "metadata": {
        "id": "LR15Zje-E35Q",
        "colab_type": "code",
        "colab": {
          "base_uri": "https://localhost:8080/",
          "height": 80
        },
        "outputId": "3b91db5a-de82-4ee9-83f8-86cdcd992276"
      },
      "source": [
        "import numpy as np\n",
        "from skimage.transform import resize\n",
        "from tqdm import tqdm\n",
        "from keras.preprocessing.image import img_to_array, load_img"
      ],
      "execution_count": 31,
      "outputs": [
        {
          "output_type": "stream",
          "text": [
            "Using TensorFlow backend.\n"
          ],
          "name": "stderr"
        },
        {
          "output_type": "display_data",
          "data": {
            "text/html": [
              "<p style=\"color: red;\">\n",
              "The default version of TensorFlow in Colab will soon switch to TensorFlow 2.x.<br>\n",
              "We recommend you <a href=\"https://www.tensorflow.org/guide/migrate\" target=\"_blank\">upgrade</a> now \n",
              "or ensure your notebook will continue to use TensorFlow 1.x via the <code>%tensorflow_version 1.x</code> magic:\n",
              "<a href=\"https://colab.research.google.com/notebooks/tensorflow_version.ipynb\" target=\"_blank\">more info</a>.</p>\n"
            ],
            "text/plain": [
              "<IPython.core.display.HTML object>"
            ]
          },
          "metadata": {
            "tags": []
          }
        }
      ]
    },
    {
      "cell_type": "code",
      "metadata": {
        "id": "198EKJwjCS6r",
        "colab_type": "code",
        "colab": {}
      },
      "source": [
        "def get_scaled_X_y_data(path, img_width, img_height):\n",
        "    output_shape = (128, 128, 1) #Size of the generated output image (rows, cols[, …][, dim])\n",
        "\n",
        "    ids = os.listdir(path + '/images')\n",
        "    X = np.zeros((len(ids), img_height, img_width, 1), dtype=np.float32)\n",
        "    y = np.zeros((len(ids), img_height, img_width, 1), dtype=np.float32)\n",
        "    print('Getting and resizing images ... ')\n",
        "\n",
        "    for n, id_ in tqdm(enumerate(ids), total=len(ids)):\n",
        "        # Load images\n",
        "        img = load_img(path + '/images/' + id_, color_mode = \"grayscale\")\n",
        "        x_img = img_to_array(img)\n",
        "        x_img = resize(x_img, output_shape, mode='constant', preserve_range=True)\n",
        "\n",
        "        # Load masks\n",
        "        mask = img_to_array(load_img(path + '/masks/' + id_, color_mode = \"grayscale\"))\n",
        "        mask = resize(mask, output_shape, mode='constant', preserve_range=True)\n",
        "\n",
        "        # Save images\n",
        "        X[n, ..., 0] = x_img.squeeze() / 255\n",
        "        y[n] = mask / 255\n",
        "\n",
        "    print('Done!')\n",
        "    \n",
        "    return X, y"
      ],
      "execution_count": 0,
      "outputs": []
    },
    {
      "cell_type": "code",
      "metadata": {
        "id": "uVEJlM2AFbV1",
        "colab_type": "code",
        "colab": {
          "base_uri": "https://localhost:8080/",
          "height": 68
        },
        "outputId": "3175df78-7df5-45e4-df85-211a7c81d07a"
      },
      "source": [
        "X, y = get_scaled_X_y_data(train_path, 128, 128)"
      ],
      "execution_count": 32,
      "outputs": [
        {
          "output_type": "stream",
          "text": [
            "  0%|          | 13/4000 [00:00<00:31, 127.88it/s]"
          ],
          "name": "stderr"
        },
        {
          "output_type": "stream",
          "text": [
            "Getting and resizing images ... \n"
          ],
          "name": "stdout"
        },
        {
          "output_type": "stream",
          "text": [
            "100%|██████████| 4000/4000 [00:18<00:00, 214.30it/s]"
          ],
          "name": "stderr"
        },
        {
          "output_type": "stream",
          "text": [
            "Done!\n"
          ],
          "name": "stdout"
        },
        {
          "output_type": "stream",
          "text": [
            "\n"
          ],
          "name": "stderr"
        }
      ]
    },
    {
      "cell_type": "markdown",
      "metadata": {
        "id": "Ej9KG9XiI0Qe",
        "colab_type": "text"
      },
      "source": [
        "#Definition des U-Net-Modells"
      ]
    },
    {
      "cell_type": "code",
      "metadata": {
        "id": "7ghdbldwQ7_R",
        "colab_type": "code",
        "colab": {}
      },
      "source": [
        "from keras.layers import Input\n",
        "from keras.layers.convolutional import Conv2D, Conv2DTranspose\n",
        "from keras.layers.pooling import MaxPooling2D\n",
        "from keras.layers.merge import concatenate\n",
        "from keras.models import Model\n",
        "from keras.optimizers import Adam"
      ],
      "execution_count": 0,
      "outputs": []
    },
    {
      "cell_type": "code",
      "metadata": {
        "id": "6ei16dfcI1mz",
        "colab_type": "code",
        "colab": {}
      },
      "source": [
        "def get_unet_model():\n",
        "  input_img = Input((128, 128, 1), name='img') #Size of the expected input image (rows, cols[, …][, dim])\n",
        "\n",
        "  c1 = Conv2D(8, (3, 3), activation='relu', padding='same') (input_img)\n",
        "  c1 = Conv2D(8, (3, 3), activation='relu', padding='same') (c1)\n",
        "  p1 = MaxPooling2D((2, 2)) (c1)\n",
        "\n",
        "  c2 = Conv2D(16, (3, 3), activation='relu', padding='same') (p1)\n",
        "  c2 = Conv2D(16, (3, 3), activation='relu', padding='same') (c2)\n",
        "  p2 = MaxPooling2D((2, 2)) (c2)\n",
        "\n",
        "  c3 = Conv2D(32, (3, 3), activation='relu', padding='same') (p2)\n",
        "  c3 = Conv2D(32, (3, 3), activation='relu', padding='same') (c3)\n",
        "  p3 = MaxPooling2D((2, 2)) (c3)\n",
        "\n",
        "  c4 = Conv2D(64, (3, 3), activation='relu', padding='same') (p3)\n",
        "  c4 = Conv2D(64, (3, 3), activation='relu', padding='same') (c4)\n",
        "  p4 = MaxPooling2D(pool_size=(2, 2)) (c4)\n",
        "\n",
        "  c5 = Conv2D(128, (3, 3), activation='relu', padding='same') (p4)\n",
        "  c5 = Conv2D(128, (3, 3), activation='relu', padding='same') (c5)\n",
        "\n",
        "  #Expansive path (Decoder)\n",
        "  u6 = Conv2DTranspose(64, (2, 2), strides=(2, 2), padding='same') (c5)\n",
        "  u6 = concatenate([u6, c4])\n",
        "  c6 = Conv2D(64, (3, 3), activation='relu', padding='same') (u6)\n",
        "  c6 = Conv2D(64, (3, 3), activation='relu', padding='same') (c6)\n",
        "\n",
        "  u7 = Conv2DTranspose(32, (2, 2), strides=(2, 2), padding='same') (c6)\n",
        "  u7 = concatenate([u7, c3])\n",
        "  c7 = Conv2D(32, (3, 3), activation='relu', padding='same') (u7)\n",
        "  c7 = Conv2D(32, (3, 3), activation='relu', padding='same') (c7)\n",
        "\n",
        "  u8 = Conv2DTranspose(16, (2, 2), strides=(2, 2), padding='same') (c7)\n",
        "  u8 = concatenate([u8, c2])\n",
        "  c8 = Conv2D(16, (3, 3), activation='relu', padding='same') (u8)\n",
        "  c8 = Conv2D(16, (3, 3), activation='relu', padding='same') (c8)\n",
        "\n",
        "  u9 = Conv2DTranspose(8, (2, 2), strides=(2, 2), padding='same') (c8)\n",
        "  u9 = concatenate([u9, c1], axis=3)\n",
        "  c9 = Conv2D(8, (3, 3), activation='relu', padding='same') (u9)\n",
        "  c9 = Conv2D(8, (3, 3), activation='relu', padding='same') (c9)\n",
        "\n",
        "  outputs = Conv2D(1, (1, 1), activation='sigmoid') (c9)\n",
        "  model = Model(inputs=[input_img], outputs=[outputs])\n",
        "  model.compile(optimizer=Adam(), loss=\"binary_crossentropy\", metrics=[\"accuracy\"])\n",
        "  return model"
      ],
      "execution_count": 0,
      "outputs": []
    },
    {
      "cell_type": "code",
      "metadata": {
        "id": "39PLKoXyQuGi",
        "colab_type": "code",
        "colab": {
          "base_uri": "https://localhost:8080/",
          "height": 1000
        },
        "outputId": "bc44167b-6d6a-4b6a-c8bf-64f091d03275"
      },
      "source": [
        "model = get_unet_model()\n",
        "model.summary()"
      ],
      "execution_count": 58,
      "outputs": [
        {
          "output_type": "stream",
          "text": [
            "WARNING:tensorflow:From /usr/local/lib/python3.6/dist-packages/keras/optimizers.py:793: The name tf.train.Optimizer is deprecated. Please use tf.compat.v1.train.Optimizer instead.\n",
            "\n",
            "WARNING:tensorflow:From /usr/local/lib/python3.6/dist-packages/keras/backend/tensorflow_backend.py:3657: The name tf.log is deprecated. Please use tf.math.log instead.\n",
            "\n",
            "WARNING:tensorflow:From /usr/local/lib/python3.6/dist-packages/tensorflow_core/python/ops/nn_impl.py:183: where (from tensorflow.python.ops.array_ops) is deprecated and will be removed in a future version.\n",
            "Instructions for updating:\n",
            "Use tf.where in 2.0, which has the same broadcast rule as np.where\n",
            "Model: \"model_3\"\n",
            "__________________________________________________________________________________________________\n",
            "Layer (type)                    Output Shape         Param #     Connected to                     \n",
            "==================================================================================================\n",
            "img (InputLayer)                (None, 128, 128, 1)  0                                            \n",
            "__________________________________________________________________________________________________\n",
            "conv2d_67 (Conv2D)              (None, 128, 128, 8)  80          img[0][0]                        \n",
            "__________________________________________________________________________________________________\n",
            "conv2d_68 (Conv2D)              (None, 128, 128, 8)  584         conv2d_67[0][0]                  \n",
            "__________________________________________________________________________________________________\n",
            "max_pooling2d_17 (MaxPooling2D) (None, 64, 64, 8)    0           conv2d_68[0][0]                  \n",
            "__________________________________________________________________________________________________\n",
            "conv2d_69 (Conv2D)              (None, 64, 64, 16)   1168        max_pooling2d_17[0][0]           \n",
            "__________________________________________________________________________________________________\n",
            "conv2d_70 (Conv2D)              (None, 64, 64, 16)   2320        conv2d_69[0][0]                  \n",
            "__________________________________________________________________________________________________\n",
            "max_pooling2d_18 (MaxPooling2D) (None, 32, 32, 16)   0           conv2d_70[0][0]                  \n",
            "__________________________________________________________________________________________________\n",
            "conv2d_71 (Conv2D)              (None, 32, 32, 32)   4640        max_pooling2d_18[0][0]           \n",
            "__________________________________________________________________________________________________\n",
            "conv2d_72 (Conv2D)              (None, 32, 32, 32)   9248        conv2d_71[0][0]                  \n",
            "__________________________________________________________________________________________________\n",
            "max_pooling2d_19 (MaxPooling2D) (None, 16, 16, 32)   0           conv2d_72[0][0]                  \n",
            "__________________________________________________________________________________________________\n",
            "conv2d_73 (Conv2D)              (None, 16, 16, 64)   18496       max_pooling2d_19[0][0]           \n",
            "__________________________________________________________________________________________________\n",
            "conv2d_74 (Conv2D)              (None, 16, 16, 64)   36928       conv2d_73[0][0]                  \n",
            "__________________________________________________________________________________________________\n",
            "max_pooling2d_20 (MaxPooling2D) (None, 8, 8, 64)     0           conv2d_74[0][0]                  \n",
            "__________________________________________________________________________________________________\n",
            "conv2d_75 (Conv2D)              (None, 8, 8, 128)    73856       max_pooling2d_20[0][0]           \n",
            "__________________________________________________________________________________________________\n",
            "conv2d_76 (Conv2D)              (None, 8, 8, 128)    147584      conv2d_75[0][0]                  \n",
            "__________________________________________________________________________________________________\n",
            "conv2d_transpose_13 (Conv2DTran (None, 16, 16, 64)   32832       conv2d_76[0][0]                  \n",
            "__________________________________________________________________________________________________\n",
            "concatenate_13 (Concatenate)    (None, 16, 16, 128)  0           conv2d_transpose_13[0][0]        \n",
            "                                                                 conv2d_74[0][0]                  \n",
            "__________________________________________________________________________________________________\n",
            "conv2d_77 (Conv2D)              (None, 16, 16, 64)   73792       concatenate_13[0][0]             \n",
            "__________________________________________________________________________________________________\n",
            "conv2d_78 (Conv2D)              (None, 16, 16, 64)   36928       conv2d_77[0][0]                  \n",
            "__________________________________________________________________________________________________\n",
            "conv2d_transpose_14 (Conv2DTran (None, 32, 32, 32)   8224        conv2d_78[0][0]                  \n",
            "__________________________________________________________________________________________________\n",
            "concatenate_14 (Concatenate)    (None, 32, 32, 64)   0           conv2d_transpose_14[0][0]        \n",
            "                                                                 conv2d_72[0][0]                  \n",
            "__________________________________________________________________________________________________\n",
            "conv2d_79 (Conv2D)              (None, 32, 32, 32)   18464       concatenate_14[0][0]             \n",
            "__________________________________________________________________________________________________\n",
            "conv2d_80 (Conv2D)              (None, 32, 32, 32)   9248        conv2d_79[0][0]                  \n",
            "__________________________________________________________________________________________________\n",
            "conv2d_transpose_15 (Conv2DTran (None, 64, 64, 16)   2064        conv2d_80[0][0]                  \n",
            "__________________________________________________________________________________________________\n",
            "concatenate_15 (Concatenate)    (None, 64, 64, 32)   0           conv2d_transpose_15[0][0]        \n",
            "                                                                 conv2d_70[0][0]                  \n",
            "__________________________________________________________________________________________________\n",
            "conv2d_81 (Conv2D)              (None, 64, 64, 16)   4624        concatenate_15[0][0]             \n",
            "__________________________________________________________________________________________________\n",
            "conv2d_82 (Conv2D)              (None, 64, 64, 16)   2320        conv2d_81[0][0]                  \n",
            "__________________________________________________________________________________________________\n",
            "conv2d_transpose_16 (Conv2DTran (None, 128, 128, 8)  520         conv2d_82[0][0]                  \n",
            "__________________________________________________________________________________________________\n",
            "concatenate_16 (Concatenate)    (None, 128, 128, 16) 0           conv2d_transpose_16[0][0]        \n",
            "                                                                 conv2d_68[0][0]                  \n",
            "__________________________________________________________________________________________________\n",
            "conv2d_83 (Conv2D)              (None, 128, 128, 8)  1160        concatenate_16[0][0]             \n",
            "__________________________________________________________________________________________________\n",
            "conv2d_84 (Conv2D)              (None, 128, 128, 8)  584         conv2d_83[0][0]                  \n",
            "__________________________________________________________________________________________________\n",
            "conv2d_85 (Conv2D)              (None, 128, 128, 1)  9           conv2d_84[0][0]                  \n",
            "==================================================================================================\n",
            "Total params: 485,673\n",
            "Trainable params: 485,673\n",
            "Non-trainable params: 0\n",
            "__________________________________________________________________________________________________\n"
          ],
          "name": "stdout"
        }
      ]
    },
    {
      "cell_type": "code",
      "metadata": {
        "id": "oS-4c8dTHfmt",
        "colab_type": "code",
        "colab": {}
      },
      "source": [
        "from sklearn.model_selection import train_test_split"
      ],
      "execution_count": 0,
      "outputs": []
    },
    {
      "cell_type": "code",
      "metadata": {
        "id": "QhL4utSeHZSL",
        "colab_type": "code",
        "colab": {}
      },
      "source": [
        "# Split X and y into random train_valid and test\n",
        "X_train_valid, X_test, y_train_valid, y_test = train_test_split(X, y, test_size=0.10, random_state=1234)\n",
        "\n",
        "# Split X_train_valid and y_train_valid into random train and valid\n",
        "X_train, X_valid, y_train, y_valid = train_test_split(X_train_valid, y_train_valid, test_size=0.222, random_state=2345)"
      ],
      "execution_count": 0,
      "outputs": []
    },
    {
      "cell_type": "code",
      "metadata": {
        "id": "udA3hTjESNjV",
        "colab_type": "code",
        "colab": {
          "base_uri": "https://localhost:8080/",
          "height": 318
        },
        "outputId": "ae787102-a603-4263-ca16-a51c3a52bf88"
      },
      "source": [
        "import random\n",
        "import matplotlib.pyplot as plt\n",
        "#Anzeigen von Plots direkt unter der Plot-generierenden Zelle\n",
        "%matplotlib inline\n",
        "\n",
        "# Check if training data looks all right\n",
        "ix = random.randint(0, len(X_train))\n",
        "has_mask = y_train[ix].max() > 0\n",
        "\n",
        "fig, ax = plt.subplots(1, 2, figsize=(10, 5))\n",
        "\n",
        "ax[0].imshow(X_train[ix, ..., 0], cmap='seismic', interpolation='bilinear')\n",
        "if has_mask:\n",
        "    ax[0].contour(y_train[ix].squeeze(), colors='k', levels=[0.5])\n",
        "ax[0].set_title('Seismic')\n",
        "\n",
        "ax[1].imshow(y_train[ix].squeeze(), interpolation='bilinear', cmap='gray')\n",
        "ax[1].set_title('Mask');"
      ],
      "execution_count": 72,
      "outputs": [
        {
          "output_type": "display_data",
          "data": {
            "image/png": "[encoded data removed]",
            "text/plain": [
              "<Figure size 720x360 with 2 Axes>"
            ]
          },
          "metadata": {
            "tags": []
          }
        }
      ]
    },
    {
      "cell_type": "code",
      "metadata": {
        "id": "SYy5wEXtSng-",
        "colab_type": "code",
        "colab": {}
      },
      "source": [
        "from keras.callbacks import EarlyStopping, ModelCheckpoint, ReduceLROnPlateau\n",
        "\n",
        "callbacks = [\n",
        "    EarlyStopping(patience=10, verbose=1),\n",
        "    ReduceLROnPlateau(factor=0.1, patience=3, min_lr=0.00001, verbose=1),\n",
        "    ModelCheckpoint('model-tgs-salt.h5', verbose=1, save_best_only=True, save_weights_only=True)\n",
        "]"
      ],
      "execution_count": 0,
      "outputs": []
    },
    {
      "cell_type": "code",
      "metadata": {
        "id": "avhrgGCxTQfu",
        "colab_type": "code",
        "colab": {
          "base_uri": "https://localhost:8080/",
          "height": 1000
        },
        "outputId": "10c6b119-4d52-4830-91dc-a34e28616645"
      },
      "source": [
        "results = model.fit(X_train, y_train, batch_size=32, epochs=100, callbacks=callbacks,\n",
        "                    validation_data=(X_valid, y_valid))"
      ],
      "execution_count": 75,
      "outputs": [
        {
          "output_type": "stream",
          "text": [
            "WARNING:tensorflow:From /usr/local/lib/python3.6/dist-packages/keras/backend/tensorflow_backend.py:1033: The name tf.assign_add is deprecated. Please use tf.compat.v1.assign_add instead.\n",
            "\n",
            "WARNING:tensorflow:From /usr/local/lib/python3.6/dist-packages/keras/backend/tensorflow_backend.py:1020: The name tf.assign is deprecated. Please use tf.compat.v1.assign instead.\n",
            "\n",
            "WARNING:tensorflow:From /usr/local/lib/python3.6/dist-packages/keras/backend/tensorflow_backend.py:3005: The name tf.Session is deprecated. Please use tf.compat.v1.Session instead.\n",
            "\n",
            "Train on 2800 samples, validate on 800 samples\n",
            "Epoch 1/100\n",
            "WARNING:tensorflow:From /usr/local/lib/python3.6/dist-packages/keras/backend/tensorflow_backend.py:190: The name tf.get_default_session is deprecated. Please use tf.compat.v1.get_default_session instead.\n",
            "\n",
            "WARNING:tensorflow:From /usr/local/lib/python3.6/dist-packages/keras/backend/tensorflow_backend.py:197: The name tf.ConfigProto is deprecated. Please use tf.compat.v1.ConfigProto instead.\n",
            "\n",
            "WARNING:tensorflow:From /usr/local/lib/python3.6/dist-packages/keras/backend/tensorflow_backend.py:207: The name tf.global_variables is deprecated. Please use tf.compat.v1.global_variables instead.\n",
            "\n",
            "WARNING:tensorflow:From /usr/local/lib/python3.6/dist-packages/keras/backend/tensorflow_backend.py:216: The name tf.is_variable_initialized is deprecated. Please use tf.compat.v1.is_variable_initialized instead.\n",
            "\n",
            "WARNING:tensorflow:From /usr/local/lib/python3.6/dist-packages/keras/backend/tensorflow_backend.py:223: The name tf.variables_initializer is deprecated. Please use tf.compat.v1.variables_initializer instead.\n",
            "\n",
            "2800/2800 [==============================] - 22s 8ms/step - loss: 0.5350 - acc: 0.7493 - val_loss: 0.4820 - val_acc: 0.7485\n",
            "\n",
            "Epoch 00001: val_loss improved from inf to 0.48204, saving model to model-tgs-salt.h5\n",
            "Epoch 2/100\n",
            "2800/2800 [==============================] - 5s 2ms/step - loss: 0.4017 - acc: 0.8043 - val_loss: 0.3548 - val_acc: 0.8537\n",
            "\n",
            "Epoch 00002: val_loss improved from 0.48204 to 0.35483, saving model to model-tgs-salt.h5\n",
            "Epoch 3/100\n",
            "2800/2800 [==============================] - 5s 2ms/step - loss: 0.3572 - acc: 0.8487 - val_loss: 0.3256 - val_acc: 0.8618\n",
            "\n",
            "Epoch 00003: val_loss improved from 0.35483 to 0.32562, saving model to model-tgs-salt.h5\n",
            "Epoch 4/100\n",
            "2800/2800 [==============================] - 5s 2ms/step - loss: 0.3165 - acc: 0.8714 - val_loss: 0.3296 - val_acc: 0.8638\n",
            "\n",
            "Epoch 00004: val_loss did not improve from 0.32562\n",
            "Epoch 5/100\n",
            "2800/2800 [==============================] - 5s 2ms/step - loss: 0.3120 - acc: 0.8725 - val_loss: 0.2910 - val_acc: 0.8807\n",
            "\n",
            "Epoch 00005: val_loss improved from 0.32562 to 0.29101, saving model to model-tgs-salt.h5\n",
            "Epoch 6/100\n",
            "2800/2800 [==============================] - 5s 2ms/step - loss: 0.2902 - acc: 0.8822 - val_loss: 0.3299 - val_acc: 0.8794\n",
            "\n",
            "Epoch 00006: val_loss did not improve from 0.29101\n",
            "Epoch 7/100\n",
            "2800/2800 [==============================] - 5s 2ms/step - loss: 0.2839 - acc: 0.8869 - val_loss: 0.2813 - val_acc: 0.8796\n",
            "\n",
            "Epoch 00007: val_loss improved from 0.29101 to 0.28131, saving model to model-tgs-salt.h5\n",
            "Epoch 8/100\n",
            "2800/2800 [==============================] - 5s 2ms/step - loss: 0.2650 - acc: 0.8921 - val_loss: 0.2605 - val_acc: 0.8935\n",
            "\n",
            "Epoch 00008: val_loss improved from 0.28131 to 0.26047, saving model to model-tgs-salt.h5\n",
            "Epoch 9/100\n",
            "2800/2800 [==============================] - 5s 2ms/step - loss: 0.2714 - acc: 0.8907 - val_loss: 0.2638 - val_acc: 0.8907\n",
            "\n",
            "Epoch 00009: val_loss did not improve from 0.26047\n",
            "Epoch 10/100\n",
            "2800/2800 [==============================] - 5s 2ms/step - loss: 0.2460 - acc: 0.8986 - val_loss: 0.2434 - val_acc: 0.9014\n",
            "\n",
            "Epoch 00010: val_loss improved from 0.26047 to 0.24339, saving model to model-tgs-salt.h5\n",
            "Epoch 11/100\n",
            "2800/2800 [==============================] - 5s 2ms/step - loss: 0.2335 - acc: 0.9036 - val_loss: 0.2318 - val_acc: 0.9033\n",
            "\n",
            "Epoch 00011: val_loss improved from 0.24339 to 0.23185, saving model to model-tgs-salt.h5\n",
            "Epoch 12/100\n",
            "2800/2800 [==============================] - 5s 2ms/step - loss: 0.2267 - acc: 0.9071 - val_loss: 0.2664 - val_acc: 0.8977\n",
            "\n",
            "Epoch 00012: val_loss did not improve from 0.23185\n",
            "Epoch 13/100\n",
            "2800/2800 [==============================] - 5s 2ms/step - loss: 0.2206 - acc: 0.9095 - val_loss: 0.2277 - val_acc: 0.9063\n",
            "\n",
            "Epoch 00013: val_loss improved from 0.23185 to 0.22774, saving model to model-tgs-salt.h5\n",
            "Epoch 14/100\n",
            "2800/2800 [==============================] - 5s 2ms/step - loss: 0.2106 - acc: 0.9099 - val_loss: 0.2388 - val_acc: 0.9102\n",
            "\n",
            "Epoch 00014: val_loss did not improve from 0.22774\n",
            "Epoch 15/100\n",
            "2800/2800 [==============================] - 5s 2ms/step - loss: 0.2029 - acc: 0.9150 - val_loss: 0.2180 - val_acc: 0.9076\n",
            "\n",
            "Epoch 00015: val_loss improved from 0.22774 to 0.21804, saving model to model-tgs-salt.h5\n",
            "Epoch 16/100\n",
            "2800/2800 [==============================] - 5s 2ms/step - loss: 0.2103 - acc: 0.9124 - val_loss: 0.2247 - val_acc: 0.9072\n",
            "\n",
            "Epoch 00016: val_loss did not improve from 0.21804\n",
            "Epoch 17/100\n",
            "2800/2800 [==============================] - 5s 2ms/step - loss: 0.1871 - acc: 0.9195 - val_loss: 0.2077 - val_acc: 0.9126\n",
            "\n",
            "Epoch 00017: val_loss improved from 0.21804 to 0.20773, saving model to model-tgs-salt.h5\n",
            "Epoch 18/100\n",
            "2800/2800 [==============================] - 5s 2ms/step - loss: 0.1843 - acc: 0.9211 - val_loss: 0.2184 - val_acc: 0.9164\n",
            "\n",
            "Epoch 00018: val_loss did not improve from 0.20773\n",
            "Epoch 19/100\n",
            "2800/2800 [==============================] - 5s 2ms/step - loss: 0.1759 - acc: 0.9239 - val_loss: 0.2033 - val_acc: 0.9162\n",
            "\n",
            "Epoch 00019: val_loss improved from 0.20773 to 0.20332, saving model to model-tgs-salt.h5\n",
            "Epoch 20/100\n",
            "2800/2800 [==============================] - 5s 2ms/step - loss: 0.1693 - acc: 0.9257 - val_loss: 0.2044 - val_acc: 0.9183\n",
            "\n",
            "Epoch 00020: val_loss did not improve from 0.20332\n",
            "Epoch 21/100\n",
            "2800/2800 [==============================] - 5s 2ms/step - loss: 0.1582 - acc: 0.9287 - val_loss: 0.2020 - val_acc: 0.9177\n",
            "\n",
            "Epoch 00021: val_loss improved from 0.20332 to 0.20200, saving model to model-tgs-salt.h5\n",
            "Epoch 22/100\n",
            "2800/2800 [==============================] - 5s 2ms/step - loss: 0.1596 - acc: 0.9291 - val_loss: 0.1917 - val_acc: 0.9160\n",
            "\n",
            "Epoch 00022: val_loss improved from 0.20200 to 0.19172, saving model to model-tgs-salt.h5\n",
            "Epoch 23/100\n",
            "2800/2800 [==============================] - 5s 2ms/step - loss: 0.1469 - acc: 0.9342 - val_loss: 0.2101 - val_acc: 0.9209\n",
            "\n",
            "Epoch 00023: val_loss did not improve from 0.19172\n",
            "Epoch 24/100\n",
            "2800/2800 [==============================] - 5s 2ms/step - loss: 0.1419 - acc: 0.9362 - val_loss: 0.2059 - val_acc: 0.9193\n",
            "\n",
            "Epoch 00024: val_loss did not improve from 0.19172\n",
            "Epoch 25/100\n",
            "2800/2800 [==============================] - 5s 2ms/step - loss: 0.1333 - acc: 0.9385 - val_loss: 0.2242 - val_acc: 0.9126\n",
            "\n",
            "Epoch 00025: ReduceLROnPlateau reducing learning rate to 0.00010000000474974513.\n",
            "\n",
            "Epoch 00025: val_loss did not improve from 0.19172\n",
            "Epoch 26/100\n",
            "2800/2800 [==============================] - 5s 2ms/step - loss: 0.1119 - acc: 0.9482 - val_loss: 0.2008 - val_acc: 0.9209\n",
            "\n",
            "Epoch 00026: val_loss did not improve from 0.19172\n",
            "Epoch 27/100\n",
            "2800/2800 [==============================] - 5s 2ms/step - loss: 0.1010 - acc: 0.9522 - val_loss: 0.2078 - val_acc: 0.9205\n",
            "\n",
            "Epoch 00027: val_loss did not improve from 0.19172\n",
            "Epoch 28/100\n",
            "2800/2800 [==============================] - 5s 2ms/step - loss: 0.0983 - acc: 0.9532 - val_loss: 0.2119 - val_acc: 0.9224\n",
            "\n",
            "Epoch 00028: ReduceLROnPlateau reducing learning rate to 1.0000000474974514e-05.\n",
            "\n",
            "Epoch 00028: val_loss did not improve from 0.19172\n",
            "Epoch 29/100\n",
            "2800/2800 [==============================] - 5s 2ms/step - loss: 0.0935 - acc: 0.9551 - val_loss: 0.2118 - val_acc: 0.9218\n",
            "\n",
            "Epoch 00029: val_loss did not improve from 0.19172\n",
            "Epoch 30/100\n",
            "2800/2800 [==============================] - 5s 2ms/step - loss: 0.0930 - acc: 0.9553 - val_loss: 0.2117 - val_acc: 0.9214\n",
            "\n",
            "Epoch 00030: val_loss did not improve from 0.19172\n",
            "Epoch 31/100\n",
            "2800/2800 [==============================] - 5s 2ms/step - loss: 0.0926 - acc: 0.9554 - val_loss: 0.2126 - val_acc: 0.9214\n",
            "\n",
            "Epoch 00031: ReduceLROnPlateau reducing learning rate to 1e-05.\n",
            "\n",
            "Epoch 00031: val_loss did not improve from 0.19172\n",
            "Epoch 32/100\n",
            "2800/2800 [==============================] - 5s 2ms/step - loss: 0.0922 - acc: 0.9556 - val_loss: 0.2135 - val_acc: 0.9213\n",
            "\n",
            "Epoch 00032: val_loss did not improve from 0.19172\n",
            "Epoch 00032: early stopping\n"
          ],
          "name": "stdout"
        }
      ]
    }
  ]
}