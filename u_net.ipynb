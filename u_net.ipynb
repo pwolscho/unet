{
  "nbformat": 4,
  "nbformat_minor": 0,
  "metadata": {
    "colab": {
      "name": "u-net.ipynb",
      "provenance": [],
      "collapsed_sections": [
        "Dz5BjxQEx056",
        "ZSuizjtbyZzp",
        "e2yI_a9X7pcU",
        "QbWJAtdJO9N1",
        "fNTSzpm2PI5q",
        "QZqCTvgdlufd",
        "xNo36sj2Eg7a",
        "So7HwDgsEjJM",
        "eLbGeu9JHcWS",
        "iMrzipVkJyaC",
        "5os9kxc8KKao",
        "gZY3ddaKKQGu",
        "5v2VxLzhKXGl"
      ],
      "toc_visible": true,
      "include_colab_link": true
    },
    "kernelspec": {
      "name": "python3",
      "display_name": "Python 3"
    },
    "accelerator": "GPU"
  },
  "cells": [
    {
      "cell_type": "markdown",
      "metadata": {
        "id": "view-in-github",
        "colab_type": "text"
      },
      "source": [
        "<a href=\"https://colab.research.google.com/github/pwolscho/unet/blob/master/u_net.ipynb\" target=\"_parent\"><img src=\"https://colab.research.google.com/assets/colab-badge.svg\" alt=\"Open In Colab\"/></a>"
      ]
    },
    {
      "cell_type": "markdown",
      "metadata": {
        "id": "_RroUSfCq4UJ",
        "colab_type": "text"
      },
      "source": [
        "\n",
        "![U-Net Demonstration](https://drive.google.com/uc?id=1-kEr1EjJgpSjGCV1oFfYw_A2cnu5cNVI)"
      ]
    },
    {
      "cell_type": "markdown",
      "metadata": {
        "id": "Dz5BjxQEx056",
        "colab_type": "text"
      },
      "source": [
        "#Über dieses Notebook\n",
        "\n",
        "U-Net ist die bekannteste Architektur im Bereich der Semantischen Segmentierung (Anwendung: Segmentierung in Bildern). Im Rahmen des Kurses Seminat-Deep-Learning der Hochschule Offenburg zeigt dieses Notebook eine mögliche Implementierung von U-Net und demonstriert dessen Anwendung anhand eines Beispiel-Datensatzes."
      ]
    },
    {
      "cell_type": "markdown",
      "metadata": {
        "id": "8-y2Oicwze3v",
        "colab_type": "text"
      },
      "source": [
        "##Informationen zum Datensatz\n",
        "\n",
        "Mehrere Gebiete der Erde mit großen Öl- und Gasansammlungen haben auch riesige Salzlagerstätten unter der Oberfläche, d.h. dort wo Salz ist, wird vermutlich auch das wertvolle Öl zu finden sein.\n",
        "\n",
        "Professionelle seismische Messungen zum Auffinden der Salzlagerstätten erfordert immer noch eine fachkundige menschliche Interpretation der daraus resultierenden Bilddaten. Dies führt zu sehr subjektiven, sehr variablen Ergebnissen. Das führt zu potenziell gefährlichen Situationen für Bohrer von Öl- und Gasunternehmen.\n",
        "\n",
        "Um sehr präzise seismischen Bilder zu erstellen, hofft TGS-NOPEC Geophysical Systems (das weltweit führende Unternehmen für geophysikalische Dienste), dass die Online-Community von Kaggle in der Lage sein wird, einen Algorithmus zu entwickeln, der automatisch und genau erkennt, ob und Salz unter der Erdoberfläche zu finden ist oder nicht.\n",
        "\n",
        "Dazu wurde im Jahr 2018 eine Wettbewerb von Kaggle durchgeführt.\n",
        "\n",
        "Auf den diesem Notebook verwendete Datensatz kann nach wie vor unter https://www.kaggle.com/c/tgs-salt-identification-challenge/data  zugegriffen werden."
      ]
    },
    {
      "cell_type": "markdown",
      "metadata": {
        "id": "e2i9C3tC4qHp",
        "colab_type": "text"
      },
      "source": [
        "##Gliederung des Notebooks\n",
        "\n",
        "Die durchgeführten Schritte gliedern sich chronologisch wie folgt:\n",
        "\n",
        "- Implementierung\n",
        "  - Einbinden benötigter Bibliotheken\n",
        "  - Setzen von globalen Einstellungen\n",
        "  - Bereitstellung des Datensatzes\n",
        "  - Anzeigen der Bilddaten\n",
        "  - Darstellung der Tiefenverteilung der Trainigsdaten \n",
        "  - Darstellung des Verhältnisses von Salz und Tiefe der Trainigsdaten\n",
        "  - Definition eines U-Net Algorithmus\n",
        "- Training des Netzwerkes\n",
        "- Test"
      ]
    },
    {
      "cell_type": "markdown",
      "metadata": {
        "id": "ZSuizjtbyZzp",
        "colab_type": "text"
      },
      "source": [
        "#Implementierung"
      ]
    },
    {
      "cell_type": "markdown",
      "metadata": {
        "id": "e2yI_a9X7pcU",
        "colab_type": "text"
      },
      "source": [
        "##Einbinden benötigter Bibliotheken"
      ]
    },
    {
      "cell_type": "code",
      "metadata": {
        "id": "HOXraJLHe_i3",
        "colab_type": "code",
        "outputId": "695e2ac2-136c-453f-8558-2d26ca5c99ec",
        "colab": {
          "base_uri": "https://localhost:8080/",
          "height": 921
        }
      },
      "source": [
        "#Installation ist vermutlich überflüssig\n",
        "!pip install imageio #Lesen und Schreiben von Bilddaten\n",
        "!pip install torch #Deep-Learning Bibliothek\n",
        "!pip install kaggle #Zugriff auf den Datensatz von Kaggle\n",
        "!pip install ipywidgets #Besondere grafische Schnittstellen"
      ],
      "execution_count": 0,
      "outputs": [
        {
          "output_type": "stream",
          "text": [
            "Requirement already satisfied: imageio in /usr/local/lib/python3.6/dist-packages (2.4.1)\n",
            "Requirement already satisfied: numpy in /usr/local/lib/python3.6/dist-packages (from imageio) (1.17.3)\n",
            "Requirement already satisfied: pillow in /usr/local/lib/python3.6/dist-packages (from imageio) (4.3.0)\n",
            "Requirement already satisfied: olefile in /usr/local/lib/python3.6/dist-packages (from pillow->imageio) (0.46)\n",
            "Requirement already satisfied: torch in /usr/local/lib/python3.6/dist-packages (1.3.1+cu100)\n",
            "Requirement already satisfied: numpy in /usr/local/lib/python3.6/dist-packages (from torch) (1.17.3)\n",
            "Requirement already satisfied: kaggle in /usr/local/lib/python3.6/dist-packages (1.5.6)\n",
            "Requirement already satisfied: requests in /usr/local/lib/python3.6/dist-packages (from kaggle) (2.21.0)\n",
            "Requirement already satisfied: python-dateutil in /usr/local/lib/python3.6/dist-packages (from kaggle) (2.6.1)\n",
            "Requirement already satisfied: urllib3<1.25,>=1.21.1 in /usr/local/lib/python3.6/dist-packages (from kaggle) (1.24.3)\n",
            "Requirement already satisfied: tqdm in /usr/local/lib/python3.6/dist-packages (from kaggle) (4.28.1)\n",
            "Requirement already satisfied: certifi in /usr/local/lib/python3.6/dist-packages (from kaggle) (2019.9.11)\n",
            "Requirement already satisfied: python-slugify in /usr/local/lib/python3.6/dist-packages (from kaggle) (4.0.0)\n",
            "Requirement already satisfied: six>=1.10 in /usr/local/lib/python3.6/dist-packages (from kaggle) (1.12.0)\n",
            "Requirement already satisfied: chardet<3.1.0,>=3.0.2 in /usr/local/lib/python3.6/dist-packages (from requests->kaggle) (3.0.4)\n",
            "Requirement already satisfied: idna<2.9,>=2.5 in /usr/local/lib/python3.6/dist-packages (from requests->kaggle) (2.8)\n",
            "Requirement already satisfied: text-unidecode>=1.3 in /usr/local/lib/python3.6/dist-packages (from python-slugify->kaggle) (1.3)\n",
            "Requirement already satisfied: ipywidgets in /usr/local/lib/python3.6/dist-packages (7.5.1)\n",
            "Requirement already satisfied: ipykernel>=4.5.1 in /usr/local/lib/python3.6/dist-packages (from ipywidgets) (4.6.1)\n",
            "Requirement already satisfied: ipython>=4.0.0; python_version >= \"3.3\" in /usr/local/lib/python3.6/dist-packages (from ipywidgets) (5.5.0)\n",
            "Requirement already satisfied: traitlets>=4.3.1 in /usr/local/lib/python3.6/dist-packages (from ipywidgets) (4.3.3)\n",
            "Requirement already satisfied: nbformat>=4.2.0 in /usr/local/lib/python3.6/dist-packages (from ipywidgets) (4.4.0)\n",
            "Requirement already satisfied: widgetsnbextension~=3.5.0 in /usr/local/lib/python3.6/dist-packages (from ipywidgets) (3.5.1)\n",
            "Requirement already satisfied: jupyter-client in /usr/local/lib/python3.6/dist-packages (from ipykernel>=4.5.1->ipywidgets) (5.3.4)\n",
            "Requirement already satisfied: tornado>=4.0 in /usr/local/lib/python3.6/dist-packages (from ipykernel>=4.5.1->ipywidgets) (4.5.3)\n",
            "Requirement already satisfied: pickleshare in /usr/local/lib/python3.6/dist-packages (from ipython>=4.0.0; python_version >= \"3.3\"->ipywidgets) (0.7.5)\n",
            "Requirement already satisfied: decorator in /usr/local/lib/python3.6/dist-packages (from ipython>=4.0.0; python_version >= \"3.3\"->ipywidgets) (4.4.1)\n",
            "Requirement already satisfied: pexpect; sys_platform != \"win32\" in /usr/local/lib/python3.6/dist-packages (from ipython>=4.0.0; python_version >= \"3.3\"->ipywidgets) (4.7.0)\n",
            "Requirement already satisfied: pygments in /usr/local/lib/python3.6/dist-packages (from ipython>=4.0.0; python_version >= \"3.3\"->ipywidgets) (2.1.3)\n",
            "Requirement already satisfied: setuptools>=18.5 in /usr/local/lib/python3.6/dist-packages (from ipython>=4.0.0; python_version >= \"3.3\"->ipywidgets) (41.4.0)\n",
            "Requirement already satisfied: simplegeneric>0.8 in /usr/local/lib/python3.6/dist-packages (from ipython>=4.0.0; python_version >= \"3.3\"->ipywidgets) (0.8.1)\n",
            "Requirement already satisfied: prompt-toolkit<2.0.0,>=1.0.4 in /usr/local/lib/python3.6/dist-packages (from ipython>=4.0.0; python_version >= \"3.3\"->ipywidgets) (1.0.18)\n",
            "Requirement already satisfied: ipython-genutils in /usr/local/lib/python3.6/dist-packages (from traitlets>=4.3.1->ipywidgets) (0.2.0)\n",
            "Requirement already satisfied: six in /usr/local/lib/python3.6/dist-packages (from traitlets>=4.3.1->ipywidgets) (1.12.0)\n",
            "Requirement already satisfied: jsonschema!=2.5.0,>=2.4 in /usr/local/lib/python3.6/dist-packages (from nbformat>=4.2.0->ipywidgets) (2.6.0)\n",
            "Requirement already satisfied: jupyter-core in /usr/local/lib/python3.6/dist-packages (from nbformat>=4.2.0->ipywidgets) (4.6.1)\n",
            "Requirement already satisfied: notebook>=4.4.1 in /usr/local/lib/python3.6/dist-packages (from widgetsnbextension~=3.5.0->ipywidgets) (5.2.2)\n",
            "Requirement already satisfied: python-dateutil>=2.1 in /usr/local/lib/python3.6/dist-packages (from jupyter-client->ipykernel>=4.5.1->ipywidgets) (2.6.1)\n",
            "Requirement already satisfied: pyzmq>=13 in /usr/local/lib/python3.6/dist-packages (from jupyter-client->ipykernel>=4.5.1->ipywidgets) (17.0.0)\n",
            "Requirement already satisfied: ptyprocess>=0.5 in /usr/local/lib/python3.6/dist-packages (from pexpect; sys_platform != \"win32\"->ipython>=4.0.0; python_version >= \"3.3\"->ipywidgets) (0.6.0)\n",
            "Requirement already satisfied: wcwidth in /usr/local/lib/python3.6/dist-packages (from prompt-toolkit<2.0.0,>=1.0.4->ipython>=4.0.0; python_version >= \"3.3\"->ipywidgets) (0.1.7)\n",
            "Requirement already satisfied: jinja2 in /usr/local/lib/python3.6/dist-packages (from notebook>=4.4.1->widgetsnbextension~=3.5.0->ipywidgets) (2.10.3)\n",
            "Requirement already satisfied: nbconvert in /usr/local/lib/python3.6/dist-packages (from notebook>=4.4.1->widgetsnbextension~=3.5.0->ipywidgets) (5.6.1)\n",
            "Requirement already satisfied: terminado>=0.3.3; sys_platform != \"win32\" in /usr/local/lib/python3.6/dist-packages (from notebook>=4.4.1->widgetsnbextension~=3.5.0->ipywidgets) (0.8.2)\n",
            "Requirement already satisfied: MarkupSafe>=0.23 in /usr/local/lib/python3.6/dist-packages (from jinja2->notebook>=4.4.1->widgetsnbextension~=3.5.0->ipywidgets) (1.1.1)\n",
            "Requirement already satisfied: entrypoints>=0.2.2 in /usr/local/lib/python3.6/dist-packages (from nbconvert->notebook>=4.4.1->widgetsnbextension~=3.5.0->ipywidgets) (0.3)\n",
            "Requirement already satisfied: mistune<2,>=0.8.1 in /usr/local/lib/python3.6/dist-packages (from nbconvert->notebook>=4.4.1->widgetsnbextension~=3.5.0->ipywidgets) (0.8.4)\n",
            "Requirement already satisfied: bleach in /usr/local/lib/python3.6/dist-packages (from nbconvert->notebook>=4.4.1->widgetsnbextension~=3.5.0->ipywidgets) (3.1.0)\n",
            "Requirement already satisfied: defusedxml in /usr/local/lib/python3.6/dist-packages (from nbconvert->notebook>=4.4.1->widgetsnbextension~=3.5.0->ipywidgets) (0.6.0)\n",
            "Requirement already satisfied: pandocfilters>=1.4.1 in /usr/local/lib/python3.6/dist-packages (from nbconvert->notebook>=4.4.1->widgetsnbextension~=3.5.0->ipywidgets) (1.4.2)\n",
            "Requirement already satisfied: testpath in /usr/local/lib/python3.6/dist-packages (from nbconvert->notebook>=4.4.1->widgetsnbextension~=3.5.0->ipywidgets) (0.4.4)\n",
            "Requirement already satisfied: webencodings in /usr/local/lib/python3.6/dist-packages (from bleach->nbconvert->notebook>=4.4.1->widgetsnbextension~=3.5.0->ipywidgets) (0.5.1)\n"
          ],
          "name": "stdout"
        }
      ]
    },
    {
      "cell_type": "code",
      "metadata": {
        "id": "iHZ37kyYgyhM",
        "colab_type": "code",
        "colab": {}
      },
      "source": [
        "#Einbinden der Bibliotheken\n",
        "import os\n",
        "import imageio\n",
        "import torch\n",
        "import json\n",
        "import numpy as np\n",
        "import pandas as pd\n",
        "import matplotlib.pyplot as plt\n",
        "from torch.utils import data\n",
        "from google.colab import drive\n",
        "from google.colab import files\n",
        "from zipfile import ZipFile\n"
      ],
      "execution_count": 0,
      "outputs": []
    },
    {
      "cell_type": "markdown",
      "metadata": {
        "id": "QbWJAtdJO9N1",
        "colab_type": "text"
      },
      "source": [
        "##Setzen globaler Einstellungen"
      ]
    },
    {
      "cell_type": "code",
      "metadata": {
        "id": "-b8ORSBoPAYl",
        "colab_type": "code",
        "colab": {}
      },
      "source": [
        "#Anzeigen von Plots direkt unter der Plot-generierenden Zelle\n",
        "%matplotlib inline"
      ],
      "execution_count": 0,
      "outputs": []
    },
    {
      "cell_type": "markdown",
      "metadata": {
        "id": "fNTSzpm2PI5q",
        "colab_type": "text"
      },
      "source": [
        "##Bereitstellung des Datensatzes"
      ]
    },
    {
      "cell_type": "markdown",
      "metadata": {
        "id": "UmpZU-CQcC8H",
        "colab_type": "text"
      },
      "source": [
        "###Zugriff auf die Kaggle-API vorbereiten"
      ]
    },
    {
      "cell_type": "markdown",
      "metadata": {
        "id": "gNQbcEZNSec-",
        "colab_type": "text"
      },
      "source": [
        "Um auf den Datensatz von Kaggle zugreifen zu können benötigt die Kaggle-API einen persönlichen API-Token. Der API-Token kann im persönlichen Account von Kaggle generiert werden. Um dem manuellen Upload (files.upload()) zu umgehen wird der Inhalt des Tokens hartkodiert."
      ]
    },
    {
      "cell_type": "code",
      "metadata": {
        "id": "93QQs4eTP0J-",
        "colab_type": "code",
        "colab": {}
      },
      "source": [
        "kaggle_json = '{\"username\":\"philipwolschon\",\"key\":\"715ad801ca6728d6730b7c276db32c6f\"}'"
      ],
      "execution_count": 0,
      "outputs": []
    },
    {
      "cell_type": "markdown",
      "metadata": {
        "id": "v1vtTogGZt8z",
        "colab_type": "text"
      },
      "source": [
        "Zunächst wird die leere Datei kaggle.json angelegt und mit dem Inhalt des kaggle_json-Objekts (API-Token) befüllt."
      ]
    },
    {
      "cell_type": "code",
      "metadata": {
        "id": "xUbVZpe7SAic",
        "colab_type": "code",
        "colab": {}
      },
      "source": [
        "with open('kaggle.json', 'w') as file:\n",
        "  json.dump(kaggle_json, file, ensure_ascii=False)"
      ],
      "execution_count": 0,
      "outputs": []
    },
    {
      "cell_type": "code",
      "metadata": {
        "id": "Js8cbdr6hutd",
        "colab_type": "code",
        "colab": {}
      },
      "source": [
        "with open('kaggle.json', 'w') as file:\n",
        "  file.write(kaggle_json)"
      ],
      "execution_count": 0,
      "outputs": []
    },
    {
      "cell_type": "markdown",
      "metadata": {
        "id": "fMHYbVPTaT-e",
        "colab_type": "text"
      },
      "source": [
        "Außerdem erwartet die Kaggle-API, dass der API-Token in ~/.kaggle/ (/root/.kaggle/) zu finden ist."
      ]
    },
    {
      "cell_type": "code",
      "metadata": {
        "id": "XWRGoqkIX7r5",
        "colab_type": "code",
        "colab": {}
      },
      "source": [
        "!mkdir -p ~/.kaggle #Den Ordner anlegen\n",
        "!mv kaggle.json ~/.kaggle/ #Den API-Token verschieben"
      ],
      "execution_count": 0,
      "outputs": []
    },
    {
      "cell_type": "markdown",
      "metadata": {
        "id": "YLYGr80jb8BZ",
        "colab_type": "text"
      },
      "source": [
        "Liefert folgende Funktion True zurück scheint alles in Ordnung zu sein."
      ]
    },
    {
      "cell_type": "code",
      "metadata": {
        "id": "D56o-2sbc6FZ",
        "colab_type": "code",
        "outputId": "2ef596e1-e65f-4de3-a527-b45dbce0cc09",
        "colab": {
          "base_uri": "https://localhost:8080/",
          "height": 34
        }
      },
      "source": [
        "os.path.isfile(\"/root/.kaggle/kaggle.json\")"
      ],
      "execution_count": 0,
      "outputs": [
        {
          "output_type": "execute_result",
          "data": {
            "text/plain": [
              "True"
            ]
          },
          "metadata": {
            "tags": []
          },
          "execution_count": 54
        }
      ]
    },
    {
      "cell_type": "markdown",
      "metadata": {
        "id": "8L_qmGrYew7r",
        "colab_type": "text"
      },
      "source": [
        "Um Warnungen beim Starten von Kaggle-Tools zu vermeiden werdem dem Besitzer der Datei Lese- und Schreibrechte gewährt."
      ]
    },
    {
      "cell_type": "code",
      "metadata": {
        "id": "GW3uMVFPK-cu",
        "colab_type": "code",
        "colab": {}
      },
      "source": [
        "!chmod 600 ~/.kaggle/kaggle.json"
      ],
      "execution_count": 0,
      "outputs": []
    },
    {
      "cell_type": "markdown",
      "metadata": {
        "id": "r59FeXTMffba",
        "colab_type": "text"
      },
      "source": [
        "###Download und Entpacken des Datensatzes"
      ]
    },
    {
      "cell_type": "markdown",
      "metadata": {
        "id": "8qIZlwVyjRj5",
        "colab_type": "text"
      },
      "source": [
        "Mit Hilfe der Kaggle-API kann nun das Datenset heruntergeladen werden."
      ]
    },
    {
      "cell_type": "code",
      "metadata": {
        "id": "tu2e97SbLDHL",
        "colab_type": "code",
        "outputId": "42dcf42a-90ae-4be9-d889-037849ba9075",
        "colab": {
          "base_uri": "https://localhost:8080/",
          "height": 289
        }
      },
      "source": [
        "!kaggle competitions download -c tgs-salt-identification-challenge -p /content/salt_data "
      ],
      "execution_count": 0,
      "outputs": [
        {
          "output_type": "stream",
          "text": [
            "Warning: Looks like you're using an outdated API Version, please consider updating (server 1.5.6 / client 1.5.4)\n",
            "Downloading depths.csv to /content/salt_data\n",
            "  0% 0.00/322k [00:00<?, ?B/s]\n",
            "100% 322k/322k [00:00<00:00, 98.6MB/s]\n",
            "Downloading sample_submission.csv to /content/salt_data\n",
            "  0% 0.00/264k [00:00<?, ?B/s]\n",
            "100% 264k/264k [00:00<00:00, 36.1MB/s]\n",
            "Downloading train.csv to /content/salt_data\n",
            "  0% 0.00/922k [00:00<?, ?B/s]\n",
            "100% 922k/922k [00:00<00:00, 42.6MB/s]\n",
            "Downloading test.zip to /content/salt_data\n",
            " 96% 156M/163M [00:05<00:00, 27.2MB/s]\n",
            "100% 163M/163M [00:05<00:00, 29.7MB/s]\n",
            "Downloading train.zip to /content/salt_data\n",
            " 87% 33.0M/37.9M [00:01<00:00, 7.25MB/s]\n",
            "100% 37.9M/37.9M [00:01<00:00, 21.3MB/s]\n"
          ],
          "name": "stdout"
        }
      ]
    },
    {
      "cell_type": "markdown",
      "metadata": {
        "id": "aU1ACuZejiCx",
        "colab_type": "text"
      },
      "source": [
        "Die Trainigs- und Testdaten sind komprimiert und müssen zunächst entpackt werden."
      ]
    },
    {
      "cell_type": "code",
      "metadata": {
        "id": "I9PDHNpZh_t7",
        "colab_type": "code",
        "colab": {}
      },
      "source": [
        "#Entpacken der Testdaten\n",
        "with ZipFile('/content/salt_data/test.zip', 'r') as zipObj:\n",
        "   zipObj.extractall('/content/salt_data/test')\n",
        "#Entpacken der Trainingsdaten\n",
        "with ZipFile('/content/salt_data/train.zip', 'r') as zipObj:\n",
        "   zipObj.extractall('/content/salt_data/train')"
      ],
      "execution_count": 0,
      "outputs": []
    },
    {
      "cell_type": "markdown",
      "metadata": {
        "id": "QZqCTvgdlufd",
        "colab_type": "text"
      },
      "source": [
        "##Anzeigen der Bilddaten"
      ]
    },
    {
      "cell_type": "markdown",
      "metadata": {
        "id": "xNo36sj2Eg7a",
        "colab_type": "text"
      },
      "source": [
        "###Klassen- und Methodendefinition\n",
        "\n",
        "Die Klasse SaltDataset repräsentiert den Datensatz."
      ]
    },
    {
      "cell_type": "code",
      "metadata": {
        "id": "BN9H7LBMpAoZ",
        "colab_type": "code",
        "colab": {}
      },
      "source": [
        "class SaltDataset(data.Dataset):\n",
        "\n",
        "  def __init__(self, root_path, file_list):\n",
        "    self.root_path = root_path\n",
        "    self.file_list = file_list\n",
        "\n",
        "  def __len__(self):\n",
        "    return len(self.file_list)\n",
        "\n",
        "  def __getitem__(self, index):\n",
        "    file_id = self.file_list[index]\n",
        "\n",
        "    #root path + image folder + image\n",
        "    image_folder = os.path.join(self.root_path, 'images')\n",
        "    image_path = os.path.join(image_folder, file_id + '.png')\n",
        "\n",
        "    #root path + mask folder + image\n",
        "    mask_folder = os.path.join(self.root_path, 'masks')\n",
        "    mask_path = os.path.join(mask_folder, file_id + '.png')\n",
        "\n",
        "    #convert image to numpy array\n",
        "    image = np.array(imageio.imread(image_path), dtype = np.uint8)\n",
        "    mask = np.array(imageio.imread(mask_path), dtype = np.uint8)\n",
        "\n",
        "    return image, mask\n",
        "  "
      ],
      "execution_count": 0,
      "outputs": []
    },
    {
      "cell_type": "code",
      "metadata": {
        "id": "PPisiWFTttNG",
        "colab_type": "code",
        "colab": {}
      },
      "source": [
        "#function to visualize the images\n",
        "def plotImageAndMask(image, mask):\n",
        "  #invoke matplotlib\n",
        "  f, axarr = plt.subplots(1, 2)\n",
        "  axarr[0].imshow(image)\n",
        "  axarr[1].imshow(mask)\n",
        "  axarr[0].grid()\n",
        "  axarr[1].grid()\n",
        "  axarr[0].set_title('Image')\n",
        "  axarr[1].set_title('Mask')"
      ],
      "execution_count": 0,
      "outputs": []
    },
    {
      "cell_type": "markdown",
      "metadata": {
        "id": "So7HwDgsEjJM",
        "colab_type": "text"
      },
      "source": [
        "###Initialisierung der SaltDataset-Klasse"
      ]
    },
    {
      "cell_type": "code",
      "metadata": {
        "id": "F7cCot_mtEhZ",
        "colab_type": "code",
        "colab": {}
      },
      "source": [
        "#init our new class dataset\n",
        "train_mask = pd.read_csv('/content/salt_data/train.csv')\n",
        "depth = pd.read_csv('/content/salt_data/depths.csv')\n",
        "\n",
        "train_path = '/content/salt_data/train'\n",
        "\n",
        "file_list = list(train_mask['id'].values)\n",
        "dataset= SaltDataset(train_path, file_list)"
      ],
      "execution_count": 0,
      "outputs": []
    },
    {
      "cell_type": "markdown",
      "metadata": {
        "id": "eLbGeu9JHcWS",
        "colab_type": "text"
      },
      "source": [
        "###Ausgabe der Trainingsbilder mit Maske"
      ]
    },
    {
      "cell_type": "code",
      "metadata": {
        "id": "Wv0Qac74uKri",
        "colab_type": "code",
        "outputId": "03972656-3ccd-4ef9-ca31-f2aab3cf2326",
        "colab": {
          "base_uri": "https://localhost:8080/",
          "height": 1000
        }
      },
      "source": [
        "#print the images\n",
        "for i in range(5):\n",
        "  image, mask = dataset[np.random.randint(0, len(dataset))]\n",
        "  plotImageAndMask(image, mask)"
      ],
      "execution_count": 0,
      "outputs": [
        {
          "output_type": "display_data",
          "data": {
            "image/png": "[encoded data removed]",
            "text/plain": [
              "<Figure size 432x288 with 2 Axes>"
            ]
          },
          "metadata": {
            "tags": []
          }
        },
        {
          "output_type": "display_data",
          "data": {
            "image/png": "[encoded data removed]",
            "text/plain": [
              "<Figure size 432x288 with 2 Axes>"
            ]
          },
          "metadata": {
            "tags": []
          }
        },
        {
          "output_type": "display_data",
          "data": {
            "image/png": "[encoded data removed]",
            "text/plain": [
              "<Figure size 432x288 with 2 Axes>"
            ]
          },
          "metadata": {
            "tags": []
          }
        },
        {
          "output_type": "display_data",
          "data": {
            "image/png": "[encoded data removed]",
            "text/plain": [
              "<Figure size 432x288 with 2 Axes>"
            ]
          },
          "metadata": {
            "tags": []
          }
        },
        {
          "output_type": "display_data",
          "data": {
            "image/png": "[encoded data removed]",
            "text/plain": [
              "<Figure size 432x288 with 2 Axes>"
            ]
          },
          "metadata": {
            "tags": []
          }
        }
      ]
    },
    {
      "cell_type": "markdown",
      "metadata": {
        "id": "iMrzipVkJyaC",
        "colab_type": "text"
      },
      "source": [
        "###Feature Tiefe"
      ]
    },
    {
      "cell_type": "code",
      "metadata": {
        "id": "7TzAZTcevlzH",
        "colab_type": "code",
        "outputId": "1503d987-3df9-45bd-f8bc-c01bf8eccc45",
        "colab": {
          "base_uri": "https://localhost:8080/",
          "height": 407
        }
      },
      "source": [
        "#plot the distribution of depths\n",
        "plt.figure(figsize = (6, 6))\n",
        "plt.hist(depth['z'], bins = 50)\n",
        "plt.title('depth distribution')"
      ],
      "execution_count": 0,
      "outputs": [
        {
          "output_type": "execute_result",
          "data": {
            "text/plain": [
              "Text(0.5, 1.0, 'depth distribution')"
            ]
          },
          "metadata": {
            "tags": []
          },
          "execution_count": 21
        },
        {
          "output_type": "display_data",
          "data": {
            "image/png": "[encoded data removed]",
            "text/plain": [
              "<Figure size 432x432 with 1 Axes>"
            ]
          },
          "metadata": {
            "tags": []
          }
        }
      ]
    },
    {
      "cell_type": "code",
      "metadata": {
        "id": "QfWupHpow2kY",
        "colab_type": "code",
        "colab": {}
      },
      "source": [
        "#convert run length encoding to images that can be input into our model\n",
        "def rleToMask(rleString,height,width):\n",
        "    #width heigh\n",
        "    rows,cols = height,width\n",
        "    try:\n",
        "        #get numbers\n",
        "        rleNumbers = [int(numstring) for numstring in rleString.split(' ')]\n",
        "        #get pairs\n",
        "        rlePairs = np.array(rleNumbers).reshape(-1,2)\n",
        "        #create an image\n",
        "        img = np.zeros(rows*cols,dtype=np.uint8)\n",
        "        #for each pair\n",
        "        for index,length in rlePairs:\n",
        "            #get the pixel value \n",
        "            index -= 1\n",
        "            img[index:index+length] = 255\n",
        "        \n",
        "        #reshape\n",
        "        img = img.reshape(cols,rows)\n",
        "        img = img.T\n",
        "    \n",
        "    #else return empty image\n",
        "    except:\n",
        "        img = np.zeros((cols,rows))\n",
        "    \n",
        "    return img"
      ],
      "execution_count": 0,
      "outputs": []
    },
    {
      "cell_type": "code",
      "metadata": {
        "id": "4wkFO1Zvymoc",
        "colab_type": "code",
        "colab": {}
      },
      "source": [
        "#function for measuring how salty an image is\n",
        "def salt_proportion(imgArray):\n",
        "    try: \n",
        "        unique, counts = np.unique(imgArray, return_counts=True)\n",
        "        ## The total number of pixels is 101*101 = 10,201\n",
        "        return counts[1]/10201.\n",
        "    \n",
        "    except: \n",
        "        return 0.0"
      ],
      "execution_count": 0,
      "outputs": []
    },
    {
      "cell_type": "code",
      "metadata": {
        "id": "zwaieCnezBiR",
        "colab_type": "code",
        "colab": {}
      },
      "source": [
        "#prepare to merge depth\n",
        "train_mask['mask'] = train_mask['rle_mask'].apply(lambda x: rleToMask(x, 101, 101))\n",
        "train_mask['salt_proportion'] = train_mask['mask'].apply(lambda x: salt_proportion(x))"
      ],
      "execution_count": 0,
      "outputs": []
    },
    {
      "cell_type": "code",
      "metadata": {
        "id": "2kU-_-3azgBB",
        "colab_type": "code",
        "outputId": "765beddb-7793-492a-ecf5-0a4aa7d9ce80",
        "colab": {
          "base_uri": "https://localhost:8080/",
          "height": 204
        }
      },
      "source": [
        "#merge it\n",
        "merged = train_mask.merge(depth, how = 'left')\n",
        "merged.head()"
      ],
      "execution_count": 0,
      "outputs": [
        {
          "output_type": "execute_result",
          "data": {
            "text/html": [
              "<div>\n",
              "<style scoped>\n",
              "    .dataframe tbody tr th:only-of-type {\n",
              "        vertical-align: middle;\n",
              "    }\n",
              "\n",
              "    .dataframe tbody tr th {\n",
              "        vertical-align: top;\n",
              "    }\n",
              "\n",
              "    .dataframe thead th {\n",
              "        text-align: right;\n",
              "    }\n",
              "</style>\n",
              "<table border=\"1\" class=\"dataframe\">\n",
              "  <thead>\n",
              "    <tr style=\"text-align: right;\">\n",
              "      <th></th>\n",
              "      <th>id</th>\n",
              "      <th>rle_mask</th>\n",
              "      <th>mask</th>\n",
              "      <th>salt_proportion</th>\n",
              "      <th>z</th>\n",
              "    </tr>\n",
              "  </thead>\n",
              "  <tbody>\n",
              "    <tr>\n",
              "      <th>0</th>\n",
              "      <td>575d24d81d</td>\n",
              "      <td>NaN</td>\n",
              "      <td>[[0.0, 0.0, 0.0, 0.0, 0.0, 0.0, 0.0, 0.0, 0.0,...</td>\n",
              "      <td>0.000000</td>\n",
              "      <td>843</td>\n",
              "    </tr>\n",
              "    <tr>\n",
              "      <th>1</th>\n",
              "      <td>a266a2a9df</td>\n",
              "      <td>5051 5151</td>\n",
              "      <td>[[0, 0, 0, 0, 0, 0, 0, 0, 0, 0, 0, 0, 0, 0, 0,...</td>\n",
              "      <td>0.504950</td>\n",
              "      <td>794</td>\n",
              "    </tr>\n",
              "    <tr>\n",
              "      <th>2</th>\n",
              "      <td>75efad62c1</td>\n",
              "      <td>9 93 109 94 210 94 310 95 411 95 511 96 612 96...</td>\n",
              "      <td>[[0, 0, 0, 0, 0, 0, 0, 0, 0, 0, 0, 0, 0, 0, 0,...</td>\n",
              "      <td>0.993334</td>\n",
              "      <td>468</td>\n",
              "    </tr>\n",
              "    <tr>\n",
              "      <th>3</th>\n",
              "      <td>34e51dba6a</td>\n",
              "      <td>48 54 149 54 251 53 353 52 455 51 557 50 659 4...</td>\n",
              "      <td>[[0, 0, 0, 0, 0, 0, 0, 0, 0, 0, 0, 0, 0, 0, 0,...</td>\n",
              "      <td>0.149201</td>\n",
              "      <td>727</td>\n",
              "    </tr>\n",
              "    <tr>\n",
              "      <th>4</th>\n",
              "      <td>4875705fb0</td>\n",
              "      <td>1111 1 1212 1 1313 1 1414 1 1514 2 1615 2 1716...</td>\n",
              "      <td>[[0, 0, 0, 0, 0, 0, 0, 0, 0, 0, 0, 0, 0, 0, 0,...</td>\n",
              "      <td>0.042839</td>\n",
              "      <td>797</td>\n",
              "    </tr>\n",
              "  </tbody>\n",
              "</table>\n",
              "</div>"
            ],
            "text/plain": [
              "           id  ...    z\n",
              "0  575d24d81d  ...  843\n",
              "1  a266a2a9df  ...  794\n",
              "2  75efad62c1  ...  468\n",
              "3  34e51dba6a  ...  727\n",
              "4  4875705fb0  ...  797\n",
              "\n",
              "[5 rows x 5 columns]"
            ]
          },
          "metadata": {
            "tags": []
          },
          "execution_count": 25
        }
      ]
    },
    {
      "cell_type": "code",
      "metadata": {
        "id": "4ixqMFBkzszc",
        "colab_type": "code",
        "outputId": "8cd05b42-3377-4f65-a045-f69a55c6b97f",
        "colab": {
          "base_uri": "https://localhost:8080/",
          "height": 407
        }
      },
      "source": [
        "#show proportion of salt vs depth\n",
        "plt.figure(figsize = (12, 6))\n",
        "plt.scatter(merged['salt_proportion'], merged['z'])\n",
        "plt.title('proportion of salt vs depth')"
      ],
      "execution_count": 0,
      "outputs": [
        {
          "output_type": "execute_result",
          "data": {
            "text/plain": [
              "Text(0.5, 1.0, 'proportion of salt vs depth')"
            ]
          },
          "metadata": {
            "tags": []
          },
          "execution_count": 26
        },
        {
          "output_type": "display_data",
          "data": {
            "image/png": "[encoded data removed]",
            "text/plain": [
              "<Figure size 864x432 with 1 Axes>"
            ]
          },
          "metadata": {
            "tags": []
          }
        }
      ]
    },
    {
      "cell_type": "markdown",
      "metadata": {
        "id": "5os9kxc8KKao",
        "colab_type": "text"
      },
      "source": [
        "#Training des Netzwerkes"
      ]
    },
    {
      "cell_type": "markdown",
      "metadata": {
        "id": "gZY3ddaKKQGu",
        "colab_type": "text"
      },
      "source": [
        "##Vorbereitung"
      ]
    },
    {
      "cell_type": "code",
      "metadata": {
        "id": "thWjxhZh6OO2",
        "colab_type": "code",
        "colab": {}
      },
      "source": [
        "from keras.models import Model, load_model\n",
        "from keras.layers import Input\n",
        "from keras.layers.core import Lambda, RepeatVector, Reshape\n",
        "from keras.layers.convolutional import Conv2D, Conv2DTranspose\n",
        "from keras.layers.pooling import MaxPooling2D\n",
        "from keras.layers.merge import concatenate\n",
        "from keras.callbacks import EarlyStopping, ModelCheckpoint, ReduceLROnPlateau\n",
        "from __future__ import absolute_import, division, print_function, unicode_literals\n",
        "from keras import backend as K"
      ],
      "execution_count": 0,
      "outputs": []
    },
    {
      "cell_type": "code",
      "metadata": {
        "id": "jtGKv3_G7K9f",
        "colab_type": "code",
        "colab": {}
      },
      "source": [
        "im_width = 128\n",
        "im_height = 128\n",
        "border = 5\n",
        "im_chan = 2 # Number of channels: first is original and second cumsum(axis=0)\n",
        "n_features = 1 # Number of extra features, like depth\n",
        "#path_train = '../input/train/'\n",
        "#path_test = '../input/test/'"
      ],
      "execution_count": 0,
      "outputs": []
    },
    {
      "cell_type": "code",
      "metadata": {
        "id": "w9MbJiq77O7b",
        "colab_type": "code",
        "outputId": "92b37ca2-72da-4562-f9f9-1315237264e4",
        "colab": {
          "base_uri": "https://localhost:8080/",
          "height": 1000
        }
      },
      "source": [
        "# Build U-Net model\n",
        "input_img = Input((im_height, im_width, im_chan), name='img')\n",
        "input_features = Input((n_features, ), name='feat')\n",
        "\n",
        "c1 = Conv2D(8, (3, 3), activation='relu', padding='same') (input_img)\n",
        "c1 = Conv2D(8, (3, 3), activation='relu', padding='same') (c1)\n",
        "p1 = MaxPooling2D((2, 2)) (c1)\n",
        "\n",
        "c2 = Conv2D(16, (3, 3), activation='relu', padding='same') (p1)\n",
        "c2 = Conv2D(16, (3, 3), activation='relu', padding='same') (c2)\n",
        "p2 = MaxPooling2D((2, 2)) (c2)\n",
        "\n",
        "c3 = Conv2D(32, (3, 3), activation='relu', padding='same') (p2)\n",
        "c3 = Conv2D(32, (3, 3), activation='relu', padding='same') (c3)\n",
        "p3 = MaxPooling2D((2, 2)) (c3)\n",
        "\n",
        "c4 = Conv2D(64, (3, 3), activation='relu', padding='same') (p3)\n",
        "c4 = Conv2D(64, (3, 3), activation='relu', padding='same') (c4)\n",
        "p4 = MaxPooling2D(pool_size=(2, 2)) (c4)\n",
        "\n",
        "# Join features information in the depthest layer\n",
        "f_repeat = RepeatVector(8*8)(input_features)\n",
        "f_conv = Reshape((8, 8, n_features))(f_repeat)\n",
        "p4_feat = concatenate([p4, f_conv], -1)\n",
        "\n",
        "c5 = Conv2D(128, (3, 3), activation='relu', padding='same') (p4_feat)\n",
        "c5 = Conv2D(128, (3, 3), activation='relu', padding='same') (c5)\n",
        "\n",
        "u6 = Conv2DTranspose(64, (2, 2), strides=(2, 2), padding='same') (c5)\n",
        "#check out this skip connection thooooo\n",
        "u6 = concatenate([u6, c4])\n",
        "c6 = Conv2D(64, (3, 3), activation='relu', padding='same') (u6)\n",
        "c6 = Conv2D(64, (3, 3), activation='relu', padding='same') (c6)\n",
        "\n",
        "u7 = Conv2DTranspose(32, (2, 2), strides=(2, 2), padding='same') (c6)\n",
        "u7 = concatenate([u7, c3])\n",
        "c7 = Conv2D(32, (3, 3), activation='relu', padding='same') (u7)\n",
        "c7 = Conv2D(32, (3, 3), activation='relu', padding='same') (c7)\n",
        "\n",
        "u8 = Conv2DTranspose(16, (2, 2), strides=(2, 2), padding='same') (c7)\n",
        "u8 = concatenate([u8, c2])\n",
        "c8 = Conv2D(16, (3, 3), activation='relu', padding='same') (u8)\n",
        "c8 = Conv2D(16, (3, 3), activation='relu', padding='same') (c8)\n",
        "\n",
        "u9 = Conv2DTranspose(8, (2, 2), strides=(2, 2), padding='same') (c8)\n",
        "u9 = concatenate([u9, c1], axis=3)\n",
        "c9 = Conv2D(8, (3, 3), activation='relu', padding='same') (u9)\n",
        "c9 = Conv2D(8, (3, 3), activation='relu', padding='same') (c9)\n",
        "\n",
        "outputs = Conv2D(1, (1, 1), activation='sigmoid') (c9)\n",
        "\n",
        "model = Model(inputs=[input_img, input_features], outputs=[outputs])\n",
        "model.compile(optimizer='adam', loss='binary_crossentropy') #, metrics=[mean_iou]) # The mean_iou metrics seens to leak train and test values...\n",
        "model.summary()"
      ],
      "execution_count": 0,
      "outputs": [
        {
          "output_type": "stream",
          "text": [
            "Model: \"model_2\"\n",
            "__________________________________________________________________________________________________\n",
            "Layer (type)                    Output Shape         Param #     Connected to                     \n",
            "==================================================================================================\n",
            "img (InputLayer)                (None, 128, 128, 2)  0                                            \n",
            "__________________________________________________________________________________________________\n",
            "conv2d_20 (Conv2D)              (None, 128, 128, 8)  152         img[0][0]                        \n",
            "__________________________________________________________________________________________________\n",
            "conv2d_21 (Conv2D)              (None, 128, 128, 8)  584         conv2d_20[0][0]                  \n",
            "__________________________________________________________________________________________________\n",
            "max_pooling2d_5 (MaxPooling2D)  (None, 64, 64, 8)    0           conv2d_21[0][0]                  \n",
            "__________________________________________________________________________________________________\n",
            "conv2d_22 (Conv2D)              (None, 64, 64, 16)   1168        max_pooling2d_5[0][0]            \n",
            "__________________________________________________________________________________________________\n",
            "conv2d_23 (Conv2D)              (None, 64, 64, 16)   2320        conv2d_22[0][0]                  \n",
            "__________________________________________________________________________________________________\n",
            "max_pooling2d_6 (MaxPooling2D)  (None, 32, 32, 16)   0           conv2d_23[0][0]                  \n",
            "__________________________________________________________________________________________________\n",
            "conv2d_24 (Conv2D)              (None, 32, 32, 32)   4640        max_pooling2d_6[0][0]            \n",
            "__________________________________________________________________________________________________\n",
            "conv2d_25 (Conv2D)              (None, 32, 32, 32)   9248        conv2d_24[0][0]                  \n",
            "__________________________________________________________________________________________________\n",
            "max_pooling2d_7 (MaxPooling2D)  (None, 16, 16, 32)   0           conv2d_25[0][0]                  \n",
            "__________________________________________________________________________________________________\n",
            "conv2d_26 (Conv2D)              (None, 16, 16, 64)   18496       max_pooling2d_7[0][0]            \n",
            "__________________________________________________________________________________________________\n",
            "feat (InputLayer)               (None, 1)            0                                            \n",
            "__________________________________________________________________________________________________\n",
            "conv2d_27 (Conv2D)              (None, 16, 16, 64)   36928       conv2d_26[0][0]                  \n",
            "__________________________________________________________________________________________________\n",
            "repeat_vector_2 (RepeatVector)  (None, 64, 1)        0           feat[0][0]                       \n",
            "__________________________________________________________________________________________________\n",
            "max_pooling2d_8 (MaxPooling2D)  (None, 8, 8, 64)     0           conv2d_27[0][0]                  \n",
            "__________________________________________________________________________________________________\n",
            "reshape_2 (Reshape)             (None, 8, 8, 1)      0           repeat_vector_2[0][0]            \n",
            "__________________________________________________________________________________________________\n",
            "concatenate_6 (Concatenate)     (None, 8, 8, 65)     0           max_pooling2d_8[0][0]            \n",
            "                                                                 reshape_2[0][0]                  \n",
            "__________________________________________________________________________________________________\n",
            "conv2d_28 (Conv2D)              (None, 8, 8, 128)    75008       concatenate_6[0][0]              \n",
            "__________________________________________________________________________________________________\n",
            "conv2d_29 (Conv2D)              (None, 8, 8, 128)    147584      conv2d_28[0][0]                  \n",
            "__________________________________________________________________________________________________\n",
            "conv2d_transpose_5 (Conv2DTrans (None, 16, 16, 64)   32832       conv2d_29[0][0]                  \n",
            "__________________________________________________________________________________________________\n",
            "concatenate_7 (Concatenate)     (None, 16, 16, 128)  0           conv2d_transpose_5[0][0]         \n",
            "                                                                 conv2d_27[0][0]                  \n",
            "__________________________________________________________________________________________________\n",
            "conv2d_30 (Conv2D)              (None, 16, 16, 64)   73792       concatenate_7[0][0]              \n",
            "__________________________________________________________________________________________________\n",
            "conv2d_31 (Conv2D)              (None, 16, 16, 64)   36928       conv2d_30[0][0]                  \n",
            "__________________________________________________________________________________________________\n",
            "conv2d_transpose_6 (Conv2DTrans (None, 32, 32, 32)   8224        conv2d_31[0][0]                  \n",
            "__________________________________________________________________________________________________\n",
            "concatenate_8 (Concatenate)     (None, 32, 32, 64)   0           conv2d_transpose_6[0][0]         \n",
            "                                                                 conv2d_25[0][0]                  \n",
            "__________________________________________________________________________________________________\n",
            "conv2d_32 (Conv2D)              (None, 32, 32, 32)   18464       concatenate_8[0][0]              \n",
            "__________________________________________________________________________________________________\n",
            "conv2d_33 (Conv2D)              (None, 32, 32, 32)   9248        conv2d_32[0][0]                  \n",
            "__________________________________________________________________________________________________\n",
            "conv2d_transpose_7 (Conv2DTrans (None, 64, 64, 16)   2064        conv2d_33[0][0]                  \n",
            "__________________________________________________________________________________________________\n",
            "concatenate_9 (Concatenate)     (None, 64, 64, 32)   0           conv2d_transpose_7[0][0]         \n",
            "                                                                 conv2d_23[0][0]                  \n",
            "__________________________________________________________________________________________________\n",
            "conv2d_34 (Conv2D)              (None, 64, 64, 16)   4624        concatenate_9[0][0]              \n",
            "__________________________________________________________________________________________________\n",
            "conv2d_35 (Conv2D)              (None, 64, 64, 16)   2320        conv2d_34[0][0]                  \n",
            "__________________________________________________________________________________________________\n",
            "conv2d_transpose_8 (Conv2DTrans (None, 128, 128, 8)  520         conv2d_35[0][0]                  \n",
            "__________________________________________________________________________________________________\n",
            "concatenate_10 (Concatenate)    (None, 128, 128, 16) 0           conv2d_transpose_8[0][0]         \n",
            "                                                                 conv2d_21[0][0]                  \n",
            "__________________________________________________________________________________________________\n",
            "conv2d_36 (Conv2D)              (None, 128, 128, 8)  1160        concatenate_10[0][0]             \n",
            "__________________________________________________________________________________________________\n",
            "conv2d_37 (Conv2D)              (None, 128, 128, 8)  584         conv2d_36[0][0]                  \n",
            "__________________________________________________________________________________________________\n",
            "conv2d_38 (Conv2D)              (None, 128, 128, 1)  9           conv2d_37[0][0]                  \n",
            "==================================================================================================\n",
            "Total params: 486,897\n",
            "Trainable params: 486,897\n",
            "Non-trainable params: 0\n",
            "__________________________________________________________________________________________________\n"
          ],
          "name": "stdout"
        }
      ]
    },
    {
      "cell_type": "code",
      "metadata": {
        "id": "5vpaY-7r7SvD",
        "colab_type": "code",
        "colab": {}
      },
      "source": [
        "!pip install ipywidgets"
      ],
      "execution_count": 0,
      "outputs": []
    },
    {
      "cell_type": "code",
      "metadata": {
        "id": "d0swxRQt7XhW",
        "colab_type": "code",
        "outputId": "48fc69dc-d9be-4911-b714-d3bbdf15e45f",
        "colab": {
          "base_uri": "https://localhost:8080/",
          "height": 122
        }
      },
      "source": [
        "import sys\n",
        "from tqdm import tqdm\n",
        "from keras.preprocessing.image import ImageDataGenerator, array_to_img, img_to_array, load_img\n",
        "from skimage.transform import resize\n",
        "\n",
        "\n",
        "train_ids = next(os.walk(train_path+\"images\"))[2]\n",
        "\n",
        "\n",
        "# Get and resize train images and masks\n",
        "X = np.zeros((len(train_ids), im_height, im_width, im_chan), dtype=np.float32)\n",
        "y = np.zeros((len(train_ids), im_height, im_width, 1), dtype=np.float32)\n",
        "X_feat = np.zeros((len(train_ids), n_features), dtype=np.float32)\n",
        "print('Getting and resizing train images and masks ... ')\n",
        "sys.stdout.flush()\n",
        "for n, id_ in tqdm(enumerate(train_ids), total=len(train_ids)):\n",
        "    path = train_path\n",
        "    \n",
        "    # Depth\n",
        "    #X_feat[n] = depth.loc[id_.replace('.png', ''), 'z']\n",
        "    \n",
        "    # Load X\n",
        "    img = load_img(path + '/images/' + id_, grayscale=True)\n",
        "    x_img = img_to_array(img)\n",
        "    x_img = resize(x_img, (128, 128, 1), mode='constant', preserve_range=True)\n",
        "    \n",
        "    # Create cumsum x\n",
        "    x_center_mean = x_img[border:-border, border:-border].mean()\n",
        "    x_csum = (np.float32(x_img)-x_center_mean).cumsum(axis=0)\n",
        "    x_csum -= x_csum[border:-border, border:-border].mean()\n",
        "    x_csum /= max(1e-3, x_csum[border:-border, border:-border].std())\n",
        "\n",
        "    # Load Y\n",
        "    mask = img_to_array(load_img(path + '/masks/' + id_, grayscale=True))\n",
        "    mask = resize(mask, (128, 128, 1), mode='constant', preserve_range=True)\n",
        "\n",
        "    # Save images\n",
        "    X[n, ..., 0] = x_img.squeeze() / 255\n",
        "    X[n, ..., 1] = x_csum.squeeze()\n",
        "    y[n] = mask / 255\n",
        "\n",
        "print('Done!')"
      ],
      "execution_count": 0,
      "outputs": [
        {
          "output_type": "stream",
          "text": [
            "Getting and resizing train images and masks ... \n"
          ],
          "name": "stdout"
        },
        {
          "output_type": "stream",
          "text": [
            "  0%|          | 0/4000 [00:00<?, ?it/s]/usr/local/lib/python3.6/dist-packages/keras_preprocessing/image/utils.py:104: UserWarning: grayscale is deprecated. Please use color_mode = \"grayscale\"\n",
            "  warnings.warn('grayscale is deprecated. Please use '\n",
            "100%|██████████| 4000/4000 [00:24<00:00, 161.28it/s]"
          ],
          "name": "stderr"
        },
        {
          "output_type": "stream",
          "text": [
            "Done!\n"
          ],
          "name": "stdout"
        },
        {
          "output_type": "stream",
          "text": [
            "\n"
          ],
          "name": "stderr"
        }
      ]
    },
    {
      "cell_type": "code",
      "metadata": {
        "id": "p848BP9q8Dpt",
        "colab_type": "code",
        "colab": {}
      },
      "source": [
        "from sklearn.model_selection import train_test_split\n",
        "\n",
        "X_train, X_valid, X_feat_train, X_feat_valid, y_train, y_valid = train_test_split(X, X_feat, y, test_size=0.15, random_state=42)"
      ],
      "execution_count": 0,
      "outputs": []
    },
    {
      "cell_type": "markdown",
      "metadata": {
        "id": "5v2VxLzhKXGl",
        "colab_type": "text"
      },
      "source": [
        "##Training"
      ]
    },
    {
      "cell_type": "code",
      "metadata": {
        "id": "tkK46v4s8Gmo",
        "colab_type": "code",
        "outputId": "e6183a19-868f-49a4-a6ee-fa0024434ee3",
        "colab": {
          "base_uri": "https://localhost:8080/",
          "height": 1000
        }
      },
      "source": [
        "callbacks = [\n",
        "    EarlyStopping(patience=5, verbose=1),\n",
        "    ReduceLROnPlateau(patience=3, verbose=1),\n",
        "    ModelCheckpoint('model-tgs-salt-1.h5', verbose=1, save_best_only=True, save_weights_only=True)\n",
        "]\n",
        "\n",
        "results = model.fit({'img': X_train, 'feat': X_feat_train}, y_train, batch_size=16, epochs=50, callbacks=callbacks,\n",
        "                    validation_data=({'img': X_valid, 'feat': X_feat_valid}, y_valid))"
      ],
      "execution_count": 0,
      "outputs": [
        {
          "output_type": "stream",
          "text": [
            "WARNING:tensorflow:From /usr/local/lib/python3.6/dist-packages/keras/backend/tensorflow_backend.py:1033: The name tf.assign_add is deprecated. Please use tf.compat.v1.assign_add instead.\n",
            "\n",
            "WARNING:tensorflow:From /usr/local/lib/python3.6/dist-packages/keras/backend/tensorflow_backend.py:1020: The name tf.assign is deprecated. Please use tf.compat.v1.assign instead.\n",
            "\n",
            "WARNING:tensorflow:From /usr/local/lib/python3.6/dist-packages/keras/backend/tensorflow_backend.py:3005: The name tf.Session is deprecated. Please use tf.compat.v1.Session instead.\n",
            "\n",
            "Train on 3400 samples, validate on 600 samples\n",
            "Epoch 1/50\n",
            "WARNING:tensorflow:From /usr/local/lib/python3.6/dist-packages/keras/backend/tensorflow_backend.py:190: The name tf.get_default_session is deprecated. Please use tf.compat.v1.get_default_session instead.\n",
            "\n",
            "WARNING:tensorflow:From /usr/local/lib/python3.6/dist-packages/keras/backend/tensorflow_backend.py:197: The name tf.ConfigProto is deprecated. Please use tf.compat.v1.ConfigProto instead.\n",
            "\n",
            "WARNING:tensorflow:From /usr/local/lib/python3.6/dist-packages/keras/backend/tensorflow_backend.py:207: The name tf.global_variables is deprecated. Please use tf.compat.v1.global_variables instead.\n",
            "\n",
            "WARNING:tensorflow:From /usr/local/lib/python3.6/dist-packages/keras/backend/tensorflow_backend.py:216: The name tf.is_variable_initialized is deprecated. Please use tf.compat.v1.is_variable_initialized instead.\n",
            "\n",
            "WARNING:tensorflow:From /usr/local/lib/python3.6/dist-packages/keras/backend/tensorflow_backend.py:223: The name tf.variables_initializer is deprecated. Please use tf.compat.v1.variables_initializer instead.\n",
            "\n",
            "3400/3400 [==============================] - 28s 8ms/step - loss: 0.5303 - val_loss: 0.4380\n",
            "\n",
            "Epoch 00001: val_loss improved from inf to 0.43797, saving model to model-tgs-salt-1.h5\n",
            "Epoch 2/50\n",
            "3400/3400 [==============================] - 14s 4ms/step - loss: 0.4570 - val_loss: 0.4262\n",
            "\n",
            "Epoch 00002: val_loss improved from 0.43797 to 0.42623, saving model to model-tgs-salt-1.h5\n",
            "Epoch 3/50\n",
            "3400/3400 [==============================] - 14s 4ms/step - loss: 0.4136 - val_loss: 0.3579\n",
            "\n",
            "Epoch 00003: val_loss improved from 0.42623 to 0.35789, saving model to model-tgs-salt-1.h5\n",
            "Epoch 4/50\n",
            "3400/3400 [==============================] - 14s 4ms/step - loss: 0.3607 - val_loss: 0.3287\n",
            "\n",
            "Epoch 00004: val_loss improved from 0.35789 to 0.32873, saving model to model-tgs-salt-1.h5\n",
            "Epoch 5/50\n",
            "3400/3400 [==============================] - 14s 4ms/step - loss: 0.3062 - val_loss: 0.2621\n",
            "\n",
            "Epoch 00005: val_loss improved from 0.32873 to 0.26208, saving model to model-tgs-salt-1.h5\n",
            "Epoch 6/50\n",
            "3400/3400 [==============================] - 14s 4ms/step - loss: 0.2655 - val_loss: 0.2758\n",
            "\n",
            "Epoch 00006: val_loss did not improve from 0.26208\n",
            "Epoch 7/50\n",
            "3400/3400 [==============================] - 14s 4ms/step - loss: 0.2474 - val_loss: 0.2532\n",
            "\n",
            "Epoch 00007: val_loss improved from 0.26208 to 0.25318, saving model to model-tgs-salt-1.h5\n",
            "Epoch 8/50\n",
            "3400/3400 [==============================] - 14s 4ms/step - loss: 0.2249 - val_loss: 0.2226\n",
            "\n",
            "Epoch 00008: val_loss improved from 0.25318 to 0.22262, saving model to model-tgs-salt-1.h5\n",
            "Epoch 9/50\n",
            "3400/3400 [==============================] - 14s 4ms/step - loss: 0.2227 - val_loss: 0.1976\n",
            "\n",
            "Epoch 00009: val_loss improved from 0.22262 to 0.19765, saving model to model-tgs-salt-1.h5\n",
            "Epoch 10/50\n",
            "3400/3400 [==============================] - 14s 4ms/step - loss: 0.2139 - val_loss: 0.2135\n",
            "\n",
            "Epoch 00010: val_loss did not improve from 0.19765\n",
            "Epoch 11/50\n",
            "3400/3400 [==============================] - 14s 4ms/step - loss: 0.2037 - val_loss: 0.1992\n",
            "\n",
            "Epoch 00011: val_loss did not improve from 0.19765\n",
            "Epoch 12/50\n",
            "3400/3400 [==============================] - 14s 4ms/step - loss: 0.1881 - val_loss: 0.2207\n",
            "\n",
            "Epoch 00012: ReduceLROnPlateau reducing learning rate to 0.00010000000474974513.\n",
            "\n",
            "Epoch 00012: val_loss did not improve from 0.19765\n",
            "Epoch 13/50\n",
            "3400/3400 [==============================] - 14s 4ms/step - loss: 0.1683 - val_loss: 0.1676\n",
            "\n",
            "Epoch 00013: val_loss improved from 0.19765 to 0.16758, saving model to model-tgs-salt-1.h5\n",
            "Epoch 14/50\n",
            "3400/3400 [==============================] - 14s 4ms/step - loss: 0.1550 - val_loss: 0.1709\n",
            "\n",
            "Epoch 00014: val_loss did not improve from 0.16758\n",
            "Epoch 15/50\n",
            "3400/3400 [==============================] - 14s 4ms/step - loss: 0.1513 - val_loss: 0.1672\n",
            "\n",
            "Epoch 00015: val_loss improved from 0.16758 to 0.16720, saving model to model-tgs-salt-1.h5\n",
            "Epoch 16/50\n",
            "3400/3400 [==============================] - 14s 4ms/step - loss: 0.1479 - val_loss: 0.1683\n",
            "\n",
            "Epoch 00016: val_loss did not improve from 0.16720\n",
            "Epoch 17/50\n",
            "3392/3400 [============================>.] - ETA: 0s - loss: 0.1453"
          ],
          "name": "stdout"
        },
        {
          "output_type": "error",
          "ename": "KeyboardInterrupt",
          "evalue": "ignored",
          "traceback": [
            "\u001b[0;31m---------------------------------------------------------------------------\u001b[0m",
            "\u001b[0;31mKeyboardInterrupt\u001b[0m                         Traceback (most recent call last)",
            "\u001b[0;32m<ipython-input-33-1f48fa639e84>\u001b[0m in \u001b[0;36m<module>\u001b[0;34m()\u001b[0m\n\u001b[1;32m      6\u001b[0m \u001b[0;34m\u001b[0m\u001b[0m\n\u001b[1;32m      7\u001b[0m results = model.fit({'img': X_train, 'feat': X_feat_train}, y_train, batch_size=16, epochs=50, callbacks=callbacks,\n\u001b[0;32m----> 8\u001b[0;31m                     validation_data=({'img': X_valid, 'feat': X_feat_valid}, y_valid))\n\u001b[0m",
            "\u001b[0;32m/usr/local/lib/python3.6/dist-packages/keras/engine/training.py\u001b[0m in \u001b[0;36mfit\u001b[0;34m(self, x, y, batch_size, epochs, verbose, callbacks, validation_split, validation_data, shuffle, class_weight, sample_weight, initial_epoch, steps_per_epoch, validation_steps, validation_freq, max_queue_size, workers, use_multiprocessing, **kwargs)\u001b[0m\n\u001b[1;32m   1176\u001b[0m                                         \u001b[0msteps_per_epoch\u001b[0m\u001b[0;34m=\u001b[0m\u001b[0msteps_per_epoch\u001b[0m\u001b[0;34m,\u001b[0m\u001b[0;34m\u001b[0m\u001b[0;34m\u001b[0m\u001b[0m\n\u001b[1;32m   1177\u001b[0m                                         \u001b[0mvalidation_steps\u001b[0m\u001b[0;34m=\u001b[0m\u001b[0mvalidation_steps\u001b[0m\u001b[0;34m,\u001b[0m\u001b[0;34m\u001b[0m\u001b[0;34m\u001b[0m\u001b[0m\n\u001b[0;32m-> 1178\u001b[0;31m                                         validation_freq=validation_freq)\n\u001b[0m\u001b[1;32m   1179\u001b[0m \u001b[0;34m\u001b[0m\u001b[0m\n\u001b[1;32m   1180\u001b[0m     def evaluate(self,\n",
            "\u001b[0;32m/usr/local/lib/python3.6/dist-packages/keras/engine/training_arrays.py\u001b[0m in \u001b[0;36mfit_loop\u001b[0;34m(model, fit_function, fit_inputs, out_labels, batch_size, epochs, verbose, callbacks, val_function, val_inputs, shuffle, callback_metrics, initial_epoch, steps_per_epoch, validation_steps, validation_freq)\u001b[0m\n\u001b[1;32m    216\u001b[0m                                          \u001b[0mbatch_size\u001b[0m\u001b[0;34m=\u001b[0m\u001b[0mbatch_size\u001b[0m\u001b[0;34m,\u001b[0m\u001b[0;34m\u001b[0m\u001b[0;34m\u001b[0m\u001b[0m\n\u001b[1;32m    217\u001b[0m                                          \u001b[0mcallbacks\u001b[0m\u001b[0;34m=\u001b[0m\u001b[0mcallbacks\u001b[0m\u001b[0;34m,\u001b[0m\u001b[0;34m\u001b[0m\u001b[0;34m\u001b[0m\u001b[0m\n\u001b[0;32m--> 218\u001b[0;31m                                          verbose=0)\n\u001b[0m\u001b[1;32m    219\u001b[0m                     \u001b[0mval_outs\u001b[0m \u001b[0;34m=\u001b[0m \u001b[0mto_list\u001b[0m\u001b[0;34m(\u001b[0m\u001b[0mval_outs\u001b[0m\u001b[0;34m)\u001b[0m\u001b[0;34m\u001b[0m\u001b[0;34m\u001b[0m\u001b[0m\n\u001b[1;32m    220\u001b[0m                     \u001b[0;31m# Same labels assumed.\u001b[0m\u001b[0;34m\u001b[0m\u001b[0;34m\u001b[0m\u001b[0;34m\u001b[0m\u001b[0m\n",
            "\u001b[0;32m/usr/local/lib/python3.6/dist-packages/keras/engine/training_arrays.py\u001b[0m in \u001b[0;36mtest_loop\u001b[0;34m(model, f, ins, batch_size, verbose, steps, callbacks)\u001b[0m\n\u001b[1;32m    468\u001b[0m             \u001b[0mbatch_logs\u001b[0m \u001b[0;34m=\u001b[0m \u001b[0;34m{\u001b[0m\u001b[0;34m'batch'\u001b[0m\u001b[0;34m:\u001b[0m \u001b[0mbatch_index\u001b[0m\u001b[0;34m,\u001b[0m \u001b[0;34m'size'\u001b[0m\u001b[0;34m:\u001b[0m \u001b[0mlen\u001b[0m\u001b[0;34m(\u001b[0m\u001b[0mbatch_ids\u001b[0m\u001b[0;34m)\u001b[0m\u001b[0;34m}\u001b[0m\u001b[0;34m\u001b[0m\u001b[0;34m\u001b[0m\u001b[0m\n\u001b[1;32m    469\u001b[0m             \u001b[0mcallbacks\u001b[0m\u001b[0;34m.\u001b[0m\u001b[0m_call_batch_hook\u001b[0m\u001b[0;34m(\u001b[0m\u001b[0;34m'test'\u001b[0m\u001b[0;34m,\u001b[0m \u001b[0;34m'begin'\u001b[0m\u001b[0;34m,\u001b[0m \u001b[0mbatch_index\u001b[0m\u001b[0;34m,\u001b[0m \u001b[0mbatch_logs\u001b[0m\u001b[0;34m)\u001b[0m\u001b[0;34m\u001b[0m\u001b[0;34m\u001b[0m\u001b[0m\n\u001b[0;32m--> 470\u001b[0;31m             \u001b[0mbatch_outs\u001b[0m \u001b[0;34m=\u001b[0m \u001b[0mf\u001b[0m\u001b[0;34m(\u001b[0m\u001b[0mins_batch\u001b[0m\u001b[0;34m)\u001b[0m\u001b[0;34m\u001b[0m\u001b[0;34m\u001b[0m\u001b[0m\n\u001b[0m\u001b[1;32m    471\u001b[0m             \u001b[0;32mif\u001b[0m \u001b[0misinstance\u001b[0m\u001b[0;34m(\u001b[0m\u001b[0mbatch_outs\u001b[0m\u001b[0;34m,\u001b[0m \u001b[0mlist\u001b[0m\u001b[0;34m)\u001b[0m\u001b[0;34m:\u001b[0m\u001b[0;34m\u001b[0m\u001b[0;34m\u001b[0m\u001b[0m\n\u001b[1;32m    472\u001b[0m                 \u001b[0;32mif\u001b[0m \u001b[0mbatch_index\u001b[0m \u001b[0;34m==\u001b[0m \u001b[0;36m0\u001b[0m\u001b[0;34m:\u001b[0m\u001b[0;34m\u001b[0m\u001b[0;34m\u001b[0m\u001b[0m\n",
            "\u001b[0;32m/usr/local/lib/python3.6/dist-packages/keras/backend/tensorflow_backend.py\u001b[0m in \u001b[0;36m__call__\u001b[0;34m(self, inputs)\u001b[0m\n\u001b[1;32m   2977\u001b[0m                     \u001b[0;32mreturn\u001b[0m \u001b[0mself\u001b[0m\u001b[0;34m.\u001b[0m\u001b[0m_legacy_call\u001b[0m\u001b[0;34m(\u001b[0m\u001b[0minputs\u001b[0m\u001b[0;34m)\u001b[0m\u001b[0;34m\u001b[0m\u001b[0;34m\u001b[0m\u001b[0m\n\u001b[1;32m   2978\u001b[0m \u001b[0;34m\u001b[0m\u001b[0m\n\u001b[0;32m-> 2979\u001b[0;31m             \u001b[0;32mreturn\u001b[0m \u001b[0mself\u001b[0m\u001b[0;34m.\u001b[0m\u001b[0m_call\u001b[0m\u001b[0;34m(\u001b[0m\u001b[0minputs\u001b[0m\u001b[0;34m)\u001b[0m\u001b[0;34m\u001b[0m\u001b[0;34m\u001b[0m\u001b[0m\n\u001b[0m\u001b[1;32m   2980\u001b[0m         \u001b[0;32melse\u001b[0m\u001b[0;34m:\u001b[0m\u001b[0;34m\u001b[0m\u001b[0;34m\u001b[0m\u001b[0m\n\u001b[1;32m   2981\u001b[0m             \u001b[0;32mif\u001b[0m \u001b[0mpy_any\u001b[0m\u001b[0;34m(\u001b[0m\u001b[0mis_tensor\u001b[0m\u001b[0;34m(\u001b[0m\u001b[0mx\u001b[0m\u001b[0;34m)\u001b[0m \u001b[0;32mfor\u001b[0m \u001b[0mx\u001b[0m \u001b[0;32min\u001b[0m \u001b[0minputs\u001b[0m\u001b[0;34m)\u001b[0m\u001b[0;34m:\u001b[0m\u001b[0;34m\u001b[0m\u001b[0;34m\u001b[0m\u001b[0m\n",
            "\u001b[0;32m/usr/local/lib/python3.6/dist-packages/keras/backend/tensorflow_backend.py\u001b[0m in \u001b[0;36m_call\u001b[0;34m(self, inputs)\u001b[0m\n\u001b[1;32m   2935\u001b[0m             \u001b[0mfetched\u001b[0m \u001b[0;34m=\u001b[0m \u001b[0mself\u001b[0m\u001b[0;34m.\u001b[0m\u001b[0m_callable_fn\u001b[0m\u001b[0;34m(\u001b[0m\u001b[0;34m*\u001b[0m\u001b[0marray_vals\u001b[0m\u001b[0;34m,\u001b[0m \u001b[0mrun_metadata\u001b[0m\u001b[0;34m=\u001b[0m\u001b[0mself\u001b[0m\u001b[0;34m.\u001b[0m\u001b[0mrun_metadata\u001b[0m\u001b[0;34m)\u001b[0m\u001b[0;34m\u001b[0m\u001b[0;34m\u001b[0m\u001b[0m\n\u001b[1;32m   2936\u001b[0m         \u001b[0;32melse\u001b[0m\u001b[0;34m:\u001b[0m\u001b[0;34m\u001b[0m\u001b[0;34m\u001b[0m\u001b[0m\n\u001b[0;32m-> 2937\u001b[0;31m             \u001b[0mfetched\u001b[0m \u001b[0;34m=\u001b[0m \u001b[0mself\u001b[0m\u001b[0;34m.\u001b[0m\u001b[0m_callable_fn\u001b[0m\u001b[0;34m(\u001b[0m\u001b[0;34m*\u001b[0m\u001b[0marray_vals\u001b[0m\u001b[0;34m)\u001b[0m\u001b[0;34m\u001b[0m\u001b[0;34m\u001b[0m\u001b[0m\n\u001b[0m\u001b[1;32m   2938\u001b[0m         \u001b[0;32mreturn\u001b[0m \u001b[0mfetched\u001b[0m\u001b[0;34m[\u001b[0m\u001b[0;34m:\u001b[0m\u001b[0mlen\u001b[0m\u001b[0;34m(\u001b[0m\u001b[0mself\u001b[0m\u001b[0;34m.\u001b[0m\u001b[0moutputs\u001b[0m\u001b[0;34m)\u001b[0m\u001b[0;34m]\u001b[0m\u001b[0;34m\u001b[0m\u001b[0;34m\u001b[0m\u001b[0m\n\u001b[1;32m   2939\u001b[0m \u001b[0;34m\u001b[0m\u001b[0m\n",
            "\u001b[0;32m/usr/local/lib/python3.6/dist-packages/tensorflow_core/python/client/session.py\u001b[0m in \u001b[0;36m__call__\u001b[0;34m(self, *args, **kwargs)\u001b[0m\n\u001b[1;32m   1470\u001b[0m         ret = tf_session.TF_SessionRunCallable(self._session._session,\n\u001b[1;32m   1471\u001b[0m                                                \u001b[0mself\u001b[0m\u001b[0;34m.\u001b[0m\u001b[0m_handle\u001b[0m\u001b[0;34m,\u001b[0m \u001b[0margs\u001b[0m\u001b[0;34m,\u001b[0m\u001b[0;34m\u001b[0m\u001b[0;34m\u001b[0m\u001b[0m\n\u001b[0;32m-> 1472\u001b[0;31m                                                run_metadata_ptr)\n\u001b[0m\u001b[1;32m   1473\u001b[0m         \u001b[0;32mif\u001b[0m \u001b[0mrun_metadata\u001b[0m\u001b[0;34m:\u001b[0m\u001b[0;34m\u001b[0m\u001b[0;34m\u001b[0m\u001b[0m\n\u001b[1;32m   1474\u001b[0m           \u001b[0mproto_data\u001b[0m \u001b[0;34m=\u001b[0m \u001b[0mtf_session\u001b[0m\u001b[0;34m.\u001b[0m\u001b[0mTF_GetBuffer\u001b[0m\u001b[0;34m(\u001b[0m\u001b[0mrun_metadata_ptr\u001b[0m\u001b[0;34m)\u001b[0m\u001b[0;34m\u001b[0m\u001b[0;34m\u001b[0m\u001b[0m\n",
            "\u001b[0;31mKeyboardInterrupt\u001b[0m: "
          ]
        }
      ]
    },
    {
      "cell_type": "markdown",
      "metadata": {
        "id": "IqUm5GSklEUz",
        "colab_type": "text"
      },
      "source": [
        ""
      ]
    },
    {
      "cell_type": "markdown",
      "metadata": {
        "id": "LqxULBtKyknJ",
        "colab_type": "text"
      },
      "source": [
        ""
      ]
    },
    {
      "cell_type": "markdown",
      "metadata": {
        "id": "SWcSJDT7J9nO",
        "colab_type": "text"
      },
      "source": [
        "#Evaluierung"
      ]
    }
  ]
}