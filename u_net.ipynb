{
  "nbformat": 4,
  "nbformat_minor": 0,
  "metadata": {
    "colab": {
      "name": "u-net.ipynb",
      "provenance": [],
      "collapsed_sections": [
        "e2yI_a9X7pcU",
        "QbWJAtdJO9N1",
        "fNTSzpm2PI5q",
        "UmpZU-CQcC8H",
        "r59FeXTMffba"
      ],
      "toc_visible": true,
      "include_colab_link": true
    },
    "kernelspec": {
      "name": "python3",
      "display_name": "Python 3"
    },
    "accelerator": "GPU"
  },
  "cells": [
    {
      "cell_type": "markdown",
      "metadata": {
        "id": "view-in-github",
        "colab_type": "text"
      },
      "source": [
        "<a href=\"https://colab.research.google.com/github/pwolscho/unet/blob/master/u_net.ipynb\" target=\"_parent\"><img src=\"https://colab.research.google.com/assets/colab-badge.svg\" alt=\"Open In Colab\"/></a>"
      ]
    },
    {
      "cell_type": "markdown",
      "metadata": {
        "id": "_RroUSfCq4UJ",
        "colab_type": "text"
      },
      "source": [
        "\n",
        "![U-Net Demonstration](https://drive.google.com/uc?id=1-kEr1EjJgpSjGCV1oFfYw_A2cnu5cNVI)"
      ]
    },
    {
      "cell_type": "markdown",
      "metadata": {
        "id": "Dz5BjxQEx056",
        "colab_type": "text"
      },
      "source": [
        "#Über dieses Notebook\n",
        "\n",
        "U-Net ist die bekannteste Architektur im Bereich der Semantischen Segmentierung (Anwendung: Segmentierung in Bildern). Im Rahmen des Kurses Seminat-Deep-Learning der Hochschule Offenburg zeigt dieses Notebook eine mögliche Implementierung von U-Net und demonstriert dessen Anwendung anhand eines Beispiel-Datensatzes."
      ]
    },
    {
      "cell_type": "markdown",
      "metadata": {
        "id": "8-y2Oicwze3v",
        "colab_type": "text"
      },
      "source": [
        "##Informationen zum Datensatz\n",
        "\n",
        "Mehrere Gebiete der Erde mit großen Öl- und Gasansammlungen haben auch riesige Salzlagerstätten unter der Oberfläche, d.h. dort wo Salz ist, wird vermutlich auch das wertvolle Öl zu finden sein.\n",
        "\n",
        "Professionelle seismische Messungen zum Auffinden der Salzlagerstätten erfordert immer noch eine fachkundige menschliche Interpretation der daraus resultierenden Bilddaten. Dies führt zu sehr subjektiven, sehr variablen Ergebnissen. Das führt zu potenziell gefährlichen Situationen für Bohrer von Öl- und Gasunternehmen.\n",
        "\n",
        "Um sehr präzise seismischen Bilder zu erstellen, hofft TGS-NOPEC Geophysical Systems (das weltweit führende Unternehmen für geophysikalische Dienste), dass die Online-Community von Kaggle in der Lage sein wird, einen Algorithmus zu entwickeln, der automatisch und genau erkennt, ob und Salz unter der Erdoberfläche zu finden ist oder nicht.\n",
        "\n",
        "Dazu wurde im Jahr 2018 eine Wettbewerb von Kaggle durchgeführt.\n",
        "\n",
        "Auf den diesem Notebook verwendete Datensatz kann nach wie vor unter https://www.kaggle.com/c/tgs-salt-identification-challenge/data  zugegriffen werden.\n",
        "\n",
        "Die Daten sind eine Reihe von seismischen Bildern von zufällig ausgewählten Orten der Erde. Die Bilder sind 101 x 101 Pixel groß und jedes Pixel wird entweder als Salz oder als Sediment klassifiziert. Zusätzlich zu den seismischen Bildern wird für jedes Bild die Tiefe der aufgenommenen Position angegeben."
      ]
    },
    {
      "cell_type": "markdown",
      "metadata": {
        "id": "e2i9C3tC4qHp",
        "colab_type": "text"
      },
      "source": [
        "##Gliederung des Notebooks\n",
        "\n",
        "Die durchgeführten Schritte gliedern sich chronologisch wie folgt:\n",
        "\n",
        "- Vorbereitende Maßnahmen\n",
        "  - Installation und Einbindung benötigter Pakete\n",
        "  - Download des Datensatzes\n",
        "  - Einfache Betrachtung des Datensatzes\n",
        "  - Identifikation möglicher Zusatzinformationen und detailierte Betrachtung des Datensatzes\n",
        "- Definition des U-Net-Modells\n",
        "- Training des U-Net-Modells\n",
        "- Evaluierung des U-Net-Modells"
      ]
    },
    {
      "cell_type": "markdown",
      "metadata": {
        "id": "ZSuizjtbyZzp",
        "colab_type": "text"
      },
      "source": [
        "#I. Vorbereitende Maßnahmen"
      ]
    },
    {
      "cell_type": "markdown",
      "metadata": {
        "id": "e2yI_a9X7pcU",
        "colab_type": "text"
      },
      "source": [
        "##I.1 Einbinden aller benötigter Bibliotheken"
      ]
    },
    {
      "cell_type": "code",
      "metadata": {
        "id": "HOXraJLHe_i3",
        "colab_type": "code",
        "outputId": "19323dc4-2445-485f-b2a1-12b72fee4454",
        "colab": {
          "base_uri": "https://localhost:8080/",
          "height": 921
        }
      },
      "source": [
        "#Installation ist vermutlich überflüssig, da schon in VM vorhanden\n",
        "!pip install imageio #Lesen und Schreiben von Bilddaten\n",
        "!pip install torch #Deep-Learning Bibliothek\n",
        "!pip install kaggle #Zugriff auf den Datensatz von Kaggle\n",
        "!pip install ipywidgets #Besondere grafische Schnittstellen"
      ],
      "execution_count": 0,
      "outputs": [
        {
          "output_type": "stream",
          "text": [
            "Requirement already satisfied: imageio in /usr/local/lib/python3.6/dist-packages (2.4.1)\n",
            "Requirement already satisfied: numpy in /usr/local/lib/python3.6/dist-packages (from imageio) (1.17.4)\n",
            "Requirement already satisfied: pillow in /usr/local/lib/python3.6/dist-packages (from imageio) (4.3.0)\n",
            "Requirement already satisfied: olefile in /usr/local/lib/python3.6/dist-packages (from pillow->imageio) (0.46)\n",
            "Requirement already satisfied: torch in /usr/local/lib/python3.6/dist-packages (1.3.1)\n",
            "Requirement already satisfied: numpy in /usr/local/lib/python3.6/dist-packages (from torch) (1.17.4)\n",
            "Requirement already satisfied: kaggle in /usr/local/lib/python3.6/dist-packages (1.5.6)\n",
            "Requirement already satisfied: python-dateutil in /usr/local/lib/python3.6/dist-packages (from kaggle) (2.6.1)\n",
            "Requirement already satisfied: urllib3<1.25,>=1.21.1 in /usr/local/lib/python3.6/dist-packages (from kaggle) (1.24.3)\n",
            "Requirement already satisfied: python-slugify in /usr/local/lib/python3.6/dist-packages (from kaggle) (4.0.0)\n",
            "Requirement already satisfied: requests in /usr/local/lib/python3.6/dist-packages (from kaggle) (2.21.0)\n",
            "Requirement already satisfied: six>=1.10 in /usr/local/lib/python3.6/dist-packages (from kaggle) (1.12.0)\n",
            "Requirement already satisfied: certifi in /usr/local/lib/python3.6/dist-packages (from kaggle) (2019.9.11)\n",
            "Requirement already satisfied: tqdm in /usr/local/lib/python3.6/dist-packages (from kaggle) (4.28.1)\n",
            "Requirement already satisfied: text-unidecode>=1.3 in /usr/local/lib/python3.6/dist-packages (from python-slugify->kaggle) (1.3)\n",
            "Requirement already satisfied: chardet<3.1.0,>=3.0.2 in /usr/local/lib/python3.6/dist-packages (from requests->kaggle) (3.0.4)\n",
            "Requirement already satisfied: idna<2.9,>=2.5 in /usr/local/lib/python3.6/dist-packages (from requests->kaggle) (2.8)\n",
            "Requirement already satisfied: ipywidgets in /usr/local/lib/python3.6/dist-packages (7.5.1)\n",
            "Requirement already satisfied: nbformat>=4.2.0 in /usr/local/lib/python3.6/dist-packages (from ipywidgets) (4.4.0)\n",
            "Requirement already satisfied: ipython>=4.0.0; python_version >= \"3.3\" in /usr/local/lib/python3.6/dist-packages (from ipywidgets) (5.5.0)\n",
            "Requirement already satisfied: traitlets>=4.3.1 in /usr/local/lib/python3.6/dist-packages (from ipywidgets) (4.3.3)\n",
            "Requirement already satisfied: ipykernel>=4.5.1 in /usr/local/lib/python3.6/dist-packages (from ipywidgets) (4.6.1)\n",
            "Requirement already satisfied: widgetsnbextension~=3.5.0 in /usr/local/lib/python3.6/dist-packages (from ipywidgets) (3.5.1)\n",
            "Requirement already satisfied: jupyter-core in /usr/local/lib/python3.6/dist-packages (from nbformat>=4.2.0->ipywidgets) (4.6.1)\n",
            "Requirement already satisfied: jsonschema!=2.5.0,>=2.4 in /usr/local/lib/python3.6/dist-packages (from nbformat>=4.2.0->ipywidgets) (2.6.0)\n",
            "Requirement already satisfied: ipython-genutils in /usr/local/lib/python3.6/dist-packages (from nbformat>=4.2.0->ipywidgets) (0.2.0)\n",
            "Requirement already satisfied: pexpect; sys_platform != \"win32\" in /usr/local/lib/python3.6/dist-packages (from ipython>=4.0.0; python_version >= \"3.3\"->ipywidgets) (4.7.0)\n",
            "Requirement already satisfied: decorator in /usr/local/lib/python3.6/dist-packages (from ipython>=4.0.0; python_version >= \"3.3\"->ipywidgets) (4.4.1)\n",
            "Requirement already satisfied: setuptools>=18.5 in /usr/local/lib/python3.6/dist-packages (from ipython>=4.0.0; python_version >= \"3.3\"->ipywidgets) (41.6.0)\n",
            "Requirement already satisfied: prompt-toolkit<2.0.0,>=1.0.4 in /usr/local/lib/python3.6/dist-packages (from ipython>=4.0.0; python_version >= \"3.3\"->ipywidgets) (1.0.18)\n",
            "Requirement already satisfied: pickleshare in /usr/local/lib/python3.6/dist-packages (from ipython>=4.0.0; python_version >= \"3.3\"->ipywidgets) (0.7.5)\n",
            "Requirement already satisfied: simplegeneric>0.8 in /usr/local/lib/python3.6/dist-packages (from ipython>=4.0.0; python_version >= \"3.3\"->ipywidgets) (0.8.1)\n",
            "Requirement already satisfied: pygments in /usr/local/lib/python3.6/dist-packages (from ipython>=4.0.0; python_version >= \"3.3\"->ipywidgets) (2.1.3)\n",
            "Requirement already satisfied: six in /usr/local/lib/python3.6/dist-packages (from traitlets>=4.3.1->ipywidgets) (1.12.0)\n",
            "Requirement already satisfied: tornado>=4.0 in /usr/local/lib/python3.6/dist-packages (from ipykernel>=4.5.1->ipywidgets) (4.5.3)\n",
            "Requirement already satisfied: jupyter-client in /usr/local/lib/python3.6/dist-packages (from ipykernel>=4.5.1->ipywidgets) (5.3.4)\n",
            "Requirement already satisfied: notebook>=4.4.1 in /usr/local/lib/python3.6/dist-packages (from widgetsnbextension~=3.5.0->ipywidgets) (5.2.2)\n",
            "Requirement already satisfied: ptyprocess>=0.5 in /usr/local/lib/python3.6/dist-packages (from pexpect; sys_platform != \"win32\"->ipython>=4.0.0; python_version >= \"3.3\"->ipywidgets) (0.6.0)\n",
            "Requirement already satisfied: wcwidth in /usr/local/lib/python3.6/dist-packages (from prompt-toolkit<2.0.0,>=1.0.4->ipython>=4.0.0; python_version >= \"3.3\"->ipywidgets) (0.1.7)\n",
            "Requirement already satisfied: python-dateutil>=2.1 in /usr/local/lib/python3.6/dist-packages (from jupyter-client->ipykernel>=4.5.1->ipywidgets) (2.6.1)\n",
            "Requirement already satisfied: pyzmq>=13 in /usr/local/lib/python3.6/dist-packages (from jupyter-client->ipykernel>=4.5.1->ipywidgets) (17.0.0)\n",
            "Requirement already satisfied: terminado>=0.3.3; sys_platform != \"win32\" in /usr/local/lib/python3.6/dist-packages (from notebook>=4.4.1->widgetsnbextension~=3.5.0->ipywidgets) (0.8.3)\n",
            "Requirement already satisfied: jinja2 in /usr/local/lib/python3.6/dist-packages (from notebook>=4.4.1->widgetsnbextension~=3.5.0->ipywidgets) (2.10.3)\n",
            "Requirement already satisfied: nbconvert in /usr/local/lib/python3.6/dist-packages (from notebook>=4.4.1->widgetsnbextension~=3.5.0->ipywidgets) (5.6.1)\n",
            "Requirement already satisfied: MarkupSafe>=0.23 in /usr/local/lib/python3.6/dist-packages (from jinja2->notebook>=4.4.1->widgetsnbextension~=3.5.0->ipywidgets) (1.1.1)\n",
            "Requirement already satisfied: bleach in /usr/local/lib/python3.6/dist-packages (from nbconvert->notebook>=4.4.1->widgetsnbextension~=3.5.0->ipywidgets) (3.1.0)\n",
            "Requirement already satisfied: pandocfilters>=1.4.1 in /usr/local/lib/python3.6/dist-packages (from nbconvert->notebook>=4.4.1->widgetsnbextension~=3.5.0->ipywidgets) (1.4.2)\n",
            "Requirement already satisfied: testpath in /usr/local/lib/python3.6/dist-packages (from nbconvert->notebook>=4.4.1->widgetsnbextension~=3.5.0->ipywidgets) (0.4.4)\n",
            "Requirement already satisfied: defusedxml in /usr/local/lib/python3.6/dist-packages (from nbconvert->notebook>=4.4.1->widgetsnbextension~=3.5.0->ipywidgets) (0.6.0)\n",
            "Requirement already satisfied: entrypoints>=0.2.2 in /usr/local/lib/python3.6/dist-packages (from nbconvert->notebook>=4.4.1->widgetsnbextension~=3.5.0->ipywidgets) (0.3)\n",
            "Requirement already satisfied: mistune<2,>=0.8.1 in /usr/local/lib/python3.6/dist-packages (from nbconvert->notebook>=4.4.1->widgetsnbextension~=3.5.0->ipywidgets) (0.8.4)\n",
            "Requirement already satisfied: webencodings in /usr/local/lib/python3.6/dist-packages (from bleach->nbconvert->notebook>=4.4.1->widgetsnbextension~=3.5.0->ipywidgets) (0.5.1)\n"
          ],
          "name": "stdout"
        }
      ]
    },
    {
      "cell_type": "code",
      "metadata": {
        "id": "iHZ37kyYgyhM",
        "colab_type": "code",
        "colab": {}
      },
      "source": [
        "#libraries for chapter I. Vorbereitende Maßnahmen\n",
        "import os\n",
        "import imageio\n",
        "import torch\n",
        "import json\n",
        "import numpy as np\n",
        "import pandas as pd\n",
        "import matplotlib.pyplot as plt\n",
        "from torch.utils import data\n",
        "from google.colab import drive\n",
        "from google.colab import files\n",
        "from zipfile import ZipFile\n",
        "\n",
        "#libraries for chapter II. Training des Netzwerks\n",
        "from keras.models import Model, load_model\n",
        "from keras.layers import Input\n",
        "from keras.layers.core import Lambda, RepeatVector, Reshape\n",
        "from keras.layers.convolutional import Conv2D, Conv2DTranspose\n",
        "from keras.layers.pooling import MaxPooling2D\n",
        "from keras.layers.merge import concatenate\n",
        "from keras.callbacks import EarlyStopping, ModelCheckpoint, ReduceLROnPlateau\n",
        "from __future__ import absolute_import, division, print_function, unicode_literals\n",
        "from keras import backend as K\n",
        "\n",
        "import sys\n",
        "from tqdm import tqdm\n",
        "from keras.preprocessing.image import ImageDataGenerator, array_to_img, img_to_array, load_img\n",
        "from skimage.transform import resize\n"
      ],
      "execution_count": 0,
      "outputs": []
    },
    {
      "cell_type": "markdown",
      "metadata": {
        "id": "QbWJAtdJO9N1",
        "colab_type": "text"
      },
      "source": [
        "##Setzen globaler Einstellungen"
      ]
    },
    {
      "cell_type": "code",
      "metadata": {
        "id": "-b8ORSBoPAYl",
        "colab_type": "code",
        "colab": {}
      },
      "source": [
        "#Anzeigen von Plots direkt unter der Plot-generierenden Zelle\n",
        "%matplotlib inline"
      ],
      "execution_count": 0,
      "outputs": []
    },
    {
      "cell_type": "markdown",
      "metadata": {
        "id": "fNTSzpm2PI5q",
        "colab_type": "text"
      },
      "source": [
        "##Bereitstellung des Datensatzes"
      ]
    },
    {
      "cell_type": "markdown",
      "metadata": {
        "id": "UmpZU-CQcC8H",
        "colab_type": "text"
      },
      "source": [
        "###Zugriff auf die Kaggle-API vorbereiten"
      ]
    },
    {
      "cell_type": "markdown",
      "metadata": {
        "id": "gNQbcEZNSec-",
        "colab_type": "text"
      },
      "source": [
        "Um auf den Datensatz von Kaggle zugreifen zu können, wird die Kaggle-API (https://www.kaggle.com/docs/api) und einen persönlichen API-Token benötigt. Der API-Token kann im persönlichen Account von Kaggle generiert werden. Um den manuellen Upload (files.upload()) zu umgehen wird der Inhalt des Tokens hartkodiert."
      ]
    },
    {
      "cell_type": "code",
      "metadata": {
        "id": "93QQs4eTP0J-",
        "colab_type": "code",
        "colab": {}
      },
      "source": [
        "kaggle_json = '{\"username\":\"philipwolschon\",\"key\":\"715ad801ca6728d6730b7c276db32c6f\"}'"
      ],
      "execution_count": 0,
      "outputs": []
    },
    {
      "cell_type": "markdown",
      "metadata": {
        "id": "v1vtTogGZt8z",
        "colab_type": "text"
      },
      "source": [
        "Zunächst wird die leere Datei kaggle.json angelegt und mit dem Inhalt des kaggle_json-Objekts (API-Token) befüllt."
      ]
    },
    {
      "cell_type": "code",
      "metadata": {
        "id": "xUbVZpe7SAic",
        "colab_type": "code",
        "colab": {}
      },
      "source": [
        "with open('kaggle.json', 'w') as file:\n",
        "  json.dump(kaggle_json, file, ensure_ascii=False)"
      ],
      "execution_count": 0,
      "outputs": []
    },
    {
      "cell_type": "code",
      "metadata": {
        "id": "Js8cbdr6hutd",
        "colab_type": "code",
        "colab": {}
      },
      "source": [
        "with open('kaggle.json', 'w') as file:\n",
        "  file.write(kaggle_json)"
      ],
      "execution_count": 0,
      "outputs": []
    },
    {
      "cell_type": "markdown",
      "metadata": {
        "id": "fMHYbVPTaT-e",
        "colab_type": "text"
      },
      "source": [
        "Außerdem erwartet die Kaggle-API, dass der API-Token in ~/.kaggle/ (/root/.kaggle/) zu finden ist. Daher wird das Verzeichnis \"kaggle\" erstellt und der API-Token dort hin verschoben."
      ]
    },
    {
      "cell_type": "code",
      "metadata": {
        "id": "XWRGoqkIX7r5",
        "colab_type": "code",
        "colab": {}
      },
      "source": [
        "!mkdir -p ~/.kaggle #Den Ordner anlegen\n",
        "!mv kaggle.json ~/.kaggle/ #Den API-Token verschieben"
      ],
      "execution_count": 0,
      "outputs": []
    },
    {
      "cell_type": "markdown",
      "metadata": {
        "id": "YLYGr80jb8BZ",
        "colab_type": "text"
      },
      "source": [
        "Liefert folgende Funktion True zurück wurde die erforderliche Datei im korrekten Verzeichnis der VM erstellt (eine manuelle Prüfung ist nicht möglich, da der Zugriff auf das root-Verzeichnis der VM eingeschränkt ist)."
      ]
    },
    {
      "cell_type": "code",
      "metadata": {
        "id": "D56o-2sbc6FZ",
        "colab_type": "code",
        "outputId": "a38e3812-bec7-4b95-e76a-8dda7f6c1544",
        "colab": {
          "base_uri": "https://localhost:8080/",
          "height": 34
        }
      },
      "source": [
        "os.path.isfile(\"/root/.kaggle/kaggle.json\")"
      ],
      "execution_count": 0,
      "outputs": [
        {
          "output_type": "execute_result",
          "data": {
            "text/plain": [
              "True"
            ]
          },
          "metadata": {
            "tags": []
          },
          "execution_count": 127
        }
      ]
    },
    {
      "cell_type": "markdown",
      "metadata": {
        "id": "8L_qmGrYew7r",
        "colab_type": "text"
      },
      "source": [
        "Um Warnungen beim Starten von Kaggle-Tools zu vermeiden werdem dem Besitzer der Datei Lese- und Schreibrechte gewährt."
      ]
    },
    {
      "cell_type": "code",
      "metadata": {
        "id": "GW3uMVFPK-cu",
        "colab_type": "code",
        "colab": {}
      },
      "source": [
        "!chmod 600 ~/.kaggle/kaggle.json"
      ],
      "execution_count": 0,
      "outputs": []
    },
    {
      "cell_type": "markdown",
      "metadata": {
        "id": "r59FeXTMffba",
        "colab_type": "text"
      },
      "source": [
        "###Download und Entpacken des Datensatzes"
      ]
    },
    {
      "cell_type": "markdown",
      "metadata": {
        "id": "8qIZlwVyjRj5",
        "colab_type": "text"
      },
      "source": [
        "Mit Hilfe der Kaggle-API kann nun das Datenset heruntergeladen werden."
      ]
    },
    {
      "cell_type": "code",
      "metadata": {
        "id": "tu2e97SbLDHL",
        "colab_type": "code",
        "outputId": "1ab4e885-8c4e-4bf5-c89e-4a42244cd43c",
        "colab": {
          "base_uri": "https://localhost:8080/",
          "height": 119
        }
      },
      "source": [
        "!kaggle competitions download -c tgs-salt-identification-challenge -p /content/salt_data "
      ],
      "execution_count": 0,
      "outputs": [
        {
          "output_type": "stream",
          "text": [
            "Warning: Looks like you're using an outdated API Version, please consider updating (server 1.5.6 / client 1.5.4)\n",
            "depths.csv: Skipping, found more recently modified local copy (use --force to force download)\n",
            "sample_submission.csv: Skipping, found more recently modified local copy (use --force to force download)\n",
            "train.csv: Skipping, found more recently modified local copy (use --force to force download)\n",
            "test.zip: Skipping, found more recently modified local copy (use --force to force download)\n",
            "train.zip: Skipping, found more recently modified local copy (use --force to force download)\n"
          ],
          "name": "stdout"
        }
      ]
    },
    {
      "cell_type": "markdown",
      "metadata": {
        "id": "aU1ACuZejiCx",
        "colab_type": "text"
      },
      "source": [
        "Die Trainigs- und Testdaten sind komprimiert und müssen zunächst entpackt werden."
      ]
    },
    {
      "cell_type": "code",
      "metadata": {
        "id": "I9PDHNpZh_t7",
        "colab_type": "code",
        "colab": {}
      },
      "source": [
        "#Entpacken der Testdaten\n",
        "with ZipFile('/content/salt_data/test.zip', 'r') as zipObj:\n",
        "   zipObj.extractall('/content/salt_data/test')\n",
        "#Entpacken der Trainingsdaten\n",
        "with ZipFile('/content/salt_data/train.zip', 'r') as zipObj:\n",
        "   zipObj.extractall('/content/salt_data/train')"
      ],
      "execution_count": 0,
      "outputs": []
    },
    {
      "cell_type": "markdown",
      "metadata": {
        "id": "QZqCTvgdlufd",
        "colab_type": "text"
      },
      "source": [
        "##Sichtung des Datensatzes"
      ]
    },
    {
      "cell_type": "markdown",
      "metadata": {
        "id": "RD-bkIHkZ85R",
        "colab_type": "text"
      },
      "source": [
        "Der Datensatz enthält 18000 Testbilder und 4000 Trainingsbilder d.h in Summe sind 22000 Bilder verfügbar."
      ]
    },
    {
      "cell_type": "code",
      "metadata": {
        "id": "PAvtvM5fYrr8",
        "colab_type": "code",
        "outputId": "cd25d191-2411-4265-ed50-1211c0bf33c7",
        "colab": {
          "base_uri": "https://localhost:8080/",
          "height": 51
        }
      },
      "source": [
        "print(\"Number of test images: \" + str(len(os.listdir(\"/content/salt_data/test/images\"))))\n",
        "print(\"Number of train images: \" + str(len(os.listdir(\"/content/salt_data/train/images\"))))"
      ],
      "execution_count": 0,
      "outputs": [
        {
          "output_type": "stream",
          "text": [
            "Number of test images: 18000\n",
            "Number of train images: 4000\n"
          ],
          "name": "stdout"
        }
      ]
    },
    {
      "cell_type": "markdown",
      "metadata": {
        "id": "nHsdkH7ZCesL",
        "colab_type": "text"
      },
      "source": [
        "Der Datensatz beinhaltet neben den Trainigs- und Testbildern auch zwei CSV-Dateien."
      ]
    },
    {
      "cell_type": "code",
      "metadata": {
        "id": "rTeN30MaedWJ",
        "colab_type": "code",
        "colab": {}
      },
      "source": [
        "train_csv = pd.read_csv('/content/salt_data/train.csv')\n",
        "depth_csv = pd.read_csv('/content/salt_data/depths.csv')"
      ],
      "execution_count": 0,
      "outputs": []
    },
    {
      "cell_type": "markdown",
      "metadata": {
        "id": "HNwtJhzgCssS",
        "colab_type": "text"
      },
      "source": [
        "Die train-CSV-Datei enthält die Ids und lauflängenkodierte (englisch run-length encoding, kurz RLE) Bilddaten für die maskierten Trainigsbilder. "
      ]
    },
    {
      "cell_type": "code",
      "metadata": {
        "id": "Hx9BB8NLNL7_",
        "colab_type": "code",
        "outputId": "277bf54e-c6c7-4fed-d59e-5b5baaa61eda",
        "colab": {
          "base_uri": "https://localhost:8080/",
          "height": 204
        }
      },
      "source": [
        "train_csv.head(5)"
      ],
      "execution_count": 0,
      "outputs": [
        {
          "output_type": "execute_result",
          "data": {
            "text/html": [
              "<div>\n",
              "<style scoped>\n",
              "    .dataframe tbody tr th:only-of-type {\n",
              "        vertical-align: middle;\n",
              "    }\n",
              "\n",
              "    .dataframe tbody tr th {\n",
              "        vertical-align: top;\n",
              "    }\n",
              "\n",
              "    .dataframe thead th {\n",
              "        text-align: right;\n",
              "    }\n",
              "</style>\n",
              "<table border=\"1\" class=\"dataframe\">\n",
              "  <thead>\n",
              "    <tr style=\"text-align: right;\">\n",
              "      <th></th>\n",
              "      <th>id</th>\n",
              "      <th>rle_mask</th>\n",
              "    </tr>\n",
              "  </thead>\n",
              "  <tbody>\n",
              "    <tr>\n",
              "      <th>0</th>\n",
              "      <td>575d24d81d</td>\n",
              "      <td>NaN</td>\n",
              "    </tr>\n",
              "    <tr>\n",
              "      <th>1</th>\n",
              "      <td>a266a2a9df</td>\n",
              "      <td>5051 5151</td>\n",
              "    </tr>\n",
              "    <tr>\n",
              "      <th>2</th>\n",
              "      <td>75efad62c1</td>\n",
              "      <td>9 93 109 94 210 94 310 95 411 95 511 96 612 96...</td>\n",
              "    </tr>\n",
              "    <tr>\n",
              "      <th>3</th>\n",
              "      <td>34e51dba6a</td>\n",
              "      <td>48 54 149 54 251 53 353 52 455 51 557 50 659 4...</td>\n",
              "    </tr>\n",
              "    <tr>\n",
              "      <th>4</th>\n",
              "      <td>4875705fb0</td>\n",
              "      <td>1111 1 1212 1 1313 1 1414 1 1514 2 1615 2 1716...</td>\n",
              "    </tr>\n",
              "  </tbody>\n",
              "</table>\n",
              "</div>"
            ],
            "text/plain": [
              "           id                                           rle_mask\n",
              "0  575d24d81d                                                NaN\n",
              "1  a266a2a9df                                          5051 5151\n",
              "2  75efad62c1  9 93 109 94 210 94 310 95 411 95 511 96 612 96...\n",
              "3  34e51dba6a  48 54 149 54 251 53 353 52 455 51 557 50 659 4...\n",
              "4  4875705fb0  1111 1 1212 1 1313 1 1414 1 1514 2 1615 2 1716..."
            ]
          },
          "metadata": {
            "tags": []
          },
          "execution_count": 133
        }
      ]
    },
    {
      "cell_type": "markdown",
      "metadata": {
        "id": "uFsLnqdjbWWp",
        "colab_type": "text"
      },
      "source": [
        "Die Anzahl der lauflängenkodierten Bilddaten entspricht der der Anzahl der Trainigsbilder."
      ]
    },
    {
      "cell_type": "code",
      "metadata": {
        "id": "WsPQ1nBiaufZ",
        "colab_type": "code",
        "outputId": "3370006d-b843-4e9d-9bf4-2f8883a5e497",
        "colab": {
          "base_uri": "https://localhost:8080/",
          "height": 34
        }
      },
      "source": [
        "print (\"Number of rle mask information: \" + str(len(train_csv)))"
      ],
      "execution_count": 0,
      "outputs": [
        {
          "output_type": "stream",
          "text": [
            "Number of rle mask information: 4000\n"
          ],
          "name": "stdout"
        }
      ]
    },
    {
      "cell_type": "markdown",
      "metadata": {
        "id": "mAwPAJNQFJv5",
        "colab_type": "text"
      },
      "source": [
        "Die depth-CSV-Datei enthält für die Bilddaten eine Zusatzinformation. Die Zusatzinformation \"z\" gibt an, in welcher Tiefe die seismischen Bilder aufgenommen wurden."
      ]
    },
    {
      "cell_type": "code",
      "metadata": {
        "id": "RSa_68WUf662",
        "colab_type": "code",
        "outputId": "83a1d8d9-3492-4f15-e576-973fe692da52",
        "colab": {
          "base_uri": "https://localhost:8080/",
          "height": 204
        }
      },
      "source": [
        "depth_csv.head(5)"
      ],
      "execution_count": 0,
      "outputs": [
        {
          "output_type": "execute_result",
          "data": {
            "text/html": [
              "<div>\n",
              "<style scoped>\n",
              "    .dataframe tbody tr th:only-of-type {\n",
              "        vertical-align: middle;\n",
              "    }\n",
              "\n",
              "    .dataframe tbody tr th {\n",
              "        vertical-align: top;\n",
              "    }\n",
              "\n",
              "    .dataframe thead th {\n",
              "        text-align: right;\n",
              "    }\n",
              "</style>\n",
              "<table border=\"1\" class=\"dataframe\">\n",
              "  <thead>\n",
              "    <tr style=\"text-align: right;\">\n",
              "      <th></th>\n",
              "      <th>id</th>\n",
              "      <th>z</th>\n",
              "    </tr>\n",
              "  </thead>\n",
              "  <tbody>\n",
              "    <tr>\n",
              "      <th>0</th>\n",
              "      <td>4ac19fb269</td>\n",
              "      <td>306</td>\n",
              "    </tr>\n",
              "    <tr>\n",
              "      <th>1</th>\n",
              "      <td>1825fadf99</td>\n",
              "      <td>157</td>\n",
              "    </tr>\n",
              "    <tr>\n",
              "      <th>2</th>\n",
              "      <td>f59821d067</td>\n",
              "      <td>305</td>\n",
              "    </tr>\n",
              "    <tr>\n",
              "      <th>3</th>\n",
              "      <td>5b435fad9d</td>\n",
              "      <td>503</td>\n",
              "    </tr>\n",
              "    <tr>\n",
              "      <th>4</th>\n",
              "      <td>e340e7bfca</td>\n",
              "      <td>783</td>\n",
              "    </tr>\n",
              "  </tbody>\n",
              "</table>\n",
              "</div>"
            ],
            "text/plain": [
              "           id    z\n",
              "0  4ac19fb269  306\n",
              "1  1825fadf99  157\n",
              "2  f59821d067  305\n",
              "3  5b435fad9d  503\n",
              "4  e340e7bfca  783"
            ]
          },
          "metadata": {
            "tags": []
          },
          "execution_count": 93
        }
      ]
    },
    {
      "cell_type": "markdown",
      "metadata": {
        "id": "NY5kVNZebvXk",
        "colab_type": "text"
      },
      "source": [
        "Die Anzahl der Zusatzinformationen entspricht der Anzahl der Test- und Trainigsbilder. D.h. für jedes Bild im Datensatz steht diese Information zur Verfügung."
      ]
    },
    {
      "cell_type": "code",
      "metadata": {
        "id": "uOKcYKC3bsNW",
        "colab_type": "code",
        "outputId": "b041437d-eb2e-4fbf-ff1d-0e31579603e8",
        "colab": {
          "base_uri": "https://localhost:8080/",
          "height": 34
        }
      },
      "source": [
        "print (\"Number of depth information: \" + str(len(depth_csv)))"
      ],
      "execution_count": 0,
      "outputs": [
        {
          "output_type": "stream",
          "text": [
            "Number of depth information: 22000\n"
          ],
          "name": "stdout"
        }
      ]
    },
    {
      "cell_type": "markdown",
      "metadata": {
        "id": "xNo36sj2Eg7a",
        "colab_type": "text"
      },
      "source": [
        "###Klassen- und Methodendefinition"
      ]
    },
    {
      "cell_type": "markdown",
      "metadata": {
        "id": "TVZW6Lpwb5LQ",
        "colab_type": "text"
      },
      "source": [
        "Die Klasse TrainSaltDataset repräsentiert den Datensatz und soll einen einfachen Zugriff auf die Trainigsdaten ermöglichen."
      ]
    },
    {
      "cell_type": "code",
      "metadata": {
        "id": "BN9H7LBMpAoZ",
        "colab_type": "code",
        "colab": {}
      },
      "source": [
        "class TrainSaltDataset(data.Dataset):\n",
        "#Class to provide easy and fast access to image data.\n",
        "\n",
        "  def __init__(self, root_path, file_list):\n",
        "    #Constructor that stores the path to the image data and \n",
        "    #the list of the image data.\n",
        "    self.root_path = root_path\n",
        "    self.file_list = file_list\n",
        "  def __len__(self):\n",
        "    #Returns the number of image data.\n",
        "    return len(self.file_list)\n",
        "\n",
        "  def __getitem__(self, index):\n",
        "    #Returns the image data (original and mask).\n",
        "    file_id = self.file_list[index]\n",
        "\n",
        "    #root path + image folder + image\n",
        "    image_folder = os.path.join(self.root_path, 'images')\n",
        "    image_path = os.path.join(image_folder, file_id + '.png')\n",
        "\n",
        "    #root path + mask folder + image\n",
        "    mask_folder = os.path.join(self.root_path, 'masks')\n",
        "    mask_path = os.path.join(mask_folder, file_id + '.png')\n",
        "\n",
        "    #convert image to numpy array\n",
        "    image = np.array(imageio.imread(image_path), dtype = np.uint8)\n",
        "    mask = np.array(imageio.imread(mask_path), dtype = np.uint8)\n",
        "\n",
        "    return image, mask\n",
        "  "
      ],
      "execution_count": 0,
      "outputs": []
    },
    {
      "cell_type": "markdown",
      "metadata": {
        "id": "cvakNP5wNQwT",
        "colab_type": "text"
      },
      "source": [
        "Die Funktion plotImageAndMask ermöglicht eine schnelle und einfache Ausgabe der Bilddaten (Original und Maske)."
      ]
    },
    {
      "cell_type": "code",
      "metadata": {
        "id": "PPisiWFTttNG",
        "colab_type": "code",
        "colab": {}
      },
      "source": [
        "def plotImageAndMask(image, mask):\n",
        "  #Displays the image data.\n",
        "  fiure, axarr = plt.subplots(1, 2)\n",
        "  #Display the images.\n",
        "  axarr[0].imshow(image)\n",
        "  axarr[1].imshow(mask)\n",
        "  #Enable the grids.\n",
        "  axarr[0].grid()\n",
        "  axarr[1].grid()\n",
        "  #Set the image titles.\n",
        "  axarr[0].set_title('Image')\n",
        "  axarr[1].set_title('Mask')"
      ],
      "execution_count": 0,
      "outputs": []
    },
    {
      "cell_type": "markdown",
      "metadata": {
        "id": "ju0cne50m-Rq",
        "colab_type": "text"
      },
      "source": [
        "Die Funktion rleToMask dekodiert die lauflängenkodierte Bilddaten der maskierten Trainingsdaten."
      ]
    },
    {
      "cell_type": "code",
      "metadata": {
        "id": "QfWupHpow2kY",
        "colab_type": "code",
        "colab": {}
      },
      "source": [
        "#convert run length encoding to images that can be input into our model\n",
        "def rleToMask(rleString, height, width):\n",
        "    #width heigh\n",
        "    rows, cols = height ,width\n",
        "    \n",
        "    try:\n",
        "        #get numbers\n",
        "        rleNumbers = [int(numstring) for numstring in rleString.split(' ')]\n",
        "        #get pairs\n",
        "        rlePairs = np.array(rleNumbers).reshape(-1,2)\n",
        "        #create an image\n",
        "        img = np.zeros(rows*cols,dtype=np.uint8)\n",
        "        #for each pair\n",
        "        for index,length in rlePairs:\n",
        "            #get the pixel value \n",
        "            index -= 1\n",
        "            img[index:index+length] = 255\n",
        "        \n",
        "        #reshape\n",
        "        img = img.reshape(cols,rows)\n",
        "        img = img.T\n",
        "    \n",
        "    #else return empty image\n",
        "    except:\n",
        "        img = np.zeros((cols,rows))\n",
        "    \n",
        "    return img"
      ],
      "execution_count": 0,
      "outputs": []
    },
    {
      "cell_type": "markdown",
      "metadata": {
        "id": "tR4Be14nnkxx",
        "colab_type": "text"
      },
      "source": [
        "Die Funktion salt_proportion berechnet den Salzgehalt eines Bildes."
      ]
    },
    {
      "cell_type": "code",
      "metadata": {
        "id": "4wkFO1Zvymoc",
        "colab_type": "code",
        "colab": {}
      },
      "source": [
        "#function for measuring how salty an image is\n",
        "def salt_proportion(imgArray):\n",
        "    try: \n",
        "        unique, counts = np.unique(imgArray, return_counts=True)\n",
        "        ## The total number of pixels is 101*101 = 10,201\n",
        "        return counts[1]/10201.\n",
        "    \n",
        "    except: \n",
        "        return 0.0"
      ],
      "execution_count": 0,
      "outputs": []
    },
    {
      "cell_type": "markdown",
      "metadata": {
        "id": "eLbGeu9JHcWS",
        "colab_type": "text"
      },
      "source": [
        "###Ausgabe der Trainingsbilder mit Maske"
      ]
    },
    {
      "cell_type": "code",
      "metadata": {
        "colab_type": "code",
        "id": "72AkeWcvmMfW",
        "colab": {}
      },
      "source": [
        "train_path = '/content/salt_data/train'\n",
        "file_list = list(train_csv['id'].values)\n",
        "\n",
        "train_dataset= TrainSaltDataset(train_path, file_list)"
      ],
      "execution_count": 0,
      "outputs": []
    },
    {
      "cell_type": "markdown",
      "metadata": {
        "id": "yCyaeJUOVFHb",
        "colab_type": "text"
      },
      "source": [
        "Die Trainigsbilder werden in der linken Spalte dargestellt, die Maske mit dem gelb eingefärbten salzhaltigen Areal auf der rechten Seite."
      ]
    },
    {
      "cell_type": "code",
      "metadata": {
        "id": "Wv0Qac74uKri",
        "colab_type": "code",
        "outputId": "198ac0aa-eb72-489e-9368-041feb1849fd",
        "colab": {
          "base_uri": "https://localhost:8080/",
          "height": 1000
        }
      },
      "source": [
        "#Diesplay five random images.\n",
        "for i in range(5):\n",
        "  train_image, train_mask = train_dataset[np.random.randint(0, len(dataset))]\n",
        "  plotImageAndMask(train_image, train_mask)"
      ],
      "execution_count": 0,
      "outputs": [
        {
          "output_type": "display_data",
          "data": {
            "image/png": "[encoded data removed]",
            "text/plain": [
              "<Figure size 432x288 with 2 Axes>"
            ]
          },
          "metadata": {
            "tags": []
          }
        },
        {
          "output_type": "display_data",
          "data": {
            "image/png": "[encoded data removed]",
            "text/plain": [
              "<Figure size 432x288 with 2 Axes>"
            ]
          },
          "metadata": {
            "tags": []
          }
        },
        {
          "output_type": "display_data",
          "data": {
            "image/png": "[encoded data removed]",
            "text/plain": [
              "<Figure size 432x288 with 2 Axes>"
            ]
          },
          "metadata": {
            "tags": []
          }
        },
        {
          "output_type": "display_data",
          "data": {
            "image/png": "[encoded data removed]",
            "text/plain": [
              "<Figure size 432x288 with 2 Axes>"
            ]
          },
          "metadata": {
            "tags": []
          }
        },
        {
          "output_type": "display_data",
          "data": {
            "image/png": "[encoded data removed]",
            "text/plain": [
              "<Figure size 432x288 with 2 Axes>"
            ]
          },
          "metadata": {
            "tags": []
          }
        }
      ]
    },
    {
      "cell_type": "markdown",
      "metadata": {
        "id": "iMrzipVkJyaC",
        "colab_type": "text"
      },
      "source": [
        "###Ausgabe der Häufigkeitsverteilung der Tiefe"
      ]
    },
    {
      "cell_type": "markdown",
      "metadata": {
        "id": "4PKHTHR_aEff",
        "colab_type": "text"
      },
      "source": [
        "Rein informativ folgt eine grafische Darstellung einer Häufigkeitsverteilung der Aufnahmetiefe. Die Tiefe ist ein skalarer Wert zwischen 0 und 1000.\n",
        "\n",
        "Das Histogramm zeigt, dass die Anzahl der Aufnahmen linar bis zur maximalen Aufnahmetiefe von ca. 550m steigt und bis zu einer Tiefe von ca. 850m wieder linear abfällt. Auffällig ist, dass ab ca. 850m die Anzahl der Aufnahmen sprunghaft auf ca. 100m abfällt."
      ]
    },
    {
      "cell_type": "code",
      "metadata": {
        "id": "7TzAZTcevlzH",
        "colab_type": "code",
        "outputId": "512ed499-a501-46aa-fb85-ff197d2b7d23",
        "colab": {
          "base_uri": "https://localhost:8080/",
          "height": 421
        }
      },
      "source": [
        "#plot the distribution of depths\n",
        "plt.figure(figsize = (6, 6))\n",
        "plt.hist(depth_csv['z'], bins = 50)\n",
        "plt.xlabel(\"Depth\")\n",
        "plt.ylabel(\"Number of images\")\n",
        "plt.grid()\n",
        "plt.title('Depth distribution')"
      ],
      "execution_count": 0,
      "outputs": [
        {
          "output_type": "execute_result",
          "data": {
            "text/plain": [
              "Text(0.5, 1.0, 'Depth distribution')"
            ]
          },
          "metadata": {
            "tags": []
          },
          "execution_count": 119
        },
        {
          "output_type": "display_data",
          "data": {
            "image/png": "[encoded data removed]",
            "text/plain": [
              "<Figure size 432x432 with 1 Axes>"
            ]
          },
          "metadata": {
            "tags": []
          }
        }
      ]
    },
    {
      "cell_type": "markdown",
      "metadata": {
        "id": "zbIJNAVMlFyL",
        "colab_type": "text"
      },
      "source": [
        "###Ausgabe der Korrelation zwischen Tiefe und Salzgehalt"
      ]
    },
    {
      "cell_type": "code",
      "metadata": {
        "id": "zwaieCnezBiR",
        "colab_type": "code",
        "colab": {}
      },
      "source": [
        "#prepare to merge depth\n",
        "train_csv['mask'] = train_csv['rle_mask'].apply(lambda x: rleToMask(x, 101, 101))\n",
        "train_csv['salt_proportion'] = train_csv['mask'].apply(lambda x: salt_proportion(x))"
      ],
      "execution_count": 0,
      "outputs": []
    },
    {
      "cell_type": "code",
      "metadata": {
        "id": "2kU-_-3azgBB",
        "colab_type": "code",
        "outputId": "eedcecdd-5435-49a7-9db2-e316007751b6",
        "colab": {
          "base_uri": "https://localhost:8080/",
          "height": 204
        }
      },
      "source": [
        "#merge it\n",
        "merged = train_csv.merge(depth_csv, how = 'left')\n",
        "merged.head()"
      ],
      "execution_count": 0,
      "outputs": [
        {
          "output_type": "execute_result",
          "data": {
            "text/html": [
              "<div>\n",
              "<style scoped>\n",
              "    .dataframe tbody tr th:only-of-type {\n",
              "        vertical-align: middle;\n",
              "    }\n",
              "\n",
              "    .dataframe tbody tr th {\n",
              "        vertical-align: top;\n",
              "    }\n",
              "\n",
              "    .dataframe thead th {\n",
              "        text-align: right;\n",
              "    }\n",
              "</style>\n",
              "<table border=\"1\" class=\"dataframe\">\n",
              "  <thead>\n",
              "    <tr style=\"text-align: right;\">\n",
              "      <th></th>\n",
              "      <th>id</th>\n",
              "      <th>rle_mask</th>\n",
              "      <th>mask</th>\n",
              "      <th>salt_proportion</th>\n",
              "      <th>z</th>\n",
              "    </tr>\n",
              "  </thead>\n",
              "  <tbody>\n",
              "    <tr>\n",
              "      <th>0</th>\n",
              "      <td>575d24d81d</td>\n",
              "      <td>NaN</td>\n",
              "      <td>[[0.0, 0.0, 0.0, 0.0, 0.0, 0.0, 0.0, 0.0, 0.0,...</td>\n",
              "      <td>0.000000</td>\n",
              "      <td>843</td>\n",
              "    </tr>\n",
              "    <tr>\n",
              "      <th>1</th>\n",
              "      <td>a266a2a9df</td>\n",
              "      <td>5051 5151</td>\n",
              "      <td>[[0, 0, 0, 0, 0, 0, 0, 0, 0, 0, 0, 0, 0, 0, 0,...</td>\n",
              "      <td>0.504950</td>\n",
              "      <td>794</td>\n",
              "    </tr>\n",
              "    <tr>\n",
              "      <th>2</th>\n",
              "      <td>75efad62c1</td>\n",
              "      <td>9 93 109 94 210 94 310 95 411 95 511 96 612 96...</td>\n",
              "      <td>[[0, 0, 0, 0, 0, 0, 0, 0, 0, 0, 0, 0, 0, 0, 0,...</td>\n",
              "      <td>0.993334</td>\n",
              "      <td>468</td>\n",
              "    </tr>\n",
              "    <tr>\n",
              "      <th>3</th>\n",
              "      <td>34e51dba6a</td>\n",
              "      <td>48 54 149 54 251 53 353 52 455 51 557 50 659 4...</td>\n",
              "      <td>[[0, 0, 0, 0, 0, 0, 0, 0, 0, 0, 0, 0, 0, 0, 0,...</td>\n",
              "      <td>0.149201</td>\n",
              "      <td>727</td>\n",
              "    </tr>\n",
              "    <tr>\n",
              "      <th>4</th>\n",
              "      <td>4875705fb0</td>\n",
              "      <td>1111 1 1212 1 1313 1 1414 1 1514 2 1615 2 1716...</td>\n",
              "      <td>[[0, 0, 0, 0, 0, 0, 0, 0, 0, 0, 0, 0, 0, 0, 0,...</td>\n",
              "      <td>0.042839</td>\n",
              "      <td>797</td>\n",
              "    </tr>\n",
              "  </tbody>\n",
              "</table>\n",
              "</div>"
            ],
            "text/plain": [
              "           id  ...    z\n",
              "0  575d24d81d  ...  843\n",
              "1  a266a2a9df  ...  794\n",
              "2  75efad62c1  ...  468\n",
              "3  34e51dba6a  ...  727\n",
              "4  4875705fb0  ...  797\n",
              "\n",
              "[5 rows x 5 columns]"
            ]
          },
          "metadata": {
            "tags": []
          },
          "execution_count": 23
        }
      ]
    },
    {
      "cell_type": "code",
      "metadata": {
        "id": "4ixqMFBkzszc",
        "colab_type": "code",
        "outputId": "c6873ded-c8f7-4f98-aeeb-284c0e724c57",
        "colab": {
          "base_uri": "https://localhost:8080/",
          "height": 407
        }
      },
      "source": [
        "#show proportion of salt vs depth\n",
        "plt.figure(figsize = (12, 6))\n",
        "plt.scatter(merged['salt_proportion'], merged['z'])\n",
        "plt.title('proportion of salt vs depth')"
      ],
      "execution_count": 0,
      "outputs": [
        {
          "output_type": "execute_result",
          "data": {
            "text/plain": [
              "Text(0.5, 1.0, 'proportion of salt vs depth')"
            ]
          },
          "metadata": {
            "tags": []
          },
          "execution_count": 24
        },
        {
          "output_type": "display_data",
          "data": {
            "image/png": "[encoded data removed]",
            "text/plain": [
              "<Figure size 864x432 with 1 Axes>"
            ]
          },
          "metadata": {
            "tags": []
          }
        }
      ]
    },
    {
      "cell_type": "markdown",
      "metadata": {
        "id": "J4Ou96qbpqv8",
        "colab_type": "text"
      },
      "source": [
        "#II. Definition des U-Net-Modells"
      ]
    },
    {
      "cell_type": "markdown",
      "metadata": {
        "id": "5os9kxc8KKao",
        "colab_type": "text"
      },
      "source": [
        "#III. Training des U-Net-Modells"
      ]
    },
    {
      "cell_type": "markdown",
      "metadata": {
        "id": "gZY3ddaKKQGu",
        "colab_type": "text"
      },
      "source": [
        "##Vorbereitung"
      ]
    },
    {
      "cell_type": "code",
      "metadata": {
        "id": "jtGKv3_G7K9f",
        "colab_type": "code",
        "colab": {}
      },
      "source": [
        "img_width = 128\n",
        "img_height = 128\n",
        "border = 5\n",
        "img_chan = 2 #number of channels: first is original and second cumsum(axis=0)\n",
        "n_features = 1 #number of extra features, like depth\n",
        "#path_train = '../input/train/'\n",
        "#path_test = '../input/test/'"
      ],
      "execution_count": 0,
      "outputs": []
    },
    {
      "cell_type": "code",
      "metadata": {
        "id": "w9MbJiq77O7b",
        "colab_type": "code",
        "outputId": "59c0fc88-97a4-40ec-c1f6-fa374bc9848b",
        "colab": {
          "base_uri": "https://localhost:8080/",
          "height": 1000
        }
      },
      "source": [
        "# Build U-Net model\n",
        "input_img = Input((img_height, img_width, img_chan), name='img')\n",
        "input_features = Input((n_features, ), name='feat')\n",
        "\n",
        "c1 = Conv2D(8, (3, 3), activation='relu', padding='same') (input_img)\n",
        "c1 = Conv2D(8, (3, 3), activation='relu', padding='same') (c1)\n",
        "p1 = MaxPooling2D((2, 2)) (c1)\n",
        "\n",
        "c2 = Conv2D(16, (3, 3), activation='relu', padding='same') (p1)\n",
        "c2 = Conv2D(16, (3, 3), activation='relu', padding='same') (c2)\n",
        "p2 = MaxPooling2D((2, 2)) (c2)\n",
        "\n",
        "c3 = Conv2D(32, (3, 3), activation='relu', padding='same') (p2)\n",
        "c3 = Conv2D(32, (3, 3), activation='relu', padding='same') (c3)\n",
        "p3 = MaxPooling2D((2, 2)) (c3)\n",
        "\n",
        "c4 = Conv2D(64, (3, 3), activation='relu', padding='same') (p3)\n",
        "c4 = Conv2D(64, (3, 3), activation='relu', padding='same') (c4)\n",
        "p4 = MaxPooling2D(pool_size=(2, 2)) (c4)\n",
        "\n",
        "# Join features information in the depthest layer\n",
        "f_repeat = RepeatVector(8*8)(input_features)\n",
        "f_conv = Reshape((8, 8, n_features))(f_repeat)\n",
        "p4_feat = concatenate([p4, f_conv], -1)\n",
        "\n",
        "c5 = Conv2D(128, (3, 3), activation='relu', padding='same') (p4_feat)\n",
        "c5 = Conv2D(128, (3, 3), activation='relu', padding='same') (c5)\n",
        "\n",
        "u6 = Conv2DTranspose(64, (2, 2), strides=(2, 2), padding='same') (c5)\n",
        "#check out this skip connection thooooo\n",
        "u6 = concatenate([u6, c4])\n",
        "c6 = Conv2D(64, (3, 3), activation='relu', padding='same') (u6)\n",
        "c6 = Conv2D(64, (3, 3), activation='relu', padding='same') (c6)\n",
        "\n",
        "u7 = Conv2DTranspose(32, (2, 2), strides=(2, 2), padding='same') (c6)\n",
        "u7 = concatenate([u7, c3])\n",
        "c7 = Conv2D(32, (3, 3), activation='relu', padding='same') (u7)\n",
        "c7 = Conv2D(32, (3, 3), activation='relu', padding='same') (c7)\n",
        "\n",
        "u8 = Conv2DTranspose(16, (2, 2), strides=(2, 2), padding='same') (c7)\n",
        "u8 = concatenate([u8, c2])\n",
        "c8 = Conv2D(16, (3, 3), activation='relu', padding='same') (u8)\n",
        "c8 = Conv2D(16, (3, 3), activation='relu', padding='same') (c8)\n",
        "\n",
        "u9 = Conv2DTranspose(8, (2, 2), strides=(2, 2), padding='same') (c8)\n",
        "u9 = concatenate([u9, c1], axis=3)\n",
        "c9 = Conv2D(8, (3, 3), activation='relu', padding='same') (u9)\n",
        "c9 = Conv2D(8, (3, 3), activation='relu', padding='same') (c9)\n",
        "\n",
        "outputs = Conv2D(1, (1, 1), activation='sigmoid') (c9)\n",
        "\n",
        "model = Model(inputs=[input_img, input_features], outputs=[outputs])\n",
        "model.compile(optimizer='adam', loss='binary_crossentropy') #, metrics=[mean_iou]) # The mean_iou metrics seens to leak train and test values...\n",
        "model.summary()"
      ],
      "execution_count": 0,
      "outputs": [
        {
          "output_type": "stream",
          "text": [
            "WARNING:tensorflow:From /usr/local/lib/python3.6/dist-packages/keras/backend/tensorflow_backend.py:541: The name tf.placeholder is deprecated. Please use tf.compat.v1.placeholder instead.\n",
            "\n",
            "WARNING:tensorflow:From /usr/local/lib/python3.6/dist-packages/keras/backend/tensorflow_backend.py:66: The name tf.get_default_graph is deprecated. Please use tf.compat.v1.get_default_graph instead.\n",
            "\n",
            "WARNING:tensorflow:From /usr/local/lib/python3.6/dist-packages/keras/backend/tensorflow_backend.py:4432: The name tf.random_uniform is deprecated. Please use tf.random.uniform instead.\n",
            "\n",
            "WARNING:tensorflow:From /usr/local/lib/python3.6/dist-packages/keras/backend/tensorflow_backend.py:4267: The name tf.nn.max_pool is deprecated. Please use tf.nn.max_pool2d instead.\n",
            "\n",
            "WARNING:tensorflow:From /usr/local/lib/python3.6/dist-packages/keras/optimizers.py:793: The name tf.train.Optimizer is deprecated. Please use tf.compat.v1.train.Optimizer instead.\n",
            "\n",
            "WARNING:tensorflow:From /usr/local/lib/python3.6/dist-packages/keras/backend/tensorflow_backend.py:3657: The name tf.log is deprecated. Please use tf.math.log instead.\n",
            "\n",
            "WARNING:tensorflow:From /usr/local/lib/python3.6/dist-packages/tensorflow_core/python/ops/nn_impl.py:183: where (from tensorflow.python.ops.array_ops) is deprecated and will be removed in a future version.\n",
            "Instructions for updating:\n",
            "Use tf.where in 2.0, which has the same broadcast rule as np.where\n",
            "Model: \"model_1\"\n",
            "__________________________________________________________________________________________________\n",
            "Layer (type)                    Output Shape         Param #     Connected to                     \n",
            "==================================================================================================\n",
            "img (InputLayer)                (None, 128, 128, 2)  0                                            \n",
            "__________________________________________________________________________________________________\n",
            "conv2d_1 (Conv2D)               (None, 128, 128, 8)  152         img[0][0]                        \n",
            "__________________________________________________________________________________________________\n",
            "conv2d_2 (Conv2D)               (None, 128, 128, 8)  584         conv2d_1[0][0]                   \n",
            "__________________________________________________________________________________________________\n",
            "max_pooling2d_1 (MaxPooling2D)  (None, 64, 64, 8)    0           conv2d_2[0][0]                   \n",
            "__________________________________________________________________________________________________\n",
            "conv2d_3 (Conv2D)               (None, 64, 64, 16)   1168        max_pooling2d_1[0][0]            \n",
            "__________________________________________________________________________________________________\n",
            "conv2d_4 (Conv2D)               (None, 64, 64, 16)   2320        conv2d_3[0][0]                   \n",
            "__________________________________________________________________________________________________\n",
            "max_pooling2d_2 (MaxPooling2D)  (None, 32, 32, 16)   0           conv2d_4[0][0]                   \n",
            "__________________________________________________________________________________________________\n",
            "conv2d_5 (Conv2D)               (None, 32, 32, 32)   4640        max_pooling2d_2[0][0]            \n",
            "__________________________________________________________________________________________________\n",
            "conv2d_6 (Conv2D)               (None, 32, 32, 32)   9248        conv2d_5[0][0]                   \n",
            "__________________________________________________________________________________________________\n",
            "max_pooling2d_3 (MaxPooling2D)  (None, 16, 16, 32)   0           conv2d_6[0][0]                   \n",
            "__________________________________________________________________________________________________\n",
            "conv2d_7 (Conv2D)               (None, 16, 16, 64)   18496       max_pooling2d_3[0][0]            \n",
            "__________________________________________________________________________________________________\n",
            "feat (InputLayer)               (None, 1)            0                                            \n",
            "__________________________________________________________________________________________________\n",
            "conv2d_8 (Conv2D)               (None, 16, 16, 64)   36928       conv2d_7[0][0]                   \n",
            "__________________________________________________________________________________________________\n",
            "repeat_vector_1 (RepeatVector)  (None, 64, 1)        0           feat[0][0]                       \n",
            "__________________________________________________________________________________________________\n",
            "max_pooling2d_4 (MaxPooling2D)  (None, 8, 8, 64)     0           conv2d_8[0][0]                   \n",
            "__________________________________________________________________________________________________\n",
            "reshape_1 (Reshape)             (None, 8, 8, 1)      0           repeat_vector_1[0][0]            \n",
            "__________________________________________________________________________________________________\n",
            "concatenate_1 (Concatenate)     (None, 8, 8, 65)     0           max_pooling2d_4[0][0]            \n",
            "                                                                 reshape_1[0][0]                  \n",
            "__________________________________________________________________________________________________\n",
            "conv2d_9 (Conv2D)               (None, 8, 8, 128)    75008       concatenate_1[0][0]              \n",
            "__________________________________________________________________________________________________\n",
            "conv2d_10 (Conv2D)              (None, 8, 8, 128)    147584      conv2d_9[0][0]                   \n",
            "__________________________________________________________________________________________________\n",
            "conv2d_transpose_1 (Conv2DTrans (None, 16, 16, 64)   32832       conv2d_10[0][0]                  \n",
            "__________________________________________________________________________________________________\n",
            "concatenate_2 (Concatenate)     (None, 16, 16, 128)  0           conv2d_transpose_1[0][0]         \n",
            "                                                                 conv2d_8[0][0]                   \n",
            "__________________________________________________________________________________________________\n",
            "conv2d_11 (Conv2D)              (None, 16, 16, 64)   73792       concatenate_2[0][0]              \n",
            "__________________________________________________________________________________________________\n",
            "conv2d_12 (Conv2D)              (None, 16, 16, 64)   36928       conv2d_11[0][0]                  \n",
            "__________________________________________________________________________________________________\n",
            "conv2d_transpose_2 (Conv2DTrans (None, 32, 32, 32)   8224        conv2d_12[0][0]                  \n",
            "__________________________________________________________________________________________________\n",
            "concatenate_3 (Concatenate)     (None, 32, 32, 64)   0           conv2d_transpose_2[0][0]         \n",
            "                                                                 conv2d_6[0][0]                   \n",
            "__________________________________________________________________________________________________\n",
            "conv2d_13 (Conv2D)              (None, 32, 32, 32)   18464       concatenate_3[0][0]              \n",
            "__________________________________________________________________________________________________\n",
            "conv2d_14 (Conv2D)              (None, 32, 32, 32)   9248        conv2d_13[0][0]                  \n",
            "__________________________________________________________________________________________________\n",
            "conv2d_transpose_3 (Conv2DTrans (None, 64, 64, 16)   2064        conv2d_14[0][0]                  \n",
            "__________________________________________________________________________________________________\n",
            "concatenate_4 (Concatenate)     (None, 64, 64, 32)   0           conv2d_transpose_3[0][0]         \n",
            "                                                                 conv2d_4[0][0]                   \n",
            "__________________________________________________________________________________________________\n",
            "conv2d_15 (Conv2D)              (None, 64, 64, 16)   4624        concatenate_4[0][0]              \n",
            "__________________________________________________________________________________________________\n",
            "conv2d_16 (Conv2D)              (None, 64, 64, 16)   2320        conv2d_15[0][0]                  \n",
            "__________________________________________________________________________________________________\n",
            "conv2d_transpose_4 (Conv2DTrans (None, 128, 128, 8)  520         conv2d_16[0][0]                  \n",
            "__________________________________________________________________________________________________\n",
            "concatenate_5 (Concatenate)     (None, 128, 128, 16) 0           conv2d_transpose_4[0][0]         \n",
            "                                                                 conv2d_2[0][0]                   \n",
            "__________________________________________________________________________________________________\n",
            "conv2d_17 (Conv2D)              (None, 128, 128, 8)  1160        concatenate_5[0][0]              \n",
            "__________________________________________________________________________________________________\n",
            "conv2d_18 (Conv2D)              (None, 128, 128, 8)  584         conv2d_17[0][0]                  \n",
            "__________________________________________________________________________________________________\n",
            "conv2d_19 (Conv2D)              (None, 128, 128, 1)  9           conv2d_18[0][0]                  \n",
            "==================================================================================================\n",
            "Total params: 486,897\n",
            "Trainable params: 486,897\n",
            "Non-trainable params: 0\n",
            "__________________________________________________________________________________________________\n"
          ],
          "name": "stdout"
        }
      ]
    },
    {
      "cell_type": "code",
      "metadata": {
        "id": "d0swxRQt7XhW",
        "colab_type": "code",
        "outputId": "3faad6f7-74fb-474d-b8dd-86aedde0bd88",
        "colab": {
          "base_uri": "https://localhost:8080/",
          "height": 68
        }
      },
      "source": [
        "#train_ids = next(os.walk(train_path + \"/images\"))\n",
        "#print(train_ids)\n",
        "#train_ids = file_list\n",
        "train_ids = os.listdir(train_path + '/images')\n",
        "\n",
        "\n",
        "# Get and resize train images and masks\n",
        "X = np.zeros((len(train_ids), img_height, img_width, img_chan), dtype=np.float32)\n",
        "y = np.zeros((len(train_ids), img_height, img_width, 1), dtype=np.float32)\n",
        "X_feat = np.zeros((len(train_ids), n_features), dtype=np.float32)\n",
        "print('Getting and resizing train images and masks ... ')\n",
        "sys.stdout.flush()\n",
        "\n",
        "for n, id_ in tqdm(enumerate(train_ids), total=len(train_ids)):    \n",
        "    # Depth\n",
        "    #X_feat[n] = depth.loc[id_.replace('.png', ''), 'z']\n",
        "\n",
        "    # Load X\n",
        "    img = load_img(train_path + '/images/' + id_, color_mode = \"grayscale\")\n",
        "    x_img = img_to_array(img)\n",
        "    x_img = resize(x_img, (128, 128, 1), mode='constant', preserve_range=True)\n",
        "    \n",
        "    # Create cumsum x\n",
        "    x_center_mean = x_img[border:-border, border:-border].mean()\n",
        "    x_csum = (np.float32(x_img)-x_center_mean).cumsum(axis=0)\n",
        "    x_csum -= x_csum[border:-border, border:-border].mean()\n",
        "    x_csum /= max(1e-3, x_csum[border:-border, border:-border].std())\n",
        "\n",
        "    # Load Y\n",
        "    mask = img_to_array(load_img(train_path + '/masks/' + id_, color_mode = \"grayscale\"))\n",
        "    mask = resize(mask, (128, 128, 1), mode='constant', preserve_range=True)\n",
        "\n",
        "    # Save images\n",
        "    X[n, ..., 0] = x_img.squeeze() / 255\n",
        "    X[n, ..., 1] = x_csum.squeeze()\n",
        "    y[n] = mask / 255\n",
        "\n",
        "print('Done!')"
      ],
      "execution_count": 0,
      "outputs": [
        {
          "output_type": "stream",
          "text": [
            "Getting and resizing train images and masks ... \n"
          ],
          "name": "stdout"
        },
        {
          "output_type": "stream",
          "text": [
            "100%|██████████| 4000/4000 [00:25<00:00, 156.21it/s]"
          ],
          "name": "stderr"
        },
        {
          "output_type": "stream",
          "text": [
            "Done!\n"
          ],
          "name": "stdout"
        },
        {
          "output_type": "stream",
          "text": [
            "\n"
          ],
          "name": "stderr"
        }
      ]
    },
    {
      "cell_type": "code",
      "metadata": {
        "id": "p848BP9q8Dpt",
        "colab_type": "code",
        "colab": {}
      },
      "source": [
        "from sklearn.model_selection import train_test_split\n",
        "\n",
        "X_train, X_valid, X_feat_train, X_feat_valid, y_train, y_valid = train_test_split(X, X_feat, y, test_size=0.15, random_state=42)"
      ],
      "execution_count": 0,
      "outputs": []
    },
    {
      "cell_type": "markdown",
      "metadata": {
        "id": "5v2VxLzhKXGl",
        "colab_type": "text"
      },
      "source": [
        "##Training"
      ]
    },
    {
      "cell_type": "code",
      "metadata": {
        "id": "tkK46v4s8Gmo",
        "colab_type": "code",
        "outputId": "cc2f2f3f-bf34-4088-a862-070c9bd08553",
        "colab": {
          "base_uri": "https://localhost:8080/",
          "height": 1000
        }
      },
      "source": [
        "callbacks = [\n",
        "    EarlyStopping(patience = 5, verbose = 1),\n",
        "    ReduceLROnPlateau(patience = 3, verbose = 1),\n",
        "    ModelCheckpoint('model.h5', verbose = 1, save_best_only = True, save_weights_only = True)\n",
        "]\n",
        "\n",
        "results = model.fit({'img': X_train, 'feat': X_feat_train}, y_train, batch_size=16, epochs=50, callbacks=callbacks,\n",
        "                    validation_data=({'img': X_valid, 'feat': X_feat_valid}, y_valid))"
      ],
      "execution_count": 0,
      "outputs": [
        {
          "output_type": "stream",
          "text": [
            "WARNING:tensorflow:From /usr/local/lib/python3.6/dist-packages/keras/backend/tensorflow_backend.py:1033: The name tf.assign_add is deprecated. Please use tf.compat.v1.assign_add instead.\n",
            "\n",
            "WARNING:tensorflow:From /usr/local/lib/python3.6/dist-packages/keras/backend/tensorflow_backend.py:1020: The name tf.assign is deprecated. Please use tf.compat.v1.assign instead.\n",
            "\n",
            "WARNING:tensorflow:From /usr/local/lib/python3.6/dist-packages/keras/backend/tensorflow_backend.py:3005: The name tf.Session is deprecated. Please use tf.compat.v1.Session instead.\n",
            "\n",
            "Train on 3400 samples, validate on 600 samples\n",
            "Epoch 1/50\n",
            "WARNING:tensorflow:From /usr/local/lib/python3.6/dist-packages/keras/backend/tensorflow_backend.py:190: The name tf.get_default_session is deprecated. Please use tf.compat.v1.get_default_session instead.\n",
            "\n",
            "WARNING:tensorflow:From /usr/local/lib/python3.6/dist-packages/keras/backend/tensorflow_backend.py:197: The name tf.ConfigProto is deprecated. Please use tf.compat.v1.ConfigProto instead.\n",
            "\n",
            "WARNING:tensorflow:From /usr/local/lib/python3.6/dist-packages/keras/backend/tensorflow_backend.py:207: The name tf.global_variables is deprecated. Please use tf.compat.v1.global_variables instead.\n",
            "\n",
            "WARNING:tensorflow:From /usr/local/lib/python3.6/dist-packages/keras/backend/tensorflow_backend.py:216: The name tf.is_variable_initialized is deprecated. Please use tf.compat.v1.is_variable_initialized instead.\n",
            "\n",
            "WARNING:tensorflow:From /usr/local/lib/python3.6/dist-packages/keras/backend/tensorflow_backend.py:223: The name tf.variables_initializer is deprecated. Please use tf.compat.v1.variables_initializer instead.\n",
            "\n",
            "3400/3400 [==============================] - 26s 8ms/step - loss: 0.5658 - val_loss: 0.5692\n",
            "\n",
            "Epoch 00001: val_loss improved from inf to 0.56918, saving model to model.h5\n",
            "Epoch 2/50\n",
            "3400/3400 [==============================] - 14s 4ms/step - loss: 0.4598 - val_loss: 0.3970\n",
            "\n",
            "Epoch 00002: val_loss improved from 0.56918 to 0.39704, saving model to model.h5\n",
            "Epoch 3/50\n",
            "3400/3400 [==============================] - 14s 4ms/step - loss: 0.3637 - val_loss: 0.3548\n",
            "\n",
            "Epoch 00003: val_loss improved from 0.39704 to 0.35480, saving model to model.h5\n",
            "Epoch 4/50\n",
            "3400/3400 [==============================] - 14s 4ms/step - loss: 0.3119 - val_loss: 0.3032\n",
            "\n",
            "Epoch 00004: val_loss improved from 0.35480 to 0.30317, saving model to model.h5\n",
            "Epoch 5/50\n",
            "3400/3400 [==============================] - 14s 4ms/step - loss: 0.2720 - val_loss: 0.2933\n",
            "\n",
            "Epoch 00005: val_loss improved from 0.30317 to 0.29332, saving model to model.h5\n",
            "Epoch 6/50\n",
            "3400/3400 [==============================] - 14s 4ms/step - loss: 0.2451 - val_loss: 0.2746\n",
            "\n",
            "Epoch 00006: val_loss improved from 0.29332 to 0.27461, saving model to model.h5\n",
            "Epoch 7/50\n",
            "3400/3400 [==============================] - 14s 4ms/step - loss: 0.2255 - val_loss: 0.2406\n",
            "\n",
            "Epoch 00007: val_loss improved from 0.27461 to 0.24063, saving model to model.h5\n",
            "Epoch 8/50\n",
            "3400/3400 [==============================] - 14s 4ms/step - loss: 0.2198 - val_loss: 0.2298\n",
            "\n",
            "Epoch 00008: val_loss improved from 0.24063 to 0.22983, saving model to model.h5\n",
            "Epoch 9/50\n",
            "3400/3400 [==============================] - 14s 4ms/step - loss: 0.2108 - val_loss: 0.2460\n",
            "\n",
            "Epoch 00009: val_loss did not improve from 0.22983\n",
            "Epoch 10/50\n",
            "3400/3400 [==============================] - 14s 4ms/step - loss: 0.2103 - val_loss: 0.2437\n",
            "\n",
            "Epoch 00010: val_loss did not improve from 0.22983\n",
            "Epoch 11/50\n",
            "3400/3400 [==============================] - 14s 4ms/step - loss: 0.1918 - val_loss: 0.2227\n",
            "\n",
            "Epoch 00011: val_loss improved from 0.22983 to 0.22270, saving model to model.h5\n",
            "Epoch 12/50\n",
            "3400/3400 [==============================] - 14s 4ms/step - loss: 0.1841 - val_loss: 0.2551\n",
            "\n",
            "Epoch 00012: val_loss did not improve from 0.22270\n",
            "Epoch 13/50\n",
            "3400/3400 [==============================] - 14s 4ms/step - loss: 0.1878 - val_loss: 0.2230\n",
            "\n",
            "Epoch 00013: val_loss did not improve from 0.22270\n",
            "Epoch 14/50\n",
            "3400/3400 [==============================] - 14s 4ms/step - loss: 0.1728 - val_loss: 0.2082\n",
            "\n",
            "Epoch 00014: val_loss improved from 0.22270 to 0.20824, saving model to model.h5\n",
            "Epoch 15/50\n",
            "3400/3400 [==============================] - 14s 4ms/step - loss: 0.1670 - val_loss: 0.2118\n",
            "\n",
            "Epoch 00015: val_loss did not improve from 0.20824\n",
            "Epoch 16/50\n",
            "3400/3400 [==============================] - 14s 4ms/step - loss: 0.1748 - val_loss: 0.2223\n",
            "\n",
            "Epoch 00016: val_loss did not improve from 0.20824\n",
            "Epoch 17/50\n",
            "3400/3400 [==============================] - 14s 4ms/step - loss: 0.1638 - val_loss: 0.2190\n",
            "\n",
            "Epoch 00017: ReduceLROnPlateau reducing learning rate to 0.00010000000474974513.\n",
            "\n",
            "Epoch 00017: val_loss did not improve from 0.20824\n",
            "Epoch 18/50\n",
            "3400/3400 [==============================] - 14s 4ms/step - loss: 0.1356 - val_loss: 0.2006\n",
            "\n",
            "Epoch 00018: val_loss improved from 0.20824 to 0.20063, saving model to model.h5\n",
            "Epoch 19/50\n",
            "3400/3400 [==============================] - 14s 4ms/step - loss: 0.1281 - val_loss: 0.2034\n",
            "\n",
            "Epoch 00019: val_loss did not improve from 0.20063\n",
            "Epoch 20/50\n",
            "3400/3400 [==============================] - 14s 4ms/step - loss: 0.1246 - val_loss: 0.2074\n",
            "\n",
            "Epoch 00020: val_loss did not improve from 0.20063\n",
            "Epoch 21/50\n",
            "3400/3400 [==============================] - 14s 4ms/step - loss: 0.1214 - val_loss: 0.2135\n",
            "\n",
            "Epoch 00021: ReduceLROnPlateau reducing learning rate to 1.0000000474974514e-05.\n",
            "\n",
            "Epoch 00021: val_loss did not improve from 0.20063\n",
            "Epoch 22/50\n",
            "3400/3400 [==============================] - 14s 4ms/step - loss: 0.1173 - val_loss: 0.2120\n",
            "\n",
            "Epoch 00022: val_loss did not improve from 0.20063\n",
            "Epoch 23/50\n",
            "3400/3400 [==============================] - 14s 4ms/step - loss: 0.1167 - val_loss: 0.2128\n",
            "\n",
            "Epoch 00023: val_loss did not improve from 0.20063\n",
            "Epoch 00023: early stopping\n"
          ],
          "name": "stdout"
        }
      ]
    },
    {
      "cell_type": "markdown",
      "metadata": {
        "id": "IqUm5GSklEUz",
        "colab_type": "text"
      },
      "source": [
        ""
      ]
    },
    {
      "cell_type": "markdown",
      "metadata": {
        "id": "LqxULBtKyknJ",
        "colab_type": "text"
      },
      "source": [
        ""
      ]
    },
    {
      "cell_type": "markdown",
      "metadata": {
        "id": "SWcSJDT7J9nO",
        "colab_type": "text"
      },
      "source": [
        "#IV. Evaluierung des U-Net-Modells"
      ]
    },
    {
      "cell_type": "code",
      "metadata": {
        "id": "qMvOU4BqFr8n",
        "colab_type": "code",
        "outputId": "8b44a702-23ce-4005-c3e6-c0a0dab4bc56",
        "colab": {
          "base_uri": "https://localhost:8080/",
          "height": 411
        }
      },
      "source": [
        "results.model.predict(X_valid)"
      ],
      "execution_count": 0,
      "outputs": [
        {
          "output_type": "error",
          "ename": "ValueError",
          "evalue": "ignored",
          "traceback": [
            "\u001b[0;31m---------------------------------------------------------------------------\u001b[0m",
            "\u001b[0;31mValueError\u001b[0m                                Traceback (most recent call last)",
            "\u001b[0;32m<ipython-input-40-794109f37bb0>\u001b[0m in \u001b[0;36m<module>\u001b[0;34m()\u001b[0m\n\u001b[0;32m----> 1\u001b[0;31m \u001b[0mresults\u001b[0m\u001b[0;34m.\u001b[0m\u001b[0mmodel\u001b[0m\u001b[0;34m.\u001b[0m\u001b[0mpredict\u001b[0m\u001b[0;34m(\u001b[0m\u001b[0mX_valid\u001b[0m\u001b[0;34m)\u001b[0m\u001b[0;34m\u001b[0m\u001b[0;34m\u001b[0m\u001b[0m\n\u001b[0m",
            "\u001b[0;32m/usr/local/lib/python3.6/dist-packages/keras/engine/training.py\u001b[0m in \u001b[0;36mpredict\u001b[0;34m(self, x, batch_size, verbose, steps, callbacks, max_queue_size, workers, use_multiprocessing)\u001b[0m\n\u001b[1;32m   1378\u001b[0m \u001b[0;34m\u001b[0m\u001b[0m\n\u001b[1;32m   1379\u001b[0m         \u001b[0;31m# Case 2: Symbolic tensors or Numpy array-like.\u001b[0m\u001b[0;34m\u001b[0m\u001b[0;34m\u001b[0m\u001b[0;34m\u001b[0m\u001b[0m\n\u001b[0;32m-> 1380\u001b[0;31m         \u001b[0mx\u001b[0m\u001b[0;34m,\u001b[0m \u001b[0m_\u001b[0m\u001b[0;34m,\u001b[0m \u001b[0m_\u001b[0m \u001b[0;34m=\u001b[0m \u001b[0mself\u001b[0m\u001b[0;34m.\u001b[0m\u001b[0m_standardize_user_data\u001b[0m\u001b[0;34m(\u001b[0m\u001b[0mx\u001b[0m\u001b[0;34m)\u001b[0m\u001b[0;34m\u001b[0m\u001b[0;34m\u001b[0m\u001b[0m\n\u001b[0m\u001b[1;32m   1381\u001b[0m         \u001b[0;32mif\u001b[0m \u001b[0mself\u001b[0m\u001b[0;34m.\u001b[0m\u001b[0mstateful\u001b[0m\u001b[0;34m:\u001b[0m\u001b[0;34m\u001b[0m\u001b[0;34m\u001b[0m\u001b[0m\n\u001b[1;32m   1382\u001b[0m             \u001b[0;32mif\u001b[0m \u001b[0mx\u001b[0m\u001b[0;34m[\u001b[0m\u001b[0;36m0\u001b[0m\u001b[0;34m]\u001b[0m\u001b[0;34m.\u001b[0m\u001b[0mshape\u001b[0m\u001b[0;34m[\u001b[0m\u001b[0;36m0\u001b[0m\u001b[0;34m]\u001b[0m \u001b[0;34m>\u001b[0m \u001b[0mbatch_size\u001b[0m \u001b[0;32mand\u001b[0m \u001b[0mx\u001b[0m\u001b[0;34m[\u001b[0m\u001b[0;36m0\u001b[0m\u001b[0;34m]\u001b[0m\u001b[0;34m.\u001b[0m\u001b[0mshape\u001b[0m\u001b[0;34m[\u001b[0m\u001b[0;36m0\u001b[0m\u001b[0;34m]\u001b[0m \u001b[0;34m%\u001b[0m \u001b[0mbatch_size\u001b[0m \u001b[0;34m!=\u001b[0m \u001b[0;36m0\u001b[0m\u001b[0;34m:\u001b[0m\u001b[0;34m\u001b[0m\u001b[0;34m\u001b[0m\u001b[0m\n",
            "\u001b[0;32m/usr/local/lib/python3.6/dist-packages/keras/engine/training.py\u001b[0m in \u001b[0;36m_standardize_user_data\u001b[0;34m(self, x, y, sample_weight, class_weight, check_array_lengths, batch_size)\u001b[0m\n\u001b[1;32m    755\u001b[0m             \u001b[0mfeed_input_shapes\u001b[0m\u001b[0;34m,\u001b[0m\u001b[0;34m\u001b[0m\u001b[0;34m\u001b[0m\u001b[0m\n\u001b[1;32m    756\u001b[0m             \u001b[0mcheck_batch_axis\u001b[0m\u001b[0;34m=\u001b[0m\u001b[0;32mFalse\u001b[0m\u001b[0;34m,\u001b[0m  \u001b[0;31m# Don't enforce the batch size.\u001b[0m\u001b[0;34m\u001b[0m\u001b[0;34m\u001b[0m\u001b[0m\n\u001b[0;32m--> 757\u001b[0;31m             exception_prefix='input')\n\u001b[0m\u001b[1;32m    758\u001b[0m \u001b[0;34m\u001b[0m\u001b[0m\n\u001b[1;32m    759\u001b[0m         \u001b[0;32mif\u001b[0m \u001b[0my\u001b[0m \u001b[0;32mis\u001b[0m \u001b[0;32mnot\u001b[0m \u001b[0;32mNone\u001b[0m\u001b[0;34m:\u001b[0m\u001b[0;34m\u001b[0m\u001b[0;34m\u001b[0m\u001b[0m\n",
            "\u001b[0;32m/usr/local/lib/python3.6/dist-packages/keras/engine/training_utils.py\u001b[0m in \u001b[0;36mstandardize_input_data\u001b[0;34m(data, names, shapes, check_batch_axis, exception_prefix)\u001b[0m\n\u001b[1;32m    103\u001b[0m                 \u001b[0;34m'Expected to see '\u001b[0m \u001b[0;34m+\u001b[0m \u001b[0mstr\u001b[0m\u001b[0;34m(\u001b[0m\u001b[0mlen\u001b[0m\u001b[0;34m(\u001b[0m\u001b[0mnames\u001b[0m\u001b[0;34m)\u001b[0m\u001b[0;34m)\u001b[0m \u001b[0;34m+\u001b[0m \u001b[0;34m' array(s), '\u001b[0m\u001b[0;34m\u001b[0m\u001b[0;34m\u001b[0m\u001b[0m\n\u001b[1;32m    104\u001b[0m                 \u001b[0;34m'but instead got the following list of '\u001b[0m \u001b[0;34m+\u001b[0m\u001b[0;34m\u001b[0m\u001b[0;34m\u001b[0m\u001b[0m\n\u001b[0;32m--> 105\u001b[0;31m                 str(len(data)) + ' arrays: ' + str(data)[:200] + '...')\n\u001b[0m\u001b[1;32m    106\u001b[0m         \u001b[0;32melif\u001b[0m \u001b[0mlen\u001b[0m\u001b[0;34m(\u001b[0m\u001b[0mnames\u001b[0m\u001b[0;34m)\u001b[0m \u001b[0;34m>\u001b[0m \u001b[0;36m1\u001b[0m\u001b[0;34m:\u001b[0m\u001b[0;34m\u001b[0m\u001b[0;34m\u001b[0m\u001b[0m\n\u001b[1;32m    107\u001b[0m             raise ValueError(\n",
            "\u001b[0;31mValueError\u001b[0m: Error when checking model input: the list of Numpy arrays that you are passing to your model is not the size the model expected. Expected to see 2 array(s), but instead got the following list of 1 arrays: [array([[[[ 3.20074469e-01, -5.58136478e-02],\n         [ 3.26638192e-01, -5.13321124e-02],\n         [ 3.18841189e-01, -5.66556901e-02],\n         ...,\n         [ 5.05338907e-01,  7.06798136e-02],\n     ..."
          ]
        }
      ]
    }
  ]
}